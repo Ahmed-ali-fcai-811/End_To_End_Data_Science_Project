{
 "cells": [
  {
   "cell_type": "code",
   "execution_count": 1,
   "id": "initial_id",
   "metadata": {
    "collapsed": true,
    "ExecuteTime": {
     "end_time": "2023-10-03T07:05:02.026475200Z",
     "start_time": "2023-10-03T07:05:02.015282800Z"
    }
   },
   "outputs": [],
   "source": [
    "DF_PATH       = \"../data/processed/2_cleaned_data.pkl\"\n",
    "\n",
    "ROLE_COLS      = ['DevType']\n",
    "TECH_COLS      = ['LanguageHaveWorkedWith',\n",
    "                  'DatabaseHaveWorkedWith',\n",
    "                  'PlatformHaveWorkedWith',\n",
    "                  'WebframeHaveWorkedWith',\n",
    "                  'MiscTechHaveWorkedWith',\n",
    "                  'ToolsTechHaveWorkedWith',\n",
    "                  'NEWCollabToolsHaveWorkedWith']\n",
    "\n",
    "MLFLOW_TRACKING_URI = '../models/mlruns'\n",
    "MLFLOW_EXPERIMENT_NAME = \"skills_jobs_stackoverflow\"\n",
    "\n",
    "LOG_PATH = \"../models/temp/\"\n",
    "LOG_DATA_PKL    =  \"data.pkl\"\n",
    "LOG_MODEL_PKL   =  \"model.pkl\"\n",
    "LOG_METRICS_PKL =  \"metrics.pkl\"\n"
   ]
  },
  {
   "cell_type": "code",
   "execution_count": 2,
   "outputs": [],
   "source": [
    "import pandas as pd\n",
    "import numpy as np\n",
    "import matplotlib.pyplot as plt\n",
    "import seaborn as sns \n",
    "import os \n",
    "import pickle\n",
    "\n",
    "import mlflow\n",
    "from  mlflow.tracking import MlflowClient\n",
    "\n",
    "\n",
    "from sklearn.model_selection import train_test_split , GridSearchCV\n",
    "from sklearn.pipeline import make_pipeline\n",
    "\n",
    "\n",
    "from sklearn.ensemble import RandomForestClassifier\n",
    "from sklearn.decomposition import PCA\n",
    "from sklearn.preprocessing import RobustScaler\n",
    "\n",
    "from sklearn.metrics import accuracy_score, precision_score, recall_score, f1_score"
   ],
   "metadata": {
    "collapsed": false,
    "ExecuteTime": {
     "end_time": "2023-10-03T07:05:04.102192600Z",
     "start_time": "2023-10-03T07:05:02.028561500Z"
    }
   },
   "id": "93e5f8c9cbda7231"
  },
  {
   "cell_type": "code",
   "execution_count": 3,
   "outputs": [
    {
     "data": {
      "text/plain": "                  DevType                                           \\\n      Academic researcher Blockchain Cloud infrastructure engineer   \n1                       0          0                             0   \n2                       0          0                             0   \n3                       0          0                             0   \n4                       0          0                             0   \n5                       0          0                             0   \n...                   ...        ...                           ...   \n89179                   0          0                             0   \n89180                   0          0                             0   \n89181                   0          0                             0   \n89182                   0          0                             0   \n89183                   0          0                             0   \n\n                                                                              \\\n      Data or business analyst Data scientist or machine learning specialist   \n1                            0                                             0   \n2                            0                                             0   \n3                            0                                             0   \n4                            0                                             0   \n5                            0                                             0   \n...                        ...                                           ...   \n89179                        0                                             0   \n89180                        0                                             0   \n89181                        0                                             0   \n89182                        0                                             0   \n89183                        0                                             0   \n\n                                                                   \\\n      Database administrator DevOps specialist Developer Advocate   \n1                          0                 0                  0   \n2                          0                 0                  0   \n3                          0                 0                  0   \n4                          0                 0                  0   \n5                          0                 0                  0   \n...                      ...               ...                ...   \n89179                      0                 0                  0   \n89180                      0                 0                  0   \n89181                      0                 0                  0   \n89182                      0                 0                  0   \n89183                      0                 0                  0   \n\n                                                  ... skills_clusters  \\\n      Developer Experience Developer, QA or test  ... skills_group_21   \n1                        0                     0  ...               0   \n2                        0                     0  ...               0   \n3                        0                     0  ...               0   \n4                        0                     0  ...               0   \n5                        0                     0  ...               0   \n...                    ...                   ...  ...             ...   \n89179                    0                     0  ...               0   \n89180                    0                     0  ...               0   \n89181                    0                     0  ...               0   \n89182                    0                     0  ...               0   \n89183                    0                     0  ...               0   \n\n                                                                     \\\n      skills_group_22 skills_group_23 skills_group_3 skills_group_4   \n1                   0               0              0              0   \n2                   1               0              0              1   \n3                   0               0              1              1   \n4                   0               0              0              0   \n5                   0               0              0              1   \n...               ...             ...            ...            ...   \n89179               0               0              0              3   \n89180               0               0              0              1   \n89181               0               0              0              2   \n89182               0               0              0              7   \n89183               0               0              0             10   \n\n                                                                   \\\n      skills_group_5 skills_group_6 skills_group_7 skills_group_8   \n1                  0              0              0              0   \n2                  0              0              0              0   \n3                  1              0              0              0   \n4                  0              0              0              0   \n5                  0              0              0              0   \n...              ...            ...            ...            ...   \n89179              8              0              1              0   \n89180              5              0              1              0   \n89181              0              0              0              0   \n89182              3              0              0              0   \n89183              0              0              0              0   \n\n                      \n      skills_group_9  \n1                  0  \n2                  1  \n3                  0  \n4                  0  \n5                  0  \n...              ...  \n89179              0  \n89180              0  \n89181              0  \n89182              0  \n89183              1  \n\n[84095 rows x 318 columns]",
      "text/html": "<div>\n<style scoped>\n    .dataframe tbody tr th:only-of-type {\n        vertical-align: middle;\n    }\n\n    .dataframe tbody tr th {\n        vertical-align: top;\n    }\n\n    .dataframe thead tr th {\n        text-align: left;\n    }\n</style>\n<table border=\"1\" class=\"dataframe\">\n  <thead>\n    <tr>\n      <th></th>\n      <th colspan=\"10\" halign=\"left\">DevType</th>\n      <th>...</th>\n      <th colspan=\"10\" halign=\"left\">skills_clusters</th>\n    </tr>\n    <tr>\n      <th></th>\n      <th>Academic researcher</th>\n      <th>Blockchain</th>\n      <th>Cloud infrastructure engineer</th>\n      <th>Data or business analyst</th>\n      <th>Data scientist or machine learning specialist</th>\n      <th>Database administrator</th>\n      <th>DevOps specialist</th>\n      <th>Developer Advocate</th>\n      <th>Developer Experience</th>\n      <th>Developer, QA or test</th>\n      <th>...</th>\n      <th>skills_group_21</th>\n      <th>skills_group_22</th>\n      <th>skills_group_23</th>\n      <th>skills_group_3</th>\n      <th>skills_group_4</th>\n      <th>skills_group_5</th>\n      <th>skills_group_6</th>\n      <th>skills_group_7</th>\n      <th>skills_group_8</th>\n      <th>skills_group_9</th>\n    </tr>\n  </thead>\n  <tbody>\n    <tr>\n      <th>1</th>\n      <td>0</td>\n      <td>0</td>\n      <td>0</td>\n      <td>0</td>\n      <td>0</td>\n      <td>0</td>\n      <td>0</td>\n      <td>0</td>\n      <td>0</td>\n      <td>0</td>\n      <td>...</td>\n      <td>0</td>\n      <td>0</td>\n      <td>0</td>\n      <td>0</td>\n      <td>0</td>\n      <td>0</td>\n      <td>0</td>\n      <td>0</td>\n      <td>0</td>\n      <td>0</td>\n    </tr>\n    <tr>\n      <th>2</th>\n      <td>0</td>\n      <td>0</td>\n      <td>0</td>\n      <td>0</td>\n      <td>0</td>\n      <td>0</td>\n      <td>0</td>\n      <td>0</td>\n      <td>0</td>\n      <td>0</td>\n      <td>...</td>\n      <td>0</td>\n      <td>1</td>\n      <td>0</td>\n      <td>0</td>\n      <td>1</td>\n      <td>0</td>\n      <td>0</td>\n      <td>0</td>\n      <td>0</td>\n      <td>1</td>\n    </tr>\n    <tr>\n      <th>3</th>\n      <td>0</td>\n      <td>0</td>\n      <td>0</td>\n      <td>0</td>\n      <td>0</td>\n      <td>0</td>\n      <td>0</td>\n      <td>0</td>\n      <td>0</td>\n      <td>0</td>\n      <td>...</td>\n      <td>0</td>\n      <td>0</td>\n      <td>0</td>\n      <td>1</td>\n      <td>1</td>\n      <td>1</td>\n      <td>0</td>\n      <td>0</td>\n      <td>0</td>\n      <td>0</td>\n    </tr>\n    <tr>\n      <th>4</th>\n      <td>0</td>\n      <td>0</td>\n      <td>0</td>\n      <td>0</td>\n      <td>0</td>\n      <td>0</td>\n      <td>0</td>\n      <td>0</td>\n      <td>0</td>\n      <td>0</td>\n      <td>...</td>\n      <td>0</td>\n      <td>0</td>\n      <td>0</td>\n      <td>0</td>\n      <td>0</td>\n      <td>0</td>\n      <td>0</td>\n      <td>0</td>\n      <td>0</td>\n      <td>0</td>\n    </tr>\n    <tr>\n      <th>5</th>\n      <td>0</td>\n      <td>0</td>\n      <td>0</td>\n      <td>0</td>\n      <td>0</td>\n      <td>0</td>\n      <td>0</td>\n      <td>0</td>\n      <td>0</td>\n      <td>0</td>\n      <td>...</td>\n      <td>0</td>\n      <td>0</td>\n      <td>0</td>\n      <td>0</td>\n      <td>1</td>\n      <td>0</td>\n      <td>0</td>\n      <td>0</td>\n      <td>0</td>\n      <td>0</td>\n    </tr>\n    <tr>\n      <th>...</th>\n      <td>...</td>\n      <td>...</td>\n      <td>...</td>\n      <td>...</td>\n      <td>...</td>\n      <td>...</td>\n      <td>...</td>\n      <td>...</td>\n      <td>...</td>\n      <td>...</td>\n      <td>...</td>\n      <td>...</td>\n      <td>...</td>\n      <td>...</td>\n      <td>...</td>\n      <td>...</td>\n      <td>...</td>\n      <td>...</td>\n      <td>...</td>\n      <td>...</td>\n      <td>...</td>\n    </tr>\n    <tr>\n      <th>89179</th>\n      <td>0</td>\n      <td>0</td>\n      <td>0</td>\n      <td>0</td>\n      <td>0</td>\n      <td>0</td>\n      <td>0</td>\n      <td>0</td>\n      <td>0</td>\n      <td>0</td>\n      <td>...</td>\n      <td>0</td>\n      <td>0</td>\n      <td>0</td>\n      <td>0</td>\n      <td>3</td>\n      <td>8</td>\n      <td>0</td>\n      <td>1</td>\n      <td>0</td>\n      <td>0</td>\n    </tr>\n    <tr>\n      <th>89180</th>\n      <td>0</td>\n      <td>0</td>\n      <td>0</td>\n      <td>0</td>\n      <td>0</td>\n      <td>0</td>\n      <td>0</td>\n      <td>0</td>\n      <td>0</td>\n      <td>0</td>\n      <td>...</td>\n      <td>0</td>\n      <td>0</td>\n      <td>0</td>\n      <td>0</td>\n      <td>1</td>\n      <td>5</td>\n      <td>0</td>\n      <td>1</td>\n      <td>0</td>\n      <td>0</td>\n    </tr>\n    <tr>\n      <th>89181</th>\n      <td>0</td>\n      <td>0</td>\n      <td>0</td>\n      <td>0</td>\n      <td>0</td>\n      <td>0</td>\n      <td>0</td>\n      <td>0</td>\n      <td>0</td>\n      <td>0</td>\n      <td>...</td>\n      <td>0</td>\n      <td>0</td>\n      <td>0</td>\n      <td>0</td>\n      <td>2</td>\n      <td>0</td>\n      <td>0</td>\n      <td>0</td>\n      <td>0</td>\n      <td>0</td>\n    </tr>\n    <tr>\n      <th>89182</th>\n      <td>0</td>\n      <td>0</td>\n      <td>0</td>\n      <td>0</td>\n      <td>0</td>\n      <td>0</td>\n      <td>0</td>\n      <td>0</td>\n      <td>0</td>\n      <td>0</td>\n      <td>...</td>\n      <td>0</td>\n      <td>0</td>\n      <td>0</td>\n      <td>0</td>\n      <td>7</td>\n      <td>3</td>\n      <td>0</td>\n      <td>0</td>\n      <td>0</td>\n      <td>0</td>\n    </tr>\n    <tr>\n      <th>89183</th>\n      <td>0</td>\n      <td>0</td>\n      <td>0</td>\n      <td>0</td>\n      <td>0</td>\n      <td>0</td>\n      <td>0</td>\n      <td>0</td>\n      <td>0</td>\n      <td>0</td>\n      <td>...</td>\n      <td>0</td>\n      <td>0</td>\n      <td>0</td>\n      <td>0</td>\n      <td>10</td>\n      <td>0</td>\n      <td>0</td>\n      <td>0</td>\n      <td>0</td>\n      <td>1</td>\n    </tr>\n  </tbody>\n</table>\n<p>84095 rows × 318 columns</p>\n</div>"
     },
     "execution_count": 3,
     "metadata": {},
     "output_type": "execute_result"
    }
   ],
   "source": [
    "df = pd.read_pickle(DF_PATH)\n",
    "df"
   ],
   "metadata": {
    "collapsed": false,
    "ExecuteTime": {
     "end_time": "2023-10-03T07:05:06.908825Z",
     "start_time": "2023-10-03T07:05:04.108242700Z"
    }
   },
   "id": "8ccd328df6fde86b"
  },
  {
   "cell_type": "code",
   "execution_count": 4,
   "outputs": [
    {
     "data": {
      "text/plain": "Academic researcher                               1279\nBlockchain                                         299\nCloud infrastructure engineer                      994\nData or business analyst                           795\nData scientist or machine learning specialist     1528\nDatabase administrator                             243\nDevOps specialist                                 1319\nDeveloper Advocate                                 200\nDeveloper Experience                               308\nDeveloper, QA or test                              571\nDeveloper, back-end                              13402\nDeveloper, desktop or enterprise applications     3765\nDeveloper, embedded applications or devices       1807\nDeveloper, front-end                              4974\nDeveloper, full-stack                            24630\nDeveloper, game or graphics                        838\nDeveloper, mobile                                 2519\nEngineer, data                                    1195\nHardware Engineer                                  268\nProject manager                                    551\nResearch & Development role                       1282\nScientist                                          336\nSecurity professional                              430\nSystem administrator                               704\ndtype: int64"
     },
     "execution_count": 4,
     "metadata": {},
     "output_type": "execute_result"
    }
   ],
   "source": [
    "roles_df = df['DevType'].copy()\n",
    "roles_df.sum(axis=0)"
   ],
   "metadata": {
    "collapsed": false,
    "ExecuteTime": {
     "end_time": "2023-10-03T07:05:07.598232100Z",
     "start_time": "2023-10-03T07:05:06.959158500Z"
    }
   },
   "id": "a4f2b00fd64b01c9"
  },
  {
   "cell_type": "code",
   "execution_count": 5,
   "outputs": [],
   "source": [
    "roles_df.sum(axis=0)\n",
    "Sample_per_class = 1200\n",
    "resampled_roles = []\n",
    "\n",
    "for role in roles_df.columns:\n",
    "    sub_df = roles_df.loc[roles_df[role] == 1].copy()\n",
    "\n",
    "    if len(sub_df) < Sample_per_class:\n",
    "        sub_df = sub_df.sample(Sample_per_class, replace=True, random_state=42)\n",
    "\n",
    "    else:\n",
    "        sub_df = sub_df.sample(Sample_per_class, random_state=42)\n",
    "\n",
    "    resampled_roles.append(sub_df)\n",
    "\n",
    "roles_df = pd.concat(resampled_roles)"
   ],
   "metadata": {
    "collapsed": false,
    "ExecuteTime": {
     "end_time": "2023-10-03T07:05:07.605452100Z",
     "start_time": "2023-10-03T07:05:07.108586100Z"
    }
   },
   "id": "eed361de40eff52d"
  },
  {
   "cell_type": "code",
   "execution_count": 6,
   "outputs": [
    {
     "data": {
      "text/plain": "Academic researcher                              1200\nBlockchain                                       1200\nCloud infrastructure engineer                    1200\nData or business analyst                         1200\nData scientist or machine learning specialist    1200\nDatabase administrator                           1200\nDevOps specialist                                1200\nDeveloper Advocate                               1200\nDeveloper Experience                             1200\nDeveloper, QA or test                            1200\nDeveloper, back-end                              1200\nDeveloper, desktop or enterprise applications    1200\nDeveloper, embedded applications or devices      1200\nDeveloper, front-end                             1200\nDeveloper, full-stack                            1200\nDeveloper, game or graphics                      1200\nDeveloper, mobile                                1200\nEngineer, data                                   1200\nHardware Engineer                                1200\nProject manager                                  1200\nResearch & Development role                      1200\nScientist                                        1200\nSecurity professional                            1200\nSystem administrator                             1200\ndtype: int64"
     },
     "execution_count": 6,
     "metadata": {},
     "output_type": "execute_result"
    }
   ],
   "source": [
    "df = df.loc[roles_df.index].copy()\n",
    "roles_df.sum(axis = 0)\n"
   ],
   "metadata": {
    "collapsed": false,
    "ExecuteTime": {
     "end_time": "2023-10-03T07:05:07.896836200Z",
     "start_time": "2023-10-03T07:05:07.384038200Z"
    }
   },
   "id": "bf280b874effa88c"
  },
  {
   "cell_type": "code",
   "execution_count": 7,
   "outputs": [
    {
     "name": "stderr",
     "output_type": "stream",
     "text": [
      "C:\\Users\\aly86\\AppData\\Local\\Temp\\ipykernel_2040\\1954844316.py:1: PerformanceWarning: dropping on a non-lexsorted multi-index without a level parameter may impact performance.\n",
      "  X_train, X_test, y_train, y_test = train_test_split( df.drop('DevType' , axis = 1), df['DevType'], test_size=0.33, random_state=42)\n"
     ]
    }
   ],
   "source": [
    "X_train, X_test, y_train, y_test = train_test_split( df.drop('DevType' , axis = 1), df['DevType'], test_size=0.33, random_state=42)\n"
   ],
   "metadata": {
    "collapsed": false,
    "ExecuteTime": {
     "end_time": "2023-10-03T07:05:07.938528600Z",
     "start_time": "2023-10-03T07:05:07.645280500Z"
    }
   },
   "id": "585b4ae957febfb0"
  },
  {
   "cell_type": "code",
   "execution_count": 8,
   "outputs": [],
   "source": [
    "mlflow.set_tracking_uri(MLFLOW_TRACKING_URI)\n",
    "client = MlflowClient()\n",
    "mlflow.get_experiment_by_name(MLFLOW_EXPERIMENT_NAME)\n",
    "exp = client.get_experiment_by_name(MLFLOW_EXPERIMENT_NAME)"
   ],
   "metadata": {
    "collapsed": false,
    "ExecuteTime": {
     "end_time": "2023-10-03T07:05:07.939612900Z",
     "start_time": "2023-10-03T07:05:07.787223200Z"
    }
   },
   "id": "475456299e87fb26"
  },
  {
   "cell_type": "code",
   "execution_count": 9,
   "outputs": [
    {
     "data": {
      "text/plain": "'372234719956380473'"
     },
     "execution_count": 9,
     "metadata": {},
     "output_type": "execute_result"
    }
   ],
   "source": [
    "exp.experiment_id"
   ],
   "metadata": {
    "collapsed": false,
    "ExecuteTime": {
     "end_time": "2023-10-03T07:05:07.978262500Z",
     "start_time": "2023-10-03T07:05:07.816883600Z"
    }
   },
   "id": "44dad21c6fbb5497"
  },
  {
   "cell_type": "markdown",
   "source": [
    "### Random Forest ( Vanilla Model )"
   ],
   "metadata": {
    "collapsed": false
   },
   "id": "dcf8b66bb15ec30"
  },
  {
   "cell_type": "code",
   "execution_count": 10,
   "outputs": [
    {
     "name": "stderr",
     "output_type": "stream",
     "text": [
      "[Parallel(n_jobs=8)]: Using backend ThreadingBackend with 8 concurrent workers.\n",
      "[Parallel(n_jobs=8)]: Done  34 tasks      | elapsed:   12.4s\n",
      "[Parallel(n_jobs=8)]: Done 100 out of 100 | elapsed:   45.4s finished\n"
     ]
    },
    {
     "data": {
      "text/plain": "Pipeline(steps=[('robustscaler', RobustScaler()),\n                ('pca', PCA(n_components=0.95)),\n                ('randomforestclassifier',\n                 RandomForestClassifier(n_jobs=8, random_state=42, verbose=1))])",
      "text/html": "<style>#sk-container-id-1 {color: black;}#sk-container-id-1 pre{padding: 0;}#sk-container-id-1 div.sk-toggleable {background-color: white;}#sk-container-id-1 label.sk-toggleable__label {cursor: pointer;display: block;width: 100%;margin-bottom: 0;padding: 0.3em;box-sizing: border-box;text-align: center;}#sk-container-id-1 label.sk-toggleable__label-arrow:before {content: \"▸\";float: left;margin-right: 0.25em;color: #696969;}#sk-container-id-1 label.sk-toggleable__label-arrow:hover:before {color: black;}#sk-container-id-1 div.sk-estimator:hover label.sk-toggleable__label-arrow:before {color: black;}#sk-container-id-1 div.sk-toggleable__content {max-height: 0;max-width: 0;overflow: hidden;text-align: left;background-color: #f0f8ff;}#sk-container-id-1 div.sk-toggleable__content pre {margin: 0.2em;color: black;border-radius: 0.25em;background-color: #f0f8ff;}#sk-container-id-1 input.sk-toggleable__control:checked~div.sk-toggleable__content {max-height: 200px;max-width: 100%;overflow: auto;}#sk-container-id-1 input.sk-toggleable__control:checked~label.sk-toggleable__label-arrow:before {content: \"▾\";}#sk-container-id-1 div.sk-estimator input.sk-toggleable__control:checked~label.sk-toggleable__label {background-color: #d4ebff;}#sk-container-id-1 div.sk-label input.sk-toggleable__control:checked~label.sk-toggleable__label {background-color: #d4ebff;}#sk-container-id-1 input.sk-hidden--visually {border: 0;clip: rect(1px 1px 1px 1px);clip: rect(1px, 1px, 1px, 1px);height: 1px;margin: -1px;overflow: hidden;padding: 0;position: absolute;width: 1px;}#sk-container-id-1 div.sk-estimator {font-family: monospace;background-color: #f0f8ff;border: 1px dotted black;border-radius: 0.25em;box-sizing: border-box;margin-bottom: 0.5em;}#sk-container-id-1 div.sk-estimator:hover {background-color: #d4ebff;}#sk-container-id-1 div.sk-parallel-item::after {content: \"\";width: 100%;border-bottom: 1px solid gray;flex-grow: 1;}#sk-container-id-1 div.sk-label:hover label.sk-toggleable__label {background-color: #d4ebff;}#sk-container-id-1 div.sk-serial::before {content: \"\";position: absolute;border-left: 1px solid gray;box-sizing: border-box;top: 0;bottom: 0;left: 50%;z-index: 0;}#sk-container-id-1 div.sk-serial {display: flex;flex-direction: column;align-items: center;background-color: white;padding-right: 0.2em;padding-left: 0.2em;position: relative;}#sk-container-id-1 div.sk-item {position: relative;z-index: 1;}#sk-container-id-1 div.sk-parallel {display: flex;align-items: stretch;justify-content: center;background-color: white;position: relative;}#sk-container-id-1 div.sk-item::before, #sk-container-id-1 div.sk-parallel-item::before {content: \"\";position: absolute;border-left: 1px solid gray;box-sizing: border-box;top: 0;bottom: 0;left: 50%;z-index: -1;}#sk-container-id-1 div.sk-parallel-item {display: flex;flex-direction: column;z-index: 1;position: relative;background-color: white;}#sk-container-id-1 div.sk-parallel-item:first-child::after {align-self: flex-end;width: 50%;}#sk-container-id-1 div.sk-parallel-item:last-child::after {align-self: flex-start;width: 50%;}#sk-container-id-1 div.sk-parallel-item:only-child::after {width: 0;}#sk-container-id-1 div.sk-dashed-wrapped {border: 1px dashed gray;margin: 0 0.4em 0.5em 0.4em;box-sizing: border-box;padding-bottom: 0.4em;background-color: white;}#sk-container-id-1 div.sk-label label {font-family: monospace;font-weight: bold;display: inline-block;line-height: 1.2em;}#sk-container-id-1 div.sk-label-container {text-align: center;}#sk-container-id-1 div.sk-container {/* jupyter's `normalize.less` sets `[hidden] { display: none; }` but bootstrap.min.css set `[hidden] { display: none !important; }` so we also need the `!important` here to be able to override the default hidden behavior on the sphinx rendered scikit-learn.org. See: https://github.com/scikit-learn/scikit-learn/issues/21755 */display: inline-block !important;position: relative;}#sk-container-id-1 div.sk-text-repr-fallback {display: none;}</style><div id=\"sk-container-id-1\" class=\"sk-top-container\"><div class=\"sk-text-repr-fallback\"><pre>Pipeline(steps=[(&#x27;robustscaler&#x27;, RobustScaler()),\n                (&#x27;pca&#x27;, PCA(n_components=0.95)),\n                (&#x27;randomforestclassifier&#x27;,\n                 RandomForestClassifier(n_jobs=8, random_state=42, verbose=1))])</pre><b>In a Jupyter environment, please rerun this cell to show the HTML representation or trust the notebook. <br />On GitHub, the HTML representation is unable to render, please try loading this page with nbviewer.org.</b></div><div class=\"sk-container\" hidden><div class=\"sk-item sk-dashed-wrapped\"><div class=\"sk-label-container\"><div class=\"sk-label sk-toggleable\"><input class=\"sk-toggleable__control sk-hidden--visually\" id=\"sk-estimator-id-1\" type=\"checkbox\" ><label for=\"sk-estimator-id-1\" class=\"sk-toggleable__label sk-toggleable__label-arrow\">Pipeline</label><div class=\"sk-toggleable__content\"><pre>Pipeline(steps=[(&#x27;robustscaler&#x27;, RobustScaler()),\n                (&#x27;pca&#x27;, PCA(n_components=0.95)),\n                (&#x27;randomforestclassifier&#x27;,\n                 RandomForestClassifier(n_jobs=8, random_state=42, verbose=1))])</pre></div></div></div><div class=\"sk-serial\"><div class=\"sk-item\"><div class=\"sk-estimator sk-toggleable\"><input class=\"sk-toggleable__control sk-hidden--visually\" id=\"sk-estimator-id-2\" type=\"checkbox\" ><label for=\"sk-estimator-id-2\" class=\"sk-toggleable__label sk-toggleable__label-arrow\">RobustScaler</label><div class=\"sk-toggleable__content\"><pre>RobustScaler()</pre></div></div></div><div class=\"sk-item\"><div class=\"sk-estimator sk-toggleable\"><input class=\"sk-toggleable__control sk-hidden--visually\" id=\"sk-estimator-id-3\" type=\"checkbox\" ><label for=\"sk-estimator-id-3\" class=\"sk-toggleable__label sk-toggleable__label-arrow\">PCA</label><div class=\"sk-toggleable__content\"><pre>PCA(n_components=0.95)</pre></div></div></div><div class=\"sk-item\"><div class=\"sk-estimator sk-toggleable\"><input class=\"sk-toggleable__control sk-hidden--visually\" id=\"sk-estimator-id-4\" type=\"checkbox\" ><label for=\"sk-estimator-id-4\" class=\"sk-toggleable__label sk-toggleable__label-arrow\">RandomForestClassifier</label><div class=\"sk-toggleable__content\"><pre>RandomForestClassifier(n_jobs=8, random_state=42, verbose=1)</pre></div></div></div></div></div></div></div>"
     },
     "execution_count": 10,
     "metadata": {},
     "output_type": "execute_result"
    }
   ],
   "source": [
    "rf_clf = make_pipeline(RobustScaler() , \n",
    "                    PCA(n_components=0.95) , \n",
    "                    RandomForestClassifier(n_jobs=8 , verbose=1 , random_state=42   ))\n",
    "rf_clf.fit(X_train , y_train)\n"
   ],
   "metadata": {
    "collapsed": false,
    "ExecuteTime": {
     "end_time": "2023-10-03T07:05:57.993608200Z",
     "start_time": "2023-10-03T07:05:07.830151500Z"
    }
   },
   "id": "f88ac372d4e8149b"
  },
  {
   "cell_type": "code",
   "execution_count": 11,
   "outputs": [],
   "source": [
    "def calculate_quality(ground_truth, predictions, metric_function, sort_values=False):\n",
    "    quality_scores = {}\n",
    "    for col in predictions.columns:\n",
    "        role_pred  = predictions[col].copy()\n",
    "        role_truth = ground_truth[col].copy()\n",
    "        quality_scores[col] = round(metric_function(role_truth, role_pred) * 100, 2)\n",
    "        \n",
    "    quality_scores = pd.Series(quality_scores.values(), index=quality_scores.keys())\n",
    "    if sort_values:\n",
    "        quality_scores = quality_scores.sort_values()\n",
    "    \n",
    "    return quality_scores"
   ],
   "metadata": {
    "collapsed": false,
    "ExecuteTime": {
     "end_time": "2023-10-03T07:06:00.815693800Z",
     "start_time": "2023-10-03T07:05:57.995609Z"
    }
   },
   "id": "aa75fe6e755990e"
  },
  {
   "cell_type": "code",
   "execution_count": 12,
   "outputs": [
    {
     "name": "stderr",
     "output_type": "stream",
     "text": [
      "[Parallel(n_jobs=8)]: Using backend ThreadingBackend with 8 concurrent workers.\n",
      "[Parallel(n_jobs=8)]: Done  34 tasks      | elapsed:    1.2s\n",
      "[Parallel(n_jobs=8)]: Done 100 out of 100 | elapsed:    3.7s finished\n"
     ]
    }
   ],
   "source": [
    "predictions =  pd.DataFrame(rf_clf.predict(X_train.values),columns=y_train.columns)\n",
    "# Evaluate on training set\n",
    "train_scores = {score.__name__: calculate_quality(y_train, predictions, score) \n",
    "                for score in [accuracy_score, precision_score, recall_score, f1_score]}\n",
    "train_scores = pd.concat(train_scores,axis=1)"
   ],
   "metadata": {
    "collapsed": false,
    "ExecuteTime": {
     "end_time": "2023-10-03T07:06:04.719062400Z",
     "start_time": "2023-10-03T07:05:58.036695200Z"
    }
   },
   "id": "cdee5a734fe22b4b"
  },
  {
   "cell_type": "code",
   "execution_count": 13,
   "outputs": [
    {
     "data": {
      "text/plain": "                                               accuracy_score  \\\nAcademic researcher                                     99.98   \nBlockchain                                              99.99   \nCloud infrastructure engineer                          100.00   \nData or business analyst                                99.96   \nData scientist or machine learning specialist          100.00   \nDatabase administrator                                  99.97   \nDevOps specialist                                       99.99   \nDeveloper Advocate                                     100.00   \nDeveloper Experience                                    99.99   \nDeveloper, QA or test                                   99.99   \nDeveloper, back-end                                    100.00   \nDeveloper, desktop or enterprise applications           99.95   \nDeveloper, embedded applications or devices             99.99   \nDeveloper, front-end                                   100.00   \nDeveloper, full-stack                                  100.00   \nDeveloper, game or graphics                             99.98   \nDeveloper, mobile                                      100.00   \nEngineer, data                                          99.99   \nHardware Engineer                                       99.99   \nProject manager                                         99.98   \nResearch & Development role                            100.00   \nScientist                                               99.99   \nSecurity professional                                  100.00   \nSystem administrator                                    99.98   \n\n                                               precision_score  recall_score  \\\nAcademic researcher                                     100.00         99.51   \nBlockchain                                               99.75        100.00   \nCloud infrastructure engineer                           100.00        100.00   \nData or business analyst                                 99.75         99.38   \nData scientist or machine learning specialist           100.00        100.00   \nDatabase administrator                                   99.26        100.00   \nDevOps specialist                                       100.00         99.87   \nDeveloper Advocate                                      100.00        100.00   \nDeveloper Experience                                     99.88        100.00   \nDeveloper, QA or test                                   100.00         99.74   \nDeveloper, back-end                                     100.00        100.00   \nDeveloper, desktop or enterprise applications           100.00         98.79   \nDeveloper, embedded applications or devices              99.87        100.00   \nDeveloper, front-end                                    100.00        100.00   \nDeveloper, full-stack                                   100.00        100.00   \nDeveloper, game or graphics                              99.88         99.76   \nDeveloper, mobile                                       100.00        100.00   \nEngineer, data                                          100.00         99.88   \nHardware Engineer                                        99.75        100.00   \nProject manager                                          99.88         99.75   \nResearch & Development role                             100.00        100.00   \nScientist                                               100.00         99.88   \nSecurity professional                                   100.00        100.00   \nSystem administrator                                     99.88         99.75   \n\n                                               f1_score  \nAcademic researcher                               99.75  \nBlockchain                                        99.88  \nCloud infrastructure engineer                    100.00  \nData or business analyst                          99.57  \nData scientist or machine learning specialist    100.00  \nDatabase administrator                            99.63  \nDevOps specialist                                 99.94  \nDeveloper Advocate                               100.00  \nDeveloper Experience                              99.94  \nDeveloper, QA or test                             99.87  \nDeveloper, back-end                              100.00  \nDeveloper, desktop or enterprise applications     99.39  \nDeveloper, embedded applications or devices       99.94  \nDeveloper, front-end                             100.00  \nDeveloper, full-stack                            100.00  \nDeveloper, game or graphics                       99.82  \nDeveloper, mobile                                100.00  \nEngineer, data                                    99.94  \nHardware Engineer                                 99.87  \nProject manager                                   99.81  \nResearch & Development role                      100.00  \nScientist                                         99.94  \nSecurity professional                            100.00  \nSystem administrator                              99.81  ",
      "text/html": "<div>\n<style scoped>\n    .dataframe tbody tr th:only-of-type {\n        vertical-align: middle;\n    }\n\n    .dataframe tbody tr th {\n        vertical-align: top;\n    }\n\n    .dataframe thead th {\n        text-align: right;\n    }\n</style>\n<table border=\"1\" class=\"dataframe\">\n  <thead>\n    <tr style=\"text-align: right;\">\n      <th></th>\n      <th>accuracy_score</th>\n      <th>precision_score</th>\n      <th>recall_score</th>\n      <th>f1_score</th>\n    </tr>\n  </thead>\n  <tbody>\n    <tr>\n      <th>Academic researcher</th>\n      <td>99.98</td>\n      <td>100.00</td>\n      <td>99.51</td>\n      <td>99.75</td>\n    </tr>\n    <tr>\n      <th>Blockchain</th>\n      <td>99.99</td>\n      <td>99.75</td>\n      <td>100.00</td>\n      <td>99.88</td>\n    </tr>\n    <tr>\n      <th>Cloud infrastructure engineer</th>\n      <td>100.00</td>\n      <td>100.00</td>\n      <td>100.00</td>\n      <td>100.00</td>\n    </tr>\n    <tr>\n      <th>Data or business analyst</th>\n      <td>99.96</td>\n      <td>99.75</td>\n      <td>99.38</td>\n      <td>99.57</td>\n    </tr>\n    <tr>\n      <th>Data scientist or machine learning specialist</th>\n      <td>100.00</td>\n      <td>100.00</td>\n      <td>100.00</td>\n      <td>100.00</td>\n    </tr>\n    <tr>\n      <th>Database administrator</th>\n      <td>99.97</td>\n      <td>99.26</td>\n      <td>100.00</td>\n      <td>99.63</td>\n    </tr>\n    <tr>\n      <th>DevOps specialist</th>\n      <td>99.99</td>\n      <td>100.00</td>\n      <td>99.87</td>\n      <td>99.94</td>\n    </tr>\n    <tr>\n      <th>Developer Advocate</th>\n      <td>100.00</td>\n      <td>100.00</td>\n      <td>100.00</td>\n      <td>100.00</td>\n    </tr>\n    <tr>\n      <th>Developer Experience</th>\n      <td>99.99</td>\n      <td>99.88</td>\n      <td>100.00</td>\n      <td>99.94</td>\n    </tr>\n    <tr>\n      <th>Developer, QA or test</th>\n      <td>99.99</td>\n      <td>100.00</td>\n      <td>99.74</td>\n      <td>99.87</td>\n    </tr>\n    <tr>\n      <th>Developer, back-end</th>\n      <td>100.00</td>\n      <td>100.00</td>\n      <td>100.00</td>\n      <td>100.00</td>\n    </tr>\n    <tr>\n      <th>Developer, desktop or enterprise applications</th>\n      <td>99.95</td>\n      <td>100.00</td>\n      <td>98.79</td>\n      <td>99.39</td>\n    </tr>\n    <tr>\n      <th>Developer, embedded applications or devices</th>\n      <td>99.99</td>\n      <td>99.87</td>\n      <td>100.00</td>\n      <td>99.94</td>\n    </tr>\n    <tr>\n      <th>Developer, front-end</th>\n      <td>100.00</td>\n      <td>100.00</td>\n      <td>100.00</td>\n      <td>100.00</td>\n    </tr>\n    <tr>\n      <th>Developer, full-stack</th>\n      <td>100.00</td>\n      <td>100.00</td>\n      <td>100.00</td>\n      <td>100.00</td>\n    </tr>\n    <tr>\n      <th>Developer, game or graphics</th>\n      <td>99.98</td>\n      <td>99.88</td>\n      <td>99.76</td>\n      <td>99.82</td>\n    </tr>\n    <tr>\n      <th>Developer, mobile</th>\n      <td>100.00</td>\n      <td>100.00</td>\n      <td>100.00</td>\n      <td>100.00</td>\n    </tr>\n    <tr>\n      <th>Engineer, data</th>\n      <td>99.99</td>\n      <td>100.00</td>\n      <td>99.88</td>\n      <td>99.94</td>\n    </tr>\n    <tr>\n      <th>Hardware Engineer</th>\n      <td>99.99</td>\n      <td>99.75</td>\n      <td>100.00</td>\n      <td>99.87</td>\n    </tr>\n    <tr>\n      <th>Project manager</th>\n      <td>99.98</td>\n      <td>99.88</td>\n      <td>99.75</td>\n      <td>99.81</td>\n    </tr>\n    <tr>\n      <th>Research &amp; Development role</th>\n      <td>100.00</td>\n      <td>100.00</td>\n      <td>100.00</td>\n      <td>100.00</td>\n    </tr>\n    <tr>\n      <th>Scientist</th>\n      <td>99.99</td>\n      <td>100.00</td>\n      <td>99.88</td>\n      <td>99.94</td>\n    </tr>\n    <tr>\n      <th>Security professional</th>\n      <td>100.00</td>\n      <td>100.00</td>\n      <td>100.00</td>\n      <td>100.00</td>\n    </tr>\n    <tr>\n      <th>System administrator</th>\n      <td>99.98</td>\n      <td>99.88</td>\n      <td>99.75</td>\n      <td>99.81</td>\n    </tr>\n  </tbody>\n</table>\n</div>"
     },
     "execution_count": 13,
     "metadata": {},
     "output_type": "execute_result"
    }
   ],
   "source": [
    "train_scores"
   ],
   "metadata": {
    "collapsed": false,
    "ExecuteTime": {
     "end_time": "2023-10-03T07:06:05.530249700Z",
     "start_time": "2023-10-03T07:06:04.718018400Z"
    }
   },
   "id": "702c5b093a177876"
  },
  {
   "cell_type": "code",
   "execution_count": 14,
   "outputs": [
    {
     "name": "stderr",
     "output_type": "stream",
     "text": [
      "[Parallel(n_jobs=8)]: Using backend ThreadingBackend with 8 concurrent workers.\n",
      "[Parallel(n_jobs=8)]: Done  34 tasks      | elapsed:    0.8s\n",
      "[Parallel(n_jobs=8)]: Done 100 out of 100 | elapsed:    3.3s finished\n",
      "D:\\End to End Data Science Projects\\lib\\site-packages\\sklearn\\metrics\\_classification.py:1469: UndefinedMetricWarning: Precision is ill-defined and being set to 0.0 due to no predicted samples. Use `zero_division` parameter to control this behavior.\n",
      "  _warn_prf(average, modifier, msg_start, len(result))\n",
      "D:\\End to End Data Science Projects\\lib\\site-packages\\sklearn\\metrics\\_classification.py:1469: UndefinedMetricWarning: Precision is ill-defined and being set to 0.0 due to no predicted samples. Use `zero_division` parameter to control this behavior.\n",
      "  _warn_prf(average, modifier, msg_start, len(result))\n",
      "D:\\End to End Data Science Projects\\lib\\site-packages\\sklearn\\metrics\\_classification.py:1469: UndefinedMetricWarning: Precision is ill-defined and being set to 0.0 due to no predicted samples. Use `zero_division` parameter to control this behavior.\n",
      "  _warn_prf(average, modifier, msg_start, len(result))\n"
     ]
    }
   ],
   "source": [
    "# Evaluate on test set\n",
    "predictions =  pd.DataFrame(rf_clf.predict(X_test.values), columns=y_test.columns)\n",
    "test_scores = {score.__name__: calculate_quality(y_test, predictions, score) \n",
    "                for score in [accuracy_score, precision_score, recall_score, f1_score]}\n",
    "test_scores = pd.concat(test_scores,axis=1)\n",
    "mean_test_scores = test_scores.mean()"
   ],
   "metadata": {
    "collapsed": false,
    "ExecuteTime": {
     "end_time": "2023-10-03T07:06:14.440606700Z",
     "start_time": "2023-10-03T07:06:05.535245700Z"
    }
   },
   "id": "6f28b4509381dc83"
  },
  {
   "cell_type": "code",
   "execution_count": 15,
   "outputs": [
    {
     "data": {
      "text/plain": "                                               accuracy_score  \\\nAcademic researcher                                     95.95   \nBlockchain                                              99.71   \nCloud infrastructure engineer                           98.10   \nData or business analyst                                98.64   \nData scientist or machine learning specialist           96.12   \nDatabase administrator                                  99.81   \nDevOps specialist                                       95.60   \nDeveloper Advocate                                      99.94   \nDeveloper Experience                                    99.73   \nDeveloper, QA or test                                   98.94   \nDeveloper, back-end                                     95.62   \nDeveloper, desktop or enterprise applications           96.06   \nDeveloper, embedded applications or devices             95.79   \nDeveloper, front-end                                    96.35   \nDeveloper, full-stack                                   95.81   \nDeveloper, game or graphics                             98.78   \nDeveloper, mobile                                       97.10   \nEngineer, data                                          98.03   \nHardware Engineer                                       99.78   \nProject manager                                         99.00   \nResearch & Development role                             95.83   \nScientist                                               99.59   \nSecurity professional                                   99.53   \nSystem administrator                                    98.48   \n\n                                               precision_score  recall_score  \\\nAcademic researcher                                       0.00          0.00   \nBlockchain                                               99.72         93.01   \nCloud infrastructure engineer                           100.00         56.70   \nData or business analyst                                100.00         66.84   \nData scientist or machine learning specialist            88.89          2.13   \nDatabase administrator                                   98.97         96.47   \nDevOps specialist                                         0.00          0.00   \nDeveloper Advocate                                      100.00         98.48   \nDeveloper Experience                                    100.00         93.28   \nDeveloper, QA or test                                   100.00         75.72   \nDeveloper, back-end                                     100.00          0.24   \nDeveloper, desktop or enterprise applications           100.00          0.53   \nDeveloper, embedded applications or devices              68.00          4.16   \nDeveloper, front-end                                     94.20         15.93   \nDeveloper, full-stack                                     0.00          0.00   \nDeveloper, game or graphics                              98.82         68.96   \nDeveloper, mobile                                        94.08         34.88   \nEngineer, data                                          100.00         52.17   \nHardware Engineer                                        99.74         95.11   \nProject manager                                         100.00         75.64   \nResearch & Development role                               0.00          0.00   \nScientist                                               100.00         90.13   \nSecurity professional                                   100.00         88.10   \nSystem administrator                                    100.00         63.91   \n\n                                               f1_score  \nAcademic researcher                                0.00  \nBlockchain                                        96.25  \nCloud infrastructure engineer                     72.37  \nData or business analyst                          80.12  \nData scientist or machine learning specialist      4.16  \nDatabase administrator                            97.70  \nDevOps specialist                                  0.00  \nDeveloper Advocate                                99.23  \nDeveloper Experience                              96.52  \nDeveloper, QA or test                             86.18  \nDeveloper, back-end                                0.48  \nDeveloper, desktop or enterprise applications      1.06  \nDeveloper, embedded applications or devices        7.83  \nDeveloper, front-end                              27.25  \nDeveloper, full-stack                              0.00  \nDeveloper, game or graphics                       81.23  \nDeveloper, mobile                                 50.89  \nEngineer, data                                    68.57  \nHardware Engineer                                 97.37  \nProject manager                                   86.13  \nResearch & Development role                        0.00  \nScientist                                         94.81  \nSecurity professional                             93.67  \nSystem administrator                              77.98  ",
      "text/html": "<div>\n<style scoped>\n    .dataframe tbody tr th:only-of-type {\n        vertical-align: middle;\n    }\n\n    .dataframe tbody tr th {\n        vertical-align: top;\n    }\n\n    .dataframe thead th {\n        text-align: right;\n    }\n</style>\n<table border=\"1\" class=\"dataframe\">\n  <thead>\n    <tr style=\"text-align: right;\">\n      <th></th>\n      <th>accuracy_score</th>\n      <th>precision_score</th>\n      <th>recall_score</th>\n      <th>f1_score</th>\n    </tr>\n  </thead>\n  <tbody>\n    <tr>\n      <th>Academic researcher</th>\n      <td>95.95</td>\n      <td>0.00</td>\n      <td>0.00</td>\n      <td>0.00</td>\n    </tr>\n    <tr>\n      <th>Blockchain</th>\n      <td>99.71</td>\n      <td>99.72</td>\n      <td>93.01</td>\n      <td>96.25</td>\n    </tr>\n    <tr>\n      <th>Cloud infrastructure engineer</th>\n      <td>98.10</td>\n      <td>100.00</td>\n      <td>56.70</td>\n      <td>72.37</td>\n    </tr>\n    <tr>\n      <th>Data or business analyst</th>\n      <td>98.64</td>\n      <td>100.00</td>\n      <td>66.84</td>\n      <td>80.12</td>\n    </tr>\n    <tr>\n      <th>Data scientist or machine learning specialist</th>\n      <td>96.12</td>\n      <td>88.89</td>\n      <td>2.13</td>\n      <td>4.16</td>\n    </tr>\n    <tr>\n      <th>Database administrator</th>\n      <td>99.81</td>\n      <td>98.97</td>\n      <td>96.47</td>\n      <td>97.70</td>\n    </tr>\n    <tr>\n      <th>DevOps specialist</th>\n      <td>95.60</td>\n      <td>0.00</td>\n      <td>0.00</td>\n      <td>0.00</td>\n    </tr>\n    <tr>\n      <th>Developer Advocate</th>\n      <td>99.94</td>\n      <td>100.00</td>\n      <td>98.48</td>\n      <td>99.23</td>\n    </tr>\n    <tr>\n      <th>Developer Experience</th>\n      <td>99.73</td>\n      <td>100.00</td>\n      <td>93.28</td>\n      <td>96.52</td>\n    </tr>\n    <tr>\n      <th>Developer, QA or test</th>\n      <td>98.94</td>\n      <td>100.00</td>\n      <td>75.72</td>\n      <td>86.18</td>\n    </tr>\n    <tr>\n      <th>Developer, back-end</th>\n      <td>95.62</td>\n      <td>100.00</td>\n      <td>0.24</td>\n      <td>0.48</td>\n    </tr>\n    <tr>\n      <th>Developer, desktop or enterprise applications</th>\n      <td>96.06</td>\n      <td>100.00</td>\n      <td>0.53</td>\n      <td>1.06</td>\n    </tr>\n    <tr>\n      <th>Developer, embedded applications or devices</th>\n      <td>95.79</td>\n      <td>68.00</td>\n      <td>4.16</td>\n      <td>7.83</td>\n    </tr>\n    <tr>\n      <th>Developer, front-end</th>\n      <td>96.35</td>\n      <td>94.20</td>\n      <td>15.93</td>\n      <td>27.25</td>\n    </tr>\n    <tr>\n      <th>Developer, full-stack</th>\n      <td>95.81</td>\n      <td>0.00</td>\n      <td>0.00</td>\n      <td>0.00</td>\n    </tr>\n    <tr>\n      <th>Developer, game or graphics</th>\n      <td>98.78</td>\n      <td>98.82</td>\n      <td>68.96</td>\n      <td>81.23</td>\n    </tr>\n    <tr>\n      <th>Developer, mobile</th>\n      <td>97.10</td>\n      <td>94.08</td>\n      <td>34.88</td>\n      <td>50.89</td>\n    </tr>\n    <tr>\n      <th>Engineer, data</th>\n      <td>98.03</td>\n      <td>100.00</td>\n      <td>52.17</td>\n      <td>68.57</td>\n    </tr>\n    <tr>\n      <th>Hardware Engineer</th>\n      <td>99.78</td>\n      <td>99.74</td>\n      <td>95.11</td>\n      <td>97.37</td>\n    </tr>\n    <tr>\n      <th>Project manager</th>\n      <td>99.00</td>\n      <td>100.00</td>\n      <td>75.64</td>\n      <td>86.13</td>\n    </tr>\n    <tr>\n      <th>Research &amp; Development role</th>\n      <td>95.83</td>\n      <td>0.00</td>\n      <td>0.00</td>\n      <td>0.00</td>\n    </tr>\n    <tr>\n      <th>Scientist</th>\n      <td>99.59</td>\n      <td>100.00</td>\n      <td>90.13</td>\n      <td>94.81</td>\n    </tr>\n    <tr>\n      <th>Security professional</th>\n      <td>99.53</td>\n      <td>100.00</td>\n      <td>88.10</td>\n      <td>93.67</td>\n    </tr>\n    <tr>\n      <th>System administrator</th>\n      <td>98.48</td>\n      <td>100.00</td>\n      <td>63.91</td>\n      <td>77.98</td>\n    </tr>\n  </tbody>\n</table>\n</div>"
     },
     "execution_count": 15,
     "metadata": {},
     "output_type": "execute_result"
    }
   ],
   "source": [
    "test_scores"
   ],
   "metadata": {
    "collapsed": false,
    "ExecuteTime": {
     "end_time": "2023-10-03T07:06:14.494108Z",
     "start_time": "2023-10-03T07:06:14.460827100Z"
    }
   },
   "id": "225abb9f60d93673"
  },
  {
   "cell_type": "code",
   "execution_count": 16,
   "outputs": [],
   "source": [
    "mean_train_scores = train_scores.mean()"
   ],
   "metadata": {
    "collapsed": false,
    "ExecuteTime": {
     "end_time": "2023-10-03T07:06:14.530640Z",
     "start_time": "2023-10-03T07:06:14.491107800Z"
    }
   },
   "id": "64d9cf926b626f5b"
  },
  {
   "cell_type": "code",
   "execution_count": 17,
   "outputs": [
    {
     "name": "stdout",
     "output_type": "stream",
     "text": [
      "Mean Train Scores\n",
      "accuracy_score     99.988333\n",
      "precision_score    99.912500\n",
      "recall_score       99.846250\n",
      "f1_score           99.879167\n",
      "dtype: float64\n",
      "\n",
      "Mean Test Scores\n",
      "accuracy_score     97.845417\n",
      "precision_score    80.934167\n",
      "recall_score       48.849583\n",
      "f1_score           54.991667\n",
      "dtype: float64\n"
     ]
    }
   ],
   "source": [
    "print('Mean Train Scores')\n",
    "print(mean_train_scores)\n",
    "print()\n",
    "print('Mean Test Scores')\n",
    "print(mean_test_scores)"
   ],
   "metadata": {
    "collapsed": false,
    "ExecuteTime": {
     "end_time": "2023-10-03T07:06:14.579602800Z",
     "start_time": "2023-10-03T07:06:14.510247Z"
    }
   },
   "id": "8a8354fff72cfa17"
  },
  {
   "cell_type": "markdown",
   "source": [
    "## There Are  Overfitting !!"
   ],
   "metadata": {
    "collapsed": false
   },
   "id": "c0469eca47400fd3"
  },
  {
   "cell_type": "markdown",
   "source": [
    "##### LOG"
   ],
   "metadata": {
    "collapsed": false
   },
   "id": "34df3212d34f104c"
  },
  {
   "cell_type": "code",
   "execution_count": 18,
   "outputs": [],
   "source": [
    "data_details = {\"data_path\": DF_PATH,\n",
    "                \"training_indices\": X_train.index.tolist(),\n",
    "                \"test_indices\":     X_test.index.tolist(), \n",
    "                \"features_names\":   X_train.columns.droplevel(0).tolist(),\n",
    "                \"targets_names\":    y_train.columns.tolist()}\n",
    "\n",
    "with open(os.path.join(LOG_PATH, LOG_DATA_PKL), \"wb\") as output_file:\n",
    "    pickle.dump(data_details, output_file)"
   ],
   "metadata": {
    "collapsed": false,
    "ExecuteTime": {
     "end_time": "2023-10-03T07:06:15.428813700Z",
     "start_time": "2023-10-03T07:06:14.524489200Z"
    }
   },
   "id": "24d4ab8fd4b19e77"
  },
  {
   "cell_type": "code",
   "execution_count": 19,
   "outputs": [],
   "source": [
    "# Model\n",
    "model = {\"model_description\": \"Random Forest: with PCA - Basic\",\n",
    "         \"model_details\": str(rf_clf),\n",
    "         \"model_object\": rf_clf}\n",
    "\n",
    "with open(os.path.join(LOG_PATH, LOG_MODEL_PKL), \"wb\") as output_file:\n",
    "    pickle.dump(model, output_file)"
   ],
   "metadata": {
    "collapsed": false,
    "ExecuteTime": {
     "end_time": "2023-10-03T07:06:39.331686600Z",
     "start_time": "2023-10-03T07:06:14.658866100Z"
    }
   },
   "id": "866478c8bbb7ba0c"
  },
  {
   "cell_type": "code",
   "execution_count": 20,
   "outputs": [],
   "source": [
    "# Performance details\n",
    "classes_metrics = {\"train_scores\": train_scores,\n",
    "                   \"test_scores\": test_scores}\n",
    "\n",
    "with open(os.path.join(LOG_PATH, LOG_METRICS_PKL), \"wb\") as output_file:\n",
    "    pickle.dump(classes_metrics, output_file)"
   ],
   "metadata": {
    "collapsed": false,
    "ExecuteTime": {
     "end_time": "2023-10-03T07:06:39.615397600Z",
     "start_time": "2023-10-03T07:06:39.336795300Z"
    }
   },
   "id": "21c28597e4f9d497"
  },
  {
   "cell_type": "code",
   "execution_count": 21,
   "outputs": [],
   "source": [
    "# Start a new run and track\n",
    "with mlflow.start_run(experiment_id=exp.experiment_id,\n",
    "                      run_name=model[\"model_description\"]):\n",
    "    # Log pickles\n",
    "    mlflow.log_artifacts(LOG_PATH)\n",
    "\n",
    "    # Track metrics\n",
    "    for metric, score in mean_test_scores.items():\n",
    "        mlflow.log_metric(metric, score)"
   ],
   "metadata": {
    "collapsed": false,
    "ExecuteTime": {
     "end_time": "2023-10-03T07:07:05.768139800Z",
     "start_time": "2023-10-03T07:06:39.618507700Z"
    }
   },
   "id": "d45db370ea6121a3"
  },
  {
   "cell_type": "markdown",
   "source": [
    "## Hyper parameter tuning"
   ],
   "metadata": {
    "collapsed": false
   },
   "id": "7c1b603ce8a6ddb3"
  },
  {
   "cell_type": "code",
   "execution_count": 22,
   "outputs": [],
   "source": [
    "hpt_rf_clf = make_pipeline(RobustScaler() , PCA() , RandomForestClassifier(n_jobs=8,\n",
    "                                                  verbose=1,\n",
    "                                                  random_state=42))"
   ],
   "metadata": {
    "collapsed": false,
    "ExecuteTime": {
     "end_time": "2023-10-03T07:07:05.784116700Z",
     "start_time": "2023-10-03T07:07:05.772901100Z"
    }
   },
   "id": "71cdf12985a454b8"
  },
  {
   "cell_type": "code",
   "execution_count": 23,
   "outputs": [],
   "source": [
    "tuned_parameters = [{\n",
    "    'pca__n_components':[0.5 , 0.7 , 0.85 ],\n",
    "    'randomforestclassifier__n_estimators':[150 , 750] , \n",
    "    'randomforestclassifier__max_depth':[3  , 10 , None]\n",
    "}]"
   ],
   "metadata": {
    "collapsed": false,
    "ExecuteTime": {
     "end_time": "2023-10-03T07:07:05.850326200Z",
     "start_time": "2023-10-03T07:07:05.788180700Z"
    }
   },
   "id": "ed71e9a2d5711b1a"
  },
  {
   "cell_type": "code",
   "execution_count": 24,
   "outputs": [
    {
     "name": "stderr",
     "output_type": "stream",
     "text": [
      "[Parallel(n_jobs=8)]: Using backend ThreadingBackend with 8 concurrent workers.\n",
      "[Parallel(n_jobs=8)]: Done  34 tasks      | elapsed:    1.0s\n",
      "[Parallel(n_jobs=8)]: Done 150 out of 150 | elapsed:    3.8s finished\n",
      "[Parallel(n_jobs=8)]: Using backend ThreadingBackend with 8 concurrent workers.\n",
      "[Parallel(n_jobs=8)]: Done  34 tasks      | elapsed:    0.2s\n",
      "[Parallel(n_jobs=8)]: Done 150 out of 150 | elapsed:    0.8s finished\n",
      "[Parallel(n_jobs=8)]: Using backend ThreadingBackend with 8 concurrent workers.\n",
      "[Parallel(n_jobs=8)]: Done  34 tasks      | elapsed:    0.9s\n",
      "[Parallel(n_jobs=8)]: Done 150 out of 150 | elapsed:    3.9s finished\n",
      "[Parallel(n_jobs=8)]: Using backend ThreadingBackend with 8 concurrent workers.\n",
      "[Parallel(n_jobs=8)]: Done  34 tasks      | elapsed:    0.1s\n",
      "[Parallel(n_jobs=8)]: Done 150 out of 150 | elapsed:    0.7s finished\n",
      "[Parallel(n_jobs=8)]: Using backend ThreadingBackend with 8 concurrent workers.\n",
      "[Parallel(n_jobs=8)]: Done  34 tasks      | elapsed:    1.2s\n",
      "[Parallel(n_jobs=8)]: Done 150 out of 150 | elapsed:    4.5s finished\n",
      "[Parallel(n_jobs=8)]: Using backend ThreadingBackend with 8 concurrent workers.\n",
      "[Parallel(n_jobs=8)]: Done  34 tasks      | elapsed:    0.1s\n",
      "[Parallel(n_jobs=8)]: Done 150 out of 150 | elapsed:    0.7s finished\n",
      "[Parallel(n_jobs=8)]: Using backend ThreadingBackend with 8 concurrent workers.\n",
      "[Parallel(n_jobs=8)]: Done  34 tasks      | elapsed:    1.1s\n",
      "[Parallel(n_jobs=8)]: Done 150 out of 150 | elapsed:    4.6s finished\n",
      "[Parallel(n_jobs=8)]: Using backend ThreadingBackend with 8 concurrent workers.\n",
      "[Parallel(n_jobs=8)]: Done  34 tasks      | elapsed:    0.1s\n",
      "[Parallel(n_jobs=8)]: Done 150 out of 150 | elapsed:    0.7s finished\n",
      "[Parallel(n_jobs=8)]: Using backend ThreadingBackend with 8 concurrent workers.\n",
      "[Parallel(n_jobs=8)]: Done  34 tasks      | elapsed:    1.2s\n",
      "[Parallel(n_jobs=8)]: Done 150 out of 150 | elapsed:    4.8s finished\n",
      "[Parallel(n_jobs=8)]: Using backend ThreadingBackend with 8 concurrent workers.\n",
      "[Parallel(n_jobs=8)]: Done  34 tasks      | elapsed:    0.1s\n",
      "[Parallel(n_jobs=8)]: Done 150 out of 150 | elapsed:    0.8s finished\n",
      "[Parallel(n_jobs=8)]: Using backend ThreadingBackend with 8 concurrent workers.\n",
      "[Parallel(n_jobs=8)]: Done  34 tasks      | elapsed:    1.3s\n",
      "[Parallel(n_jobs=8)]: Done 184 tasks      | elapsed:    6.6s\n",
      "[Parallel(n_jobs=8)]: Done 434 tasks      | elapsed:   14.0s\n",
      "[Parallel(n_jobs=8)]: Done 750 out of 750 | elapsed:   23.8s finished\n",
      "[Parallel(n_jobs=8)]: Using backend ThreadingBackend with 8 concurrent workers.\n",
      "[Parallel(n_jobs=8)]: Done  34 tasks      | elapsed:    0.1s\n",
      "[Parallel(n_jobs=8)]: Done 184 tasks      | elapsed:    0.8s\n",
      "[Parallel(n_jobs=8)]: Done 434 tasks      | elapsed:    2.1s\n",
      "[Parallel(n_jobs=8)]: Done 750 out of 750 | elapsed:    4.2s finished\n",
      "[Parallel(n_jobs=8)]: Using backend ThreadingBackend with 8 concurrent workers.\n",
      "[Parallel(n_jobs=8)]: Done  34 tasks      | elapsed:    1.3s\n",
      "[Parallel(n_jobs=8)]: Done 184 tasks      | elapsed:    5.8s\n",
      "[Parallel(n_jobs=8)]: Done 434 tasks      | elapsed:   13.1s\n",
      "[Parallel(n_jobs=8)]: Done 750 out of 750 | elapsed:   22.8s finished\n",
      "[Parallel(n_jobs=8)]: Using backend ThreadingBackend with 8 concurrent workers.\n",
      "[Parallel(n_jobs=8)]: Done  34 tasks      | elapsed:    0.1s\n",
      "[Parallel(n_jobs=8)]: Done 184 tasks      | elapsed:    0.8s\n",
      "[Parallel(n_jobs=8)]: Done 434 tasks      | elapsed:    2.0s\n",
      "[Parallel(n_jobs=8)]: Done 750 out of 750 | elapsed:    3.4s finished\n",
      "[Parallel(n_jobs=8)]: Using backend ThreadingBackend with 8 concurrent workers.\n",
      "[Parallel(n_jobs=8)]: Done  34 tasks      | elapsed:    1.1s\n",
      "[Parallel(n_jobs=8)]: Done 184 tasks      | elapsed:    5.6s\n",
      "[Parallel(n_jobs=8)]: Done 434 tasks      | elapsed:   13.0s\n",
      "[Parallel(n_jobs=8)]: Done 750 out of 750 | elapsed:   22.6s finished\n",
      "[Parallel(n_jobs=8)]: Using backend ThreadingBackend with 8 concurrent workers.\n",
      "[Parallel(n_jobs=8)]: Done  34 tasks      | elapsed:    0.1s\n",
      "[Parallel(n_jobs=8)]: Done 184 tasks      | elapsed:    0.9s\n",
      "[Parallel(n_jobs=8)]: Done 434 tasks      | elapsed:    2.0s\n",
      "[Parallel(n_jobs=8)]: Done 750 out of 750 | elapsed:    3.3s finished\n",
      "[Parallel(n_jobs=8)]: Using backend ThreadingBackend with 8 concurrent workers.\n",
      "[Parallel(n_jobs=8)]: Done  34 tasks      | elapsed:    0.8s\n",
      "[Parallel(n_jobs=8)]: Done 184 tasks      | elapsed:    4.2s\n",
      "[Parallel(n_jobs=8)]: Done 434 tasks      | elapsed:   10.1s\n",
      "[Parallel(n_jobs=8)]: Done 750 out of 750 | elapsed:   19.0s finished\n",
      "[Parallel(n_jobs=8)]: Using backend ThreadingBackend with 8 concurrent workers.\n",
      "[Parallel(n_jobs=8)]: Done  34 tasks      | elapsed:    0.1s\n",
      "[Parallel(n_jobs=8)]: Done 184 tasks      | elapsed:    0.7s\n",
      "[Parallel(n_jobs=8)]: Done 434 tasks      | elapsed:    1.8s\n",
      "[Parallel(n_jobs=8)]: Done 750 out of 750 | elapsed:    3.1s finished\n",
      "[Parallel(n_jobs=8)]: Using backend ThreadingBackend with 8 concurrent workers.\n",
      "[Parallel(n_jobs=8)]: Done  34 tasks      | elapsed:    1.1s\n",
      "[Parallel(n_jobs=8)]: Done 184 tasks      | elapsed:    5.4s\n",
      "[Parallel(n_jobs=8)]: Done 434 tasks      | elapsed:   12.5s\n",
      "[Parallel(n_jobs=8)]: Done 750 out of 750 | elapsed:   21.4s finished\n",
      "[Parallel(n_jobs=8)]: Using backend ThreadingBackend with 8 concurrent workers.\n",
      "[Parallel(n_jobs=8)]: Done  34 tasks      | elapsed:    0.1s\n",
      "[Parallel(n_jobs=8)]: Done 184 tasks      | elapsed:    0.9s\n",
      "[Parallel(n_jobs=8)]: Done 434 tasks      | elapsed:    2.0s\n",
      "[Parallel(n_jobs=8)]: Done 750 out of 750 | elapsed:    3.4s finished\n",
      "[Parallel(n_jobs=8)]: Using backend ThreadingBackend with 8 concurrent workers.\n",
      "[Parallel(n_jobs=8)]: Done  34 tasks      | elapsed:    2.3s\n",
      "[Parallel(n_jobs=8)]: Done 150 out of 150 | elapsed:    8.9s finished\n",
      "[Parallel(n_jobs=8)]: Using backend ThreadingBackend with 8 concurrent workers.\n",
      "[Parallel(n_jobs=8)]: Done  34 tasks      | elapsed:    0.1s\n",
      "[Parallel(n_jobs=8)]: Done 150 out of 150 | elapsed:    0.6s finished\n",
      "[Parallel(n_jobs=8)]: Using backend ThreadingBackend with 8 concurrent workers.\n",
      "[Parallel(n_jobs=8)]: Done  34 tasks      | elapsed:    2.4s\n",
      "[Parallel(n_jobs=8)]: Done 150 out of 150 | elapsed:    9.1s finished\n",
      "[Parallel(n_jobs=8)]: Using backend ThreadingBackend with 8 concurrent workers.\n",
      "[Parallel(n_jobs=8)]: Done  34 tasks      | elapsed:    0.1s\n",
      "[Parallel(n_jobs=8)]: Done 150 out of 150 | elapsed:    0.7s finished\n",
      "[Parallel(n_jobs=8)]: Using backend ThreadingBackend with 8 concurrent workers.\n",
      "[Parallel(n_jobs=8)]: Done  34 tasks      | elapsed:    2.5s\n",
      "[Parallel(n_jobs=8)]: Done 150 out of 150 | elapsed:    9.1s finished\n",
      "[Parallel(n_jobs=8)]: Using backend ThreadingBackend with 8 concurrent workers.\n",
      "[Parallel(n_jobs=8)]: Done  34 tasks      | elapsed:    0.1s\n",
      "[Parallel(n_jobs=8)]: Done 150 out of 150 | elapsed:    0.6s finished\n",
      "[Parallel(n_jobs=8)]: Using backend ThreadingBackend with 8 concurrent workers.\n",
      "[Parallel(n_jobs=8)]: Done  34 tasks      | elapsed:    2.3s\n",
      "[Parallel(n_jobs=8)]: Done 150 out of 150 | elapsed:    8.9s finished\n",
      "[Parallel(n_jobs=8)]: Using backend ThreadingBackend with 8 concurrent workers.\n",
      "[Parallel(n_jobs=8)]: Done  34 tasks      | elapsed:    0.1s\n",
      "[Parallel(n_jobs=8)]: Done 150 out of 150 | elapsed:    0.6s finished\n",
      "[Parallel(n_jobs=8)]: Using backend ThreadingBackend with 8 concurrent workers.\n",
      "[Parallel(n_jobs=8)]: Done  34 tasks      | elapsed:    2.3s\n",
      "[Parallel(n_jobs=8)]: Done 150 out of 150 | elapsed:    8.9s finished\n",
      "[Parallel(n_jobs=8)]: Using backend ThreadingBackend with 8 concurrent workers.\n",
      "[Parallel(n_jobs=8)]: Done  34 tasks      | elapsed:    0.1s\n",
      "[Parallel(n_jobs=8)]: Done 150 out of 150 | elapsed:    0.6s finished\n",
      "[Parallel(n_jobs=8)]: Using backend ThreadingBackend with 8 concurrent workers.\n",
      "[Parallel(n_jobs=8)]: Done  34 tasks      | elapsed:    2.2s\n",
      "[Parallel(n_jobs=8)]: Done 184 tasks      | elapsed:   11.2s\n",
      "[Parallel(n_jobs=8)]: Done 434 tasks      | elapsed:   23.9s\n",
      "[Parallel(n_jobs=8)]: Done 750 out of 750 | elapsed:   41.2s finished\n",
      "[Parallel(n_jobs=8)]: Using backend ThreadingBackend with 8 concurrent workers.\n",
      "[Parallel(n_jobs=8)]: Done  34 tasks      | elapsed:    0.1s\n",
      "[Parallel(n_jobs=8)]: Done 184 tasks      | elapsed:    0.8s\n",
      "[Parallel(n_jobs=8)]: Done 434 tasks      | elapsed:    2.0s\n",
      "[Parallel(n_jobs=8)]: Done 750 out of 750 | elapsed:    3.5s finished\n",
      "[Parallel(n_jobs=8)]: Using backend ThreadingBackend with 8 concurrent workers.\n",
      "[Parallel(n_jobs=8)]: Done  34 tasks      | elapsed:    2.3s\n",
      "[Parallel(n_jobs=8)]: Done 184 tasks      | elapsed:   10.8s\n",
      "[Parallel(n_jobs=8)]: Done 434 tasks      | elapsed:   25.3s\n",
      "[Parallel(n_jobs=8)]: Done 750 out of 750 | elapsed:   43.8s finished\n",
      "[Parallel(n_jobs=8)]: Using backend ThreadingBackend with 8 concurrent workers.\n",
      "[Parallel(n_jobs=8)]: Done  34 tasks      | elapsed:    0.1s\n",
      "[Parallel(n_jobs=8)]: Done 184 tasks      | elapsed:    0.9s\n",
      "[Parallel(n_jobs=8)]: Done 434 tasks      | elapsed:    2.1s\n",
      "[Parallel(n_jobs=8)]: Done 750 out of 750 | elapsed:    3.5s finished\n",
      "[Parallel(n_jobs=8)]: Using backend ThreadingBackend with 8 concurrent workers.\n",
      "[Parallel(n_jobs=8)]: Done  34 tasks      | elapsed:    2.3s\n",
      "[Parallel(n_jobs=8)]: Done 184 tasks      | elapsed:   11.0s\n",
      "[Parallel(n_jobs=8)]: Done 434 tasks      | elapsed:   25.5s\n",
      "[Parallel(n_jobs=8)]: Done 750 out of 750 | elapsed:   44.7s finished\n",
      "[Parallel(n_jobs=8)]: Using backend ThreadingBackend with 8 concurrent workers.\n",
      "[Parallel(n_jobs=8)]: Done  34 tasks      | elapsed:    0.2s\n",
      "[Parallel(n_jobs=8)]: Done 184 tasks      | elapsed:    1.2s\n",
      "[Parallel(n_jobs=8)]: Done 434 tasks      | elapsed:    2.6s\n",
      "[Parallel(n_jobs=8)]: Done 750 out of 750 | elapsed:    4.1s finished\n",
      "[Parallel(n_jobs=8)]: Using backend ThreadingBackend with 8 concurrent workers.\n",
      "[Parallel(n_jobs=8)]: Done  34 tasks      | elapsed:    2.1s\n",
      "[Parallel(n_jobs=8)]: Done 184 tasks      | elapsed:    9.4s\n",
      "[Parallel(n_jobs=8)]: Done 434 tasks      | elapsed:   23.4s\n",
      "[Parallel(n_jobs=8)]: Done 750 out of 750 | elapsed:   42.1s finished\n",
      "[Parallel(n_jobs=8)]: Using backend ThreadingBackend with 8 concurrent workers.\n",
      "[Parallel(n_jobs=8)]: Done  34 tasks      | elapsed:    0.1s\n",
      "[Parallel(n_jobs=8)]: Done 184 tasks      | elapsed:    0.9s\n",
      "[Parallel(n_jobs=8)]: Done 434 tasks      | elapsed:    2.1s\n",
      "[Parallel(n_jobs=8)]: Done 750 out of 750 | elapsed:    3.6s finished\n",
      "[Parallel(n_jobs=8)]: Using backend ThreadingBackend with 8 concurrent workers.\n",
      "[Parallel(n_jobs=8)]: Done  34 tasks      | elapsed:    2.3s\n",
      "[Parallel(n_jobs=8)]: Done 184 tasks      | elapsed:   10.9s\n",
      "[Parallel(n_jobs=8)]: Done 434 tasks      | elapsed:   25.9s\n",
      "[Parallel(n_jobs=8)]: Done 750 out of 750 | elapsed:   44.3s finished\n",
      "[Parallel(n_jobs=8)]: Using backend ThreadingBackend with 8 concurrent workers.\n",
      "[Parallel(n_jobs=8)]: Done  34 tasks      | elapsed:    0.1s\n",
      "[Parallel(n_jobs=8)]: Done 184 tasks      | elapsed:    0.9s\n",
      "[Parallel(n_jobs=8)]: Done 434 tasks      | elapsed:    2.1s\n",
      "[Parallel(n_jobs=8)]: Done 750 out of 750 | elapsed:    3.5s finished\n",
      "[Parallel(n_jobs=8)]: Using backend ThreadingBackend with 8 concurrent workers.\n",
      "[Parallel(n_jobs=8)]: Done  34 tasks      | elapsed:    3.5s\n",
      "[Parallel(n_jobs=8)]: Done 150 out of 150 | elapsed:   13.4s finished\n",
      "[Parallel(n_jobs=8)]: Using backend ThreadingBackend with 8 concurrent workers.\n",
      "[Parallel(n_jobs=8)]: Done  34 tasks      | elapsed:    0.1s\n",
      "[Parallel(n_jobs=8)]: Done 150 out of 150 | elapsed:    0.6s finished\n",
      "[Parallel(n_jobs=8)]: Using backend ThreadingBackend with 8 concurrent workers.\n",
      "[Parallel(n_jobs=8)]: Done  34 tasks      | elapsed:    3.4s\n",
      "[Parallel(n_jobs=8)]: Done 150 out of 150 | elapsed:   13.7s finished\n",
      "[Parallel(n_jobs=8)]: Using backend ThreadingBackend with 8 concurrent workers.\n",
      "[Parallel(n_jobs=8)]: Done  34 tasks      | elapsed:    0.1s\n",
      "[Parallel(n_jobs=8)]: Done 150 out of 150 | elapsed:    0.6s finished\n",
      "[Parallel(n_jobs=8)]: Using backend ThreadingBackend with 8 concurrent workers.\n",
      "[Parallel(n_jobs=8)]: Done  34 tasks      | elapsed:    3.5s\n",
      "[Parallel(n_jobs=8)]: Done 150 out of 150 | elapsed:   11.8s finished\n",
      "[Parallel(n_jobs=8)]: Using backend ThreadingBackend with 8 concurrent workers.\n",
      "[Parallel(n_jobs=8)]: Done  34 tasks      | elapsed:    0.1s\n",
      "[Parallel(n_jobs=8)]: Done 150 out of 150 | elapsed:    0.6s finished\n",
      "[Parallel(n_jobs=8)]: Using backend ThreadingBackend with 8 concurrent workers.\n",
      "[Parallel(n_jobs=8)]: Done  34 tasks      | elapsed:    2.4s\n",
      "[Parallel(n_jobs=8)]: Done 150 out of 150 | elapsed:   11.9s finished\n",
      "[Parallel(n_jobs=8)]: Using backend ThreadingBackend with 8 concurrent workers.\n",
      "[Parallel(n_jobs=8)]: Done  34 tasks      | elapsed:    0.1s\n",
      "[Parallel(n_jobs=8)]: Done 150 out of 150 | elapsed:    0.6s finished\n",
      "[Parallel(n_jobs=8)]: Using backend ThreadingBackend with 8 concurrent workers.\n",
      "[Parallel(n_jobs=8)]: Done  34 tasks      | elapsed:    3.6s\n",
      "[Parallel(n_jobs=8)]: Done 150 out of 150 | elapsed:   13.6s finished\n",
      "[Parallel(n_jobs=8)]: Using backend ThreadingBackend with 8 concurrent workers.\n",
      "[Parallel(n_jobs=8)]: Done  34 tasks      | elapsed:    0.1s\n",
      "[Parallel(n_jobs=8)]: Done 150 out of 150 | elapsed:    0.6s finished\n",
      "[Parallel(n_jobs=8)]: Using backend ThreadingBackend with 8 concurrent workers.\n",
      "[Parallel(n_jobs=8)]: Done  34 tasks      | elapsed:    3.3s\n",
      "[Parallel(n_jobs=8)]: Done 184 tasks      | elapsed:   16.3s\n",
      "[Parallel(n_jobs=8)]: Done 434 tasks      | elapsed:   40.7s\n",
      "[Parallel(n_jobs=8)]: Done 750 out of 750 | elapsed:  1.2min finished\n",
      "[Parallel(n_jobs=8)]: Using backend ThreadingBackend with 8 concurrent workers.\n",
      "[Parallel(n_jobs=8)]: Done  34 tasks      | elapsed:    2.2s\n",
      "[Parallel(n_jobs=8)]: Done 184 tasks      | elapsed:    5.8s\n",
      "[Parallel(n_jobs=8)]: Done 434 tasks      | elapsed:   10.8s\n",
      "[Parallel(n_jobs=8)]: Done 750 out of 750 | elapsed:   16.0s finished\n",
      "[Parallel(n_jobs=8)]: Using backend ThreadingBackend with 8 concurrent workers.\n",
      "[Parallel(n_jobs=8)]: Done  34 tasks      | elapsed:    4.2s\n",
      "[Parallel(n_jobs=8)]: Done 184 tasks      | elapsed:   14.4s\n",
      "[Parallel(n_jobs=8)]: Done 434 tasks      | elapsed:   35.5s\n",
      "[Parallel(n_jobs=8)]: Done 750 out of 750 | elapsed:  1.1min finished\n",
      "[Parallel(n_jobs=8)]: Using backend ThreadingBackend with 8 concurrent workers.\n",
      "[Parallel(n_jobs=8)]: Done  34 tasks      | elapsed:    0.2s\n",
      "[Parallel(n_jobs=8)]: Done 184 tasks      | elapsed:    1.0s\n",
      "[Parallel(n_jobs=8)]: Done 434 tasks      | elapsed:    2.3s\n",
      "[Parallel(n_jobs=8)]: Done 750 out of 750 | elapsed:    3.9s finished\n",
      "[Parallel(n_jobs=8)]: Using backend ThreadingBackend with 8 concurrent workers.\n",
      "[Parallel(n_jobs=8)]: Done  34 tasks      | elapsed:    3.6s\n",
      "[Parallel(n_jobs=8)]: Done 184 tasks      | elapsed:   16.6s\n",
      "[Parallel(n_jobs=8)]: Done 434 tasks      | elapsed:   38.5s\n",
      "[Parallel(n_jobs=8)]: Done 750 out of 750 | elapsed:  1.1min finished\n",
      "[Parallel(n_jobs=8)]: Using backend ThreadingBackend with 8 concurrent workers.\n",
      "[Parallel(n_jobs=8)]: Done  34 tasks      | elapsed:    0.1s\n",
      "[Parallel(n_jobs=8)]: Done 184 tasks      | elapsed:    0.9s\n",
      "[Parallel(n_jobs=8)]: Done 434 tasks      | elapsed:    2.2s\n",
      "[Parallel(n_jobs=8)]: Done 750 out of 750 | elapsed:    3.8s finished\n",
      "[Parallel(n_jobs=8)]: Using backend ThreadingBackend with 8 concurrent workers.\n",
      "[Parallel(n_jobs=8)]: Done  34 tasks      | elapsed:    2.4s\n",
      "[Parallel(n_jobs=8)]: Done 184 tasks      | elapsed:   13.1s\n",
      "[Parallel(n_jobs=8)]: Done 434 tasks      | elapsed:   35.4s\n",
      "[Parallel(n_jobs=8)]: Done 750 out of 750 | elapsed:  1.1min finished\n",
      "[Parallel(n_jobs=8)]: Using backend ThreadingBackend with 8 concurrent workers.\n",
      "[Parallel(n_jobs=8)]: Done  34 tasks      | elapsed:    0.1s\n",
      "[Parallel(n_jobs=8)]: Done 184 tasks      | elapsed:    0.9s\n",
      "[Parallel(n_jobs=8)]: Done 434 tasks      | elapsed:    2.1s\n",
      "[Parallel(n_jobs=8)]: Done 750 out of 750 | elapsed:    3.5s finished\n",
      "[Parallel(n_jobs=8)]: Using backend ThreadingBackend with 8 concurrent workers.\n",
      "[Parallel(n_jobs=8)]: Done  34 tasks      | elapsed:    3.4s\n",
      "[Parallel(n_jobs=8)]: Done 184 tasks      | elapsed:   16.0s\n",
      "[Parallel(n_jobs=8)]: Done 434 tasks      | elapsed:   38.3s\n",
      "[Parallel(n_jobs=8)]: Done 750 out of 750 | elapsed:  1.1min finished\n",
      "[Parallel(n_jobs=8)]: Using backend ThreadingBackend with 8 concurrent workers.\n",
      "[Parallel(n_jobs=8)]: Done  34 tasks      | elapsed:    0.1s\n",
      "[Parallel(n_jobs=8)]: Done 184 tasks      | elapsed:    0.9s\n",
      "[Parallel(n_jobs=8)]: Done 434 tasks      | elapsed:    2.1s\n",
      "[Parallel(n_jobs=8)]: Done 750 out of 750 | elapsed:    3.7s finished\n",
      "[Parallel(n_jobs=8)]: Using backend ThreadingBackend with 8 concurrent workers.\n",
      "[Parallel(n_jobs=8)]: Done  34 tasks      | elapsed:    1.5s\n",
      "[Parallel(n_jobs=8)]: Done 150 out of 150 | elapsed:    5.6s finished\n",
      "[Parallel(n_jobs=8)]: Using backend ThreadingBackend with 8 concurrent workers.\n",
      "[Parallel(n_jobs=8)]: Done  34 tasks      | elapsed:    0.1s\n",
      "[Parallel(n_jobs=8)]: Done 150 out of 150 | elapsed:    0.6s finished\n",
      "[Parallel(n_jobs=8)]: Using backend ThreadingBackend with 8 concurrent workers.\n",
      "[Parallel(n_jobs=8)]: Done  34 tasks      | elapsed:    1.5s\n",
      "[Parallel(n_jobs=8)]: Done 150 out of 150 | elapsed:    5.6s finished\n",
      "[Parallel(n_jobs=8)]: Using backend ThreadingBackend with 8 concurrent workers.\n",
      "[Parallel(n_jobs=8)]: Done  34 tasks      | elapsed:    0.1s\n",
      "[Parallel(n_jobs=8)]: Done 150 out of 150 | elapsed:    0.7s finished\n",
      "[Parallel(n_jobs=8)]: Using backend ThreadingBackend with 8 concurrent workers.\n",
      "[Parallel(n_jobs=8)]: Done  34 tasks      | elapsed:    1.5s\n",
      "[Parallel(n_jobs=8)]: Done 150 out of 150 | elapsed:    5.6s finished\n",
      "[Parallel(n_jobs=8)]: Using backend ThreadingBackend with 8 concurrent workers.\n",
      "[Parallel(n_jobs=8)]: Done  34 tasks      | elapsed:    0.1s\n",
      "[Parallel(n_jobs=8)]: Done 150 out of 150 | elapsed:    0.6s finished\n",
      "[Parallel(n_jobs=8)]: Using backend ThreadingBackend with 8 concurrent workers.\n",
      "[Parallel(n_jobs=8)]: Done  34 tasks      | elapsed:    1.2s\n",
      "[Parallel(n_jobs=8)]: Done 150 out of 150 | elapsed:    4.4s finished\n",
      "[Parallel(n_jobs=8)]: Using backend ThreadingBackend with 8 concurrent workers.\n",
      "[Parallel(n_jobs=8)]: Done  34 tasks      | elapsed:    0.0s\n",
      "[Parallel(n_jobs=8)]: Done 150 out of 150 | elapsed:    0.6s finished\n",
      "[Parallel(n_jobs=8)]: Using backend ThreadingBackend with 8 concurrent workers.\n",
      "[Parallel(n_jobs=8)]: Done  34 tasks      | elapsed:    1.1s\n",
      "[Parallel(n_jobs=8)]: Done 150 out of 150 | elapsed:    4.6s finished\n",
      "[Parallel(n_jobs=8)]: Using backend ThreadingBackend with 8 concurrent workers.\n",
      "[Parallel(n_jobs=8)]: Done  34 tasks      | elapsed:    0.1s\n",
      "[Parallel(n_jobs=8)]: Done 150 out of 150 | elapsed:    0.6s finished\n",
      "[Parallel(n_jobs=8)]: Using backend ThreadingBackend with 8 concurrent workers.\n",
      "[Parallel(n_jobs=8)]: Done  34 tasks      | elapsed:    1.5s\n",
      "[Parallel(n_jobs=8)]: Done 184 tasks      | elapsed:    7.1s\n",
      "[Parallel(n_jobs=8)]: Done 434 tasks      | elapsed:   16.4s\n",
      "[Parallel(n_jobs=8)]: Done 750 out of 750 | elapsed:   27.8s finished\n",
      "[Parallel(n_jobs=8)]: Using backend ThreadingBackend with 8 concurrent workers.\n",
      "[Parallel(n_jobs=8)]: Done  34 tasks      | elapsed:    0.1s\n",
      "[Parallel(n_jobs=8)]: Done 184 tasks      | elapsed:    0.8s\n",
      "[Parallel(n_jobs=8)]: Done 434 tasks      | elapsed:    1.9s\n",
      "[Parallel(n_jobs=8)]: Done 750 out of 750 | elapsed:    3.2s finished\n",
      "[Parallel(n_jobs=8)]: Using backend ThreadingBackend with 8 concurrent workers.\n",
      "[Parallel(n_jobs=8)]: Done  34 tasks      | elapsed:    1.5s\n",
      "[Parallel(n_jobs=8)]: Done 184 tasks      | elapsed:    6.7s\n",
      "[Parallel(n_jobs=8)]: Done 434 tasks      | elapsed:   16.0s\n",
      "[Parallel(n_jobs=8)]: Done 750 out of 750 | elapsed:   27.4s finished\n",
      "[Parallel(n_jobs=8)]: Using backend ThreadingBackend with 8 concurrent workers.\n",
      "[Parallel(n_jobs=8)]: Done  34 tasks      | elapsed:    0.1s\n",
      "[Parallel(n_jobs=8)]: Done 184 tasks      | elapsed:    0.7s\n",
      "[Parallel(n_jobs=8)]: Done 434 tasks      | elapsed:    1.8s\n",
      "[Parallel(n_jobs=8)]: Done 750 out of 750 | elapsed:    3.0s finished\n",
      "[Parallel(n_jobs=8)]: Using backend ThreadingBackend with 8 concurrent workers.\n",
      "[Parallel(n_jobs=8)]: Done  34 tasks      | elapsed:    1.5s\n",
      "[Parallel(n_jobs=8)]: Done 184 tasks      | elapsed:    7.0s\n",
      "[Parallel(n_jobs=8)]: Done 434 tasks      | elapsed:   16.4s\n",
      "[Parallel(n_jobs=8)]: Done 750 out of 750 | elapsed:   27.3s finished\n",
      "[Parallel(n_jobs=8)]: Using backend ThreadingBackend with 8 concurrent workers.\n",
      "[Parallel(n_jobs=8)]: Done  34 tasks      | elapsed:    0.1s\n",
      "[Parallel(n_jobs=8)]: Done 184 tasks      | elapsed:    0.8s\n",
      "[Parallel(n_jobs=8)]: Done 434 tasks      | elapsed:    1.8s\n",
      "[Parallel(n_jobs=8)]: Done 750 out of 750 | elapsed:    3.1s finished\n",
      "[Parallel(n_jobs=8)]: Using backend ThreadingBackend with 8 concurrent workers.\n",
      "[Parallel(n_jobs=8)]: Done  34 tasks      | elapsed:    1.5s\n",
      "[Parallel(n_jobs=8)]: Done 184 tasks      | elapsed:    6.9s\n",
      "[Parallel(n_jobs=8)]: Done 434 tasks      | elapsed:   16.1s\n",
      "[Parallel(n_jobs=8)]: Done 750 out of 750 | elapsed:   27.3s finished\n",
      "[Parallel(n_jobs=8)]: Using backend ThreadingBackend with 8 concurrent workers.\n",
      "[Parallel(n_jobs=8)]: Done  34 tasks      | elapsed:    0.1s\n",
      "[Parallel(n_jobs=8)]: Done 184 tasks      | elapsed:    0.7s\n",
      "[Parallel(n_jobs=8)]: Done 434 tasks      | elapsed:    1.8s\n",
      "[Parallel(n_jobs=8)]: Done 750 out of 750 | elapsed:    3.2s finished\n",
      "[Parallel(n_jobs=8)]: Using backend ThreadingBackend with 8 concurrent workers.\n",
      "[Parallel(n_jobs=8)]: Done  34 tasks      | elapsed:    1.5s\n",
      "[Parallel(n_jobs=8)]: Done 184 tasks      | elapsed:    7.0s\n",
      "[Parallel(n_jobs=8)]: Done 434 tasks      | elapsed:   16.1s\n",
      "[Parallel(n_jobs=8)]: Done 750 out of 750 | elapsed:   27.2s finished\n",
      "[Parallel(n_jobs=8)]: Using backend ThreadingBackend with 8 concurrent workers.\n",
      "[Parallel(n_jobs=8)]: Done  34 tasks      | elapsed:    0.1s\n",
      "[Parallel(n_jobs=8)]: Done 184 tasks      | elapsed:    0.8s\n",
      "[Parallel(n_jobs=8)]: Done 434 tasks      | elapsed:    1.8s\n",
      "[Parallel(n_jobs=8)]: Done 750 out of 750 | elapsed:    3.0s finished\n",
      "[Parallel(n_jobs=8)]: Using backend ThreadingBackend with 8 concurrent workers.\n",
      "[Parallel(n_jobs=8)]: Done  34 tasks      | elapsed:    3.5s\n",
      "[Parallel(n_jobs=8)]: Done 150 out of 150 | elapsed:   13.4s finished\n",
      "[Parallel(n_jobs=8)]: Using backend ThreadingBackend with 8 concurrent workers.\n",
      "[Parallel(n_jobs=8)]: Done  34 tasks      | elapsed:    0.1s\n",
      "[Parallel(n_jobs=8)]: Done 150 out of 150 | elapsed:    0.7s finished\n",
      "[Parallel(n_jobs=8)]: Using backend ThreadingBackend with 8 concurrent workers.\n",
      "[Parallel(n_jobs=8)]: Done  34 tasks      | elapsed:    3.6s\n",
      "[Parallel(n_jobs=8)]: Done 150 out of 150 | elapsed:   13.4s finished\n",
      "[Parallel(n_jobs=8)]: Using backend ThreadingBackend with 8 concurrent workers.\n",
      "[Parallel(n_jobs=8)]: Done  34 tasks      | elapsed:    0.1s\n",
      "[Parallel(n_jobs=8)]: Done 150 out of 150 | elapsed:    0.7s finished\n",
      "[Parallel(n_jobs=8)]: Using backend ThreadingBackend with 8 concurrent workers.\n",
      "[Parallel(n_jobs=8)]: Done  34 tasks      | elapsed:    3.4s\n",
      "[Parallel(n_jobs=8)]: Done 150 out of 150 | elapsed:   13.2s finished\n",
      "[Parallel(n_jobs=8)]: Using backend ThreadingBackend with 8 concurrent workers.\n",
      "[Parallel(n_jobs=8)]: Done  34 tasks      | elapsed:    0.1s\n",
      "[Parallel(n_jobs=8)]: Done 150 out of 150 | elapsed:    0.7s finished\n",
      "[Parallel(n_jobs=8)]: Using backend ThreadingBackend with 8 concurrent workers.\n",
      "[Parallel(n_jobs=8)]: Done  34 tasks      | elapsed:    2.9s\n",
      "[Parallel(n_jobs=8)]: Done 150 out of 150 | elapsed:   10.5s finished\n",
      "[Parallel(n_jobs=8)]: Using backend ThreadingBackend with 8 concurrent workers.\n",
      "[Parallel(n_jobs=8)]: Done  34 tasks      | elapsed:    0.0s\n",
      "[Parallel(n_jobs=8)]: Done 150 out of 150 | elapsed:    0.4s finished\n",
      "[Parallel(n_jobs=8)]: Using backend ThreadingBackend with 8 concurrent workers.\n",
      "[Parallel(n_jobs=8)]: Done  34 tasks      | elapsed:    3.5s\n",
      "[Parallel(n_jobs=8)]: Done 150 out of 150 | elapsed:   13.4s finished\n",
      "[Parallel(n_jobs=8)]: Using backend ThreadingBackend with 8 concurrent workers.\n",
      "[Parallel(n_jobs=8)]: Done  34 tasks      | elapsed:    0.1s\n",
      "[Parallel(n_jobs=8)]: Done 150 out of 150 | elapsed:    0.6s finished\n",
      "[Parallel(n_jobs=8)]: Using backend ThreadingBackend with 8 concurrent workers.\n",
      "[Parallel(n_jobs=8)]: Done  34 tasks      | elapsed:    3.4s\n",
      "[Parallel(n_jobs=8)]: Done 184 tasks      | elapsed:   16.5s\n",
      "[Parallel(n_jobs=8)]: Done 434 tasks      | elapsed:   38.3s\n",
      "[Parallel(n_jobs=8)]: Done 750 out of 750 | elapsed:  1.1min finished\n",
      "[Parallel(n_jobs=8)]: Using backend ThreadingBackend with 8 concurrent workers.\n",
      "[Parallel(n_jobs=8)]: Done  34 tasks      | elapsed:    0.2s\n",
      "[Parallel(n_jobs=8)]: Done 184 tasks      | elapsed:    1.1s\n",
      "[Parallel(n_jobs=8)]: Done 434 tasks      | elapsed:    2.7s\n",
      "[Parallel(n_jobs=8)]: Done 750 out of 750 | elapsed:    4.6s finished\n",
      "[Parallel(n_jobs=8)]: Using backend ThreadingBackend with 8 concurrent workers.\n",
      "[Parallel(n_jobs=8)]: Done  34 tasks      | elapsed:    3.6s\n",
      "[Parallel(n_jobs=8)]: Done 184 tasks      | elapsed:   16.4s\n",
      "[Parallel(n_jobs=8)]: Done 434 tasks      | elapsed:   38.6s\n",
      "[Parallel(n_jobs=8)]: Done 750 out of 750 | elapsed:  1.1min finished\n",
      "[Parallel(n_jobs=8)]: Using backend ThreadingBackend with 8 concurrent workers.\n",
      "[Parallel(n_jobs=8)]: Done  34 tasks      | elapsed:    0.2s\n",
      "[Parallel(n_jobs=8)]: Done 184 tasks      | elapsed:    1.1s\n",
      "[Parallel(n_jobs=8)]: Done 434 tasks      | elapsed:    2.6s\n",
      "[Parallel(n_jobs=8)]: Done 750 out of 750 | elapsed:    4.5s finished\n",
      "[Parallel(n_jobs=8)]: Using backend ThreadingBackend with 8 concurrent workers.\n",
      "[Parallel(n_jobs=8)]: Done  34 tasks      | elapsed:    3.5s\n",
      "[Parallel(n_jobs=8)]: Done 184 tasks      | elapsed:   16.2s\n",
      "[Parallel(n_jobs=8)]: Done 434 tasks      | elapsed:   38.1s\n",
      "[Parallel(n_jobs=8)]: Done 750 out of 750 | elapsed:  1.1min finished\n",
      "[Parallel(n_jobs=8)]: Using backend ThreadingBackend with 8 concurrent workers.\n",
      "[Parallel(n_jobs=8)]: Done  34 tasks      | elapsed:    0.2s\n",
      "[Parallel(n_jobs=8)]: Done 184 tasks      | elapsed:    1.1s\n",
      "[Parallel(n_jobs=8)]: Done 434 tasks      | elapsed:    2.6s\n",
      "[Parallel(n_jobs=8)]: Done 750 out of 750 | elapsed:    4.5s finished\n",
      "[Parallel(n_jobs=8)]: Using backend ThreadingBackend with 8 concurrent workers.\n",
      "[Parallel(n_jobs=8)]: Done  34 tasks      | elapsed:    3.4s\n",
      "[Parallel(n_jobs=8)]: Done 184 tasks      | elapsed:   16.3s\n",
      "[Parallel(n_jobs=8)]: Done 434 tasks      | elapsed:   38.5s\n",
      "[Parallel(n_jobs=8)]: Done 750 out of 750 | elapsed:  1.1min finished\n",
      "[Parallel(n_jobs=8)]: Using backend ThreadingBackend with 8 concurrent workers.\n",
      "[Parallel(n_jobs=8)]: Done  34 tasks      | elapsed:    0.2s\n",
      "[Parallel(n_jobs=8)]: Done 184 tasks      | elapsed:    1.1s\n",
      "[Parallel(n_jobs=8)]: Done 434 tasks      | elapsed:    2.7s\n",
      "[Parallel(n_jobs=8)]: Done 750 out of 750 | elapsed:    4.6s finished\n",
      "[Parallel(n_jobs=8)]: Using backend ThreadingBackend with 8 concurrent workers.\n",
      "[Parallel(n_jobs=8)]: Done  34 tasks      | elapsed:    2.5s\n",
      "[Parallel(n_jobs=8)]: Done 184 tasks      | elapsed:   13.3s\n",
      "[Parallel(n_jobs=8)]: Done 434 tasks      | elapsed:   34.8s\n",
      "[Parallel(n_jobs=8)]: Done 750 out of 750 | elapsed:  1.0min finished\n",
      "[Parallel(n_jobs=8)]: Using backend ThreadingBackend with 8 concurrent workers.\n",
      "[Parallel(n_jobs=8)]: Done  34 tasks      | elapsed:    0.2s\n",
      "[Parallel(n_jobs=8)]: Done 184 tasks      | elapsed:    1.3s\n",
      "[Parallel(n_jobs=8)]: Done 434 tasks      | elapsed:    2.7s\n",
      "[Parallel(n_jobs=8)]: Done 750 out of 750 | elapsed:    4.6s finished\n",
      "[Parallel(n_jobs=8)]: Using backend ThreadingBackend with 8 concurrent workers.\n",
      "[Parallel(n_jobs=8)]: Done  34 tasks      | elapsed:    5.2s\n",
      "[Parallel(n_jobs=8)]: Done 150 out of 150 | elapsed:   20.7s finished\n",
      "[Parallel(n_jobs=8)]: Using backend ThreadingBackend with 8 concurrent workers.\n",
      "[Parallel(n_jobs=8)]: Done  34 tasks      | elapsed:    0.1s\n",
      "[Parallel(n_jobs=8)]: Done 150 out of 150 | elapsed:    0.6s finished\n",
      "[Parallel(n_jobs=8)]: Using backend ThreadingBackend with 8 concurrent workers.\n",
      "[Parallel(n_jobs=8)]: Done  34 tasks      | elapsed:    5.3s\n",
      "[Parallel(n_jobs=8)]: Done 150 out of 150 | elapsed:   20.7s finished\n",
      "[Parallel(n_jobs=8)]: Using backend ThreadingBackend with 8 concurrent workers.\n",
      "[Parallel(n_jobs=8)]: Done  34 tasks      | elapsed:    0.1s\n",
      "[Parallel(n_jobs=8)]: Done 150 out of 150 | elapsed:    0.7s finished\n",
      "[Parallel(n_jobs=8)]: Using backend ThreadingBackend with 8 concurrent workers.\n",
      "[Parallel(n_jobs=8)]: Done  34 tasks      | elapsed:    5.4s\n",
      "[Parallel(n_jobs=8)]: Done 150 out of 150 | elapsed:   20.9s finished\n",
      "[Parallel(n_jobs=8)]: Using backend ThreadingBackend with 8 concurrent workers.\n",
      "[Parallel(n_jobs=8)]: Done  34 tasks      | elapsed:    0.1s\n",
      "[Parallel(n_jobs=8)]: Done 150 out of 150 | elapsed:    0.6s finished\n",
      "[Parallel(n_jobs=8)]: Using backend ThreadingBackend with 8 concurrent workers.\n",
      "[Parallel(n_jobs=8)]: Done  34 tasks      | elapsed:    5.2s\n",
      "[Parallel(n_jobs=8)]: Done 150 out of 150 | elapsed:   20.8s finished\n",
      "[Parallel(n_jobs=8)]: Using backend ThreadingBackend with 8 concurrent workers.\n",
      "[Parallel(n_jobs=8)]: Done  34 tasks      | elapsed:    0.1s\n",
      "[Parallel(n_jobs=8)]: Done 150 out of 150 | elapsed:    0.6s finished\n",
      "[Parallel(n_jobs=8)]: Using backend ThreadingBackend with 8 concurrent workers.\n",
      "[Parallel(n_jobs=8)]: Done  34 tasks      | elapsed:    5.3s\n",
      "[Parallel(n_jobs=8)]: Done 150 out of 150 | elapsed:   20.8s finished\n",
      "[Parallel(n_jobs=8)]: Using backend ThreadingBackend with 8 concurrent workers.\n",
      "[Parallel(n_jobs=8)]: Done  34 tasks      | elapsed:    0.1s\n",
      "[Parallel(n_jobs=8)]: Done 150 out of 150 | elapsed:    0.7s finished\n",
      "[Parallel(n_jobs=8)]: Using backend ThreadingBackend with 8 concurrent workers.\n",
      "[Parallel(n_jobs=8)]: Done  34 tasks      | elapsed:    5.0s\n",
      "[Parallel(n_jobs=8)]: Done 184 tasks      | elapsed:   21.5s\n",
      "[Parallel(n_jobs=8)]: Done 434 tasks      | elapsed:   56.2s\n",
      "[Parallel(n_jobs=8)]: Done 750 out of 750 | elapsed:  1.7min finished\n",
      "[Parallel(n_jobs=8)]: Using backend ThreadingBackend with 8 concurrent workers.\n",
      "[Parallel(n_jobs=8)]: Done  34 tasks      | elapsed:    0.1s\n",
      "[Parallel(n_jobs=8)]: Done 184 tasks      | elapsed:    1.1s\n",
      "[Parallel(n_jobs=8)]: Done 434 tasks      | elapsed:    2.4s\n",
      "[Parallel(n_jobs=8)]: Done 750 out of 750 | elapsed:    3.9s finished\n",
      "[Parallel(n_jobs=8)]: Using backend ThreadingBackend with 8 concurrent workers.\n",
      "[Parallel(n_jobs=8)]: Done  34 tasks      | elapsed:    5.3s\n",
      "[Parallel(n_jobs=8)]: Done 184 tasks      | elapsed:   25.7s\n",
      "[Parallel(n_jobs=8)]: Done 434 tasks      | elapsed:   59.9s\n",
      "[Parallel(n_jobs=8)]: Done 750 out of 750 | elapsed:  1.7min finished\n",
      "[Parallel(n_jobs=8)]: Using backend ThreadingBackend with 8 concurrent workers.\n",
      "[Parallel(n_jobs=8)]: Done  34 tasks      | elapsed:    0.1s\n",
      "[Parallel(n_jobs=8)]: Done 184 tasks      | elapsed:    0.9s\n",
      "[Parallel(n_jobs=8)]: Done 434 tasks      | elapsed:    2.1s\n",
      "[Parallel(n_jobs=8)]: Done 750 out of 750 | elapsed:    3.5s finished\n",
      "[Parallel(n_jobs=8)]: Using backend ThreadingBackend with 8 concurrent workers.\n",
      "[Parallel(n_jobs=8)]: Done  34 tasks      | elapsed:    4.5s\n",
      "[Parallel(n_jobs=8)]: Done 184 tasks      | elapsed:   22.1s\n",
      "[Parallel(n_jobs=8)]: Done 434 tasks      | elapsed:   56.4s\n",
      "[Parallel(n_jobs=8)]: Done 750 out of 750 | elapsed:  1.7min finished\n",
      "[Parallel(n_jobs=8)]: Using backend ThreadingBackend with 8 concurrent workers.\n",
      "[Parallel(n_jobs=8)]: Done  34 tasks      | elapsed:    0.1s\n",
      "[Parallel(n_jobs=8)]: Done 184 tasks      | elapsed:    1.0s\n",
      "[Parallel(n_jobs=8)]: Done 434 tasks      | elapsed:    2.2s\n",
      "[Parallel(n_jobs=8)]: Done 750 out of 750 | elapsed:    3.7s finished\n",
      "[Parallel(n_jobs=8)]: Using backend ThreadingBackend with 8 concurrent workers.\n",
      "[Parallel(n_jobs=8)]: Done  34 tasks      | elapsed:    5.5s\n",
      "[Parallel(n_jobs=8)]: Done 184 tasks      | elapsed:   26.5s\n",
      "[Parallel(n_jobs=8)]: Done 434 tasks      | elapsed:  1.0min\n",
      "[Parallel(n_jobs=8)]: Done 750 out of 750 | elapsed:  1.8min finished\n",
      "[Parallel(n_jobs=8)]: Using backend ThreadingBackend with 8 concurrent workers.\n",
      "[Parallel(n_jobs=8)]: Done  34 tasks      | elapsed:    0.1s\n",
      "[Parallel(n_jobs=8)]: Done 184 tasks      | elapsed:    1.0s\n",
      "[Parallel(n_jobs=8)]: Done 434 tasks      | elapsed:    2.3s\n",
      "[Parallel(n_jobs=8)]: Done 750 out of 750 | elapsed:    3.9s finished\n",
      "[Parallel(n_jobs=8)]: Using backend ThreadingBackend with 8 concurrent workers.\n",
      "[Parallel(n_jobs=8)]: Done  34 tasks      | elapsed:    5.4s\n",
      "[Parallel(n_jobs=8)]: Done 184 tasks      | elapsed:   25.8s\n",
      "[Parallel(n_jobs=8)]: Done 434 tasks      | elapsed:  1.0min\n",
      "[Parallel(n_jobs=8)]: Done 750 out of 750 | elapsed:  1.8min finished\n",
      "[Parallel(n_jobs=8)]: Using backend ThreadingBackend with 8 concurrent workers.\n",
      "[Parallel(n_jobs=8)]: Done  34 tasks      | elapsed:    0.1s\n",
      "[Parallel(n_jobs=8)]: Done 184 tasks      | elapsed:    0.8s\n",
      "[Parallel(n_jobs=8)]: Done 434 tasks      | elapsed:    2.2s\n",
      "[Parallel(n_jobs=8)]: Done 750 out of 750 | elapsed:    3.7s finished\n",
      "[Parallel(n_jobs=8)]: Using backend ThreadingBackend with 8 concurrent workers.\n",
      "[Parallel(n_jobs=8)]: Done  34 tasks      | elapsed:    2.0s\n",
      "[Parallel(n_jobs=8)]: Done 150 out of 150 | elapsed:    7.5s finished\n",
      "[Parallel(n_jobs=8)]: Using backend ThreadingBackend with 8 concurrent workers.\n",
      "[Parallel(n_jobs=8)]: Done  34 tasks      | elapsed:    0.1s\n",
      "[Parallel(n_jobs=8)]: Done 150 out of 150 | elapsed:    0.6s finished\n",
      "[Parallel(n_jobs=8)]: Using backend ThreadingBackend with 8 concurrent workers.\n",
      "[Parallel(n_jobs=8)]: Done  34 tasks      | elapsed:    1.4s\n",
      "[Parallel(n_jobs=8)]: Done 150 out of 150 | elapsed:    6.2s finished\n",
      "[Parallel(n_jobs=8)]: Using backend ThreadingBackend with 8 concurrent workers.\n",
      "[Parallel(n_jobs=8)]: Done  34 tasks      | elapsed:    0.0s\n",
      "[Parallel(n_jobs=8)]: Done 150 out of 150 | elapsed:    0.4s finished\n",
      "[Parallel(n_jobs=8)]: Using backend ThreadingBackend with 8 concurrent workers.\n",
      "[Parallel(n_jobs=8)]: Done  34 tasks      | elapsed:    1.5s\n",
      "[Parallel(n_jobs=8)]: Done 150 out of 150 | elapsed:    6.7s finished\n",
      "[Parallel(n_jobs=8)]: Using backend ThreadingBackend with 8 concurrent workers.\n",
      "[Parallel(n_jobs=8)]: Done  34 tasks      | elapsed:    0.1s\n",
      "[Parallel(n_jobs=8)]: Done 150 out of 150 | elapsed:    0.6s finished\n",
      "[Parallel(n_jobs=8)]: Using backend ThreadingBackend with 8 concurrent workers.\n",
      "[Parallel(n_jobs=8)]: Done  34 tasks      | elapsed:    2.0s\n",
      "[Parallel(n_jobs=8)]: Done 150 out of 150 | elapsed:    7.5s finished\n",
      "[Parallel(n_jobs=8)]: Using backend ThreadingBackend with 8 concurrent workers.\n",
      "[Parallel(n_jobs=8)]: Done  34 tasks      | elapsed:    0.2s\n",
      "[Parallel(n_jobs=8)]: Done 150 out of 150 | elapsed:    0.7s finished\n",
      "[Parallel(n_jobs=8)]: Using backend ThreadingBackend with 8 concurrent workers.\n",
      "[Parallel(n_jobs=8)]: Done  34 tasks      | elapsed:    2.2s\n",
      "[Parallel(n_jobs=8)]: Done 150 out of 150 | elapsed:    7.9s finished\n",
      "[Parallel(n_jobs=8)]: Using backend ThreadingBackend with 8 concurrent workers.\n",
      "[Parallel(n_jobs=8)]: Done  34 tasks      | elapsed:    0.1s\n",
      "[Parallel(n_jobs=8)]: Done 150 out of 150 | elapsed:    0.6s finished\n",
      "[Parallel(n_jobs=8)]: Using backend ThreadingBackend with 8 concurrent workers.\n",
      "[Parallel(n_jobs=8)]: Done  34 tasks      | elapsed:    2.0s\n",
      "[Parallel(n_jobs=8)]: Done 184 tasks      | elapsed:    9.4s\n",
      "[Parallel(n_jobs=8)]: Done 434 tasks      | elapsed:   21.5s\n",
      "[Parallel(n_jobs=8)]: Done 750 out of 750 | elapsed:   36.8s finished\n",
      "[Parallel(n_jobs=8)]: Using backend ThreadingBackend with 8 concurrent workers.\n",
      "[Parallel(n_jobs=8)]: Done  34 tasks      | elapsed:    0.1s\n",
      "[Parallel(n_jobs=8)]: Done 184 tasks      | elapsed:    0.8s\n",
      "[Parallel(n_jobs=8)]: Done 434 tasks      | elapsed:    1.9s\n",
      "[Parallel(n_jobs=8)]: Done 750 out of 750 | elapsed:    3.2s finished\n",
      "[Parallel(n_jobs=8)]: Using backend ThreadingBackend with 8 concurrent workers.\n",
      "[Parallel(n_jobs=8)]: Done  34 tasks      | elapsed:    1.8s\n",
      "[Parallel(n_jobs=8)]: Done 184 tasks      | elapsed:    9.2s\n",
      "[Parallel(n_jobs=8)]: Done 434 tasks      | elapsed:   21.6s\n",
      "[Parallel(n_jobs=8)]: Done 750 out of 750 | elapsed:   36.7s finished\n",
      "[Parallel(n_jobs=8)]: Using backend ThreadingBackend with 8 concurrent workers.\n",
      "[Parallel(n_jobs=8)]: Done  34 tasks      | elapsed:    0.1s\n",
      "[Parallel(n_jobs=8)]: Done 184 tasks      | elapsed:    0.7s\n",
      "[Parallel(n_jobs=8)]: Done 434 tasks      | elapsed:    1.9s\n",
      "[Parallel(n_jobs=8)]: Done 750 out of 750 | elapsed:    3.2s finished\n",
      "[Parallel(n_jobs=8)]: Using backend ThreadingBackend with 8 concurrent workers.\n",
      "[Parallel(n_jobs=8)]: Done  34 tasks      | elapsed:    1.9s\n",
      "[Parallel(n_jobs=8)]: Done 184 tasks      | elapsed:    9.3s\n",
      "[Parallel(n_jobs=8)]: Done 434 tasks      | elapsed:   21.9s\n",
      "[Parallel(n_jobs=8)]: Done 750 out of 750 | elapsed:   37.1s finished\n",
      "[Parallel(n_jobs=8)]: Using backend ThreadingBackend with 8 concurrent workers.\n",
      "[Parallel(n_jobs=8)]: Done  34 tasks      | elapsed:    0.1s\n",
      "[Parallel(n_jobs=8)]: Done 184 tasks      | elapsed:    0.8s\n",
      "[Parallel(n_jobs=8)]: Done 434 tasks      | elapsed:    2.0s\n",
      "[Parallel(n_jobs=8)]: Done 750 out of 750 | elapsed:    3.4s finished\n",
      "[Parallel(n_jobs=8)]: Using backend ThreadingBackend with 8 concurrent workers.\n",
      "[Parallel(n_jobs=8)]: Done  34 tasks      | elapsed:    2.0s\n",
      "[Parallel(n_jobs=8)]: Done 184 tasks      | elapsed:    9.3s\n",
      "[Parallel(n_jobs=8)]: Done 434 tasks      | elapsed:   21.4s\n",
      "[Parallel(n_jobs=8)]: Done 750 out of 750 | elapsed:   36.9s finished\n",
      "[Parallel(n_jobs=8)]: Using backend ThreadingBackend with 8 concurrent workers.\n",
      "[Parallel(n_jobs=8)]: Done  34 tasks      | elapsed:    0.1s\n",
      "[Parallel(n_jobs=8)]: Done 184 tasks      | elapsed:    0.8s\n",
      "[Parallel(n_jobs=8)]: Done 434 tasks      | elapsed:    1.9s\n",
      "[Parallel(n_jobs=8)]: Done 750 out of 750 | elapsed:    3.2s finished\n",
      "[Parallel(n_jobs=8)]: Using backend ThreadingBackend with 8 concurrent workers.\n",
      "[Parallel(n_jobs=8)]: Done  34 tasks      | elapsed:    1.5s\n",
      "[Parallel(n_jobs=8)]: Done 184 tasks      | elapsed:    7.4s\n",
      "[Parallel(n_jobs=8)]: Done 434 tasks      | elapsed:   19.2s\n",
      "[Parallel(n_jobs=8)]: Done 750 out of 750 | elapsed:   34.8s finished\n",
      "[Parallel(n_jobs=8)]: Using backend ThreadingBackend with 8 concurrent workers.\n",
      "[Parallel(n_jobs=8)]: Done  34 tasks      | elapsed:    0.1s\n",
      "[Parallel(n_jobs=8)]: Done 184 tasks      | elapsed:    0.8s\n",
      "[Parallel(n_jobs=8)]: Done 434 tasks      | elapsed:    1.9s\n",
      "[Parallel(n_jobs=8)]: Done 750 out of 750 | elapsed:    3.2s finished\n",
      "[Parallel(n_jobs=8)]: Using backend ThreadingBackend with 8 concurrent workers.\n",
      "[Parallel(n_jobs=8)]: Done  34 tasks      | elapsed:    5.0s\n",
      "[Parallel(n_jobs=8)]: Done 150 out of 150 | elapsed:   19.4s finished\n",
      "[Parallel(n_jobs=8)]: Using backend ThreadingBackend with 8 concurrent workers.\n",
      "[Parallel(n_jobs=8)]: Done  34 tasks      | elapsed:    0.2s\n",
      "[Parallel(n_jobs=8)]: Done 150 out of 150 | elapsed:    0.8s finished\n",
      "[Parallel(n_jobs=8)]: Using backend ThreadingBackend with 8 concurrent workers.\n",
      "[Parallel(n_jobs=8)]: Done  34 tasks      | elapsed:    5.3s\n",
      "[Parallel(n_jobs=8)]: Done 150 out of 150 | elapsed:   20.3s finished\n",
      "[Parallel(n_jobs=8)]: Using backend ThreadingBackend with 8 concurrent workers.\n",
      "[Parallel(n_jobs=8)]: Done  34 tasks      | elapsed:    0.1s\n",
      "[Parallel(n_jobs=8)]: Done 150 out of 150 | elapsed:    0.7s finished\n",
      "[Parallel(n_jobs=8)]: Using backend ThreadingBackend with 8 concurrent workers.\n",
      "[Parallel(n_jobs=8)]: Done  34 tasks      | elapsed:    5.2s\n",
      "[Parallel(n_jobs=8)]: Done 150 out of 150 | elapsed:   20.2s finished\n",
      "[Parallel(n_jobs=8)]: Using backend ThreadingBackend with 8 concurrent workers.\n",
      "[Parallel(n_jobs=8)]: Done  34 tasks      | elapsed:    0.1s\n",
      "[Parallel(n_jobs=8)]: Done 150 out of 150 | elapsed:    0.8s finished\n",
      "[Parallel(n_jobs=8)]: Using backend ThreadingBackend with 8 concurrent workers.\n",
      "[Parallel(n_jobs=8)]: Done  34 tasks      | elapsed:    5.1s\n",
      "[Parallel(n_jobs=8)]: Done 150 out of 150 | elapsed:   19.7s finished\n",
      "[Parallel(n_jobs=8)]: Using backend ThreadingBackend with 8 concurrent workers.\n",
      "[Parallel(n_jobs=8)]: Done  34 tasks      | elapsed:    0.1s\n",
      "[Parallel(n_jobs=8)]: Done 150 out of 150 | elapsed:    0.7s finished\n",
      "[Parallel(n_jobs=8)]: Using backend ThreadingBackend with 8 concurrent workers.\n",
      "[Parallel(n_jobs=8)]: Done  34 tasks      | elapsed:    5.3s\n",
      "[Parallel(n_jobs=8)]: Done 150 out of 150 | elapsed:   20.1s finished\n",
      "[Parallel(n_jobs=8)]: Using backend ThreadingBackend with 8 concurrent workers.\n",
      "[Parallel(n_jobs=8)]: Done  34 tasks      | elapsed:    0.1s\n",
      "[Parallel(n_jobs=8)]: Done 150 out of 150 | elapsed:    0.7s finished\n",
      "[Parallel(n_jobs=8)]: Using backend ThreadingBackend with 8 concurrent workers.\n",
      "[Parallel(n_jobs=8)]: Done  34 tasks      | elapsed:    8.7s\n",
      "[Parallel(n_jobs=8)]: Done 184 tasks      | elapsed:   26.3s\n",
      "[Parallel(n_jobs=8)]: Done 434 tasks      | elapsed:   59.0s\n",
      "[Parallel(n_jobs=8)]: Done 750 out of 750 | elapsed:  1.7min finished\n",
      "[Parallel(n_jobs=8)]: Using backend ThreadingBackend with 8 concurrent workers.\n",
      "[Parallel(n_jobs=8)]: Done  34 tasks      | elapsed:    0.2s\n",
      "[Parallel(n_jobs=8)]: Done 184 tasks      | elapsed:    1.2s\n",
      "[Parallel(n_jobs=8)]: Done 434 tasks      | elapsed:    2.8s\n",
      "[Parallel(n_jobs=8)]: Done 750 out of 750 | elapsed:    4.8s finished\n",
      "[Parallel(n_jobs=8)]: Using backend ThreadingBackend with 8 concurrent workers.\n",
      "[Parallel(n_jobs=8)]: Done  34 tasks      | elapsed:    5.3s\n",
      "[Parallel(n_jobs=8)]: Done 184 tasks      | elapsed:   24.9s\n",
      "[Parallel(n_jobs=8)]: Done 434 tasks      | elapsed:   58.1s\n",
      "[Parallel(n_jobs=8)]: Done 750 out of 750 | elapsed:  1.7min finished\n",
      "[Parallel(n_jobs=8)]: Using backend ThreadingBackend with 8 concurrent workers.\n",
      "[Parallel(n_jobs=8)]: Done  34 tasks      | elapsed:    0.2s\n",
      "[Parallel(n_jobs=8)]: Done 184 tasks      | elapsed:    1.2s\n",
      "[Parallel(n_jobs=8)]: Done 434 tasks      | elapsed:    2.9s\n",
      "[Parallel(n_jobs=8)]: Done 750 out of 750 | elapsed:    4.9s finished\n",
      "[Parallel(n_jobs=8)]: Using backend ThreadingBackend with 8 concurrent workers.\n",
      "[Parallel(n_jobs=8)]: Done  34 tasks      | elapsed:    3.6s\n",
      "[Parallel(n_jobs=8)]: Done 184 tasks      | elapsed:   21.1s\n",
      "[Parallel(n_jobs=8)]: Done 434 tasks      | elapsed:   54.8s\n",
      "[Parallel(n_jobs=8)]: Done 750 out of 750 | elapsed:  1.6min finished\n",
      "[Parallel(n_jobs=8)]: Using backend ThreadingBackend with 8 concurrent workers.\n",
      "[Parallel(n_jobs=8)]: Done  34 tasks      | elapsed:    0.2s\n",
      "[Parallel(n_jobs=8)]: Done 184 tasks      | elapsed:    1.2s\n",
      "[Parallel(n_jobs=8)]: Done 434 tasks      | elapsed:    2.8s\n",
      "[Parallel(n_jobs=8)]: Done 750 out of 750 | elapsed:    4.8s finished\n",
      "[Parallel(n_jobs=8)]: Using backend ThreadingBackend with 8 concurrent workers.\n",
      "[Parallel(n_jobs=8)]: Done  34 tasks      | elapsed:    5.0s\n",
      "[Parallel(n_jobs=8)]: Done 184 tasks      | elapsed:   24.5s\n",
      "[Parallel(n_jobs=8)]: Done 434 tasks      | elapsed:   57.6s\n",
      "[Parallel(n_jobs=8)]: Done 750 out of 750 | elapsed:  1.7min finished\n",
      "[Parallel(n_jobs=8)]: Using backend ThreadingBackend with 8 concurrent workers.\n",
      "[Parallel(n_jobs=8)]: Done  34 tasks      | elapsed:    0.2s\n",
      "[Parallel(n_jobs=8)]: Done 184 tasks      | elapsed:    1.2s\n",
      "[Parallel(n_jobs=8)]: Done 434 tasks      | elapsed:    2.7s\n",
      "[Parallel(n_jobs=8)]: Done 750 out of 750 | elapsed:    4.7s finished\n",
      "[Parallel(n_jobs=8)]: Using backend ThreadingBackend with 8 concurrent workers.\n",
      "[Parallel(n_jobs=8)]: Done  34 tasks      | elapsed:    4.0s\n",
      "[Parallel(n_jobs=8)]: Done 184 tasks      | elapsed:   22.1s\n",
      "[Parallel(n_jobs=8)]: Done 434 tasks      | elapsed:   55.2s\n",
      "[Parallel(n_jobs=8)]: Done 750 out of 750 | elapsed:  1.6min finished\n",
      "[Parallel(n_jobs=8)]: Using backend ThreadingBackend with 8 concurrent workers.\n",
      "[Parallel(n_jobs=8)]: Done  34 tasks      | elapsed:    0.2s\n",
      "[Parallel(n_jobs=8)]: Done 184 tasks      | elapsed:    1.3s\n",
      "[Parallel(n_jobs=8)]: Done 434 tasks      | elapsed:    2.9s\n",
      "[Parallel(n_jobs=8)]: Done 750 out of 750 | elapsed:    4.9s finished\n",
      "[Parallel(n_jobs=8)]: Using backend ThreadingBackend with 8 concurrent workers.\n",
      "[Parallel(n_jobs=8)]: Done  34 tasks      | elapsed:    8.5s\n",
      "[Parallel(n_jobs=8)]: Done 150 out of 150 | elapsed:   32.2s finished\n",
      "[Parallel(n_jobs=8)]: Using backend ThreadingBackend with 8 concurrent workers.\n",
      "[Parallel(n_jobs=8)]: Done  34 tasks      | elapsed:    0.1s\n",
      "[Parallel(n_jobs=8)]: Done 150 out of 150 | elapsed:    0.6s finished\n",
      "[Parallel(n_jobs=8)]: Using backend ThreadingBackend with 8 concurrent workers.\n",
      "[Parallel(n_jobs=8)]: Done  34 tasks      | elapsed:    8.1s\n",
      "[Parallel(n_jobs=8)]: Done 150 out of 150 | elapsed:   32.4s finished\n",
      "[Parallel(n_jobs=8)]: Using backend ThreadingBackend with 8 concurrent workers.\n",
      "[Parallel(n_jobs=8)]: Done  34 tasks      | elapsed:    0.1s\n",
      "[Parallel(n_jobs=8)]: Done 150 out of 150 | elapsed:    0.7s finished\n",
      "[Parallel(n_jobs=8)]: Using backend ThreadingBackend with 8 concurrent workers.\n",
      "[Parallel(n_jobs=8)]: Done  34 tasks      | elapsed:    8.5s\n",
      "[Parallel(n_jobs=8)]: Done 150 out of 150 | elapsed:   32.5s finished\n",
      "[Parallel(n_jobs=8)]: Using backend ThreadingBackend with 8 concurrent workers.\n",
      "[Parallel(n_jobs=8)]: Done  34 tasks      | elapsed:    0.1s\n",
      "[Parallel(n_jobs=8)]: Done 150 out of 150 | elapsed:    0.6s finished\n",
      "[Parallel(n_jobs=8)]: Using backend ThreadingBackend with 8 concurrent workers.\n",
      "[Parallel(n_jobs=8)]: Done  34 tasks      | elapsed:    6.4s\n",
      "[Parallel(n_jobs=8)]: Done 150 out of 150 | elapsed:   29.5s finished\n",
      "[Parallel(n_jobs=8)]: Using backend ThreadingBackend with 8 concurrent workers.\n",
      "[Parallel(n_jobs=8)]: Done  34 tasks      | elapsed:    0.1s\n",
      "[Parallel(n_jobs=8)]: Done 150 out of 150 | elapsed:    0.6s finished\n",
      "[Parallel(n_jobs=8)]: Using backend ThreadingBackend with 8 concurrent workers.\n",
      "[Parallel(n_jobs=8)]: Done  34 tasks      | elapsed:    8.7s\n",
      "[Parallel(n_jobs=8)]: Done 150 out of 150 | elapsed:   32.7s finished\n",
      "[Parallel(n_jobs=8)]: Using backend ThreadingBackend with 8 concurrent workers.\n",
      "[Parallel(n_jobs=8)]: Done  34 tasks      | elapsed:    0.1s\n",
      "[Parallel(n_jobs=8)]: Done 150 out of 150 | elapsed:    0.6s finished\n",
      "[Parallel(n_jobs=8)]: Using backend ThreadingBackend with 8 concurrent workers.\n",
      "[Parallel(n_jobs=8)]: Done  34 tasks      | elapsed:    8.6s\n",
      "[Parallel(n_jobs=8)]: Done 184 tasks      | elapsed:   41.0s\n",
      "[Parallel(n_jobs=8)]: Done 434 tasks      | elapsed:  1.6min\n",
      "[Parallel(n_jobs=8)]: Done 750 out of 750 | elapsed:  2.8min finished\n",
      "[Parallel(n_jobs=8)]: Using backend ThreadingBackend with 8 concurrent workers.\n",
      "[Parallel(n_jobs=8)]: Done  34 tasks      | elapsed:    0.1s\n",
      "[Parallel(n_jobs=8)]: Done 184 tasks      | elapsed:    0.9s\n",
      "[Parallel(n_jobs=8)]: Done 434 tasks      | elapsed:    2.1s\n",
      "[Parallel(n_jobs=8)]: Done 750 out of 750 | elapsed:    3.6s finished\n",
      "[Parallel(n_jobs=8)]: Using backend ThreadingBackend with 8 concurrent workers.\n",
      "[Parallel(n_jobs=8)]: Done  34 tasks      | elapsed:    6.4s\n",
      "[Parallel(n_jobs=8)]: Done 184 tasks      | elapsed:   37.2s\n",
      "[Parallel(n_jobs=8)]: Done 434 tasks      | elapsed:  1.5min\n",
      "[Parallel(n_jobs=8)]: Done 750 out of 750 | elapsed:  2.7min finished\n",
      "[Parallel(n_jobs=8)]: Using backend ThreadingBackend with 8 concurrent workers.\n",
      "[Parallel(n_jobs=8)]: Done  34 tasks      | elapsed:    0.1s\n",
      "[Parallel(n_jobs=8)]: Done 184 tasks      | elapsed:    0.9s\n",
      "[Parallel(n_jobs=8)]: Done 434 tasks      | elapsed:    2.1s\n",
      "[Parallel(n_jobs=8)]: Done 750 out of 750 | elapsed:    3.6s finished\n",
      "[Parallel(n_jobs=8)]: Using backend ThreadingBackend with 8 concurrent workers.\n",
      "[Parallel(n_jobs=8)]: Done  34 tasks      | elapsed:    8.7s\n",
      "[Parallel(n_jobs=8)]: Done 184 tasks      | elapsed:   40.6s\n",
      "[Parallel(n_jobs=8)]: Done 434 tasks      | elapsed:  1.5min\n",
      "[Parallel(n_jobs=8)]: Done 750 out of 750 | elapsed:  2.7min finished\n",
      "[Parallel(n_jobs=8)]: Using backend ThreadingBackend with 8 concurrent workers.\n",
      "[Parallel(n_jobs=8)]: Done  34 tasks      | elapsed:    0.1s\n",
      "[Parallel(n_jobs=8)]: Done 184 tasks      | elapsed:    1.0s\n",
      "[Parallel(n_jobs=8)]: Done 434 tasks      | elapsed:    2.3s\n",
      "[Parallel(n_jobs=8)]: Done 750 out of 750 | elapsed:    4.0s finished\n",
      "[Parallel(n_jobs=8)]: Using backend ThreadingBackend with 8 concurrent workers.\n",
      "[Parallel(n_jobs=8)]: Done  34 tasks      | elapsed:    8.4s\n",
      "[Parallel(n_jobs=8)]: Done 184 tasks      | elapsed:   40.4s\n",
      "[Parallel(n_jobs=8)]: Done 434 tasks      | elapsed:  1.6min\n",
      "[Parallel(n_jobs=8)]: Done 750 out of 750 | elapsed:  2.7min finished\n",
      "[Parallel(n_jobs=8)]: Using backend ThreadingBackend with 8 concurrent workers.\n",
      "[Parallel(n_jobs=8)]: Done  34 tasks      | elapsed:    0.1s\n",
      "[Parallel(n_jobs=8)]: Done 184 tasks      | elapsed:    1.1s\n",
      "[Parallel(n_jobs=8)]: Done 434 tasks      | elapsed:    2.2s\n",
      "[Parallel(n_jobs=8)]: Done 750 out of 750 | elapsed:    3.5s finished\n",
      "[Parallel(n_jobs=8)]: Using backend ThreadingBackend with 8 concurrent workers.\n",
      "[Parallel(n_jobs=8)]: Done  34 tasks      | elapsed:    7.0s\n",
      "[Parallel(n_jobs=8)]: Done 184 tasks      | elapsed:   39.8s\n",
      "[Parallel(n_jobs=8)]: Done 434 tasks      | elapsed:  1.6min\n",
      "[Parallel(n_jobs=8)]: Done 750 out of 750 | elapsed:  2.7min finished\n",
      "[Parallel(n_jobs=8)]: Using backend ThreadingBackend with 8 concurrent workers.\n",
      "[Parallel(n_jobs=8)]: Done  34 tasks      | elapsed:    0.1s\n",
      "[Parallel(n_jobs=8)]: Done 184 tasks      | elapsed:    0.9s\n",
      "[Parallel(n_jobs=8)]: Done 434 tasks      | elapsed:    2.1s\n",
      "[Parallel(n_jobs=8)]: Done 750 out of 750 | elapsed:    3.5s finished\n",
      "[Parallel(n_jobs=8)]: Using backend ThreadingBackend with 8 concurrent workers.\n",
      "[Parallel(n_jobs=8)]: Done  34 tasks      | elapsed:    3.0s\n",
      "[Parallel(n_jobs=8)]: Done 184 tasks      | elapsed:   17.2s\n",
      "[Parallel(n_jobs=8)]: Done 434 tasks      | elapsed:   44.8s\n",
      "[Parallel(n_jobs=8)]: Done 750 out of 750 | elapsed:  1.4min finished\n"
     ]
    },
    {
     "data": {
      "text/plain": "GridSearchCV(estimator=Pipeline(steps=[('robustscaler', RobustScaler()),\n                                       ('pca', PCA()),\n                                       ('randomforestclassifier',\n                                        RandomForestClassifier(n_jobs=8,\n                                                               random_state=0,\n                                                               verbose=1))]),\n             param_grid=[{'pca__n_components': [0.5, 0.7, 0.85],\n                          'randomforestclassifier__max_depth': [3, 10, None],\n                          'randomforestclassifier__n_estimators': [150, 750]}])",
      "text/html": "<style>#sk-container-id-2 {color: black;}#sk-container-id-2 pre{padding: 0;}#sk-container-id-2 div.sk-toggleable {background-color: white;}#sk-container-id-2 label.sk-toggleable__label {cursor: pointer;display: block;width: 100%;margin-bottom: 0;padding: 0.3em;box-sizing: border-box;text-align: center;}#sk-container-id-2 label.sk-toggleable__label-arrow:before {content: \"▸\";float: left;margin-right: 0.25em;color: #696969;}#sk-container-id-2 label.sk-toggleable__label-arrow:hover:before {color: black;}#sk-container-id-2 div.sk-estimator:hover label.sk-toggleable__label-arrow:before {color: black;}#sk-container-id-2 div.sk-toggleable__content {max-height: 0;max-width: 0;overflow: hidden;text-align: left;background-color: #f0f8ff;}#sk-container-id-2 div.sk-toggleable__content pre {margin: 0.2em;color: black;border-radius: 0.25em;background-color: #f0f8ff;}#sk-container-id-2 input.sk-toggleable__control:checked~div.sk-toggleable__content {max-height: 200px;max-width: 100%;overflow: auto;}#sk-container-id-2 input.sk-toggleable__control:checked~label.sk-toggleable__label-arrow:before {content: \"▾\";}#sk-container-id-2 div.sk-estimator input.sk-toggleable__control:checked~label.sk-toggleable__label {background-color: #d4ebff;}#sk-container-id-2 div.sk-label input.sk-toggleable__control:checked~label.sk-toggleable__label {background-color: #d4ebff;}#sk-container-id-2 input.sk-hidden--visually {border: 0;clip: rect(1px 1px 1px 1px);clip: rect(1px, 1px, 1px, 1px);height: 1px;margin: -1px;overflow: hidden;padding: 0;position: absolute;width: 1px;}#sk-container-id-2 div.sk-estimator {font-family: monospace;background-color: #f0f8ff;border: 1px dotted black;border-radius: 0.25em;box-sizing: border-box;margin-bottom: 0.5em;}#sk-container-id-2 div.sk-estimator:hover {background-color: #d4ebff;}#sk-container-id-2 div.sk-parallel-item::after {content: \"\";width: 100%;border-bottom: 1px solid gray;flex-grow: 1;}#sk-container-id-2 div.sk-label:hover label.sk-toggleable__label {background-color: #d4ebff;}#sk-container-id-2 div.sk-serial::before {content: \"\";position: absolute;border-left: 1px solid gray;box-sizing: border-box;top: 0;bottom: 0;left: 50%;z-index: 0;}#sk-container-id-2 div.sk-serial {display: flex;flex-direction: column;align-items: center;background-color: white;padding-right: 0.2em;padding-left: 0.2em;position: relative;}#sk-container-id-2 div.sk-item {position: relative;z-index: 1;}#sk-container-id-2 div.sk-parallel {display: flex;align-items: stretch;justify-content: center;background-color: white;position: relative;}#sk-container-id-2 div.sk-item::before, #sk-container-id-2 div.sk-parallel-item::before {content: \"\";position: absolute;border-left: 1px solid gray;box-sizing: border-box;top: 0;bottom: 0;left: 50%;z-index: -1;}#sk-container-id-2 div.sk-parallel-item {display: flex;flex-direction: column;z-index: 1;position: relative;background-color: white;}#sk-container-id-2 div.sk-parallel-item:first-child::after {align-self: flex-end;width: 50%;}#sk-container-id-2 div.sk-parallel-item:last-child::after {align-self: flex-start;width: 50%;}#sk-container-id-2 div.sk-parallel-item:only-child::after {width: 0;}#sk-container-id-2 div.sk-dashed-wrapped {border: 1px dashed gray;margin: 0 0.4em 0.5em 0.4em;box-sizing: border-box;padding-bottom: 0.4em;background-color: white;}#sk-container-id-2 div.sk-label label {font-family: monospace;font-weight: bold;display: inline-block;line-height: 1.2em;}#sk-container-id-2 div.sk-label-container {text-align: center;}#sk-container-id-2 div.sk-container {/* jupyter's `normalize.less` sets `[hidden] { display: none; }` but bootstrap.min.css set `[hidden] { display: none !important; }` so we also need the `!important` here to be able to override the default hidden behavior on the sphinx rendered scikit-learn.org. See: https://github.com/scikit-learn/scikit-learn/issues/21755 */display: inline-block !important;position: relative;}#sk-container-id-2 div.sk-text-repr-fallback {display: none;}</style><div id=\"sk-container-id-2\" class=\"sk-top-container\"><div class=\"sk-text-repr-fallback\"><pre>GridSearchCV(estimator=Pipeline(steps=[(&#x27;robustscaler&#x27;, RobustScaler()),\n                                       (&#x27;pca&#x27;, PCA()),\n                                       (&#x27;randomforestclassifier&#x27;,\n                                        RandomForestClassifier(n_jobs=8,\n                                                               random_state=0,\n                                                               verbose=1))]),\n             param_grid=[{&#x27;pca__n_components&#x27;: [0.5, 0.7, 0.85],\n                          &#x27;randomforestclassifier__max_depth&#x27;: [3, 10, None],\n                          &#x27;randomforestclassifier__n_estimators&#x27;: [150, 750]}])</pre><b>In a Jupyter environment, please rerun this cell to show the HTML representation or trust the notebook. <br />On GitHub, the HTML representation is unable to render, please try loading this page with nbviewer.org.</b></div><div class=\"sk-container\" hidden><div class=\"sk-item sk-dashed-wrapped\"><div class=\"sk-label-container\"><div class=\"sk-label sk-toggleable\"><input class=\"sk-toggleable__control sk-hidden--visually\" id=\"sk-estimator-id-5\" type=\"checkbox\" ><label for=\"sk-estimator-id-5\" class=\"sk-toggleable__label sk-toggleable__label-arrow\">GridSearchCV</label><div class=\"sk-toggleable__content\"><pre>GridSearchCV(estimator=Pipeline(steps=[(&#x27;robustscaler&#x27;, RobustScaler()),\n                                       (&#x27;pca&#x27;, PCA()),\n                                       (&#x27;randomforestclassifier&#x27;,\n                                        RandomForestClassifier(n_jobs=8,\n                                                               random_state=0,\n                                                               verbose=1))]),\n             param_grid=[{&#x27;pca__n_components&#x27;: [0.5, 0.7, 0.85],\n                          &#x27;randomforestclassifier__max_depth&#x27;: [3, 10, None],\n                          &#x27;randomforestclassifier__n_estimators&#x27;: [150, 750]}])</pre></div></div></div><div class=\"sk-parallel\"><div class=\"sk-parallel-item\"><div class=\"sk-item\"><div class=\"sk-label-container\"><div class=\"sk-label sk-toggleable\"><input class=\"sk-toggleable__control sk-hidden--visually\" id=\"sk-estimator-id-6\" type=\"checkbox\" ><label for=\"sk-estimator-id-6\" class=\"sk-toggleable__label sk-toggleable__label-arrow\">estimator: Pipeline</label><div class=\"sk-toggleable__content\"><pre>Pipeline(steps=[(&#x27;robustscaler&#x27;, RobustScaler()), (&#x27;pca&#x27;, PCA()),\n                (&#x27;randomforestclassifier&#x27;,\n                 RandomForestClassifier(n_jobs=8, random_state=0, verbose=1))])</pre></div></div></div><div class=\"sk-serial\"><div class=\"sk-item\"><div class=\"sk-serial\"><div class=\"sk-item\"><div class=\"sk-estimator sk-toggleable\"><input class=\"sk-toggleable__control sk-hidden--visually\" id=\"sk-estimator-id-7\" type=\"checkbox\" ><label for=\"sk-estimator-id-7\" class=\"sk-toggleable__label sk-toggleable__label-arrow\">RobustScaler</label><div class=\"sk-toggleable__content\"><pre>RobustScaler()</pre></div></div></div><div class=\"sk-item\"><div class=\"sk-estimator sk-toggleable\"><input class=\"sk-toggleable__control sk-hidden--visually\" id=\"sk-estimator-id-8\" type=\"checkbox\" ><label for=\"sk-estimator-id-8\" class=\"sk-toggleable__label sk-toggleable__label-arrow\">PCA</label><div class=\"sk-toggleable__content\"><pre>PCA()</pre></div></div></div><div class=\"sk-item\"><div class=\"sk-estimator sk-toggleable\"><input class=\"sk-toggleable__control sk-hidden--visually\" id=\"sk-estimator-id-9\" type=\"checkbox\" ><label for=\"sk-estimator-id-9\" class=\"sk-toggleable__label sk-toggleable__label-arrow\">RandomForestClassifier</label><div class=\"sk-toggleable__content\"><pre>RandomForestClassifier(n_jobs=8, random_state=0, verbose=1)</pre></div></div></div></div></div></div></div></div></div></div></div></div>"
     },
     "execution_count": 24,
     "metadata": {},
     "output_type": "execute_result"
    }
   ],
   "source": [
    "hpt_rf_clf = GridSearchCV(hpt_rf_clf , tuned_parameters)\n",
    "hpt_rf_clf.fit(X_train.values , y_train.values)"
   ],
   "metadata": {
    "collapsed": false,
    "ExecuteTime": {
     "end_time": "2023-10-03T08:18:33.312066400Z",
     "start_time": "2023-10-03T07:07:05.804440500Z"
    }
   },
   "id": "54f7d4af48f56c13"
  },
  {
   "cell_type": "code",
   "execution_count": 25,
   "outputs": [
    {
     "name": "stdout",
     "output_type": "stream",
     "text": [
      "Done\n"
     ]
    }
   ],
   "source": [
    "print('Done')"
   ],
   "metadata": {
    "collapsed": false,
    "ExecuteTime": {
     "end_time": "2023-10-03T08:18:53.562583700Z",
     "start_time": "2023-10-03T08:17:44.006397500Z"
    }
   },
   "id": "e6da915bcce5b677"
  },
  {
   "cell_type": "code",
   "execution_count": 26,
   "outputs": [
    {
     "data": {
      "text/plain": "{'pca__n_components': 0.5,\n 'randomforestclassifier__max_depth': None,\n 'randomforestclassifier__n_estimators': 750}"
     },
     "execution_count": 26,
     "metadata": {},
     "output_type": "execute_result"
    }
   ],
   "source": [
    "hpt_rf_clf.best_params_\n"
   ],
   "metadata": {
    "collapsed": false,
    "ExecuteTime": {
     "end_time": "2023-10-03T08:19:01.238519400Z",
     "start_time": "2023-10-03T08:17:49.822006700Z"
    }
   },
   "id": "9f8e8c1ac302f7d5"
  },
  {
   "cell_type": "code",
   "execution_count": 27,
   "outputs": [
    {
     "name": "stderr",
     "output_type": "stream",
     "text": [
      "[Parallel(n_jobs=8)]: Using backend ThreadingBackend with 8 concurrent workers.\n",
      "[Parallel(n_jobs=8)]: Done  34 tasks      | elapsed:    1.0s\n",
      "[Parallel(n_jobs=8)]: Done 184 tasks      | elapsed:    5.6s\n",
      "[Parallel(n_jobs=8)]: Done 434 tasks      | elapsed:   13.4s\n",
      "[Parallel(n_jobs=8)]: Done 750 out of 750 | elapsed:   22.0s finished\n"
     ]
    }
   ],
   "source": [
    "# Evaluate on train set\n",
    "predictions =  pd.DataFrame(hpt_rf_clf.predict(X_train.values),\n",
    "                            columns=y_train.columns)\n",
    "train_scores = {score.__name__: calculate_quality(y_train, predictions, score) \n",
    "                for score in [accuracy_score, precision_score, recall_score, f1_score]}\n",
    "train_scores = pd.concat(train_scores,axis=1)"
   ],
   "metadata": {
    "collapsed": false,
    "ExecuteTime": {
     "end_time": "2023-10-03T08:19:03.349952400Z",
     "start_time": "2023-10-03T08:17:49.822006700Z"
    }
   },
   "id": "55cf2d64e409cf40"
  },
  {
   "cell_type": "code",
   "execution_count": 28,
   "outputs": [
    {
     "name": "stderr",
     "output_type": "stream",
     "text": [
      "[Parallel(n_jobs=8)]: Using backend ThreadingBackend with 8 concurrent workers.\n",
      "[Parallel(n_jobs=8)]: Done  34 tasks      | elapsed:   13.4s\n",
      "[Parallel(n_jobs=8)]: Done 184 tasks      | elapsed:   15.5s\n",
      "[Parallel(n_jobs=8)]: Done 434 tasks      | elapsed:   18.3s\n",
      "[Parallel(n_jobs=8)]: Done 750 out of 750 | elapsed:   21.5s finished\n"
     ]
    }
   ],
   "source": [
    "# Evaluate on test set\n",
    "predictions =  pd.DataFrame(hpt_rf_clf.predict(X_test.values),\n",
    "                            columns=y_test.columns)\n",
    "test_scores = {score.__name__: calculate_quality(y_test, predictions, score) \n",
    "                for score in [accuracy_score, precision_score, recall_score, f1_score]}\n",
    "test_scores = pd.concat(test_scores,axis=1)"
   ],
   "metadata": {
    "collapsed": false,
    "ExecuteTime": {
     "end_time": "2023-10-03T08:21:43.657718800Z",
     "start_time": "2023-10-03T08:18:28.132325100Z"
    }
   },
   "id": "ab1b5fc3a631ae1"
  },
  {
   "cell_type": "code",
   "execution_count": 29,
   "outputs": [
    {
     "name": "stdout",
     "output_type": "stream",
     "text": [
      "accuracy_score     97.906667\n",
      "precision_score    86.920417\n",
      "recall_score       51.379167\n",
      "f1_score           58.047500\n",
      "dtype: float64\n"
     ]
    },
    {
     "data": {
      "text/plain": "                                               accuracy_score  \\\nAcademic researcher                                     96.01   \nBlockchain                                              99.71   \nCloud infrastructure engineer                           98.09   \nData or business analyst                                98.62   \nData scientist or machine learning specialist           96.43   \nDatabase administrator                                  99.80   \nDevOps specialist                                       95.61   \nDeveloper Advocate                                      99.92   \nDeveloper Experience                                    99.73   \nDeveloper, QA or test                                   98.97   \nDeveloper, back-end                                     95.61   \nDeveloper, desktop or enterprise applications           96.11   \nDeveloper, embedded applications or devices             95.79   \nDeveloper, front-end                                    96.68   \nDeveloper, full-stack                                   95.81   \nDeveloper, game or graphics                             98.67   \nDeveloper, mobile                                       97.87   \nEngineer, data                                          98.13   \nHardware Engineer                                       99.78   \nProject manager                                         99.00   \nResearch & Development role                             95.83   \nScientist                                               99.58   \nSecurity professional                                   99.53   \nSystem administrator                                    98.48   \n\n                                               precision_score  recall_score  \\\nAcademic researcher                                      66.67          1.57   \nBlockchain                                              100.00         92.75   \nCloud infrastructure engineer                            98.76         57.18   \nData or business analyst                                 98.86         67.10   \nData scientist or machine learning specialist            72.29         15.96   \nDatabase administrator                                   98.96         96.22   \nDevOps specialist                                       100.00          0.24   \nDeveloper Advocate                                       99.49         98.48   \nDeveloper Experience                                    100.00         93.28   \nDeveloper, QA or test                                   100.00         76.44   \nDeveloper, back-end                                      50.00          1.44   \nDeveloper, desktop or enterprise applications            75.00          2.39   \nDeveloper, embedded applications or devices              60.98          6.11   \nDeveloper, front-end                                     78.75         30.88   \nDeveloper, full-stack                                    50.00          1.01   \nDeveloper, game or graphics                              96.85         67.58   \nDeveloper, mobile                                        90.94         56.34   \nEngineer, data                                           99.08         54.99   \nHardware Engineer                                        99.74         95.11   \nProject manager                                         100.00         75.64   \nResearch & Development role                              50.00          0.25   \nScientist                                                99.72         90.13   \nSecurity professional                                   100.00         88.10   \nSystem administrator                                    100.00         63.91   \n\n                                               f1_score  \nAcademic researcher                                3.07  \nBlockchain                                        96.24  \nCloud infrastructure engineer                     72.42  \nData or business analyst                          79.94  \nData scientist or machine learning specialist     26.14  \nDatabase administrator                            97.57  \nDevOps specialist                                  0.48  \nDeveloper Advocate                                98.98  \nDeveloper Experience                              96.52  \nDeveloper, QA or test                             86.65  \nDeveloper, back-end                                2.80  \nDeveloper, desktop or enterprise applications      4.64  \nDeveloper, embedded applications or devices       11.11  \nDeveloper, front-end                              44.37  \nDeveloper, full-stack                              1.97  \nDeveloper, game or graphics                       79.61  \nDeveloper, mobile                                 69.58  \nEngineer, data                                    70.72  \nHardware Engineer                                 97.37  \nProject manager                                   86.13  \nResearch & Development role                        0.50  \nScientist                                         94.68  \nSecurity professional                             93.67  \nSystem administrator                              77.98  ",
      "text/html": "<div>\n<style scoped>\n    .dataframe tbody tr th:only-of-type {\n        vertical-align: middle;\n    }\n\n    .dataframe tbody tr th {\n        vertical-align: top;\n    }\n\n    .dataframe thead th {\n        text-align: right;\n    }\n</style>\n<table border=\"1\" class=\"dataframe\">\n  <thead>\n    <tr style=\"text-align: right;\">\n      <th></th>\n      <th>accuracy_score</th>\n      <th>precision_score</th>\n      <th>recall_score</th>\n      <th>f1_score</th>\n    </tr>\n  </thead>\n  <tbody>\n    <tr>\n      <th>Academic researcher</th>\n      <td>96.01</td>\n      <td>66.67</td>\n      <td>1.57</td>\n      <td>3.07</td>\n    </tr>\n    <tr>\n      <th>Blockchain</th>\n      <td>99.71</td>\n      <td>100.00</td>\n      <td>92.75</td>\n      <td>96.24</td>\n    </tr>\n    <tr>\n      <th>Cloud infrastructure engineer</th>\n      <td>98.09</td>\n      <td>98.76</td>\n      <td>57.18</td>\n      <td>72.42</td>\n    </tr>\n    <tr>\n      <th>Data or business analyst</th>\n      <td>98.62</td>\n      <td>98.86</td>\n      <td>67.10</td>\n      <td>79.94</td>\n    </tr>\n    <tr>\n      <th>Data scientist or machine learning specialist</th>\n      <td>96.43</td>\n      <td>72.29</td>\n      <td>15.96</td>\n      <td>26.14</td>\n    </tr>\n    <tr>\n      <th>Database administrator</th>\n      <td>99.80</td>\n      <td>98.96</td>\n      <td>96.22</td>\n      <td>97.57</td>\n    </tr>\n    <tr>\n      <th>DevOps specialist</th>\n      <td>95.61</td>\n      <td>100.00</td>\n      <td>0.24</td>\n      <td>0.48</td>\n    </tr>\n    <tr>\n      <th>Developer Advocate</th>\n      <td>99.92</td>\n      <td>99.49</td>\n      <td>98.48</td>\n      <td>98.98</td>\n    </tr>\n    <tr>\n      <th>Developer Experience</th>\n      <td>99.73</td>\n      <td>100.00</td>\n      <td>93.28</td>\n      <td>96.52</td>\n    </tr>\n    <tr>\n      <th>Developer, QA or test</th>\n      <td>98.97</td>\n      <td>100.00</td>\n      <td>76.44</td>\n      <td>86.65</td>\n    </tr>\n    <tr>\n      <th>Developer, back-end</th>\n      <td>95.61</td>\n      <td>50.00</td>\n      <td>1.44</td>\n      <td>2.80</td>\n    </tr>\n    <tr>\n      <th>Developer, desktop or enterprise applications</th>\n      <td>96.11</td>\n      <td>75.00</td>\n      <td>2.39</td>\n      <td>4.64</td>\n    </tr>\n    <tr>\n      <th>Developer, embedded applications or devices</th>\n      <td>95.79</td>\n      <td>60.98</td>\n      <td>6.11</td>\n      <td>11.11</td>\n    </tr>\n    <tr>\n      <th>Developer, front-end</th>\n      <td>96.68</td>\n      <td>78.75</td>\n      <td>30.88</td>\n      <td>44.37</td>\n    </tr>\n    <tr>\n      <th>Developer, full-stack</th>\n      <td>95.81</td>\n      <td>50.00</td>\n      <td>1.01</td>\n      <td>1.97</td>\n    </tr>\n    <tr>\n      <th>Developer, game or graphics</th>\n      <td>98.67</td>\n      <td>96.85</td>\n      <td>67.58</td>\n      <td>79.61</td>\n    </tr>\n    <tr>\n      <th>Developer, mobile</th>\n      <td>97.87</td>\n      <td>90.94</td>\n      <td>56.34</td>\n      <td>69.58</td>\n    </tr>\n    <tr>\n      <th>Engineer, data</th>\n      <td>98.13</td>\n      <td>99.08</td>\n      <td>54.99</td>\n      <td>70.72</td>\n    </tr>\n    <tr>\n      <th>Hardware Engineer</th>\n      <td>99.78</td>\n      <td>99.74</td>\n      <td>95.11</td>\n      <td>97.37</td>\n    </tr>\n    <tr>\n      <th>Project manager</th>\n      <td>99.00</td>\n      <td>100.00</td>\n      <td>75.64</td>\n      <td>86.13</td>\n    </tr>\n    <tr>\n      <th>Research &amp; Development role</th>\n      <td>95.83</td>\n      <td>50.00</td>\n      <td>0.25</td>\n      <td>0.50</td>\n    </tr>\n    <tr>\n      <th>Scientist</th>\n      <td>99.58</td>\n      <td>99.72</td>\n      <td>90.13</td>\n      <td>94.68</td>\n    </tr>\n    <tr>\n      <th>Security professional</th>\n      <td>99.53</td>\n      <td>100.00</td>\n      <td>88.10</td>\n      <td>93.67</td>\n    </tr>\n    <tr>\n      <th>System administrator</th>\n      <td>98.48</td>\n      <td>100.00</td>\n      <td>63.91</td>\n      <td>77.98</td>\n    </tr>\n  </tbody>\n</table>\n</div>"
     },
     "execution_count": 29,
     "metadata": {},
     "output_type": "execute_result"
    }
   ],
   "source": [
    "print(test_scores.mean())\n",
    "test_scores"
   ],
   "metadata": {
    "collapsed": false,
    "ExecuteTime": {
     "end_time": "2023-10-03T08:21:45.567671700Z",
     "start_time": "2023-10-03T08:19:00.159582600Z"
    }
   },
   "id": "9940b336540d1996"
  },
  {
   "cell_type": "code",
   "execution_count": 30,
   "outputs": [],
   "source": [
    "# Data details\n",
    "data_details = {\"data_path\": DF_PATH,\n",
    "                \"training_indices\": X_train.index.tolist(),\n",
    "                \"test_indices\":     X_test.index.tolist(), \n",
    "                \"features_names\":   X_train.columns.droplevel(0).tolist(),\n",
    "                \"targets_names\":    y_train.columns.tolist()}\n",
    "\n",
    "with open(os.path.join(LOG_PATH, LOG_DATA_PKL), \"wb\") as output_file:\n",
    "    pickle.dump(data_details, output_file)"
   ],
   "metadata": {
    "collapsed": false,
    "ExecuteTime": {
     "end_time": "2023-10-03T08:21:45.567671700Z",
     "start_time": "2023-10-03T08:19:14.360611700Z"
    }
   },
   "id": "24a2dae8822e7b4c"
  },
  {
   "cell_type": "code",
   "execution_count": 31,
   "outputs": [],
   "source": [
    "# Model\n",
    "model = {\"model_description\": \"Random Forest: with PCA + Hyperparamter tuning\",\n",
    "         \"model_details\": str(hpt_rf_clf),\n",
    "         \"model_object\": hpt_rf_clf} \n",
    "\n",
    "with open(os.path.join(LOG_PATH, LOG_MODEL_PKL), \"wb\") as output_file:\n",
    "    pickle.dump(model, output_file)"
   ],
   "metadata": {
    "collapsed": false,
    "ExecuteTime": {
     "end_time": "2023-10-03T08:32:34.745113300Z",
     "start_time": "2023-10-03T08:19:18.704316200Z"
    }
   },
   "id": "4704e33349a07ea"
  },
  {
   "cell_type": "code",
   "execution_count": 32,
   "outputs": [],
   "source": [
    "# Preformance details\n",
    "classes_metrics = {\"train_scores\": train_scores, \n",
    "                   \"test_scores\":  test_scores}\n",
    "\n",
    "with open(os.path.join(LOG_PATH, LOG_METRICS_PKL), \"wb\") as output_file:\n",
    "    pickle.dump(classes_metrics, output_file)"
   ],
   "metadata": {
    "collapsed": false,
    "ExecuteTime": {
     "end_time": "2023-10-03T08:32:42.395533500Z",
     "start_time": "2023-10-03T08:32:34.150718700Z"
    }
   },
   "id": "1b7b73d7e452a5d0"
  },
  {
   "cell_type": "code",
   "execution_count": null,
   "outputs": [],
   "source": [
    "# Start a new run and track \n",
    "with mlflow.start_run(experiment_id=exp.experiment_id, \n",
    "                      run_name=model[\"model_description\"]):\n",
    "    # Log pickles\n",
    "    mlflow.log_artifacts(LOG_PATH)  \n",
    "    \n",
    "    # Track metrics \n",
    "    for metric, score in mean_test_scores.items():\n",
    "        mlflow.log_metric(metric, score) "
   ],
   "metadata": {
    "collapsed": false,
    "is_executing": true,
    "ExecuteTime": {
     "start_time": "2023-10-03T08:32:42.348643500Z"
    }
   },
   "id": "adaefda4c2c4eecf"
  },
  {
   "cell_type": "code",
   "execution_count": null,
   "outputs": [],
   "source": [
    "mean_train_scores = train_scores.mean()\n"
   ],
   "metadata": {
    "collapsed": false,
    "is_executing": true
   },
   "id": "6616171de9fdb538"
  },
  {
   "cell_type": "code",
   "execution_count": null,
   "outputs": [],
   "source": [
    "print('Mean Train Scores')\n",
    "print(mean_train_scores)\n",
    "print()\n",
    "print('Mean Test Scores')\n",
    "print(mean_test_scores)"
   ],
   "metadata": {
    "collapsed": false,
    "is_executing": true
   },
   "id": "19c48cbc9f3df043"
  }
 ],
 "metadata": {
  "kernelspec": {
   "display_name": "Python 3",
   "language": "python",
   "name": "python3"
  },
  "language_info": {
   "codemirror_mode": {
    "name": "ipython",
    "version": 2
   },
   "file_extension": ".py",
   "mimetype": "text/x-python",
   "name": "python",
   "nbconvert_exporter": "python",
   "pygments_lexer": "ipython2",
   "version": "2.7.6"
  }
 },
 "nbformat": 4,
 "nbformat_minor": 5
}
