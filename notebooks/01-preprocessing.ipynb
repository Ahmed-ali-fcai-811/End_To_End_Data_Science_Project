{
 "cells": [
  {
   "cell_type": "code",
   "execution_count": 25,
   "id": "e0a96d40-3c18-472c-bc87-c791826db814",
   "metadata": {
    "ExecuteTime": {
     "end_time": "2023-09-13T12:58:56.109989800Z",
     "start_time": "2023-09-13T12:58:55.999683600Z"
    }
   },
   "outputs": [],
   "source": [
    "DATA_PATH = f'..\\\\data\\\\raw\\\\survey_results_public.csv'\n",
    "EXPORT_PATH =  f'..\\\\data\\\\processed\\\\1_preprocessed_df.pkl'\n",
    "REPLACE_DICT = {\n",
    "    \"YearsCode\" : {\"More than 50 years\":51 , \"Less than 1 year\":0},\n",
    "    \"YearsCodePro\" : {\"More than 50 years\":51 , \"Less than 1 year\":0}\n",
    "    \n",
    "}"
   ]
  },
  {
   "cell_type": "code",
   "execution_count": 26,
   "id": "04d9b2d8-b731-493d-827f-9a339ae83c30",
   "metadata": {
    "ExecuteTime": {
     "end_time": "2023-09-13T12:58:56.109989800Z",
     "start_time": "2023-09-13T12:58:56.010681800Z"
    }
   },
   "outputs": [],
   "source": [
    "import numpy as np\n",
    "import pandas as pd\n",
    "import pickle"
   ]
  },
  {
   "cell_type": "code",
   "execution_count": 27,
   "id": "3b840120-e146-43cb-a28e-02c3d47e30d8",
   "metadata": {
    "ExecuteTime": {
     "end_time": "2023-09-13T12:58:56.115979100Z",
     "start_time": "2023-09-13T12:58:56.036698800Z"
    }
   },
   "outputs": [],
   "source": [
    "def split_answers (df , delimiter = \";\"):\n",
    "\n",
    "    def is_splittable (df , delimiter):\n",
    "\n",
    "        return df.str.contains(delimiter)\n",
    "\n",
    "\n",
    "    def split_answer(df , delimiter):\n",
    "\n",
    "        return df.str.split(delimiter)\n",
    "\n",
    "    splittable_rows = is_splittable(df , delimiter)\n",
    "\n",
    "    if not splittable_rows.any():\n",
    "        return df\n",
    "\n",
    "    modified_df = split_answer(df , delimiter)\n",
    "\n",
    "    mask_null = modified_df.isnull()\n",
    "    modified_df.loc[mask_null] = modified_df.loc[mask_null].apply(lambda x:[])\n",
    "\n",
    "\n",
    "    return modified_df\n",
    "    "
   ]
  },
  {
   "cell_type": "markdown",
   "id": "5ab00175-eb2d-4651-b019-ff3ff10c1ee6",
   "metadata": {},
   "source": [
    "# Preprocessing "
   ]
  },
  {
   "cell_type": "code",
   "execution_count": 28,
   "id": "4f78b874-7a8f-424f-9f5d-04ed6dbbde40",
   "metadata": {
    "ExecuteTime": {
     "end_time": "2023-09-13T12:59:03.621218200Z",
     "start_time": "2023-09-13T12:58:56.044633800Z"
    }
   },
   "outputs": [],
   "source": [
    "raw_df = pd.read_csv(DATA_PATH)\n",
    "df = raw_df.copy()"
   ]
  },
  {
   "cell_type": "markdown",
   "id": "e248793e-8802-443f-b849-d305707739d1",
   "metadata": {},
   "source": [
    "Replace Values."
   ]
  },
  {
   "cell_type": "code",
   "execution_count": 29,
   "id": "492aeba0-65a5-449f-a4e9-b4f975512ba4",
   "metadata": {
    "ExecuteTime": {
     "end_time": "2023-09-13T12:59:04.087337300Z",
     "start_time": "2023-09-13T12:59:03.634661100Z"
    }
   },
   "outputs": [],
   "source": [
    "for col , replacement in REPLACE_DICT.items():\n",
    "    df[col] = df[col].replace(replacement).astype(np.float64)"
   ]
  },
  {
   "cell_type": "code",
   "execution_count": 30,
   "id": "8746d14d-8f9b-494d-85b6-ca75a512cf62",
   "metadata": {
    "ExecuteTime": {
     "end_time": "2023-09-13T12:59:04.453018500Z",
     "start_time": "2023-09-13T12:59:04.130788100Z"
    }
   },
   "outputs": [
    {
     "data": {
      "text/plain": "array([nan, 18., 27., 12.,  6., 21.,  4.,  5., 20., 14., 10., 15., 11.,\n        3., 24.,  8., 13.,  0., 16., 33., 22., 30., 32.,  7., 35., 28.,\n       40., 17., 29., 19., 51.,  9., 38., 26., 34., 25.,  2., 45., 23.,\n       31., 43.,  1., 48., 41., 50., 39., 42., 37., 36., 44., 46., 49.,\n       47.])"
     },
     "execution_count": 30,
     "metadata": {},
     "output_type": "execute_result"
    }
   ],
   "source": [
    "df['YearsCode'].unique()"
   ]
  },
  {
   "cell_type": "code",
   "execution_count": 31,
   "id": "0f99df40-5319-4142-8a69-2579f223a426",
   "metadata": {
    "ExecuteTime": {
     "end_time": "2023-09-13T12:59:04.469709500Z",
     "start_time": "2023-09-13T12:59:04.457194600Z"
    }
   },
   "outputs": [
    {
     "data": {
      "text/plain": "array([nan,  9., 23.,  7.,  4., 21.,  3., 15.,  0., 10.,  2.,  6., 14.,\n        5., 19., 13., 16., 28.,  1., 30., 11.,  8., 25., 32., 24., 40.,\n       17., 45., 29., 12., 31., 20., 18., 50., 27., 43., 22., 26., 38.,\n       33., 44., 35., 34., 37., 42., 41., 51., 47., 36., 39., 48., 46.,\n       49.])"
     },
     "execution_count": 31,
     "metadata": {},
     "output_type": "execute_result"
    }
   ],
   "source": [
    "df['YearsCodePro'].unique()"
   ]
  },
  {
   "cell_type": "markdown",
   "id": "e20d5f81-85fd-4d06-acb4-4b4a265f5e6e",
   "metadata": {},
   "source": [
    "Split Categories Features"
   ]
  },
  {
   "cell_type": "code",
   "execution_count": 32,
   "outputs": [],
   "source": [
    "df.loc[0 , 'DevType'] = ';'"
   ],
   "metadata": {
    "collapsed": false,
    "ExecuteTime": {
     "end_time": "2023-09-13T12:59:04.511705300Z",
     "start_time": "2023-09-13T12:59:04.472709600Z"
    }
   },
   "id": "d793cdf665dc5288"
  },
  {
   "cell_type": "code",
   "execution_count": 33,
   "id": "fb0c031d-725e-44fe-94a8-9b712c57a67b",
   "metadata": {
    "ExecuteTime": {
     "end_time": "2023-09-13T12:59:39.943701200Z",
     "start_time": "2023-09-13T12:59:04.501706100Z"
    }
   },
   "outputs": [],
   "source": [
    "cat_features = df.select_dtypes(include='object').columns.to_list()\n",
    "for col in cat_features:\n",
    "    df[col] = split_answers(df[col])\n"
   ]
  },
  {
   "cell_type": "code",
   "execution_count": 33,
   "outputs": [],
   "source": [],
   "metadata": {
    "collapsed": false,
    "ExecuteTime": {
     "end_time": "2023-09-13T12:59:40.153107400Z",
     "start_time": "2023-09-13T12:59:40.121315900Z"
    }
   },
   "id": "2960fba1807a959b"
  },
  {
   "cell_type": "code",
   "execution_count": 34,
   "outputs": [
    {
     "data": {
      "text/plain": "['Q120',\n 'MainBranch',\n 'Age',\n 'Employment',\n 'RemoteWork',\n 'CodingActivities',\n 'EdLevel',\n 'LearnCode',\n 'LearnCodeOnline',\n 'LearnCodeCoursesCert',\n 'DevType',\n 'OrgSize',\n 'PurchaseInfluence',\n 'TechList',\n 'BuyNewTool',\n 'Country',\n 'Currency',\n 'LanguageHaveWorkedWith',\n 'LanguageWantToWorkWith',\n 'DatabaseHaveWorkedWith',\n 'DatabaseWantToWorkWith',\n 'PlatformHaveWorkedWith',\n 'PlatformWantToWorkWith',\n 'WebframeHaveWorkedWith',\n 'WebframeWantToWorkWith',\n 'MiscTechHaveWorkedWith',\n 'MiscTechWantToWorkWith',\n 'ToolsTechHaveWorkedWith',\n 'ToolsTechWantToWorkWith',\n 'NEWCollabToolsHaveWorkedWith',\n 'NEWCollabToolsWantToWorkWith',\n 'OpSysPersonal use',\n 'OpSysProfessional use',\n 'OfficeStackAsyncHaveWorkedWith',\n 'OfficeStackAsyncWantToWorkWith',\n 'OfficeStackSyncHaveWorkedWith',\n 'OfficeStackSyncWantToWorkWith',\n 'AISearchHaveWorkedWith',\n 'AISearchWantToWorkWith',\n 'AIDevHaveWorkedWith',\n 'AIDevWantToWorkWith',\n 'NEWSOSites',\n 'SOVisitFreq',\n 'SOAccount',\n 'SOPartFreq',\n 'SOComm',\n 'SOAI',\n 'AISelect',\n 'AISent',\n 'AIAcc',\n 'AIBen',\n 'AIToolInterested in Using',\n 'AIToolCurrently Using',\n 'AIToolNot interested in Using',\n 'AINextVery different',\n 'AINextNeither different nor similar',\n 'AINextSomewhat similar',\n 'AINextVery similar',\n 'AINextSomewhat different',\n 'TBranch',\n 'ICorPM',\n 'Knowledge_1',\n 'Knowledge_2',\n 'Knowledge_3',\n 'Knowledge_4',\n 'Knowledge_5',\n 'Knowledge_6',\n 'Knowledge_7',\n 'Knowledge_8',\n 'Frequency_1',\n 'Frequency_2',\n 'Frequency_3',\n 'TimeSearching',\n 'TimeAnswering',\n 'ProfessionalTech',\n 'Industry',\n 'SurveyLength',\n 'SurveyEase']"
     },
     "execution_count": 34,
     "metadata": {},
     "output_type": "execute_result"
    }
   ],
   "source": [
    "cat_features"
   ],
   "metadata": {
    "collapsed": false,
    "ExecuteTime": {
     "end_time": "2023-09-13T12:59:42.720320600Z",
     "start_time": "2023-09-13T12:59:40.443650500Z"
    }
   },
   "id": "1f1705418fc5148f"
  },
  {
   "cell_type": "code",
   "execution_count": 35,
   "id": "a6edd6e0-5990-470f-b884-802a6d022b89",
   "metadata": {
    "ExecuteTime": {
     "end_time": "2023-09-13T12:59:44.632192800Z",
     "start_time": "2023-09-13T12:59:42.962193500Z"
    }
   },
   "outputs": [
    {
     "name": "stdout",
     "output_type": "stream",
     "text": [
      "C++;HTML/CSS;Java;JavaScript;Python\n",
      "['C++', 'HTML/CSS', 'Java', 'JavaScript', 'Python']\n"
     ]
    }
   ],
   "source": [
    "i = df.sample(1).index[0]\n",
    "print(raw_df['LanguageHaveWorkedWith'].iloc[i])\n",
    "print(df['LanguageHaveWorkedWith'].iloc[i])"
   ]
  },
  {
   "cell_type": "code",
   "execution_count": 51,
   "id": "8d5df5b6-deb5-4c67-8f5f-6b0c1d18f9a7",
   "metadata": {
    "scrolled": true,
    "ExecuteTime": {
     "end_time": "2023-09-13T13:01:47.951830200Z",
     "start_time": "2023-09-13T13:01:47.867832600Z"
    }
   },
   "outputs": [
    {
     "name": "stdout",
     "output_type": "stream",
     "text": [
      "nan\n",
      "['', '']\n"
     ]
    }
   ],
   "source": [
    "i = df.sample(1).index[0]\n",
    "print(raw_df.loc[0 , 'DevType'])\n",
    "\n",
    "print(df.loc[0 , 'DevType'])"
   ]
  },
  {
   "cell_type": "markdown",
   "id": "ed5a5183-0f7b-4110-b84d-a6c399891701",
   "metadata": {},
   "source": [
    "EXPORT DATA"
   ]
  },
  {
   "cell_type": "code",
   "execution_count": 58,
   "outputs": [],
   "source": [
    "df.loc[0 , 'DevType'].remove('')"
   ],
   "metadata": {
    "collapsed": false,
    "ExecuteTime": {
     "end_time": "2023-09-13T13:05:11.299390700Z",
     "start_time": "2023-09-13T13:05:11.277309700Z"
    }
   },
   "id": "7481cb7c131a4673"
  },
  {
   "cell_type": "code",
   "execution_count": 59,
   "outputs": [
    {
     "data": {
      "text/plain": "[]"
     },
     "execution_count": 59,
     "metadata": {},
     "output_type": "execute_result"
    }
   ],
   "source": [
    "df.loc[0 , 'DevType']"
   ],
   "metadata": {
    "collapsed": false,
    "ExecuteTime": {
     "end_time": "2023-09-13T13:05:20.899203400Z",
     "start_time": "2023-09-13T13:05:20.883546400Z"
    }
   },
   "id": "fefbdb1b01a5d8cc"
  },
  {
   "cell_type": "code",
   "execution_count": 60,
   "id": "311b2489-1292-4e10-a1c3-86b66bfcd997",
   "metadata": {
    "ExecuteTime": {
     "end_time": "2023-09-13T13:05:30.959463200Z",
     "start_time": "2023-09-13T13:05:25.380592Z"
    }
   },
   "outputs": [],
   "source": [
    "df.to_pickle(EXPORT_PATH)"
   ]
  },
  {
   "cell_type": "code",
   "execution_count": 37,
   "id": "ab820451-06d9-43ea-8ba0-56308198fab0",
   "metadata": {
    "ExecuteTime": {
     "end_time": "2023-09-13T12:59:53.368327600Z",
     "start_time": "2023-09-13T12:59:53.364328700Z"
    }
   },
   "outputs": [],
   "source": []
  }
 ],
 "metadata": {
  "kernelspec": {
   "display_name": "Python 3 (ipykernel)",
   "language": "python",
   "name": "python3"
  },
  "language_info": {
   "codemirror_mode": {
    "name": "ipython",
    "version": 3
   },
   "file_extension": ".py",
   "mimetype": "text/x-python",
   "name": "python",
   "nbconvert_exporter": "python",
   "pygments_lexer": "ipython3",
   "version": "3.11.1"
  }
 },
 "nbformat": 4,
 "nbformat_minor": 5
}
