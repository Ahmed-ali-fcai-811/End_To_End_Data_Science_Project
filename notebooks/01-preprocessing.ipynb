{
 "cells": [
  {
   "cell_type": "code",
   "execution_count": 1,
   "id": "e0a96d40-3c18-472c-bc87-c791826db814",
   "metadata": {
    "ExecuteTime": {
     "end_time": "2023-09-11T12:57:55.981313700Z",
     "start_time": "2023-09-11T12:57:55.965627700Z"
    }
   },
   "outputs": [],
   "source": [
    "DATA_PATH = f'..\\\\data\\\\raw\\\\survey_results_public.csv'\n",
    "EXPORT_PATH =  f'..\\\\data\\\\processed\\\\1_preprocessed_df.pkl'\n",
    "REPLACE_DICT = {\n",
    "    \"YearsCode\" : {\"More than 50 years\":51 , \"Less than 1 year\":0},\n",
    "    \"YearsCodePro\" : {\"More than 50 years\":51 , \"Less than 1 year\":0}\n",
    "    \n",
    "}"
   ]
  },
  {
   "cell_type": "code",
   "execution_count": 2,
   "id": "04d9b2d8-b731-493d-827f-9a339ae83c30",
   "metadata": {
    "ExecuteTime": {
     "end_time": "2023-09-11T12:57:58.428342600Z",
     "start_time": "2023-09-11T12:57:57.625619Z"
    }
   },
   "outputs": [],
   "source": [
    "import numpy as np\n",
    "import pandas as pd\n",
    "import pickle"
   ]
  },
  {
   "cell_type": "code",
   "execution_count": 3,
   "id": "3b840120-e146-43cb-a28e-02c3d47e30d8",
   "metadata": {
    "ExecuteTime": {
     "end_time": "2023-09-11T12:58:01.475428900Z",
     "start_time": "2023-09-11T12:58:01.397294100Z"
    }
   },
   "outputs": [],
   "source": [
    "def split_answers (df , delimiter = \";\"):\n",
    "\n",
    "    def is_splittable (df , delimiter):\n",
    "\n",
    "        return df.str.contains(delimiter)\n",
    "\n",
    "\n",
    "    def split_answer(df , delimiter):\n",
    "\n",
    "        return df.str.split(delimiter)\n",
    "\n",
    "    splittable_rows = is_splittable(df , delimiter)\n",
    "\n",
    "    if not splittable_rows.any():\n",
    "        return df\n",
    "\n",
    "    modified_df = split_answer(df , delimiter)\n",
    "\n",
    "    mask_null = modified_df.isnull()\n",
    "    modified_df.loc[mask_null] = modified_df.loc[mask_null].apply(lambda x:[])\n",
    "\n",
    "\n",
    "    return modified_df\n",
    "    "
   ]
  },
  {
   "cell_type": "markdown",
   "id": "5ab00175-eb2d-4651-b019-ff3ff10c1ee6",
   "metadata": {},
   "source": [
    "# Preprocessing "
   ]
  },
  {
   "cell_type": "code",
   "execution_count": 4,
   "id": "4f78b874-7a8f-424f-9f5d-04ed6dbbde40",
   "metadata": {
    "ExecuteTime": {
     "end_time": "2023-09-11T12:58:17.440588500Z",
     "start_time": "2023-09-11T12:58:14.788060400Z"
    }
   },
   "outputs": [],
   "source": [
    "raw_df = pd.read_csv(DATA_PATH)\n",
    "df = raw_df.copy()"
   ]
  },
  {
   "cell_type": "markdown",
   "id": "e248793e-8802-443f-b849-d305707739d1",
   "metadata": {},
   "source": [
    "Replace Values."
   ]
  },
  {
   "cell_type": "code",
   "execution_count": 5,
   "id": "492aeba0-65a5-449f-a4e9-b4f975512ba4",
   "metadata": {
    "ExecuteTime": {
     "end_time": "2023-09-11T12:58:20.022730Z",
     "start_time": "2023-09-11T12:58:19.957040500Z"
    }
   },
   "outputs": [],
   "source": [
    "for col , replacement in REPLACE_DICT.items():\n",
    "    df[col] = df[col].replace(replacement).astype(np.float64)"
   ]
  },
  {
   "cell_type": "code",
   "execution_count": 6,
   "id": "8746d14d-8f9b-494d-85b6-ca75a512cf62",
   "metadata": {
    "ExecuteTime": {
     "end_time": "2023-09-11T12:58:22.704486600Z",
     "start_time": "2023-09-11T12:58:22.673191700Z"
    }
   },
   "outputs": [
    {
     "data": {
      "text/plain": "array([nan, 18., 27., 12.,  6., 21.,  4.,  5., 20., 14., 10., 15., 11.,\n        3., 24.,  8., 13.,  0., 16., 33., 22., 30., 32.,  7., 35., 28.,\n       40., 17., 29., 19., 51.,  9., 38., 26., 34., 25.,  2., 45., 23.,\n       31., 43.,  1., 48., 41., 50., 39., 42., 37., 36., 44., 46., 49.,\n       47.])"
     },
     "execution_count": 6,
     "metadata": {},
     "output_type": "execute_result"
    }
   ],
   "source": [
    "df['YearsCode'].unique()"
   ]
  },
  {
   "cell_type": "code",
   "execution_count": 9,
   "id": "0f99df40-5319-4142-8a69-2579f223a426",
   "metadata": {
    "ExecuteTime": {
     "end_time": "2023-09-11T12:59:28.310006200Z",
     "start_time": "2023-09-11T12:59:28.278729900Z"
    }
   },
   "outputs": [
    {
     "data": {
      "text/plain": "array([nan,  9., 23.,  7.,  4., 21.,  3., 15.,  0., 10.,  2.,  6., 14.,\n        5., 19., 13., 16., 28.,  1., 30., 11.,  8., 25., 32., 24., 40.,\n       17., 45., 29., 12., 31., 20., 18., 50., 27., 43., 22., 26., 38.,\n       33., 44., 35., 34., 37., 42., 41., 51., 47., 36., 39., 48., 46.,\n       49.])"
     },
     "execution_count": 9,
     "metadata": {},
     "output_type": "execute_result"
    }
   ],
   "source": [
    "df['YearsCodePro'].unique()"
   ]
  },
  {
   "cell_type": "markdown",
   "id": "e20d5f81-85fd-4d06-acb4-4b4a265f5e6e",
   "metadata": {},
   "source": [
    "Split Categories Features"
   ]
  },
  {
   "cell_type": "code",
   "execution_count": 10,
   "id": "fb0c031d-725e-44fe-94a8-9b712c57a67b",
   "metadata": {
    "ExecuteTime": {
     "end_time": "2023-09-11T12:59:46.149353300Z",
     "start_time": "2023-09-11T12:59:35.230134Z"
    }
   },
   "outputs": [],
   "source": [
    "cat_features = df.select_dtypes(include='object').columns.to_list()\n",
    "for col in cat_features:\n",
    "    if(df[col].str.contains(\";\").any()):\n",
    "        df[col] = split_answers(df[col] , \";\")\n",
    "    else :\n",
    "        df[col] = split_answers(df[col] , \",\")\n"
   ]
  },
  {
   "cell_type": "code",
   "execution_count": 11,
   "id": "a6edd6e0-5990-470f-b884-802a6d022b89",
   "metadata": {
    "ExecuteTime": {
     "end_time": "2023-09-11T13:00:07.386723800Z",
     "start_time": "2023-09-11T13:00:07.291695900Z"
    }
   },
   "outputs": [
    {
     "name": "stdout",
     "output_type": "stream",
     "text": [
      "Delphi\n",
      "['Delphi']\n"
     ]
    }
   ],
   "source": [
    "i = df.sample(1).index[0]\n",
    "print(raw_df['LanguageHaveWorkedWith'].iloc[i])\n",
    "print(df['LanguageHaveWorkedWith'].iloc[i])"
   ]
  },
  {
   "cell_type": "code",
   "execution_count": 12,
   "id": "8d5df5b6-deb5-4c67-8f5f-6b0c1d18f9a7",
   "metadata": {
    "scrolled": true,
    "ExecuteTime": {
     "end_time": "2023-09-11T13:00:12.641513600Z",
     "start_time": "2023-09-11T13:00:12.610118300Z"
    }
   },
   "outputs": [
    {
     "name": "stdout",
     "output_type": "stream",
     "text": [
      "Developer, front-end\n",
      "['Developer', ' front-end']\n"
     ]
    }
   ],
   "source": [
    "i = df.sample(1).index[0]\n",
    "print(raw_df['DevType'].iloc[i])\n",
    "print(df['DevType'].iloc[i])"
   ]
  },
  {
   "cell_type": "markdown",
   "id": "ed5a5183-0f7b-4110-b84d-a6c399891701",
   "metadata": {},
   "source": [
    "EXPORT DATA"
   ]
  },
  {
   "cell_type": "code",
   "execution_count": 13,
   "id": "311b2489-1292-4e10-a1c3-86b66bfcd997",
   "metadata": {
    "ExecuteTime": {
     "end_time": "2023-09-11T13:00:32.414106Z",
     "start_time": "2023-09-11T13:00:26.217898500Z"
    }
   },
   "outputs": [],
   "source": [
    "df.to_pickle(EXPORT_PATH)"
   ]
  },
  {
   "cell_type": "code",
   "execution_count": null,
   "id": "ab820451-06d9-43ea-8ba0-56308198fab0",
   "metadata": {},
   "outputs": [],
   "source": []
  }
 ],
 "metadata": {
  "kernelspec": {
   "display_name": "Python 3 (ipykernel)",
   "language": "python",
   "name": "python3"
  },
  "language_info": {
   "codemirror_mode": {
    "name": "ipython",
    "version": 3
   },
   "file_extension": ".py",
   "mimetype": "text/x-python",
   "name": "python",
   "nbconvert_exporter": "python",
   "pygments_lexer": "ipython3",
   "version": "3.11.1"
  }
 },
 "nbformat": 4,
 "nbformat_minor": 5
}
