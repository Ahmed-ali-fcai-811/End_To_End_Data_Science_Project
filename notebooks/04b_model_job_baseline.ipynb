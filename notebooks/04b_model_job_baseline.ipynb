{
 "cells": [
  {
   "cell_type": "code",
   "execution_count": 2,
   "id": "initial_id",
   "metadata": {
    "collapsed": true,
    "ExecuteTime": {
     "end_time": "2023-10-01T18:02:33.946746700Z",
     "start_time": "2023-10-01T18:02:33.821770800Z"
    }
   },
   "outputs": [],
   "source": [
    "DF_PATH       = \"../data/processed/2_cleaned_data.pkl\"\n",
    "\n",
    "ROLE_COLS      = ['DevType']\n",
    "TECH_COLS      = ['LanguageHaveWorkedWith',\n",
    "                  'DatabaseHaveWorkedWith',\n",
    "                  'PlatformHaveWorkedWith',\n",
    "                  'WebframeHaveWorkedWith',\n",
    "                  'MiscTechHaveWorkedWith',\n",
    "                  'ToolsTechHaveWorkedWith',\n",
    "                  'NEWCollabToolsHaveWorkedWith']\n",
    "\n",
    "MLFLOW_TRACKING_URI = '../models/mlruns'\n",
    "MLFLOW_EXPERIMENT_NAME = \"skills_jobs_stackoverflow\"\n",
    "\n",
    "LOG_PATH = \"../models/temp/\"\n",
    "LOG_DATA_PKL    =  \"data.pkl\"\n",
    "LOG_MODEL_PKL   =  \"model.pkl\"\n",
    "LOG_METRICS_PKL =  \"metrics.pkl\"\n"
   ]
  },
  {
   "cell_type": "code",
   "execution_count": 3,
   "outputs": [],
   "source": [
    "import pandas as pd\n",
    "import numpy as np\n",
    "import matplotlib.pyplot as plt\n",
    "import seaborn as sns\n",
    "import os\n",
    "import pickle\n",
    "from pathlib import Path\n",
    "\n",
    "import mlflow\n",
    "from  mlflow.tracking import MlflowClient\n",
    "\n",
    "\n",
    "from sklearn.model_selection import train_test_split\n",
    "from sklearn.pipeline import make_pipeline\n",
    "\n",
    "    \n",
    "from sklearn.linear_model import LogisticRegression\n",
    "from sklearn.multioutput import MultiOutputClassifier\n",
    "from sklearn.preprocessing import StandardScaler\n",
    "\n",
    "\n",
    "from sklearn.metrics import accuracy_score, precision_score, recall_score, f1_score\n",
    "\n"
   ],
   "metadata": {
    "collapsed": false,
    "ExecuteTime": {
     "end_time": "2023-10-01T18:02:35.233874600Z",
     "start_time": "2023-10-01T18:02:33.837370400Z"
    }
   },
   "id": "a489015f57822910"
  },
  {
   "cell_type": "code",
   "execution_count": 4,
   "outputs": [
    {
     "data": {
      "text/plain": "                  DevType                                           \\\n      Academic researcher Blockchain Cloud infrastructure engineer   \n1                       0          0                             0   \n2                       0          0                             0   \n3                       0          0                             0   \n4                       0          0                             0   \n5                       0          0                             0   \n...                   ...        ...                           ...   \n89179                   0          0                             0   \n89180                   0          0                             0   \n89181                   0          0                             0   \n89182                   0          0                             0   \n89183                   0          0                             0   \n\n                                                                              \\\n      Data or business analyst Data scientist or machine learning specialist   \n1                            0                                             0   \n2                            0                                             0   \n3                            0                                             0   \n4                            0                                             0   \n5                            0                                             0   \n...                        ...                                           ...   \n89179                        0                                             0   \n89180                        0                                             0   \n89181                        0                                             0   \n89182                        0                                             0   \n89183                        0                                             0   \n\n                                                                   \\\n      Database administrator DevOps specialist Developer Advocate   \n1                          0                 0                  0   \n2                          0                 0                  0   \n3                          0                 0                  0   \n4                          0                 0                  0   \n5                          0                 0                  0   \n...                      ...               ...                ...   \n89179                      0                 0                  0   \n89180                      0                 0                  0   \n89181                      0                 0                  0   \n89182                      0                 0                  0   \n89183                      0                 0                  0   \n\n                                                  ... skills_clusters  \\\n      Developer Experience Developer, QA or test  ... skills_group_21   \n1                        0                     0  ...               0   \n2                        0                     0  ...               0   \n3                        0                     0  ...               0   \n4                        0                     0  ...               0   \n5                        0                     0  ...               0   \n...                    ...                   ...  ...             ...   \n89179                    0                     0  ...               0   \n89180                    0                     0  ...               0   \n89181                    0                     0  ...               0   \n89182                    0                     0  ...               0   \n89183                    0                     0  ...               0   \n\n                                                                     \\\n      skills_group_22 skills_group_23 skills_group_3 skills_group_4   \n1                   0               0              0              0   \n2                   1               0              0              1   \n3                   0               0              1              1   \n4                   0               0              0              0   \n5                   0               0              0              1   \n...               ...             ...            ...            ...   \n89179               0               0              0              3   \n89180               0               0              0              1   \n89181               0               0              0              2   \n89182               0               0              0              7   \n89183               0               0              0             10   \n\n                                                                   \\\n      skills_group_5 skills_group_6 skills_group_7 skills_group_8   \n1                  0              0              0              0   \n2                  0              0              0              0   \n3                  1              0              0              0   \n4                  0              0              0              0   \n5                  0              0              0              0   \n...              ...            ...            ...            ...   \n89179              8              0              1              0   \n89180              5              0              1              0   \n89181              0              0              0              0   \n89182              3              0              0              0   \n89183              0              0              0              0   \n\n                      \n      skills_group_9  \n1                  0  \n2                  1  \n3                  0  \n4                  0  \n5                  0  \n...              ...  \n89179              0  \n89180              0  \n89181              0  \n89182              0  \n89183              1  \n\n[84095 rows x 318 columns]",
      "text/html": "<div>\n<style scoped>\n    .dataframe tbody tr th:only-of-type {\n        vertical-align: middle;\n    }\n\n    .dataframe tbody tr th {\n        vertical-align: top;\n    }\n\n    .dataframe thead tr th {\n        text-align: left;\n    }\n</style>\n<table border=\"1\" class=\"dataframe\">\n  <thead>\n    <tr>\n      <th></th>\n      <th colspan=\"10\" halign=\"left\">DevType</th>\n      <th>...</th>\n      <th colspan=\"10\" halign=\"left\">skills_clusters</th>\n    </tr>\n    <tr>\n      <th></th>\n      <th>Academic researcher</th>\n      <th>Blockchain</th>\n      <th>Cloud infrastructure engineer</th>\n      <th>Data or business analyst</th>\n      <th>Data scientist or machine learning specialist</th>\n      <th>Database administrator</th>\n      <th>DevOps specialist</th>\n      <th>Developer Advocate</th>\n      <th>Developer Experience</th>\n      <th>Developer, QA or test</th>\n      <th>...</th>\n      <th>skills_group_21</th>\n      <th>skills_group_22</th>\n      <th>skills_group_23</th>\n      <th>skills_group_3</th>\n      <th>skills_group_4</th>\n      <th>skills_group_5</th>\n      <th>skills_group_6</th>\n      <th>skills_group_7</th>\n      <th>skills_group_8</th>\n      <th>skills_group_9</th>\n    </tr>\n  </thead>\n  <tbody>\n    <tr>\n      <th>1</th>\n      <td>0</td>\n      <td>0</td>\n      <td>0</td>\n      <td>0</td>\n      <td>0</td>\n      <td>0</td>\n      <td>0</td>\n      <td>0</td>\n      <td>0</td>\n      <td>0</td>\n      <td>...</td>\n      <td>0</td>\n      <td>0</td>\n      <td>0</td>\n      <td>0</td>\n      <td>0</td>\n      <td>0</td>\n      <td>0</td>\n      <td>0</td>\n      <td>0</td>\n      <td>0</td>\n    </tr>\n    <tr>\n      <th>2</th>\n      <td>0</td>\n      <td>0</td>\n      <td>0</td>\n      <td>0</td>\n      <td>0</td>\n      <td>0</td>\n      <td>0</td>\n      <td>0</td>\n      <td>0</td>\n      <td>0</td>\n      <td>...</td>\n      <td>0</td>\n      <td>1</td>\n      <td>0</td>\n      <td>0</td>\n      <td>1</td>\n      <td>0</td>\n      <td>0</td>\n      <td>0</td>\n      <td>0</td>\n      <td>1</td>\n    </tr>\n    <tr>\n      <th>3</th>\n      <td>0</td>\n      <td>0</td>\n      <td>0</td>\n      <td>0</td>\n      <td>0</td>\n      <td>0</td>\n      <td>0</td>\n      <td>0</td>\n      <td>0</td>\n      <td>0</td>\n      <td>...</td>\n      <td>0</td>\n      <td>0</td>\n      <td>0</td>\n      <td>1</td>\n      <td>1</td>\n      <td>1</td>\n      <td>0</td>\n      <td>0</td>\n      <td>0</td>\n      <td>0</td>\n    </tr>\n    <tr>\n      <th>4</th>\n      <td>0</td>\n      <td>0</td>\n      <td>0</td>\n      <td>0</td>\n      <td>0</td>\n      <td>0</td>\n      <td>0</td>\n      <td>0</td>\n      <td>0</td>\n      <td>0</td>\n      <td>...</td>\n      <td>0</td>\n      <td>0</td>\n      <td>0</td>\n      <td>0</td>\n      <td>0</td>\n      <td>0</td>\n      <td>0</td>\n      <td>0</td>\n      <td>0</td>\n      <td>0</td>\n    </tr>\n    <tr>\n      <th>5</th>\n      <td>0</td>\n      <td>0</td>\n      <td>0</td>\n      <td>0</td>\n      <td>0</td>\n      <td>0</td>\n      <td>0</td>\n      <td>0</td>\n      <td>0</td>\n      <td>0</td>\n      <td>...</td>\n      <td>0</td>\n      <td>0</td>\n      <td>0</td>\n      <td>0</td>\n      <td>1</td>\n      <td>0</td>\n      <td>0</td>\n      <td>0</td>\n      <td>0</td>\n      <td>0</td>\n    </tr>\n    <tr>\n      <th>...</th>\n      <td>...</td>\n      <td>...</td>\n      <td>...</td>\n      <td>...</td>\n      <td>...</td>\n      <td>...</td>\n      <td>...</td>\n      <td>...</td>\n      <td>...</td>\n      <td>...</td>\n      <td>...</td>\n      <td>...</td>\n      <td>...</td>\n      <td>...</td>\n      <td>...</td>\n      <td>...</td>\n      <td>...</td>\n      <td>...</td>\n      <td>...</td>\n      <td>...</td>\n      <td>...</td>\n    </tr>\n    <tr>\n      <th>89179</th>\n      <td>0</td>\n      <td>0</td>\n      <td>0</td>\n      <td>0</td>\n      <td>0</td>\n      <td>0</td>\n      <td>0</td>\n      <td>0</td>\n      <td>0</td>\n      <td>0</td>\n      <td>...</td>\n      <td>0</td>\n      <td>0</td>\n      <td>0</td>\n      <td>0</td>\n      <td>3</td>\n      <td>8</td>\n      <td>0</td>\n      <td>1</td>\n      <td>0</td>\n      <td>0</td>\n    </tr>\n    <tr>\n      <th>89180</th>\n      <td>0</td>\n      <td>0</td>\n      <td>0</td>\n      <td>0</td>\n      <td>0</td>\n      <td>0</td>\n      <td>0</td>\n      <td>0</td>\n      <td>0</td>\n      <td>0</td>\n      <td>...</td>\n      <td>0</td>\n      <td>0</td>\n      <td>0</td>\n      <td>0</td>\n      <td>1</td>\n      <td>5</td>\n      <td>0</td>\n      <td>1</td>\n      <td>0</td>\n      <td>0</td>\n    </tr>\n    <tr>\n      <th>89181</th>\n      <td>0</td>\n      <td>0</td>\n      <td>0</td>\n      <td>0</td>\n      <td>0</td>\n      <td>0</td>\n      <td>0</td>\n      <td>0</td>\n      <td>0</td>\n      <td>0</td>\n      <td>...</td>\n      <td>0</td>\n      <td>0</td>\n      <td>0</td>\n      <td>0</td>\n      <td>2</td>\n      <td>0</td>\n      <td>0</td>\n      <td>0</td>\n      <td>0</td>\n      <td>0</td>\n    </tr>\n    <tr>\n      <th>89182</th>\n      <td>0</td>\n      <td>0</td>\n      <td>0</td>\n      <td>0</td>\n      <td>0</td>\n      <td>0</td>\n      <td>0</td>\n      <td>0</td>\n      <td>0</td>\n      <td>0</td>\n      <td>...</td>\n      <td>0</td>\n      <td>0</td>\n      <td>0</td>\n      <td>0</td>\n      <td>7</td>\n      <td>3</td>\n      <td>0</td>\n      <td>0</td>\n      <td>0</td>\n      <td>0</td>\n    </tr>\n    <tr>\n      <th>89183</th>\n      <td>0</td>\n      <td>0</td>\n      <td>0</td>\n      <td>0</td>\n      <td>0</td>\n      <td>0</td>\n      <td>0</td>\n      <td>0</td>\n      <td>0</td>\n      <td>0</td>\n      <td>...</td>\n      <td>0</td>\n      <td>0</td>\n      <td>0</td>\n      <td>0</td>\n      <td>10</td>\n      <td>0</td>\n      <td>0</td>\n      <td>0</td>\n      <td>0</td>\n      <td>1</td>\n    </tr>\n  </tbody>\n</table>\n<p>84095 rows × 318 columns</p>\n</div>"
     },
     "execution_count": 4,
     "metadata": {},
     "output_type": "execute_result"
    }
   ],
   "source": [
    "df = pd.read_pickle(DF_PATH)\n",
    "df"
   ],
   "metadata": {
    "collapsed": false,
    "ExecuteTime": {
     "end_time": "2023-10-01T18:02:35.374418300Z",
     "start_time": "2023-10-01T18:02:35.233874600Z"
    }
   },
   "id": "6e31c885eda0a2e8"
  },
  {
   "cell_type": "code",
   "execution_count": 5,
   "outputs": [
    {
     "data": {
      "text/plain": "Academic researcher                               1279\nBlockchain                                         299\nCloud infrastructure engineer                      994\nData or business analyst                           795\nData scientist or machine learning specialist     1528\nDatabase administrator                             243\nDevOps specialist                                 1319\nDeveloper Advocate                                 200\nDeveloper Experience                               308\nDeveloper, QA or test                              571\nDeveloper, back-end                              13402\nDeveloper, desktop or enterprise applications     3765\nDeveloper, embedded applications or devices       1807\nDeveloper, front-end                              4974\nDeveloper, full-stack                            24630\nDeveloper, game or graphics                        838\nDeveloper, mobile                                 2519\nEngineer, data                                    1195\nHardware Engineer                                  268\nProject manager                                    551\nResearch & Development role                       1282\nScientist                                          336\nSecurity professional                              430\nSystem administrator                               704\ndtype: int64"
     },
     "execution_count": 5,
     "metadata": {},
     "output_type": "execute_result"
    }
   ],
   "source": [
    "roles_df = df['DevType'].copy()\n",
    "roles_df.sum(axis=0)"
   ],
   "metadata": {
    "collapsed": false,
    "ExecuteTime": {
     "end_time": "2023-10-01T18:02:35.413096600Z",
     "start_time": "2023-10-01T18:02:35.358786Z"
    }
   },
   "id": "f29cd02b421f8970"
  },
  {
   "cell_type": "code",
   "execution_count": 6,
   "outputs": [],
   "source": [
    "Sample_per_class = 1200\n",
    "resampled_roles = []\n",
    "\n",
    "for role in roles_df.columns :\n",
    "    sub_df = roles_df.loc[roles_df[role]==1].copy()\n",
    "    \n",
    "    if len(sub_df) < Sample_per_class :\n",
    "        sub_df = sub_df.sample(Sample_per_class , replace = True , random_state = 42)\n",
    "    \n",
    "    else :\n",
    "        sub_df = sub_df.sample(Sample_per_class , random_state = 42)\n",
    "    \n",
    "    resampled_roles.append(sub_df)\n",
    "        \n",
    "roles_df = pd.concat(resampled_roles)"
   ],
   "metadata": {
    "collapsed": false,
    "ExecuteTime": {
     "end_time": "2023-10-01T18:02:35.788410200Z",
     "start_time": "2023-10-01T18:02:35.390031200Z"
    }
   },
   "id": "8ed5b402d5837ebd"
  },
  {
   "cell_type": "code",
   "execution_count": 7,
   "outputs": [],
   "source": [
    "df = df.loc[roles_df.index].copy()"
   ],
   "metadata": {
    "collapsed": false,
    "ExecuteTime": {
     "end_time": "2023-10-01T18:02:35.788410200Z",
     "start_time": "2023-10-01T18:02:35.460012900Z"
    }
   },
   "id": "246cb739f382ec88"
  },
  {
   "cell_type": "code",
   "execution_count": 8,
   "outputs": [
    {
     "data": {
      "text/plain": "Academic researcher                              1200\nBlockchain                                       1200\nCloud infrastructure engineer                    1200\nData or business analyst                         1200\nData scientist or machine learning specialist    1200\nDatabase administrator                           1200\nDevOps specialist                                1200\nDeveloper Advocate                               1200\nDeveloper Experience                             1200\nDeveloper, QA or test                            1200\nDeveloper, back-end                              1200\nDeveloper, desktop or enterprise applications    1200\nDeveloper, embedded applications or devices      1200\nDeveloper, front-end                             1200\nDeveloper, full-stack                            1200\nDeveloper, game or graphics                      1200\nDeveloper, mobile                                1200\nEngineer, data                                   1200\nHardware Engineer                                1200\nProject manager                                  1200\nResearch & Development role                      1200\nScientist                                        1200\nSecurity professional                            1200\nSystem administrator                             1200\ndtype: int64"
     },
     "execution_count": 8,
     "metadata": {},
     "output_type": "execute_result"
    }
   ],
   "source": [
    "roles_df.sum(axis = 0)"
   ],
   "metadata": {
    "collapsed": false,
    "ExecuteTime": {
     "end_time": "2023-10-01T18:02:35.788410200Z",
     "start_time": "2023-10-01T18:02:35.553762100Z"
    }
   },
   "id": "700064742cf8c680"
  },
  {
   "cell_type": "code",
   "execution_count": 9,
   "outputs": [
    {
     "name": "stderr",
     "output_type": "stream",
     "text": [
      "C:\\Users\\aly86\\AppData\\Local\\Temp\\ipykernel_20088\\1303155953.py:1: PerformanceWarning: dropping on a non-lexsorted multi-index without a level parameter may impact performance.\n",
      "  X_train, X_test, y_train, y_test = train_test_split( df.drop('DevType' , axis = 1), df['DevType'], test_size=0.33, random_state=42)\n"
     ]
    }
   ],
   "source": [
    "\n",
    "X_train, X_test, y_train, y_test = train_test_split( df.drop('DevType' , axis = 1), df['DevType'], test_size=0.33, random_state=42)"
   ],
   "metadata": {
    "collapsed": false,
    "ExecuteTime": {
     "end_time": "2023-10-01T18:02:35.788410200Z",
     "start_time": "2023-10-01T18:02:35.569350500Z"
    }
   },
   "id": "48d8ff40ce214ec1"
  },
  {
   "cell_type": "markdown",
   "source": [
    "# Initialize MLflow"
   ],
   "metadata": {
    "collapsed": false
   },
   "id": "c5c88c82445e1571"
  },
  {
   "cell_type": "code",
   "execution_count": 10,
   "outputs": [],
   "source": [
    "Path(MLFLOW_TRACKING_URI).mkdir(parents=True , exist_ok=True)\n",
    "Path(LOG_PATH).mkdir(parents=True , exist_ok=True)"
   ],
   "metadata": {
    "collapsed": false,
    "ExecuteTime": {
     "end_time": "2023-10-01T18:02:35.788410200Z",
     "start_time": "2023-10-01T18:02:35.647783900Z"
    }
   },
   "id": "322e37cc79745c3e"
  },
  {
   "cell_type": "code",
   "execution_count": 11,
   "outputs": [],
   "source": [
    "mlflow.set_tracking_uri(MLFLOW_TRACKING_URI)\n",
    "client = MlflowClient()\n",
    "mlflow.get_experiment_by_name(MLFLOW_EXPERIMENT_NAME)\n",
    "# Check if the experiment exists\n",
    "exp = None\n",
    "if exp is None:\n",
    "    # Initialize a new experiment\n",
    "    exp = client.get_experiment_by_name(MLFLOW_EXPERIMENT_NAME)\n"
   ],
   "metadata": {
    "collapsed": false,
    "ExecuteTime": {
     "end_time": "2023-10-01T18:02:35.788410200Z",
     "start_time": "2023-10-01T18:02:35.663412Z"
    }
   },
   "id": "856b11d63b327eef"
  },
  {
   "cell_type": "markdown",
   "source": [
    "### Logistic regression ( Vanilla Model )"
   ],
   "metadata": {
    "collapsed": false
   },
   "id": "e4fa16a3a1d6f378"
  },
  {
   "cell_type": "code",
   "execution_count": 24,
   "outputs": [
    {
     "name": "stderr",
     "output_type": "stream",
     "text": [
      "D:\\End to End Data Science Projects\\lib\\site-packages\\sklearn\\linear_model\\_logistic.py:460: ConvergenceWarning: lbfgs failed to converge (status=1):\n",
      "STOP: TOTAL NO. of ITERATIONS REACHED LIMIT.\n",
      "\n",
      "Increase the number of iterations (max_iter) or scale the data as shown in:\n",
      "    https://scikit-learn.org/stable/modules/preprocessing.html\n",
      "Please also refer to the documentation for alternative solver options:\n",
      "    https://scikit-learn.org/stable/modules/linear_model.html#logistic-regression\n",
      "  n_iter_i = _check_optimize_result(\n",
      "D:\\End to End Data Science Projects\\lib\\site-packages\\sklearn\\linear_model\\_logistic.py:460: ConvergenceWarning: lbfgs failed to converge (status=1):\n",
      "STOP: TOTAL NO. of ITERATIONS REACHED LIMIT.\n",
      "\n",
      "Increase the number of iterations (max_iter) or scale the data as shown in:\n",
      "    https://scikit-learn.org/stable/modules/preprocessing.html\n",
      "Please also refer to the documentation for alternative solver options:\n",
      "    https://scikit-learn.org/stable/modules/linear_model.html#logistic-regression\n",
      "  n_iter_i = _check_optimize_result(\n",
      "D:\\End to End Data Science Projects\\lib\\site-packages\\sklearn\\linear_model\\_logistic.py:460: ConvergenceWarning: lbfgs failed to converge (status=1):\n",
      "STOP: TOTAL NO. of ITERATIONS REACHED LIMIT.\n",
      "\n",
      "Increase the number of iterations (max_iter) or scale the data as shown in:\n",
      "    https://scikit-learn.org/stable/modules/preprocessing.html\n",
      "Please also refer to the documentation for alternative solver options:\n",
      "    https://scikit-learn.org/stable/modules/linear_model.html#logistic-regression\n",
      "  n_iter_i = _check_optimize_result(\n",
      "D:\\End to End Data Science Projects\\lib\\site-packages\\sklearn\\linear_model\\_logistic.py:460: ConvergenceWarning: lbfgs failed to converge (status=1):\n",
      "STOP: TOTAL NO. of ITERATIONS REACHED LIMIT.\n",
      "\n",
      "Increase the number of iterations (max_iter) or scale the data as shown in:\n",
      "    https://scikit-learn.org/stable/modules/preprocessing.html\n",
      "Please also refer to the documentation for alternative solver options:\n",
      "    https://scikit-learn.org/stable/modules/linear_model.html#logistic-regression\n",
      "  n_iter_i = _check_optimize_result(\n",
      "D:\\End to End Data Science Projects\\lib\\site-packages\\sklearn\\linear_model\\_logistic.py:460: ConvergenceWarning: lbfgs failed to converge (status=1):\n",
      "STOP: TOTAL NO. of ITERATIONS REACHED LIMIT.\n",
      "\n",
      "Increase the number of iterations (max_iter) or scale the data as shown in:\n",
      "    https://scikit-learn.org/stable/modules/preprocessing.html\n",
      "Please also refer to the documentation for alternative solver options:\n",
      "    https://scikit-learn.org/stable/modules/linear_model.html#logistic-regression\n",
      "  n_iter_i = _check_optimize_result(\n",
      "D:\\End to End Data Science Projects\\lib\\site-packages\\sklearn\\linear_model\\_logistic.py:460: ConvergenceWarning: lbfgs failed to converge (status=1):\n",
      "STOP: TOTAL NO. of ITERATIONS REACHED LIMIT.\n",
      "\n",
      "Increase the number of iterations (max_iter) or scale the data as shown in:\n",
      "    https://scikit-learn.org/stable/modules/preprocessing.html\n",
      "Please also refer to the documentation for alternative solver options:\n",
      "    https://scikit-learn.org/stable/modules/linear_model.html#logistic-regression\n",
      "  n_iter_i = _check_optimize_result(\n",
      "D:\\End to End Data Science Projects\\lib\\site-packages\\sklearn\\linear_model\\_logistic.py:460: ConvergenceWarning: lbfgs failed to converge (status=1):\n",
      "STOP: TOTAL NO. of ITERATIONS REACHED LIMIT.\n",
      "\n",
      "Increase the number of iterations (max_iter) or scale the data as shown in:\n",
      "    https://scikit-learn.org/stable/modules/preprocessing.html\n",
      "Please also refer to the documentation for alternative solver options:\n",
      "    https://scikit-learn.org/stable/modules/linear_model.html#logistic-regression\n",
      "  n_iter_i = _check_optimize_result(\n",
      "D:\\End to End Data Science Projects\\lib\\site-packages\\sklearn\\linear_model\\_logistic.py:460: ConvergenceWarning: lbfgs failed to converge (status=1):\n",
      "STOP: TOTAL NO. of ITERATIONS REACHED LIMIT.\n",
      "\n",
      "Increase the number of iterations (max_iter) or scale the data as shown in:\n",
      "    https://scikit-learn.org/stable/modules/preprocessing.html\n",
      "Please also refer to the documentation for alternative solver options:\n",
      "    https://scikit-learn.org/stable/modules/linear_model.html#logistic-regression\n",
      "  n_iter_i = _check_optimize_result(\n",
      "D:\\End to End Data Science Projects\\lib\\site-packages\\sklearn\\linear_model\\_logistic.py:460: ConvergenceWarning: lbfgs failed to converge (status=1):\n",
      "STOP: TOTAL NO. of ITERATIONS REACHED LIMIT.\n",
      "\n",
      "Increase the number of iterations (max_iter) or scale the data as shown in:\n",
      "    https://scikit-learn.org/stable/modules/preprocessing.html\n",
      "Please also refer to the documentation for alternative solver options:\n",
      "    https://scikit-learn.org/stable/modules/linear_model.html#logistic-regression\n",
      "  n_iter_i = _check_optimize_result(\n",
      "D:\\End to End Data Science Projects\\lib\\site-packages\\sklearn\\linear_model\\_logistic.py:460: ConvergenceWarning: lbfgs failed to converge (status=1):\n",
      "STOP: TOTAL NO. of ITERATIONS REACHED LIMIT.\n",
      "\n",
      "Increase the number of iterations (max_iter) or scale the data as shown in:\n",
      "    https://scikit-learn.org/stable/modules/preprocessing.html\n",
      "Please also refer to the documentation for alternative solver options:\n",
      "    https://scikit-learn.org/stable/modules/linear_model.html#logistic-regression\n",
      "  n_iter_i = _check_optimize_result(\n",
      "D:\\End to End Data Science Projects\\lib\\site-packages\\sklearn\\linear_model\\_logistic.py:460: ConvergenceWarning: lbfgs failed to converge (status=1):\n",
      "STOP: TOTAL NO. of ITERATIONS REACHED LIMIT.\n",
      "\n",
      "Increase the number of iterations (max_iter) or scale the data as shown in:\n",
      "    https://scikit-learn.org/stable/modules/preprocessing.html\n",
      "Please also refer to the documentation for alternative solver options:\n",
      "    https://scikit-learn.org/stable/modules/linear_model.html#logistic-regression\n",
      "  n_iter_i = _check_optimize_result(\n",
      "D:\\End to End Data Science Projects\\lib\\site-packages\\sklearn\\linear_model\\_logistic.py:460: ConvergenceWarning: lbfgs failed to converge (status=1):\n",
      "STOP: TOTAL NO. of ITERATIONS REACHED LIMIT.\n",
      "\n",
      "Increase the number of iterations (max_iter) or scale the data as shown in:\n",
      "    https://scikit-learn.org/stable/modules/preprocessing.html\n",
      "Please also refer to the documentation for alternative solver options:\n",
      "    https://scikit-learn.org/stable/modules/linear_model.html#logistic-regression\n",
      "  n_iter_i = _check_optimize_result(\n"
     ]
    }
   ],
   "source": [
    "clf = make_pipeline(StandardScaler(),\n",
    "                    MultiOutputClassifier(LogisticRegression()))\n",
    "\n",
    "clf.fit(X_train.values, y_train.values)\n",
    "predictions =  pd.DataFrame(clf.predict(X_train.values),columns=y_train.columns)"
   ],
   "metadata": {
    "collapsed": false,
    "ExecuteTime": {
     "end_time": "2023-10-01T18:05:08.585885300Z",
     "start_time": "2023-10-01T18:04:38.442458200Z"
    }
   },
   "id": "6011a07763059002"
  },
  {
   "cell_type": "code",
   "execution_count": 25,
   "outputs": [
    {
     "data": {
      "text/plain": "       Academic researcher  Blockchain  Cloud infrastructure engineer  \\\n0                        0           0                              0   \n1                        0           0                              0   \n2                        0           0                              0   \n3                        0           0                              0   \n4                        0           0                              0   \n...                    ...         ...                            ...   \n19291                    0           0                              0   \n19292                    0           0                              0   \n19293                    0           0                              0   \n19294                    0           0                              0   \n19295                    0           0                              0   \n\n       Data or business analyst  \\\n0                             0   \n1                             0   \n2                             0   \n3                             0   \n4                             0   \n...                         ...   \n19291                         0   \n19292                         0   \n19293                         0   \n19294                         0   \n19295                         0   \n\n       Data scientist or machine learning specialist  Database administrator  \\\n0                                                  0                       1   \n1                                                  0                       0   \n2                                                  0                       0   \n3                                                  0                       0   \n4                                                  0                       0   \n...                                              ...                     ...   \n19291                                              0                       0   \n19292                                              1                       0   \n19293                                              0                       0   \n19294                                              0                       0   \n19295                                              0                       0   \n\n       DevOps specialist  Developer Advocate  Developer Experience  \\\n0                      0                   0                     0   \n1                      0                   0                     0   \n2                      0                   0                     0   \n3                      0                   0                     0   \n4                      0                   0                     0   \n...                  ...                 ...                   ...   \n19291                  0                   0                     0   \n19292                  0                   0                     0   \n19293                  0                   0                     0   \n19294                  0                   0                     0   \n19295                  0                   0                     0   \n\n       Developer, QA or test  ...  Developer, full-stack  \\\n0                          0  ...                      0   \n1                          0  ...                      0   \n2                          0  ...                      0   \n3                          0  ...                      0   \n4                          0  ...                      0   \n...                      ...  ...                    ...   \n19291                      0  ...                      0   \n19292                      0  ...                      0   \n19293                      0  ...                      0   \n19294                      0  ...                      0   \n19295                      0  ...                      0   \n\n       Developer, game or graphics  Developer, mobile  Engineer, data  \\\n0                                0                  0               0   \n1                                0                  0               0   \n2                                0                  0               0   \n3                                0                  0               0   \n4                                0                  0               0   \n...                            ...                ...             ...   \n19291                            0                  0               0   \n19292                            0                  0               0   \n19293                            0                  0               0   \n19294                            0                  0               0   \n19295                            0                  0               0   \n\n       Hardware Engineer  Project manager  Research & Development role  \\\n0                      0                0                            0   \n1                      0                0                            0   \n2                      0                0                            0   \n3                      0                0                            0   \n4                      0                0                            0   \n...                  ...              ...                          ...   \n19291                  0                0                            0   \n19292                  0                0                            0   \n19293                  0                0                            0   \n19294                  0                0                            0   \n19295                  0                0                            0   \n\n       Scientist  Security professional  System administrator  \n0              0                      0                     1  \n1              0                      0                     0  \n2              0                      0                     0  \n3              0                      0                     0  \n4              0                      0                     0  \n...          ...                    ...                   ...  \n19291          0                      0                     0  \n19292          0                      0                     0  \n19293          0                      0                     0  \n19294          0                      0                     0  \n19295          0                      0                     0  \n\n[19296 rows x 24 columns]",
      "text/html": "<div>\n<style scoped>\n    .dataframe tbody tr th:only-of-type {\n        vertical-align: middle;\n    }\n\n    .dataframe tbody tr th {\n        vertical-align: top;\n    }\n\n    .dataframe thead th {\n        text-align: right;\n    }\n</style>\n<table border=\"1\" class=\"dataframe\">\n  <thead>\n    <tr style=\"text-align: right;\">\n      <th></th>\n      <th>Academic researcher</th>\n      <th>Blockchain</th>\n      <th>Cloud infrastructure engineer</th>\n      <th>Data or business analyst</th>\n      <th>Data scientist or machine learning specialist</th>\n      <th>Database administrator</th>\n      <th>DevOps specialist</th>\n      <th>Developer Advocate</th>\n      <th>Developer Experience</th>\n      <th>Developer, QA or test</th>\n      <th>...</th>\n      <th>Developer, full-stack</th>\n      <th>Developer, game or graphics</th>\n      <th>Developer, mobile</th>\n      <th>Engineer, data</th>\n      <th>Hardware Engineer</th>\n      <th>Project manager</th>\n      <th>Research &amp; Development role</th>\n      <th>Scientist</th>\n      <th>Security professional</th>\n      <th>System administrator</th>\n    </tr>\n  </thead>\n  <tbody>\n    <tr>\n      <th>0</th>\n      <td>0</td>\n      <td>0</td>\n      <td>0</td>\n      <td>0</td>\n      <td>0</td>\n      <td>1</td>\n      <td>0</td>\n      <td>0</td>\n      <td>0</td>\n      <td>0</td>\n      <td>...</td>\n      <td>0</td>\n      <td>0</td>\n      <td>0</td>\n      <td>0</td>\n      <td>0</td>\n      <td>0</td>\n      <td>0</td>\n      <td>0</td>\n      <td>0</td>\n      <td>1</td>\n    </tr>\n    <tr>\n      <th>1</th>\n      <td>0</td>\n      <td>0</td>\n      <td>0</td>\n      <td>0</td>\n      <td>0</td>\n      <td>0</td>\n      <td>0</td>\n      <td>0</td>\n      <td>0</td>\n      <td>0</td>\n      <td>...</td>\n      <td>0</td>\n      <td>0</td>\n      <td>0</td>\n      <td>0</td>\n      <td>0</td>\n      <td>0</td>\n      <td>0</td>\n      <td>0</td>\n      <td>0</td>\n      <td>0</td>\n    </tr>\n    <tr>\n      <th>2</th>\n      <td>0</td>\n      <td>0</td>\n      <td>0</td>\n      <td>0</td>\n      <td>0</td>\n      <td>0</td>\n      <td>0</td>\n      <td>0</td>\n      <td>0</td>\n      <td>0</td>\n      <td>...</td>\n      <td>0</td>\n      <td>0</td>\n      <td>0</td>\n      <td>0</td>\n      <td>0</td>\n      <td>0</td>\n      <td>0</td>\n      <td>0</td>\n      <td>0</td>\n      <td>0</td>\n    </tr>\n    <tr>\n      <th>3</th>\n      <td>0</td>\n      <td>0</td>\n      <td>0</td>\n      <td>0</td>\n      <td>0</td>\n      <td>0</td>\n      <td>0</td>\n      <td>0</td>\n      <td>0</td>\n      <td>0</td>\n      <td>...</td>\n      <td>0</td>\n      <td>0</td>\n      <td>0</td>\n      <td>0</td>\n      <td>0</td>\n      <td>0</td>\n      <td>0</td>\n      <td>0</td>\n      <td>0</td>\n      <td>0</td>\n    </tr>\n    <tr>\n      <th>4</th>\n      <td>0</td>\n      <td>0</td>\n      <td>0</td>\n      <td>0</td>\n      <td>0</td>\n      <td>0</td>\n      <td>0</td>\n      <td>0</td>\n      <td>0</td>\n      <td>0</td>\n      <td>...</td>\n      <td>0</td>\n      <td>0</td>\n      <td>0</td>\n      <td>0</td>\n      <td>0</td>\n      <td>0</td>\n      <td>0</td>\n      <td>0</td>\n      <td>0</td>\n      <td>0</td>\n    </tr>\n    <tr>\n      <th>...</th>\n      <td>...</td>\n      <td>...</td>\n      <td>...</td>\n      <td>...</td>\n      <td>...</td>\n      <td>...</td>\n      <td>...</td>\n      <td>...</td>\n      <td>...</td>\n      <td>...</td>\n      <td>...</td>\n      <td>...</td>\n      <td>...</td>\n      <td>...</td>\n      <td>...</td>\n      <td>...</td>\n      <td>...</td>\n      <td>...</td>\n      <td>...</td>\n      <td>...</td>\n      <td>...</td>\n    </tr>\n    <tr>\n      <th>19291</th>\n      <td>0</td>\n      <td>0</td>\n      <td>0</td>\n      <td>0</td>\n      <td>0</td>\n      <td>0</td>\n      <td>0</td>\n      <td>0</td>\n      <td>0</td>\n      <td>0</td>\n      <td>...</td>\n      <td>0</td>\n      <td>0</td>\n      <td>0</td>\n      <td>0</td>\n      <td>0</td>\n      <td>0</td>\n      <td>0</td>\n      <td>0</td>\n      <td>0</td>\n      <td>0</td>\n    </tr>\n    <tr>\n      <th>19292</th>\n      <td>0</td>\n      <td>0</td>\n      <td>0</td>\n      <td>0</td>\n      <td>1</td>\n      <td>0</td>\n      <td>0</td>\n      <td>0</td>\n      <td>0</td>\n      <td>0</td>\n      <td>...</td>\n      <td>0</td>\n      <td>0</td>\n      <td>0</td>\n      <td>0</td>\n      <td>0</td>\n      <td>0</td>\n      <td>0</td>\n      <td>0</td>\n      <td>0</td>\n      <td>0</td>\n    </tr>\n    <tr>\n      <th>19293</th>\n      <td>0</td>\n      <td>0</td>\n      <td>0</td>\n      <td>0</td>\n      <td>0</td>\n      <td>0</td>\n      <td>0</td>\n      <td>0</td>\n      <td>0</td>\n      <td>0</td>\n      <td>...</td>\n      <td>0</td>\n      <td>0</td>\n      <td>0</td>\n      <td>0</td>\n      <td>0</td>\n      <td>0</td>\n      <td>0</td>\n      <td>0</td>\n      <td>0</td>\n      <td>0</td>\n    </tr>\n    <tr>\n      <th>19294</th>\n      <td>0</td>\n      <td>0</td>\n      <td>0</td>\n      <td>0</td>\n      <td>0</td>\n      <td>0</td>\n      <td>0</td>\n      <td>0</td>\n      <td>0</td>\n      <td>0</td>\n      <td>...</td>\n      <td>0</td>\n      <td>0</td>\n      <td>0</td>\n      <td>0</td>\n      <td>0</td>\n      <td>0</td>\n      <td>0</td>\n      <td>0</td>\n      <td>0</td>\n      <td>0</td>\n    </tr>\n    <tr>\n      <th>19295</th>\n      <td>0</td>\n      <td>0</td>\n      <td>0</td>\n      <td>0</td>\n      <td>0</td>\n      <td>0</td>\n      <td>0</td>\n      <td>0</td>\n      <td>0</td>\n      <td>0</td>\n      <td>...</td>\n      <td>0</td>\n      <td>0</td>\n      <td>0</td>\n      <td>0</td>\n      <td>0</td>\n      <td>0</td>\n      <td>0</td>\n      <td>0</td>\n      <td>0</td>\n      <td>0</td>\n    </tr>\n  </tbody>\n</table>\n<p>19296 rows × 24 columns</p>\n</div>"
     },
     "execution_count": 25,
     "metadata": {},
     "output_type": "execute_result"
    }
   ],
   "source": [
    "predictions"
   ],
   "metadata": {
    "collapsed": false,
    "ExecuteTime": {
     "end_time": "2023-10-01T18:05:08.652030300Z",
     "start_time": "2023-10-01T18:05:08.593443700Z"
    }
   },
   "id": "a063d7b324810f3a"
  },
  {
   "cell_type": "code",
   "execution_count": 26,
   "outputs": [],
   "source": [
    "def calculate_quality(ground_truth, predictions, metric_function, sort_values=False):\n",
    "    quality_scores = {}\n",
    "    for col in predictions.columns:\n",
    "        role_pred  = predictions[col].copy()\n",
    "        role_truth = ground_truth[col].copy()\n",
    "        quality_scores[col] = round(metric_function(role_truth, role_pred) * 100, 2)\n",
    "        \n",
    "    quality_scores = pd.Series(quality_scores.values(), index=quality_scores.keys())\n",
    "    if sort_values:\n",
    "        quality_scores = quality_scores.sort_values()\n",
    "    \n",
    "    return quality_scores"
   ],
   "metadata": {
    "collapsed": false,
    "ExecuteTime": {
     "end_time": "2023-10-01T18:05:08.652030300Z",
     "start_time": "2023-10-01T18:05:08.624115200Z"
    }
   },
   "id": "b4cee1332e3afdeb"
  },
  {
   "cell_type": "code",
   "execution_count": 27,
   "outputs": [],
   "source": [
    "# Evaluate on training set\n",
    "train_scores = {score.__name__: calculate_quality(y_train, predictions, score) \n",
    "                for score in [accuracy_score, precision_score, recall_score, f1_score]}\n",
    "train_scores = pd.concat(train_scores,axis=1)"
   ],
   "metadata": {
    "collapsed": false,
    "ExecuteTime": {
     "end_time": "2023-10-01T18:05:09.109196100Z",
     "start_time": "2023-10-01T18:05:08.624115200Z"
    }
   },
   "id": "b828c89eddad4c73"
  },
  {
   "cell_type": "code",
   "execution_count": 28,
   "outputs": [],
   "source": [
    "# Evaluate on test set\n",
    "predictions =  pd.DataFrame(clf.predict(X_test.values), columns=y_test.columns)\n",
    "test_scores = {score.__name__: calculate_quality(y_test, predictions, score) \n",
    "                for score in [accuracy_score, precision_score, recall_score, f1_score]}\n",
    "test_scores = pd.concat(test_scores,axis=1)\n",
    "mean_test_scores = test_scores.mean()"
   ],
   "metadata": {
    "collapsed": false,
    "ExecuteTime": {
     "end_time": "2023-10-01T18:05:09.773962100Z",
     "start_time": "2023-10-01T18:05:09.109196100Z"
    }
   },
   "id": "1f78482922aa3d73"
  },
  {
   "cell_type": "code",
   "execution_count": 29,
   "outputs": [
    {
     "data": {
      "text/plain": "accuracy_score     96.058333\nprecision_score    50.666667\nrecall_score       19.440000\nf1_score           26.272083\ndtype: float64"
     },
     "execution_count": 29,
     "metadata": {},
     "output_type": "execute_result"
    }
   ],
   "source": [
    "mean_test_scores\n",
    "\n"
   ],
   "metadata": {
    "collapsed": false,
    "ExecuteTime": {
     "end_time": "2023-10-01T18:05:09.790034600Z",
     "start_time": "2023-10-01T18:05:09.785463400Z"
    }
   },
   "id": "5a53fec52e257879"
  },
  {
   "cell_type": "code",
   "execution_count": 30,
   "outputs": [],
   "source": [
    "# Data details\n",
    "data_details = {\"data_path\": DF_PATH,\n",
    "                \"training_indices\": X_train.index.tolist(),\n",
    "                \"test_indices\":     X_test.index.tolist(), \n",
    "                \"features_names\":   X_train.columns.droplevel(0).tolist(),\n",
    "                \"targets_names\":    y_train.columns.tolist()}\n",
    "\n",
    "with open(os.path.join(LOG_PATH, LOG_DATA_PKL), \"wb\") as output_file:\n",
    "    pickle.dump(data_details, output_file)"
   ],
   "metadata": {
    "collapsed": false,
    "ExecuteTime": {
     "end_time": "2023-10-01T18:05:09.834872900Z",
     "start_time": "2023-10-01T18:05:09.790034600Z"
    }
   },
   "id": "fc313c02f5c46ddb"
  },
  {
   "cell_type": "code",
   "execution_count": 31,
   "outputs": [],
   "source": [
    "# Model\n",
    "model = {\"model_description\": \"Baseline model: Logistic Regression \",\n",
    "         \"model_details\": str(clf),\n",
    "         \"model_object\": clf} \n",
    "\n",
    "with open(os.path.join(LOG_PATH, LOG_MODEL_PKL), \"wb\") as output_file:\n",
    "    pickle.dump(model, output_file)"
   ],
   "metadata": {
    "collapsed": false,
    "ExecuteTime": {
     "end_time": "2023-10-01T18:05:09.834872900Z",
     "start_time": "2023-10-01T18:05:09.819360200Z"
    }
   },
   "id": "f7a552d26d860ef4"
  },
  {
   "cell_type": "code",
   "execution_count": 32,
   "outputs": [],
   "source": [
    "# Performance details\n",
    "classes_metrics = {\"train_scores\": train_scores, \n",
    "                   \"test_scores\":  test_scores}\n",
    "\n",
    "with open(os.path.join(LOG_PATH, LOG_METRICS_PKL), \"wb\") as output_file:\n",
    "    pickle.dump(classes_metrics, output_file)"
   ],
   "metadata": {
    "collapsed": false,
    "ExecuteTime": {
     "end_time": "2023-10-01T18:05:09.850522800Z",
     "start_time": "2023-10-01T18:05:09.834872900Z"
    }
   },
   "id": "5fbddae622080c65"
  },
  {
   "cell_type": "code",
   "execution_count": 33,
   "outputs": [],
   "source": [
    "# Start a new run and track \n",
    "with mlflow.start_run(experiment_id=exp.experiment_id, run_name=model[\"model_description\"]):\n",
    "    # Log pickles \n",
    "    mlflow.log_artifacts(LOG_PATH)\n",
    "    \n",
    "    # Track metrics \n",
    "    for metric, score in mean_test_scores.items():\n",
    "        mlflow.log_metric(metric, score) \n",
    "   "
   ],
   "metadata": {
    "collapsed": false,
    "ExecuteTime": {
     "end_time": "2023-10-01T18:05:10.006771Z",
     "start_time": "2023-10-01T18:05:09.850522800Z"
    }
   },
   "id": "ec4c73b386701df4"
  },
  {
   "cell_type": "code",
   "execution_count": 34,
   "outputs": [
    {
     "data": {
      "text/plain": "'372234719956380473'"
     },
     "execution_count": 34,
     "metadata": {},
     "output_type": "execute_result"
    }
   ],
   "source": [
    "exp.experiment_id"
   ],
   "metadata": {
    "collapsed": false,
    "ExecuteTime": {
     "end_time": "2023-10-01T18:05:10.116168400Z",
     "start_time": "2023-10-01T18:05:10.006771Z"
    }
   },
   "id": "1fb5eef057ac9dd0"
  },
  {
   "cell_type": "code",
   "execution_count": 34,
   "outputs": [],
   "source": [],
   "metadata": {
    "collapsed": false,
    "ExecuteTime": {
     "end_time": "2023-10-01T18:05:10.116168400Z",
     "start_time": "2023-10-01T18:05:10.053644900Z"
    }
   },
   "id": "1977df67b7849ee0"
  },
  {
   "cell_type": "code",
   "execution_count": null,
   "outputs": [],
   "source": [],
   "metadata": {
    "collapsed": false
   },
   "id": "4574a7c0ecf82684"
  }
 ],
 "metadata": {
  "kernelspec": {
   "display_name": "Python 3",
   "language": "python",
   "name": "python3"
  },
  "language_info": {
   "codemirror_mode": {
    "name": "ipython",
    "version": 2
   },
   "file_extension": ".py",
   "mimetype": "text/x-python",
   "name": "python",
   "nbconvert_exporter": "python",
   "pygments_lexer": "ipython2",
   "version": "2.7.6"
  }
 },
 "nbformat": 4,
 "nbformat_minor": 5
}
