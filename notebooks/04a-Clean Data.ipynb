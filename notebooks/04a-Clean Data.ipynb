{
 "cells": [
  {
   "cell_type": "code",
   "execution_count": 1,
   "id": "initial_id",
   "metadata": {
    "collapsed": true,
    "ExecuteTime": {
     "end_time": "2023-09-17T21:06:16.232603700Z",
     "start_time": "2023-09-17T21:06:16.202423100Z"
    }
   },
   "outputs": [],
   "source": [
    "DF_PATH       = \"../data/processed/1_preprocessed_df.pkl\"\n",
    "FEATURES_PATH = \"../data/processed/features_skills_clusters.pkl\"\n",
    "\n",
    "ROLE_COLS      = ['DevType']\n",
    "TECH_COLS      = ['LanguageHaveWorkedWith',\n",
    "                  'DatabaseHaveWorkedWith',\n",
    "                  'PlatformHaveWorkedWith',\n",
    "                  'WebframeHaveWorkedWith',\n",
    "                  'MiscTechHaveWorkedWith',\n",
    "                  'ToolsTechHaveWorkedWith',\n",
    "                  'NEWCollabToolsHaveWorkedWith']\n",
    "\n",
    "EXPORT_PATH    = \"../data/processed/2_cleaned_data.pkl\""
   ]
  },
  {
   "cell_type": "code",
   "execution_count": 2,
   "outputs": [],
   "source": [
    "import os\n",
    "import pandas as pd\n",
    "import numpy as np\n",
    "import pickle\n",
    "\n",
    "import matplotlib.pyplot as plt\n",
    "import seaborn as sns\n",
    "\n",
    "from sklearn.preprocessing import MultiLabelBinarizer\n"
   ],
   "metadata": {
    "collapsed": false,
    "ExecuteTime": {
     "end_time": "2023-09-17T21:06:17.700114900Z",
     "start_time": "2023-09-17T21:06:16.222427Z"
    }
   },
   "id": "b5fab459c698c542"
  },
  {
   "cell_type": "code",
   "execution_count": 3,
   "outputs": [],
   "source": [
    "processed_df = pd.read_pickle(DF_PATH)\n",
    "features_df = pd.read_pickle(FEATURES_PATH)"
   ],
   "metadata": {
    "collapsed": false,
    "ExecuteTime": {
     "end_time": "2023-09-17T21:06:41.740649600Z",
     "start_time": "2023-09-17T21:06:17.704118Z"
    }
   },
   "id": "a186e7fa5a0b2d16"
  },
  {
   "cell_type": "code",
   "execution_count": 4,
   "outputs": [
    {
     "data": {
      "text/plain": "                  DevType                                           \\\n      Academic researcher Blockchain Cloud infrastructure engineer   \n0                       0          0                             0   \n1                       0          0                             0   \n2                       0          0                             0   \n3                       0          0                             0   \n4                       0          0                             0   \n...                   ...        ...                           ...   \n89179                   0          0                             0   \n89180                   0          0                             0   \n89181                   0          0                             0   \n89182                   0          0                             0   \n89183                   0          0                             0   \n\n                                                                              \\\n      Data or business analyst Data scientist or machine learning specialist   \n0                            0                                             0   \n1                            0                                             0   \n2                            0                                             0   \n3                            0                                             0   \n4                            0                                             0   \n...                        ...                                           ...   \n89179                        0                                             0   \n89180                        0                                             0   \n89181                        0                                             0   \n89182                        0                                             0   \n89183                        0                                             0   \n\n                                                                            \\\n      Database administrator Designer DevOps specialist Developer Advocate   \n0                          0        0                 0                  0   \n1                          0        0                 0                  0   \n2                          0        0                 0                  0   \n3                          0        0                 0                  0   \n4                          0        0                 0                  0   \n...                      ...      ...               ...                ...   \n89179                      0        0                 0                  0   \n89180                      0        0                 0                  0   \n89181                      0        0                 0                  0   \n89182                      0        0                 0                  0   \n89183                      0        0                 0                  0   \n\n                            ... NEWCollabToolsHaveWorkedWith               \\\n      Developer Experience  ...                       Spyder Sublime Text   \n0                        0  ...                            0            0   \n1                        0  ...                            0            0   \n2                        0  ...                            0            0   \n3                        0  ...                            0            0   \n4                        0  ...                            0            0   \n...                    ...  ...                          ...          ...   \n89179                    0  ...                            0            1   \n89180                    0  ...                            0            0   \n89181                    0  ...                            0            0   \n89182                    0  ...                            0            0   \n89183                    0  ...                            0            0   \n\n                                                                             \\\n      TextMate VSCodium Vim Visual Studio Visual Studio Code WebStorm Xcode   \n0            0        0   0             0                  0        0     0   \n1            0        0   1             0                  1        0     0   \n2            0        0   0             0                  0        0     0   \n3            0        0   1             0                  1        1     0   \n4            0        0   1             0                  1        0     0   \n...        ...      ...  ..           ...                ...      ...   ...   \n89179        0        0   0             1                  1        0     0   \n89180        0        0   0             0                  0        0     0   \n89181        0        0   0             0                  1        0     0   \n89182        0        0   1             1                  1        0     0   \n89183        0        0   0             1                  1        0     0   \n\n             \n      condo  \n0         0  \n1         0  \n2         0  \n3         0  \n4         0  \n...     ...  \n89179     0  \n89180     0  \n89181     0  \n89182     0  \n89183     0  \n\n[89184 rows x 303 columns]",
      "text/html": "<div>\n<style scoped>\n    .dataframe tbody tr th:only-of-type {\n        vertical-align: middle;\n    }\n\n    .dataframe tbody tr th {\n        vertical-align: top;\n    }\n\n    .dataframe thead tr th {\n        text-align: left;\n    }\n</style>\n<table border=\"1\" class=\"dataframe\">\n  <thead>\n    <tr>\n      <th></th>\n      <th colspan=\"10\" halign=\"left\">DevType</th>\n      <th>...</th>\n      <th colspan=\"10\" halign=\"left\">NEWCollabToolsHaveWorkedWith</th>\n    </tr>\n    <tr>\n      <th></th>\n      <th>Academic researcher</th>\n      <th>Blockchain</th>\n      <th>Cloud infrastructure engineer</th>\n      <th>Data or business analyst</th>\n      <th>Data scientist or machine learning specialist</th>\n      <th>Database administrator</th>\n      <th>Designer</th>\n      <th>DevOps specialist</th>\n      <th>Developer Advocate</th>\n      <th>Developer Experience</th>\n      <th>...</th>\n      <th>Spyder</th>\n      <th>Sublime Text</th>\n      <th>TextMate</th>\n      <th>VSCodium</th>\n      <th>Vim</th>\n      <th>Visual Studio</th>\n      <th>Visual Studio Code</th>\n      <th>WebStorm</th>\n      <th>Xcode</th>\n      <th>condo</th>\n    </tr>\n  </thead>\n  <tbody>\n    <tr>\n      <th>0</th>\n      <td>0</td>\n      <td>0</td>\n      <td>0</td>\n      <td>0</td>\n      <td>0</td>\n      <td>0</td>\n      <td>0</td>\n      <td>0</td>\n      <td>0</td>\n      <td>0</td>\n      <td>...</td>\n      <td>0</td>\n      <td>0</td>\n      <td>0</td>\n      <td>0</td>\n      <td>0</td>\n      <td>0</td>\n      <td>0</td>\n      <td>0</td>\n      <td>0</td>\n      <td>0</td>\n    </tr>\n    <tr>\n      <th>1</th>\n      <td>0</td>\n      <td>0</td>\n      <td>0</td>\n      <td>0</td>\n      <td>0</td>\n      <td>0</td>\n      <td>0</td>\n      <td>0</td>\n      <td>0</td>\n      <td>0</td>\n      <td>...</td>\n      <td>0</td>\n      <td>0</td>\n      <td>0</td>\n      <td>0</td>\n      <td>1</td>\n      <td>0</td>\n      <td>1</td>\n      <td>0</td>\n      <td>0</td>\n      <td>0</td>\n    </tr>\n    <tr>\n      <th>2</th>\n      <td>0</td>\n      <td>0</td>\n      <td>0</td>\n      <td>0</td>\n      <td>0</td>\n      <td>0</td>\n      <td>0</td>\n      <td>0</td>\n      <td>0</td>\n      <td>0</td>\n      <td>...</td>\n      <td>0</td>\n      <td>0</td>\n      <td>0</td>\n      <td>0</td>\n      <td>0</td>\n      <td>0</td>\n      <td>0</td>\n      <td>0</td>\n      <td>0</td>\n      <td>0</td>\n    </tr>\n    <tr>\n      <th>3</th>\n      <td>0</td>\n      <td>0</td>\n      <td>0</td>\n      <td>0</td>\n      <td>0</td>\n      <td>0</td>\n      <td>0</td>\n      <td>0</td>\n      <td>0</td>\n      <td>0</td>\n      <td>...</td>\n      <td>0</td>\n      <td>0</td>\n      <td>0</td>\n      <td>0</td>\n      <td>1</td>\n      <td>0</td>\n      <td>1</td>\n      <td>1</td>\n      <td>0</td>\n      <td>0</td>\n    </tr>\n    <tr>\n      <th>4</th>\n      <td>0</td>\n      <td>0</td>\n      <td>0</td>\n      <td>0</td>\n      <td>0</td>\n      <td>0</td>\n      <td>0</td>\n      <td>0</td>\n      <td>0</td>\n      <td>0</td>\n      <td>...</td>\n      <td>0</td>\n      <td>0</td>\n      <td>0</td>\n      <td>0</td>\n      <td>1</td>\n      <td>0</td>\n      <td>1</td>\n      <td>0</td>\n      <td>0</td>\n      <td>0</td>\n    </tr>\n    <tr>\n      <th>...</th>\n      <td>...</td>\n      <td>...</td>\n      <td>...</td>\n      <td>...</td>\n      <td>...</td>\n      <td>...</td>\n      <td>...</td>\n      <td>...</td>\n      <td>...</td>\n      <td>...</td>\n      <td>...</td>\n      <td>...</td>\n      <td>...</td>\n      <td>...</td>\n      <td>...</td>\n      <td>...</td>\n      <td>...</td>\n      <td>...</td>\n      <td>...</td>\n      <td>...</td>\n      <td>...</td>\n    </tr>\n    <tr>\n      <th>89179</th>\n      <td>0</td>\n      <td>0</td>\n      <td>0</td>\n      <td>0</td>\n      <td>0</td>\n      <td>0</td>\n      <td>0</td>\n      <td>0</td>\n      <td>0</td>\n      <td>0</td>\n      <td>...</td>\n      <td>0</td>\n      <td>1</td>\n      <td>0</td>\n      <td>0</td>\n      <td>0</td>\n      <td>1</td>\n      <td>1</td>\n      <td>0</td>\n      <td>0</td>\n      <td>0</td>\n    </tr>\n    <tr>\n      <th>89180</th>\n      <td>0</td>\n      <td>0</td>\n      <td>0</td>\n      <td>0</td>\n      <td>0</td>\n      <td>0</td>\n      <td>0</td>\n      <td>0</td>\n      <td>0</td>\n      <td>0</td>\n      <td>...</td>\n      <td>0</td>\n      <td>0</td>\n      <td>0</td>\n      <td>0</td>\n      <td>0</td>\n      <td>0</td>\n      <td>0</td>\n      <td>0</td>\n      <td>0</td>\n      <td>0</td>\n    </tr>\n    <tr>\n      <th>89181</th>\n      <td>0</td>\n      <td>0</td>\n      <td>0</td>\n      <td>0</td>\n      <td>0</td>\n      <td>0</td>\n      <td>0</td>\n      <td>0</td>\n      <td>0</td>\n      <td>0</td>\n      <td>...</td>\n      <td>0</td>\n      <td>0</td>\n      <td>0</td>\n      <td>0</td>\n      <td>0</td>\n      <td>0</td>\n      <td>1</td>\n      <td>0</td>\n      <td>0</td>\n      <td>0</td>\n    </tr>\n    <tr>\n      <th>89182</th>\n      <td>0</td>\n      <td>0</td>\n      <td>0</td>\n      <td>0</td>\n      <td>0</td>\n      <td>0</td>\n      <td>0</td>\n      <td>0</td>\n      <td>0</td>\n      <td>0</td>\n      <td>...</td>\n      <td>0</td>\n      <td>0</td>\n      <td>0</td>\n      <td>0</td>\n      <td>1</td>\n      <td>1</td>\n      <td>1</td>\n      <td>0</td>\n      <td>0</td>\n      <td>0</td>\n    </tr>\n    <tr>\n      <th>89183</th>\n      <td>0</td>\n      <td>0</td>\n      <td>0</td>\n      <td>0</td>\n      <td>0</td>\n      <td>0</td>\n      <td>0</td>\n      <td>0</td>\n      <td>0</td>\n      <td>0</td>\n      <td>...</td>\n      <td>0</td>\n      <td>0</td>\n      <td>0</td>\n      <td>0</td>\n      <td>0</td>\n      <td>1</td>\n      <td>1</td>\n      <td>0</td>\n      <td>0</td>\n      <td>0</td>\n    </tr>\n  </tbody>\n</table>\n<p>89184 rows × 303 columns</p>\n</div>"
     },
     "execution_count": 4,
     "metadata": {},
     "output_type": "execute_result"
    }
   ],
   "source": [
    "encoded_dfs = {}\n",
    "for col in ROLE_COLS + TECH_COLS:\n",
    "    binarizer = MultiLabelBinarizer()\n",
    "    encoded_df = pd.DataFrame(binarizer.fit_transform(processed_df[col]),\n",
    "                               columns=binarizer.classes_,\n",
    "                               index=processed_df[col].index)\n",
    "    encoded_dfs[col] = encoded_df\n",
    "\n",
    "encoded_dfs = pd.concat(encoded_dfs, axis=1)\n",
    "encoded_dfs"
   ],
   "metadata": {
    "collapsed": false,
    "ExecuteTime": {
     "end_time": "2023-09-17T21:06:44.897471500Z",
     "start_time": "2023-09-17T21:06:41.787522700Z"
    }
   },
   "id": "f1eaddb1a85311b"
  },
  {
   "cell_type": "code",
   "execution_count": 5,
   "outputs": [
    {
     "data": {
      "text/plain": "DevType\n[Developer, full-stack]                            25735\n[Developer, back-end]                              13745\n[]                                                 12312\n[Developer, front-end]                              5071\n[Developer, desktop or enterprise applications]     3904\n[Other (please specify):]                           3080\n[Developer, mobile]                                 2597\n[Engineering manager]                               2033\n[Student]                                           1996\n[Developer, embedded applications or devices]       1845\n[Data scientist or machine learning specialist]     1588\n[DevOps specialist]                                 1387\n[Academic researcher]                               1354\n[Research & Development role]                       1353\n[Senior Executive (C-Suite, VP, etc.)]              1332\n[Engineer, data]                                    1248\n[Cloud infrastructure engineer]                     1036\n[Developer, game or graphics]                        866\n[Data or business analyst]                           837\n[System administrator]                               743\n[Project manager]                                    589\n[Developer, QA or test]                              586\n[Security professional]                              474\n[Product manager]                                    446\n[Engineer, site reliability]                         427\n[Educator]                                           415\n[Scientist]                                          351\n[Developer Experience]                               326\n[Blockchain]                                         323\n[Hardware Engineer]                                  286\n[Designer]                                           281\n[Database administrator]                             257\n[Developer Advocate]                                 212\n[Marketing or sales professional]                    149\nName: count, dtype: int64"
     },
     "execution_count": 5,
     "metadata": {},
     "output_type": "execute_result"
    }
   ],
   "source": [
    "processed_df['DevType'].value_counts()"
   ],
   "metadata": {
    "collapsed": false,
    "ExecuteTime": {
     "end_time": "2023-09-17T21:06:45.928722800Z",
     "start_time": "2023-09-17T21:06:45.022472300Z"
    }
   },
   "id": "a6462699650e773c"
  },
  {
   "cell_type": "markdown",
   "source": [
    "### Remove Some Roles"
   ],
   "metadata": {
    "collapsed": false
   },
   "id": "d8cc841709ac882"
  },
  {
   "cell_type": "code",
   "execution_count": 6,
   "outputs": [],
   "source": [
    "removed_roles = [\n",
    "    'Other (please specify):',\n",
    "    'Student',\n",
    "    'Designer',\n",
    "    'Educator',\n",
    "    'Marketing or sales professional',\n",
    "    'Engineering manager',\n",
    "    'Senior Executive (C-Suite, VP, etc.)',\n",
    "    'Product manager',\n",
    "    'Engineer, site reliability']\n",
    "\n",
    "\n",
    "for role in removed_roles:\n",
    "    encoded_dfs = encoded_dfs.drop(('DevType' , role) , axis = 1)\n",
    "    \n"
   ],
   "metadata": {
    "collapsed": false,
    "ExecuteTime": {
     "end_time": "2023-09-17T21:06:48.022472600Z",
     "start_time": "2023-09-17T21:06:45.053757900Z"
    }
   },
   "id": "af6ee229aa0536c"
  },
  {
   "cell_type": "code",
   "execution_count": 7,
   "outputs": [
    {
     "data": {
      "text/plain": "Academic researcher                               1354\nBlockchain                                         323\nCloud infrastructure engineer                     1036\nData or business analyst                           837\nData scientist or machine learning specialist     1588\nDatabase administrator                             257\nDevOps specialist                                 1387\nDeveloper Advocate                                 212\nDeveloper Experience                               326\nDeveloper, QA or test                              586\nDeveloper, back-end                              13745\nDeveloper, desktop or enterprise applications     3904\nDeveloper, embedded applications or devices       1845\nDeveloper, front-end                              5071\nDeveloper, full-stack                            25735\nDeveloper, game or graphics                        866\nDeveloper, mobile                                 2597\nEngineer, data                                    1248\nHardware Engineer                                  286\nProject manager                                    589\nResearch & Development role                       1353\nScientist                                          351\nSecurity professional                              474\nSystem administrator                               743\ndtype: int64"
     },
     "execution_count": 7,
     "metadata": {},
     "output_type": "execute_result"
    }
   ],
   "source": [
    "original_role_sum = encoded_dfs[\"DevType\"].sum(axis=0)\n",
    "original_role_sum"
   ],
   "metadata": {
    "collapsed": false,
    "ExecuteTime": {
     "end_time": "2023-09-17T21:06:48.100601400Z",
     "start_time": "2023-09-17T21:06:48.022472600Z"
    }
   },
   "id": "a819c0ede1eb6125"
  },
  {
   "cell_type": "code",
   "execution_count": 16,
   "outputs": [],
   "source": [
    "\n"
   ],
   "metadata": {
    "collapsed": false,
    "ExecuteTime": {
     "end_time": "2023-09-17T21:12:14.594673900Z",
     "start_time": "2023-09-17T21:12:14.547666100Z"
    }
   },
   "id": "85e31f410c578e67"
  },
  {
   "cell_type": "code",
   "execution_count": 18,
   "outputs": [
    {
     "name": "stderr",
     "output_type": "stream",
     "text": [
      "D:\\End to End Data Science Projects\\lib\\site-packages\\seaborn\\_oldcore.py:1498: FutureWarning: is_categorical_dtype is deprecated and will be removed in a future version. Use isinstance(dtype, CategoricalDtype) instead\n",
      "  if pd.api.types.is_categorical_dtype(vector):\n",
      "D:\\End to End Data Science Projects\\lib\\site-packages\\seaborn\\_oldcore.py:1119: FutureWarning: use_inf_as_na option is deprecated and will be removed in a future version. Convert inf values to NaN before operating instead.\n",
      "  with pd.option_context('mode.use_inf_as_na', True):\n"
     ]
    },
    {
     "data": {
      "text/plain": "<Figure size 640x480 with 1 Axes>",
      "image/png": "[encoded data removed]"
     },
     "metadata": {},
     "output_type": "display_data"
    }
   ],
   "source": [
    "freq_tech = encoded_dfs[TECH_COLS].sum(axis=1)\n",
    "sns.histplot(freq_tech)\n",
    "plt.title('Number of Skills')\n",
    "plt.show()"
   ],
   "metadata": {
    "collapsed": false,
    "ExecuteTime": {
     "end_time": "2023-09-17T21:13:11.623405800Z",
     "start_time": "2023-09-17T21:13:09.789016200Z"
    }
   },
   "id": "bfbf22575616a89c"
  },
  {
   "cell_type": "code",
   "execution_count": 14,
   "outputs": [
    {
     "data": {
      "text/plain": "Academic researcher                               1354\nBlockchain                                         323\nCloud infrastructure engineer                     1036\nData or business analyst                           837\nData scientist or machine learning specialist     1588\nDatabase administrator                             257\nDevOps specialist                                 1387\nDeveloper Advocate                                 212\nDeveloper Experience                               326\nDeveloper, QA or test                              586\nDeveloper, back-end                              13745\nDeveloper, desktop or enterprise applications     3904\nDeveloper, embedded applications or devices       1845\nDeveloper, front-end                              5071\nDeveloper, full-stack                            25735\nDeveloper, game or graphics                        866\nDeveloper, mobile                                 2597\nEngineer, data                                    1248\nHardware Engineer                                  286\nProject manager                                    589\nResearch & Development role                       1353\nScientist                                          351\nSecurity professional                              474\nSystem administrator                               743\ndtype: int64"
     },
     "execution_count": 14,
     "metadata": {},
     "output_type": "execute_result"
    }
   ],
   "source": [
    "encoded_dfs[ROLE_COLS].droplevel(0 , axis = 1).sum(axis = 0)"
   ],
   "metadata": {
    "collapsed": false,
    "ExecuteTime": {
     "end_time": "2023-09-17T21:09:11.479015900Z",
     "start_time": "2023-09-17T21:09:11.400890Z"
    }
   },
   "id": "afec81e5b51beda"
  },
  {
   "cell_type": "code",
   "execution_count": 16,
   "outputs": [
    {
     "data": {
      "text/plain": "0         0\n1        23\n2        14\n3        25\n4        24\n         ..\n89179    40\n89180    16\n89181    16\n89182    42\n89183    25\nLength: 89184, dtype: int64"
     },
     "execution_count": 16,
     "metadata": {},
     "output_type": "execute_result"
    }
   ],
   "source": [
    "encoded_dfs[TECH_COLS].sum(axis=1)"
   ],
   "metadata": {
    "collapsed": false,
    "ExecuteTime": {
     "end_time": "2023-09-17T21:10:36.836751Z",
     "start_time": "2023-09-17T21:10:33.633246500Z"
    }
   },
   "id": "6cf76923512281c0"
  },
  {
   "cell_type": "code",
   "execution_count": 19,
   "outputs": [],
   "source": [
    "TECH_RANGE  = [3,50]\n",
    "filter_mask   = (freq_tech >= TECH_RANGE[0])   & (freq_tech <= TECH_RANGE[1])\n"
   ],
   "metadata": {
    "collapsed": false,
    "ExecuteTime": {
     "end_time": "2023-09-17T21:15:15.616893400Z",
     "start_time": "2023-09-17T21:15:15.521076700Z"
    }
   },
   "id": "9a5f597372774cc6"
  },
  {
   "cell_type": "code",
   "execution_count": 20,
   "outputs": [],
   "source": [
    "features_df = features_df.loc[filter_mask].copy()\n",
    "encoded_dfs = encoded_dfs.loc[filter_mask].copy()"
   ],
   "metadata": {
    "collapsed": false,
    "ExecuteTime": {
     "end_time": "2023-09-17T21:16:00.618930400Z",
     "start_time": "2023-09-17T21:15:58.968987300Z"
    }
   },
   "id": "1d29405380664e0c"
  },
  {
   "cell_type": "code",
   "execution_count": 21,
   "outputs": [
    {
     "data": {
      "text/plain": "Academic researcher                               1279\nBlockchain                                         299\nCloud infrastructure engineer                      994\nData or business analyst                           795\nData scientist or machine learning specialist     1528\nDatabase administrator                             243\nDevOps specialist                                 1319\nDeveloper Advocate                                 200\nDeveloper Experience                               308\nDeveloper, QA or test                              571\nDeveloper, back-end                              13402\nDeveloper, desktop or enterprise applications     3765\nDeveloper, embedded applications or devices       1807\nDeveloper, front-end                              4974\nDeveloper, full-stack                            24630\nDeveloper, game or graphics                        838\nDeveloper, mobile                                 2519\nEngineer, data                                    1195\nHardware Engineer                                  268\nProject manager                                    551\nResearch & Development role                       1282\nScientist                                          336\nSecurity professional                              430\nSystem administrator                               704\ndtype: int64"
     },
     "execution_count": 21,
     "metadata": {},
     "output_type": "execute_result"
    }
   ],
   "source": [
    "cleaned_role_sum = encoded_dfs[\"DevType\"].sum(axis=0)\n",
    "cleaned_role_sum"
   ],
   "metadata": {
    "collapsed": false,
    "ExecuteTime": {
     "end_time": "2023-09-17T21:16:19.218718200Z",
     "start_time": "2023-09-17T21:16:19.021353100Z"
    }
   },
   "id": "e19e28475def702e"
  },
  {
   "cell_type": "code",
   "execution_count": 22,
   "outputs": [],
   "source": [
    "features_df.columns = pd.MultiIndex.from_product([['skills_clusters'], \n",
    "                                                  features_df.columns])"
   ],
   "metadata": {
    "collapsed": false,
    "ExecuteTime": {
     "end_time": "2023-09-17T21:16:53.782186700Z",
     "start_time": "2023-09-17T21:16:53.699848700Z"
    }
   },
   "id": "2370e9862fbf6e5f"
  },
  {
   "cell_type": "code",
   "execution_count": 23,
   "outputs": [
    {
     "data": {
      "text/plain": "      skills_clusters                                                 \\\n       skills_group_0 skills_group_1 skills_group_10 skills_group_11   \n1                   2              2               0               3   \n2                   0              5               0               4   \n3                   0              2               2               2   \n4                   0              1               0               4   \n5                   0              3               1               6   \n...               ...            ...             ...             ...   \n89179               1              0               0               2   \n89180               5              0               0               2   \n89181               5              4               0               1   \n89182               5              4               0               5   \n89183               0              0               0               2   \n\n                                                                       \\\n      skills_group_12 skills_group_13 skills_group_14 skills_group_15   \n1                   0               0               0               0   \n2                   0               0               0               0   \n3                   0               0               0               0   \n4                   0               0               0               0   \n5                   0               0               0               1   \n...               ...             ...             ...             ...   \n89179               1               0               0               2   \n89180               0               0               0               0   \n89181               2               0               0               0   \n89182               0               0               0               0   \n89183               0               0               0               1   \n\n                                       ...                                  \\\n      skills_group_16 skills_group_17  ... skills_group_21 skills_group_22   \n1                   0               2  ...               0               0   \n2                   1               0  ...               0               1   \n3                   0               2  ...               0               0   \n4                   2               0  ...               0               0   \n5                   3               1  ...               0               0   \n...               ...             ...  ...             ...             ...   \n89179               3               4  ...               0               0   \n89180               2               0  ...               0               0   \n89181               0               0  ...               0               0   \n89182               1               1  ...               0               0   \n89183               0               2  ...               0               0   \n\n                                                                    \\\n      skills_group_23 skills_group_3 skills_group_4 skills_group_5   \n1                   0              0              0              0   \n2                   0              0              1              0   \n3                   0              1              1              1   \n4                   0              0              0              0   \n5                   0              0              1              0   \n...               ...            ...            ...            ...   \n89179               0              0              3              8   \n89180               0              0              1              5   \n89181               0              0              2              0   \n89182               0              0              7              3   \n89183               0              0             10              0   \n\n                                                                   \n      skills_group_6 skills_group_7 skills_group_8 skills_group_9  \n1                  0              0              0              0  \n2                  0              0              0              1  \n3                  0              0              0              0  \n4                  0              0              0              0  \n5                  0              0              0              0  \n...              ...            ...            ...            ...  \n89179              0              1              0              0  \n89180              0              1              0              0  \n89181              0              0              0              0  \n89182              0              0              0              0  \n89183              0              0              0              1  \n\n[84095 rows x 24 columns]",
      "text/html": "<div>\n<style scoped>\n    .dataframe tbody tr th:only-of-type {\n        vertical-align: middle;\n    }\n\n    .dataframe tbody tr th {\n        vertical-align: top;\n    }\n\n    .dataframe thead tr th {\n        text-align: left;\n    }\n</style>\n<table border=\"1\" class=\"dataframe\">\n  <thead>\n    <tr>\n      <th></th>\n      <th colspan=\"21\" halign=\"left\">skills_clusters</th>\n    </tr>\n    <tr>\n      <th></th>\n      <th>skills_group_0</th>\n      <th>skills_group_1</th>\n      <th>skills_group_10</th>\n      <th>skills_group_11</th>\n      <th>skills_group_12</th>\n      <th>skills_group_13</th>\n      <th>skills_group_14</th>\n      <th>skills_group_15</th>\n      <th>skills_group_16</th>\n      <th>skills_group_17</th>\n      <th>...</th>\n      <th>skills_group_21</th>\n      <th>skills_group_22</th>\n      <th>skills_group_23</th>\n      <th>skills_group_3</th>\n      <th>skills_group_4</th>\n      <th>skills_group_5</th>\n      <th>skills_group_6</th>\n      <th>skills_group_7</th>\n      <th>skills_group_8</th>\n      <th>skills_group_9</th>\n    </tr>\n  </thead>\n  <tbody>\n    <tr>\n      <th>1</th>\n      <td>2</td>\n      <td>2</td>\n      <td>0</td>\n      <td>3</td>\n      <td>0</td>\n      <td>0</td>\n      <td>0</td>\n      <td>0</td>\n      <td>0</td>\n      <td>2</td>\n      <td>...</td>\n      <td>0</td>\n      <td>0</td>\n      <td>0</td>\n      <td>0</td>\n      <td>0</td>\n      <td>0</td>\n      <td>0</td>\n      <td>0</td>\n      <td>0</td>\n      <td>0</td>\n    </tr>\n    <tr>\n      <th>2</th>\n      <td>0</td>\n      <td>5</td>\n      <td>0</td>\n      <td>4</td>\n      <td>0</td>\n      <td>0</td>\n      <td>0</td>\n      <td>0</td>\n      <td>1</td>\n      <td>0</td>\n      <td>...</td>\n      <td>0</td>\n      <td>1</td>\n      <td>0</td>\n      <td>0</td>\n      <td>1</td>\n      <td>0</td>\n      <td>0</td>\n      <td>0</td>\n      <td>0</td>\n      <td>1</td>\n    </tr>\n    <tr>\n      <th>3</th>\n      <td>0</td>\n      <td>2</td>\n      <td>2</td>\n      <td>2</td>\n      <td>0</td>\n      <td>0</td>\n      <td>0</td>\n      <td>0</td>\n      <td>0</td>\n      <td>2</td>\n      <td>...</td>\n      <td>0</td>\n      <td>0</td>\n      <td>0</td>\n      <td>1</td>\n      <td>1</td>\n      <td>1</td>\n      <td>0</td>\n      <td>0</td>\n      <td>0</td>\n      <td>0</td>\n    </tr>\n    <tr>\n      <th>4</th>\n      <td>0</td>\n      <td>1</td>\n      <td>0</td>\n      <td>4</td>\n      <td>0</td>\n      <td>0</td>\n      <td>0</td>\n      <td>0</td>\n      <td>2</td>\n      <td>0</td>\n      <td>...</td>\n      <td>0</td>\n      <td>0</td>\n      <td>0</td>\n      <td>0</td>\n      <td>0</td>\n      <td>0</td>\n      <td>0</td>\n      <td>0</td>\n      <td>0</td>\n      <td>0</td>\n    </tr>\n    <tr>\n      <th>5</th>\n      <td>0</td>\n      <td>3</td>\n      <td>1</td>\n      <td>6</td>\n      <td>0</td>\n      <td>0</td>\n      <td>0</td>\n      <td>1</td>\n      <td>3</td>\n      <td>1</td>\n      <td>...</td>\n      <td>0</td>\n      <td>0</td>\n      <td>0</td>\n      <td>0</td>\n      <td>1</td>\n      <td>0</td>\n      <td>0</td>\n      <td>0</td>\n      <td>0</td>\n      <td>0</td>\n    </tr>\n    <tr>\n      <th>...</th>\n      <td>...</td>\n      <td>...</td>\n      <td>...</td>\n      <td>...</td>\n      <td>...</td>\n      <td>...</td>\n      <td>...</td>\n      <td>...</td>\n      <td>...</td>\n      <td>...</td>\n      <td>...</td>\n      <td>...</td>\n      <td>...</td>\n      <td>...</td>\n      <td>...</td>\n      <td>...</td>\n      <td>...</td>\n      <td>...</td>\n      <td>...</td>\n      <td>...</td>\n      <td>...</td>\n    </tr>\n    <tr>\n      <th>89179</th>\n      <td>1</td>\n      <td>0</td>\n      <td>0</td>\n      <td>2</td>\n      <td>1</td>\n      <td>0</td>\n      <td>0</td>\n      <td>2</td>\n      <td>3</td>\n      <td>4</td>\n      <td>...</td>\n      <td>0</td>\n      <td>0</td>\n      <td>0</td>\n      <td>0</td>\n      <td>3</td>\n      <td>8</td>\n      <td>0</td>\n      <td>1</td>\n      <td>0</td>\n      <td>0</td>\n    </tr>\n    <tr>\n      <th>89180</th>\n      <td>5</td>\n      <td>0</td>\n      <td>0</td>\n      <td>2</td>\n      <td>0</td>\n      <td>0</td>\n      <td>0</td>\n      <td>0</td>\n      <td>2</td>\n      <td>0</td>\n      <td>...</td>\n      <td>0</td>\n      <td>0</td>\n      <td>0</td>\n      <td>0</td>\n      <td>1</td>\n      <td>5</td>\n      <td>0</td>\n      <td>1</td>\n      <td>0</td>\n      <td>0</td>\n    </tr>\n    <tr>\n      <th>89181</th>\n      <td>5</td>\n      <td>4</td>\n      <td>0</td>\n      <td>1</td>\n      <td>2</td>\n      <td>0</td>\n      <td>0</td>\n      <td>0</td>\n      <td>0</td>\n      <td>0</td>\n      <td>...</td>\n      <td>0</td>\n      <td>0</td>\n      <td>0</td>\n      <td>0</td>\n      <td>2</td>\n      <td>0</td>\n      <td>0</td>\n      <td>0</td>\n      <td>0</td>\n      <td>0</td>\n    </tr>\n    <tr>\n      <th>89182</th>\n      <td>5</td>\n      <td>4</td>\n      <td>0</td>\n      <td>5</td>\n      <td>0</td>\n      <td>0</td>\n      <td>0</td>\n      <td>0</td>\n      <td>1</td>\n      <td>1</td>\n      <td>...</td>\n      <td>0</td>\n      <td>0</td>\n      <td>0</td>\n      <td>0</td>\n      <td>7</td>\n      <td>3</td>\n      <td>0</td>\n      <td>0</td>\n      <td>0</td>\n      <td>0</td>\n    </tr>\n    <tr>\n      <th>89183</th>\n      <td>0</td>\n      <td>0</td>\n      <td>0</td>\n      <td>2</td>\n      <td>0</td>\n      <td>0</td>\n      <td>0</td>\n      <td>1</td>\n      <td>0</td>\n      <td>2</td>\n      <td>...</td>\n      <td>0</td>\n      <td>0</td>\n      <td>0</td>\n      <td>0</td>\n      <td>10</td>\n      <td>0</td>\n      <td>0</td>\n      <td>0</td>\n      <td>0</td>\n      <td>1</td>\n    </tr>\n  </tbody>\n</table>\n<p>84095 rows × 24 columns</p>\n</div>"
     },
     "execution_count": 23,
     "metadata": {},
     "output_type": "execute_result"
    }
   ],
   "source": [
    "features_df"
   ],
   "metadata": {
    "collapsed": false,
    "ExecuteTime": {
     "end_time": "2023-09-17T21:16:57.691792700Z",
     "start_time": "2023-09-17T21:16:57.600873800Z"
    }
   },
   "id": "14a8395f869be0be"
  },
  {
   "cell_type": "code",
   "execution_count": 24,
   "outputs": [],
   "source": [
    "df = pd.concat([encoded_dfs, features_df], axis=1)\n"
   ],
   "metadata": {
    "collapsed": false,
    "ExecuteTime": {
     "end_time": "2023-09-17T21:17:30.425801900Z",
     "start_time": "2023-09-17T21:17:30.018936400Z"
    }
   },
   "id": "88ebcb63da66a1a9"
  },
  {
   "cell_type": "code",
   "execution_count": 26,
   "outputs": [],
   "source": [
    "df.to_pickle(EXPORT_PATH)\n"
   ],
   "metadata": {
    "collapsed": false,
    "ExecuteTime": {
     "end_time": "2023-09-17T21:18:19.180255600Z",
     "start_time": "2023-09-17T21:18:17.419593900Z"
    }
   },
   "id": "e39055c3514439a1"
  },
  {
   "cell_type": "code",
   "execution_count": null,
   "outputs": [],
   "source": [],
   "metadata": {
    "collapsed": false
   },
   "id": "badd3933741d9a2f"
  }
 ],
 "metadata": {
  "kernelspec": {
   "display_name": "Python 3",
   "language": "python",
   "name": "python3"
  },
  "language_info": {
   "codemirror_mode": {
    "name": "ipython",
    "version": 2
   },
   "file_extension": ".py",
   "mimetype": "text/x-python",
   "name": "python",
   "nbconvert_exporter": "python",
   "pygments_lexer": "ipython2",
   "version": "2.7.6"
  }
 },
 "nbformat": 4,
 "nbformat_minor": 5
}
