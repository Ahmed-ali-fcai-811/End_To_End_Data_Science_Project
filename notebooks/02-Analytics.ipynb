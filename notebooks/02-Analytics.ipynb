{
 "cells": [
  {
   "cell_type": "code",
   "execution_count": 1,
   "id": "3733ee82-c8d7-4028-af44-47340fe31cac",
   "metadata": {
    "ExecuteTime": {
     "end_time": "2023-09-11T13:01:06.497103400Z",
     "start_time": "2023-09-11T13:01:06.481474600Z"
    }
   },
   "outputs": [],
   "source": [
    "DATA_PATH =  f'..\\\\data\\\\processed\\\\1_preprocessed_df.pkl'\n",
    "\n",
    "ROLE_COLS = ['DevType']\n",
    "TECH_COLS = [\n",
    "    'LanguageHaveWorkedWith',\n",
    "    'DatabaseHaveWorkedWith',\n",
    "    'PlatformHaveWorkedWith',\n",
    "    'WebframeHaveWorkedWith',\n",
    "    'MiscTechHaveWorkedWith',\n",
    "    'ToolsTechHaveWorkedWith',\n",
    "    'NEWCollabToolsHaveWorkedWith',\n",
    "]"
   ]
  },
  {
   "cell_type": "code",
   "execution_count": 2,
   "id": "3761d3b4-b9e6-4090-b8ff-1e58b909b105",
   "metadata": {
    "ExecuteTime": {
     "end_time": "2023-09-11T13:01:11.250104700Z",
     "start_time": "2023-09-11T13:01:06.497103400Z"
    }
   },
   "outputs": [],
   "source": [
    "import numpy as np\n",
    "import pandas as pd\n",
    "import pickle"
   ]
  },
  {
   "cell_type": "code",
   "execution_count": 3,
   "id": "9754790b-df13-4eb0-ac32-d26d935c0342",
   "metadata": {
    "ExecuteTime": {
     "end_time": "2023-09-11T13:01:19.491380600Z",
     "start_time": "2023-09-11T13:01:11.250104700Z"
    }
   },
   "outputs": [],
   "source": [
    "df = pd.read_pickle(DATA_PATH)"
   ]
  },
  {
   "cell_type": "code",
   "execution_count": 7,
   "id": "47c870c4-39f6-40ed-9f4e-509cc1f8b16b",
   "metadata": {
    "ExecuteTime": {
     "end_time": "2023-09-11T13:01:46.021649200Z",
     "start_time": "2023-09-11T13:01:45.946097700Z"
    }
   },
   "outputs": [
    {
     "data": {
      "text/plain": "                              LanguageHaveWorkedWith  DatabaseHaveWorkedWith  \\\n66153  [C#, JavaScript, PowerShell, SQL, TypeScript]  [Microsoft SQL Server]   \n\n      PlatformHaveWorkedWith                  WebframeHaveWorkedWith  \\\n66153      [Microsoft Azure]  [Angular, ASP.NET CORE, React, Vue.js]   \n\n                                  MiscTechHaveWorkedWith  \\\n66153  [.NET (5+) , .NET Framework (1.0 - 4.8), Rabbi...   \n\n                                 ToolsTechHaveWorkedWith  \\\n66153  [Chocolatey, Docker, Kubernetes, MSBuild, NuGe...   \n\n                            NEWCollabToolsHaveWorkedWith  \n66153  [Notepad++, Rider, Visual Studio, Visual Studi...  ",
      "text/html": "<div>\n<style scoped>\n    .dataframe tbody tr th:only-of-type {\n        vertical-align: middle;\n    }\n\n    .dataframe tbody tr th {\n        vertical-align: top;\n    }\n\n    .dataframe thead th {\n        text-align: right;\n    }\n</style>\n<table border=\"1\" class=\"dataframe\">\n  <thead>\n    <tr style=\"text-align: right;\">\n      <th></th>\n      <th>LanguageHaveWorkedWith</th>\n      <th>DatabaseHaveWorkedWith</th>\n      <th>PlatformHaveWorkedWith</th>\n      <th>WebframeHaveWorkedWith</th>\n      <th>MiscTechHaveWorkedWith</th>\n      <th>ToolsTechHaveWorkedWith</th>\n      <th>NEWCollabToolsHaveWorkedWith</th>\n    </tr>\n  </thead>\n  <tbody>\n    <tr>\n      <th>66153</th>\n      <td>[C#, JavaScript, PowerShell, SQL, TypeScript]</td>\n      <td>[Microsoft SQL Server]</td>\n      <td>[Microsoft Azure]</td>\n      <td>[Angular, ASP.NET CORE, React, Vue.js]</td>\n      <td>[.NET (5+) , .NET Framework (1.0 - 4.8), Rabbi...</td>\n      <td>[Chocolatey, Docker, Kubernetes, MSBuild, NuGe...</td>\n      <td>[Notepad++, Rider, Visual Studio, Visual Studi...</td>\n    </tr>\n  </tbody>\n</table>\n</div>"
     },
     "execution_count": 7,
     "metadata": {},
     "output_type": "execute_result"
    }
   ],
   "source": [
    "tech_df = df[TECH_COLS]\n",
    "tech_df.sample(1)"
   ]
  },
  {
   "cell_type": "code",
   "execution_count": 8,
   "id": "75df39db-8612-4823-8eed-fc093ab608e3",
   "metadata": {
    "ExecuteTime": {
     "end_time": "2023-09-11T13:02:03.431142200Z",
     "start_time": "2023-09-11T13:02:03.368648Z"
    }
   },
   "outputs": [
    {
     "data": {
      "text/plain": "DevType    [Developer,  back-end]\nName: 66153, dtype: object"
     },
     "execution_count": 8,
     "metadata": {},
     "output_type": "execute_result"
    }
   ],
   "source": [
    "df[ROLE_COLS].iloc[66153]"
   ]
  },
  {
   "cell_type": "code",
   "execution_count": null,
   "id": "fc3a2557-11f6-40e4-b66a-c0acaac5bc68",
   "metadata": {},
   "outputs": [],
   "source": []
  }
 ],
 "metadata": {
  "kernelspec": {
   "display_name": "Python 3 (ipykernel)",
   "language": "python",
   "name": "python3"
  },
  "language_info": {
   "codemirror_mode": {
    "name": "ipython",
    "version": 3
   },
   "file_extension": ".py",
   "mimetype": "text/x-python",
   "name": "python",
   "nbconvert_exporter": "python",
   "pygments_lexer": "ipython3",
   "version": "3.11.1"
  }
 },
 "nbformat": 4,
 "nbformat_minor": 5
}
