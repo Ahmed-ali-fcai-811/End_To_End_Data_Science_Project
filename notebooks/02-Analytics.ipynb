{
 "cells": [
  {
   "cell_type": "code",
   "execution_count": 1,
   "id": "3733ee82-c8d7-4028-af44-47340fe31cac",
   "metadata": {
    "ExecuteTime": {
     "end_time": "2023-09-14T13:31:38.448414600Z",
     "start_time": "2023-09-14T13:31:38.383237200Z"
    }
   },
   "outputs": [],
   "source": [
    "DATA_PATH =  f'..\\\\data\\\\processed\\\\1_preprocessed_df.pkl'\n",
    "\n",
    "\n",
    "ROLE_COLS      = ['DevType']\n",
    "TECH_COLS      = ['LanguageHaveWorkedWith',\n",
    "                  'DatabaseHaveWorkedWith',\n",
    "                  'PlatformHaveWorkedWith',\n",
    "                  'WebframeHaveWorkedWith',\n",
    "                  'MiscTechHaveWorkedWith',\n",
    "                  'ToolsTechHaveWorkedWith',\n",
    "                  'NEWCollabToolsHaveWorkedWith']"
   ]
  },
  {
   "cell_type": "code",
   "execution_count": 22,
   "id": "3761d3b4-b9e6-4090-b8ff-1e58b909b105",
   "metadata": {
    "ExecuteTime": {
     "end_time": "2023-09-14T14:11:39.518572800Z",
     "start_time": "2023-09-14T14:11:37.035678900Z"
    }
   },
   "outputs": [],
   "source": [
    "import numpy as np\n",
    "import pandas as pd\n",
    "import pickle\n",
    "import seaborn as sns\n",
    "import matplotlib.pyplot as plt\n",
    "import plotly.express as px\n",
    "\n",
    "\n",
    "\n",
    "from sklearn.preprocessing import MultiLabelBinarizer"
   ]
  },
  {
   "cell_type": "code",
   "execution_count": 3,
   "id": "9754790b-df13-4eb0-ac32-d26d935c0342",
   "metadata": {
    "ExecuteTime": {
     "end_time": "2023-09-14T13:32:19.272213100Z",
     "start_time": "2023-09-14T13:31:57.151891400Z"
    }
   },
   "outputs": [],
   "source": [
    "raw_df = pd.read_pickle(DATA_PATH)"
   ]
  },
  {
   "cell_type": "code",
   "execution_count": 4,
   "id": "47c870c4-39f6-40ed-9f4e-509cc1f8b16b",
   "metadata": {
    "ExecuteTime": {
     "end_time": "2023-09-14T13:32:20.305479900Z",
     "start_time": "2023-09-14T13:32:19.382378200Z"
    }
   },
   "outputs": [
    {
     "data": {
      "text/plain": "      LanguageHaveWorkedWith DatabaseHaveWorkedWith PlatformHaveWorkedWith  \\\n35177                     []                     []                     []   \n\n      WebframeHaveWorkedWith MiscTechHaveWorkedWith ToolsTechHaveWorkedWith  \\\n35177                     []                     []                      []   \n\n      NEWCollabToolsHaveWorkedWith  \n35177                           []  ",
      "text/html": "<div>\n<style scoped>\n    .dataframe tbody tr th:only-of-type {\n        vertical-align: middle;\n    }\n\n    .dataframe tbody tr th {\n        vertical-align: top;\n    }\n\n    .dataframe thead th {\n        text-align: right;\n    }\n</style>\n<table border=\"1\" class=\"dataframe\">\n  <thead>\n    <tr style=\"text-align: right;\">\n      <th></th>\n      <th>LanguageHaveWorkedWith</th>\n      <th>DatabaseHaveWorkedWith</th>\n      <th>PlatformHaveWorkedWith</th>\n      <th>WebframeHaveWorkedWith</th>\n      <th>MiscTechHaveWorkedWith</th>\n      <th>ToolsTechHaveWorkedWith</th>\n      <th>NEWCollabToolsHaveWorkedWith</th>\n    </tr>\n  </thead>\n  <tbody>\n    <tr>\n      <th>35177</th>\n      <td>[]</td>\n      <td>[]</td>\n      <td>[]</td>\n      <td>[]</td>\n      <td>[]</td>\n      <td>[]</td>\n      <td>[]</td>\n    </tr>\n  </tbody>\n</table>\n</div>"
     },
     "execution_count": 4,
     "metadata": {},
     "output_type": "execute_result"
    }
   ],
   "source": [
    "tech_df = raw_df[TECH_COLS]\n",
    "tech_df.sample(1)"
   ]
  },
  {
   "cell_type": "code",
   "execution_count": 5,
   "id": "75df39db-8612-4823-8eed-fc093ab608e3",
   "metadata": {
    "ExecuteTime": {
     "end_time": "2023-09-14T13:32:20.416108Z",
     "start_time": "2023-09-14T13:32:20.305479900Z"
    }
   },
   "outputs": [
    {
     "data": {
      "text/plain": "DevType    []\nName: 62162, dtype: object"
     },
     "execution_count": 5,
     "metadata": {},
     "output_type": "execute_result"
    }
   ],
   "source": [
    "raw_df[ROLE_COLS].iloc[62162]"
   ]
  },
  {
   "cell_type": "code",
   "execution_count": 6,
   "outputs": [
    {
     "data": {
      "text/plain": "   ResponseId     Q120                      MainBranch              Age  \\\n0           1  I agree                   None of these  18-24 years old   \n1           2  I agree  I am a developer by profession  25-34 years old   \n2           3  I agree  I am a developer by profession  45-54 years old   \n3           4  I agree  I am a developer by profession  25-34 years old   \n4           5  I agree  I am a developer by profession  25-34 years old   \n\n                                          Employment  \\\n0                                                 []   \n1                              [Employed, full-time]   \n2                              [Employed, full-time]   \n3                              [Employed, full-time]   \n4  [Employed, full-time, Independent contractor, ...   \n\n                             RemoteWork  \\\n0                                   NaN   \n1                                Remote   \n2  Hybrid (some remote, some in-person)   \n3  Hybrid (some remote, some in-person)   \n4                                Remote   \n\n                                    CodingActivities  \\\n0                                                 []   \n1  [Hobby, Contribute to open-source projects, Bo...   \n2  [Hobby, Professional development or self-paced...   \n3                                            [Hobby]   \n4  [Hobby, Contribute to open-source projects, Pr...   \n\n                                        EdLevel  \\\n0                                           NaN   \n1  Bachelor’s degree (B.A., B.S., B.Eng., etc.)   \n2  Bachelor’s degree (B.A., B.S., B.Eng., etc.)   \n3  Bachelor’s degree (B.A., B.S., B.Eng., etc.)   \n4  Bachelor’s degree (B.A., B.S., B.Eng., etc.)   \n\n                                           LearnCode  \\\n0                                                 []   \n1  [Books / Physical media, Colleague, Friend or ...   \n2  [Books / Physical media, Colleague, On the job...   \n3  [Colleague, Friend or family member, Other onl...   \n4  [Books / Physical media, Online Courses or Cer...   \n\n                                     LearnCodeOnline  ...        Frequency_1  \\\n0                                                 []  ...                NaN   \n1  [Formal documentation provided by the owner of...  ...   1-2 times a week   \n2  [Formal documentation provided by the owner of...  ...  6-10 times a week   \n3  [Formal documentation provided by the owner of...  ...   1-2 times a week   \n4  [Formal documentation provided by the owner of...  ...   1-2 times a week   \n\n         Frequency_2       Frequency_3         TimeSearching  \\\n0                NaN               NaN                   NaN   \n1   10+ times a week             Never   15-30 minutes a day   \n2  6-10 times a week  3-5 times a week   30-60 minutes a day   \n3   10+ times a week  1-2 times a week   15-30 minutes a day   \n4   1-2 times a week  3-5 times a week  60-120 minutes a day   \n\n         TimeAnswering                                   ProfessionalTech  \\\n0                  NaN                                                 []   \n1  15-30 minutes a day  [DevOps function, Microservices, Automated tes...   \n2  30-60 minutes a day  [DevOps function, Microservices, Automated tes...   \n3  30-60 minutes a day  [Automated testing, Continuous integration (CI...   \n4  30-60 minutes a day  [Microservices, Automated testing, Observabili...   \n\n                                            Industry           SurveyLength  \\\n0                                                NaN                    NaN   \n1  Information Services, IT, Software Development...  Appropriate in length   \n2  Information Services, IT, Software Development...  Appropriate in length   \n3                                                NaN  Appropriate in length   \n4                                              Other  Appropriate in length   \n\n                   SurveyEase ConvertedCompYearly  \n0                         NaN                 NaN  \n1                        Easy            285000.0  \n2                        Easy            250000.0  \n3                        Easy            156000.0  \n4  Neither easy nor difficult             23456.0  \n\n[5 rows x 84 columns]",
      "text/html": "<div>\n<style scoped>\n    .dataframe tbody tr th:only-of-type {\n        vertical-align: middle;\n    }\n\n    .dataframe tbody tr th {\n        vertical-align: top;\n    }\n\n    .dataframe thead th {\n        text-align: right;\n    }\n</style>\n<table border=\"1\" class=\"dataframe\">\n  <thead>\n    <tr style=\"text-align: right;\">\n      <th></th>\n      <th>ResponseId</th>\n      <th>Q120</th>\n      <th>MainBranch</th>\n      <th>Age</th>\n      <th>Employment</th>\n      <th>RemoteWork</th>\n      <th>CodingActivities</th>\n      <th>EdLevel</th>\n      <th>LearnCode</th>\n      <th>LearnCodeOnline</th>\n      <th>...</th>\n      <th>Frequency_1</th>\n      <th>Frequency_2</th>\n      <th>Frequency_3</th>\n      <th>TimeSearching</th>\n      <th>TimeAnswering</th>\n      <th>ProfessionalTech</th>\n      <th>Industry</th>\n      <th>SurveyLength</th>\n      <th>SurveyEase</th>\n      <th>ConvertedCompYearly</th>\n    </tr>\n  </thead>\n  <tbody>\n    <tr>\n      <th>0</th>\n      <td>1</td>\n      <td>I agree</td>\n      <td>None of these</td>\n      <td>18-24 years old</td>\n      <td>[]</td>\n      <td>NaN</td>\n      <td>[]</td>\n      <td>NaN</td>\n      <td>[]</td>\n      <td>[]</td>\n      <td>...</td>\n      <td>NaN</td>\n      <td>NaN</td>\n      <td>NaN</td>\n      <td>NaN</td>\n      <td>NaN</td>\n      <td>[]</td>\n      <td>NaN</td>\n      <td>NaN</td>\n      <td>NaN</td>\n      <td>NaN</td>\n    </tr>\n    <tr>\n      <th>1</th>\n      <td>2</td>\n      <td>I agree</td>\n      <td>I am a developer by profession</td>\n      <td>25-34 years old</td>\n      <td>[Employed, full-time]</td>\n      <td>Remote</td>\n      <td>[Hobby, Contribute to open-source projects, Bo...</td>\n      <td>Bachelor’s degree (B.A., B.S., B.Eng., etc.)</td>\n      <td>[Books / Physical media, Colleague, Friend or ...</td>\n      <td>[Formal documentation provided by the owner of...</td>\n      <td>...</td>\n      <td>1-2 times a week</td>\n      <td>10+ times a week</td>\n      <td>Never</td>\n      <td>15-30 minutes a day</td>\n      <td>15-30 minutes a day</td>\n      <td>[DevOps function, Microservices, Automated tes...</td>\n      <td>Information Services, IT, Software Development...</td>\n      <td>Appropriate in length</td>\n      <td>Easy</td>\n      <td>285000.0</td>\n    </tr>\n    <tr>\n      <th>2</th>\n      <td>3</td>\n      <td>I agree</td>\n      <td>I am a developer by profession</td>\n      <td>45-54 years old</td>\n      <td>[Employed, full-time]</td>\n      <td>Hybrid (some remote, some in-person)</td>\n      <td>[Hobby, Professional development or self-paced...</td>\n      <td>Bachelor’s degree (B.A., B.S., B.Eng., etc.)</td>\n      <td>[Books / Physical media, Colleague, On the job...</td>\n      <td>[Formal documentation provided by the owner of...</td>\n      <td>...</td>\n      <td>6-10 times a week</td>\n      <td>6-10 times a week</td>\n      <td>3-5 times a week</td>\n      <td>30-60 minutes a day</td>\n      <td>30-60 minutes a day</td>\n      <td>[DevOps function, Microservices, Automated tes...</td>\n      <td>Information Services, IT, Software Development...</td>\n      <td>Appropriate in length</td>\n      <td>Easy</td>\n      <td>250000.0</td>\n    </tr>\n    <tr>\n      <th>3</th>\n      <td>4</td>\n      <td>I agree</td>\n      <td>I am a developer by profession</td>\n      <td>25-34 years old</td>\n      <td>[Employed, full-time]</td>\n      <td>Hybrid (some remote, some in-person)</td>\n      <td>[Hobby]</td>\n      <td>Bachelor’s degree (B.A., B.S., B.Eng., etc.)</td>\n      <td>[Colleague, Friend or family member, Other onl...</td>\n      <td>[Formal documentation provided by the owner of...</td>\n      <td>...</td>\n      <td>1-2 times a week</td>\n      <td>10+ times a week</td>\n      <td>1-2 times a week</td>\n      <td>15-30 minutes a day</td>\n      <td>30-60 minutes a day</td>\n      <td>[Automated testing, Continuous integration (CI...</td>\n      <td>NaN</td>\n      <td>Appropriate in length</td>\n      <td>Easy</td>\n      <td>156000.0</td>\n    </tr>\n    <tr>\n      <th>4</th>\n      <td>5</td>\n      <td>I agree</td>\n      <td>I am a developer by profession</td>\n      <td>25-34 years old</td>\n      <td>[Employed, full-time, Independent contractor, ...</td>\n      <td>Remote</td>\n      <td>[Hobby, Contribute to open-source projects, Pr...</td>\n      <td>Bachelor’s degree (B.A., B.S., B.Eng., etc.)</td>\n      <td>[Books / Physical media, Online Courses or Cer...</td>\n      <td>[Formal documentation provided by the owner of...</td>\n      <td>...</td>\n      <td>1-2 times a week</td>\n      <td>1-2 times a week</td>\n      <td>3-5 times a week</td>\n      <td>60-120 minutes a day</td>\n      <td>30-60 minutes a day</td>\n      <td>[Microservices, Automated testing, Observabili...</td>\n      <td>Other</td>\n      <td>Appropriate in length</td>\n      <td>Neither easy nor difficult</td>\n      <td>23456.0</td>\n    </tr>\n  </tbody>\n</table>\n<p>5 rows × 84 columns</p>\n</div>"
     },
     "execution_count": 6,
     "metadata": {},
     "output_type": "execute_result"
    }
   ],
   "source": [
    "raw_df.head(5)"
   ],
   "metadata": {
    "collapsed": false,
    "ExecuteTime": {
     "end_time": "2023-09-14T13:32:20.524415200Z",
     "start_time": "2023-09-14T13:32:20.355503600Z"
    }
   },
   "id": "c76a929472e9b371"
  },
  {
   "cell_type": "markdown",
   "source": [
    "Handle Category Data  "
   ],
   "metadata": {
    "collapsed": false
   },
   "id": "1efcb4e20884bef4"
  },
  {
   "cell_type": "code",
   "execution_count": 7,
   "outputs": [
    {
     "name": "stdout",
     "output_type": "stream",
     "text": [
      "DevType\n",
      "LanguageHaveWorkedWith\n",
      "DatabaseHaveWorkedWith\n",
      "PlatformHaveWorkedWith\n",
      "WebframeHaveWorkedWith\n",
      "MiscTechHaveWorkedWith\n",
      "ToolsTechHaveWorkedWith\n",
      "NEWCollabToolsHaveWorkedWith\n"
     ]
    }
   ],
   "source": [
    "df = raw_df.copy()\n",
    "encoded_dfs = {}\n",
    "for col in ROLE_COLS + TECH_COLS:\n",
    "    print(col)\n",
    "    binarizer = MultiLabelBinarizer()\n",
    "    encoded_df = pd.DataFrame(binarizer.fit_transform(df[col]),\n",
    "                               columns=binarizer.classes_,\n",
    "                               index=df[col].index)\n",
    "    encoded_dfs[col] = encoded_df\n"
   ],
   "metadata": {
    "collapsed": false,
    "ExecuteTime": {
     "end_time": "2023-09-14T13:32:23.767968200Z",
     "start_time": "2023-09-14T13:32:20.456246100Z"
    }
   },
   "id": "fc3a2557-11f6-40e4-b66a-c0acaac5bc68"
  },
  {
   "cell_type": "code",
   "execution_count": 8,
   "outputs": [
    {
     "data": {
      "text/plain": "                  DevType                                           \\\n      Academic researcher Blockchain Cloud infrastructure engineer   \n0                       0          0                             0   \n1                       0          0                             0   \n2                       0          0                             0   \n3                       0          0                             0   \n4                       0          0                             0   \n...                   ...        ...                           ...   \n89179                   0          0                             0   \n89180                   0          0                             0   \n89181                   0          0                             0   \n89182                   0          0                             0   \n89183                   0          0                             0   \n\n                                                                              \\\n      Data or business analyst Data scientist or machine learning specialist   \n0                            0                                             0   \n1                            0                                             0   \n2                            0                                             0   \n3                            0                                             0   \n4                            0                                             0   \n...                        ...                                           ...   \n89179                        0                                             0   \n89180                        0                                             0   \n89181                        0                                             0   \n89182                        0                                             0   \n89183                        0                                             0   \n\n                                                                            \\\n      Database administrator Designer DevOps specialist Developer Advocate   \n0                          0        0                 0                  0   \n1                          0        0                 0                  0   \n2                          0        0                 0                  0   \n3                          0        0                 0                  0   \n4                          0        0                 0                  0   \n...                      ...      ...               ...                ...   \n89179                      0        0                 0                  0   \n89180                      0        0                 0                  0   \n89181                      0        0                 0                  0   \n89182                      0        0                 0                  0   \n89183                      0        0                 0                  0   \n\n                            ... NEWCollabToolsHaveWorkedWith               \\\n      Developer Experience  ...                       Spyder Sublime Text   \n0                        0  ...                            0            0   \n1                        0  ...                            0            0   \n2                        0  ...                            0            0   \n3                        0  ...                            0            0   \n4                        0  ...                            0            0   \n...                    ...  ...                          ...          ...   \n89179                    0  ...                            0            1   \n89180                    0  ...                            0            0   \n89181                    0  ...                            0            0   \n89182                    0  ...                            0            0   \n89183                    0  ...                            0            0   \n\n                                                                             \\\n      TextMate VSCodium Vim Visual Studio Visual Studio Code WebStorm Xcode   \n0            0        0   0             0                  0        0     0   \n1            0        0   1             0                  1        0     0   \n2            0        0   0             0                  0        0     0   \n3            0        0   1             0                  1        1     0   \n4            0        0   1             0                  1        0     0   \n...        ...      ...  ..           ...                ...      ...   ...   \n89179        0        0   0             1                  1        0     0   \n89180        0        0   0             0                  0        0     0   \n89181        0        0   0             0                  1        0     0   \n89182        0        0   1             1                  1        0     0   \n89183        0        0   0             1                  1        0     0   \n\n             \n      condo  \n0         0  \n1         0  \n2         0  \n3         0  \n4         0  \n...     ...  \n89179     0  \n89180     0  \n89181     0  \n89182     0  \n89183     0  \n\n[89184 rows x 303 columns]",
      "text/html": "<div>\n<style scoped>\n    .dataframe tbody tr th:only-of-type {\n        vertical-align: middle;\n    }\n\n    .dataframe tbody tr th {\n        vertical-align: top;\n    }\n\n    .dataframe thead tr th {\n        text-align: left;\n    }\n</style>\n<table border=\"1\" class=\"dataframe\">\n  <thead>\n    <tr>\n      <th></th>\n      <th colspan=\"10\" halign=\"left\">DevType</th>\n      <th>...</th>\n      <th colspan=\"10\" halign=\"left\">NEWCollabToolsHaveWorkedWith</th>\n    </tr>\n    <tr>\n      <th></th>\n      <th>Academic researcher</th>\n      <th>Blockchain</th>\n      <th>Cloud infrastructure engineer</th>\n      <th>Data or business analyst</th>\n      <th>Data scientist or machine learning specialist</th>\n      <th>Database administrator</th>\n      <th>Designer</th>\n      <th>DevOps specialist</th>\n      <th>Developer Advocate</th>\n      <th>Developer Experience</th>\n      <th>...</th>\n      <th>Spyder</th>\n      <th>Sublime Text</th>\n      <th>TextMate</th>\n      <th>VSCodium</th>\n      <th>Vim</th>\n      <th>Visual Studio</th>\n      <th>Visual Studio Code</th>\n      <th>WebStorm</th>\n      <th>Xcode</th>\n      <th>condo</th>\n    </tr>\n  </thead>\n  <tbody>\n    <tr>\n      <th>0</th>\n      <td>0</td>\n      <td>0</td>\n      <td>0</td>\n      <td>0</td>\n      <td>0</td>\n      <td>0</td>\n      <td>0</td>\n      <td>0</td>\n      <td>0</td>\n      <td>0</td>\n      <td>...</td>\n      <td>0</td>\n      <td>0</td>\n      <td>0</td>\n      <td>0</td>\n      <td>0</td>\n      <td>0</td>\n      <td>0</td>\n      <td>0</td>\n      <td>0</td>\n      <td>0</td>\n    </tr>\n    <tr>\n      <th>1</th>\n      <td>0</td>\n      <td>0</td>\n      <td>0</td>\n      <td>0</td>\n      <td>0</td>\n      <td>0</td>\n      <td>0</td>\n      <td>0</td>\n      <td>0</td>\n      <td>0</td>\n      <td>...</td>\n      <td>0</td>\n      <td>0</td>\n      <td>0</td>\n      <td>0</td>\n      <td>1</td>\n      <td>0</td>\n      <td>1</td>\n      <td>0</td>\n      <td>0</td>\n      <td>0</td>\n    </tr>\n    <tr>\n      <th>2</th>\n      <td>0</td>\n      <td>0</td>\n      <td>0</td>\n      <td>0</td>\n      <td>0</td>\n      <td>0</td>\n      <td>0</td>\n      <td>0</td>\n      <td>0</td>\n      <td>0</td>\n      <td>...</td>\n      <td>0</td>\n      <td>0</td>\n      <td>0</td>\n      <td>0</td>\n      <td>0</td>\n      <td>0</td>\n      <td>0</td>\n      <td>0</td>\n      <td>0</td>\n      <td>0</td>\n    </tr>\n    <tr>\n      <th>3</th>\n      <td>0</td>\n      <td>0</td>\n      <td>0</td>\n      <td>0</td>\n      <td>0</td>\n      <td>0</td>\n      <td>0</td>\n      <td>0</td>\n      <td>0</td>\n      <td>0</td>\n      <td>...</td>\n      <td>0</td>\n      <td>0</td>\n      <td>0</td>\n      <td>0</td>\n      <td>1</td>\n      <td>0</td>\n      <td>1</td>\n      <td>1</td>\n      <td>0</td>\n      <td>0</td>\n    </tr>\n    <tr>\n      <th>4</th>\n      <td>0</td>\n      <td>0</td>\n      <td>0</td>\n      <td>0</td>\n      <td>0</td>\n      <td>0</td>\n      <td>0</td>\n      <td>0</td>\n      <td>0</td>\n      <td>0</td>\n      <td>...</td>\n      <td>0</td>\n      <td>0</td>\n      <td>0</td>\n      <td>0</td>\n      <td>1</td>\n      <td>0</td>\n      <td>1</td>\n      <td>0</td>\n      <td>0</td>\n      <td>0</td>\n    </tr>\n    <tr>\n      <th>...</th>\n      <td>...</td>\n      <td>...</td>\n      <td>...</td>\n      <td>...</td>\n      <td>...</td>\n      <td>...</td>\n      <td>...</td>\n      <td>...</td>\n      <td>...</td>\n      <td>...</td>\n      <td>...</td>\n      <td>...</td>\n      <td>...</td>\n      <td>...</td>\n      <td>...</td>\n      <td>...</td>\n      <td>...</td>\n      <td>...</td>\n      <td>...</td>\n      <td>...</td>\n      <td>...</td>\n    </tr>\n    <tr>\n      <th>89179</th>\n      <td>0</td>\n      <td>0</td>\n      <td>0</td>\n      <td>0</td>\n      <td>0</td>\n      <td>0</td>\n      <td>0</td>\n      <td>0</td>\n      <td>0</td>\n      <td>0</td>\n      <td>...</td>\n      <td>0</td>\n      <td>1</td>\n      <td>0</td>\n      <td>0</td>\n      <td>0</td>\n      <td>1</td>\n      <td>1</td>\n      <td>0</td>\n      <td>0</td>\n      <td>0</td>\n    </tr>\n    <tr>\n      <th>89180</th>\n      <td>0</td>\n      <td>0</td>\n      <td>0</td>\n      <td>0</td>\n      <td>0</td>\n      <td>0</td>\n      <td>0</td>\n      <td>0</td>\n      <td>0</td>\n      <td>0</td>\n      <td>...</td>\n      <td>0</td>\n      <td>0</td>\n      <td>0</td>\n      <td>0</td>\n      <td>0</td>\n      <td>0</td>\n      <td>0</td>\n      <td>0</td>\n      <td>0</td>\n      <td>0</td>\n    </tr>\n    <tr>\n      <th>89181</th>\n      <td>0</td>\n      <td>0</td>\n      <td>0</td>\n      <td>0</td>\n      <td>0</td>\n      <td>0</td>\n      <td>0</td>\n      <td>0</td>\n      <td>0</td>\n      <td>0</td>\n      <td>...</td>\n      <td>0</td>\n      <td>0</td>\n      <td>0</td>\n      <td>0</td>\n      <td>0</td>\n      <td>0</td>\n      <td>1</td>\n      <td>0</td>\n      <td>0</td>\n      <td>0</td>\n    </tr>\n    <tr>\n      <th>89182</th>\n      <td>0</td>\n      <td>0</td>\n      <td>0</td>\n      <td>0</td>\n      <td>0</td>\n      <td>0</td>\n      <td>0</td>\n      <td>0</td>\n      <td>0</td>\n      <td>0</td>\n      <td>...</td>\n      <td>0</td>\n      <td>0</td>\n      <td>0</td>\n      <td>0</td>\n      <td>1</td>\n      <td>1</td>\n      <td>1</td>\n      <td>0</td>\n      <td>0</td>\n      <td>0</td>\n    </tr>\n    <tr>\n      <th>89183</th>\n      <td>0</td>\n      <td>0</td>\n      <td>0</td>\n      <td>0</td>\n      <td>0</td>\n      <td>0</td>\n      <td>0</td>\n      <td>0</td>\n      <td>0</td>\n      <td>0</td>\n      <td>...</td>\n      <td>0</td>\n      <td>0</td>\n      <td>0</td>\n      <td>0</td>\n      <td>0</td>\n      <td>1</td>\n      <td>1</td>\n      <td>0</td>\n      <td>0</td>\n      <td>0</td>\n    </tr>\n  </tbody>\n</table>\n<p>89184 rows × 303 columns</p>\n</div>"
     },
     "execution_count": 8,
     "metadata": {},
     "output_type": "execute_result"
    }
   ],
   "source": [
    "df = pd.concat(encoded_dfs , axis = 1)\n",
    "df"
   ],
   "metadata": {
    "collapsed": false,
    "ExecuteTime": {
     "end_time": "2023-09-14T13:32:24.234523600Z",
     "start_time": "2023-09-14T13:32:23.792894700Z"
    }
   },
   "id": "8280e8d6561ed07a"
  },
  {
   "cell_type": "markdown",
   "source": [
    "## Plot Jobs Frequency"
   ],
   "metadata": {
    "collapsed": false
   },
   "id": "45a3a9b5a121d90f"
  },
  {
   "cell_type": "code",
   "execution_count": 20,
   "outputs": [
    {
     "name": "stderr",
     "output_type": "stream",
     "text": [
      "D:\\End to End Data Science Projects\\lib\\site-packages\\seaborn\\_oldcore.py:1498: FutureWarning: is_categorical_dtype is deprecated and will be removed in a future version. Use isinstance(dtype, CategoricalDtype) instead\n",
      "  if pd.api.types.is_categorical_dtype(vector):\n",
      "D:\\End to End Data Science Projects\\lib\\site-packages\\seaborn\\_oldcore.py:1498: FutureWarning: is_categorical_dtype is deprecated and will be removed in a future version. Use isinstance(dtype, CategoricalDtype) instead\n",
      "  if pd.api.types.is_categorical_dtype(vector):\n",
      "D:\\End to End Data Science Projects\\lib\\site-packages\\seaborn\\_oldcore.py:1498: FutureWarning: is_categorical_dtype is deprecated and will be removed in a future version. Use isinstance(dtype, CategoricalDtype) instead\n",
      "  if pd.api.types.is_categorical_dtype(vector):\n"
     ]
    },
    {
     "data": {
      "text/plain": "[Text(0, 0, '25735'),\n Text(0, 0, '13745'),\n Text(0, 0, '5071'),\n Text(0, 0, '3904'),\n Text(0, 0, '3080'),\n Text(0, 0, '2597'),\n Text(0, 0, '2033'),\n Text(0, 0, '1996'),\n Text(0, 0, '1845'),\n Text(0, 0, '1588')]"
     },
     "execution_count": 20,
     "metadata": {},
     "output_type": "execute_result"
    },
    {
     "data": {
      "text/plain": "<Figure size 640x480 with 1 Axes>",
      "image/png": "[encoded data removed]"
     },
     "metadata": {},
     "output_type": "display_data"
    },
    {
     "data": {
      "text/plain": "<Figure size 3000x1500 with 0 Axes>"
     },
     "metadata": {},
     "output_type": "display_data"
    }
   ],
   "source": [
    "job_freq = df['DevType'].copy().sum().sort_values(ascending=False).nlargest(10).reset_index()\n",
    "\n",
    "\n",
    "fig1 , ax = plt.subplots()\n",
    "sns.barplot(data= job_freq ,x = job_freq[0],y = job_freq['index'])\n",
    "ax.set(ylabel='Dev Type',xlabel='Counts', title='Top 10 Dev Type')\n",
    "plt.figure(figsize = (30 , 15))\n",
    "ax.bar_label(ax.containers[0])"
   ],
   "metadata": {
    "collapsed": false,
    "ExecuteTime": {
     "end_time": "2023-09-14T14:10:30.781927300Z",
     "start_time": "2023-09-14T14:10:24.816914500Z"
    }
   },
   "id": "9bec89b5d55f339d"
  },
  {
   "cell_type": "markdown",
   "source": [
    "## Plot Skills Frequency\n"
   ],
   "metadata": {
    "collapsed": false
   },
   "id": "ac5d5fb0638b5c23"
  },
  {
   "cell_type": "code",
   "execution_count": 25,
   "outputs": [
    {
     "data": {
      "application/vnd.plotly.v1+json": {
       "data": [
        {
         "branchvalues": "total",
         "customdata": [
          [
           17005.0
          ],
          [
           11452.0
          ],
          [
           1573.0
          ],
          [
           225.0
          ],
          [
           5780.0
          ],
          [
           9185.0
          ],
          [
           11896.0
          ],
          [
           677.0
          ],
          [
           33818.0
          ],
          [
           14553.0
          ],
          [
           12537.0
          ],
          [
           5176.0
          ],
          [
           6921.0
          ],
          [
           2371.0
          ],
          [
           5984.0
          ],
          [
           2748.0
          ],
          [
           579.0
          ],
          [
           4753.0
          ],
          [
           4874.0
          ],
          [
           722.0
          ],
          [
           28351.0
          ],
          [
           3456.0
          ],
          [
           3501.0
          ],
          [
           342.0
          ],
          [
           620.0
          ],
          [
           16940.0
          ],
          [
           24193.0
          ],
          [
           19634.0
          ],
          [
           4240.0
          ],
          [
           11506.0
          ],
          [
           3042.0
          ],
          [
           54.0
          ],
          [
           1127.0
          ],
          [
           10409.0
          ],
          [
           1927.0
          ],
          [
           663.0
          ],
          [
           758.0
          ],
          [
           6509.0
          ],
          [
           849.0
          ],
          [
           1105.0
          ],
          [
           4901.0
          ],
          [
           10599.0
          ],
          [
           576.0
          ],
          [
           795.0
          ],
          [
           2077.0
          ],
          [
           1238.0
          ],
          [
           497.0
          ],
          [
           6266.0
          ],
          [
           1616.0
          ],
          [
           2672.0
          ],
          [
           887.0
          ],
          [
           598.0
          ],
          [
           389.0
          ],
          [
           866.0
          ],
          [
           5273.0
          ],
          [
           4396.0
          ],
          [
           244.0
          ],
          [
           2831.0
          ],
          [
           1697.0
          ],
          [
           9299.0
          ],
          [
           8238.0
          ],
          [
           41369.0
          ],
          [
           1343.0
          ],
          [
           469.0
          ],
          [
           6798.0
          ],
          [
           51.0
          ],
          [
           8565.0
          ],
          [
           10263.0
          ],
          [
           4685.0
          ],
          [
           2028.0
          ],
          [
           580.0
          ],
          [
           4058.0
          ],
          [
           868.0
          ],
          [
           13843.0
          ],
          [
           849.0
          ],
          [
           5325.0
          ],
          [
           1474.0
          ],
          [
           10761.0
          ],
          [
           4939.0
          ],
          [
           1152.0
          ],
          [
           8734.0
          ],
          [
           1642.0
          ],
          [
           214.0
          ],
          [
           6132.0
          ],
          [
           1649.0
          ],
          [
           833.0
          ],
          [
           1495.0
          ],
          [
           10038.0
          ],
          [
           1690.0
          ],
          [
           1675.0
          ],
          [
           841.0
          ],
          [
           11592.0
          ],
          [
           2478.0
          ],
          [
           2795.0
          ],
          [
           16592.0
          ],
          [
           2146.0
          ],
          [
           11961.0
          ],
          [
           2976.0
          ],
          [
           2808.0
          ],
          [
           46396.0
          ],
          [
           1539.0
          ],
          [
           1829.0
          ],
          [
           1391.0
          ],
          [
           8358.0
          ],
          [
           3069.0
          ],
          [
           17647.0
          ],
          [
           1852.0
          ],
          [
           801.0
          ],
          [
           1414.0
          ],
          [
           4226.0
          ],
          [
           2091.0
          ],
          [
           23209.0
          ],
          [
           1948.0
          ],
          [
           641.0
          ],
          [
           26757.0
          ],
          [
           55711.0
          ],
          [
           1010.0
          ],
          [
           11024.0
          ],
          [
           1367.0
          ],
          [
           2839.0
          ],
          [
           7935.0
          ],
          [
           740.0
          ],
          [
           15260.0
          ],
          [
           5959.0
          ],
          [
           5440.0
          ],
          [
           2755.0
          ],
          [
           1342.0
          ],
          [
           490.0
          ],
          [
           5336.0
          ],
          [
           3339.0
          ],
          [
           671.0
          ],
          [
           8520.0
          ],
          [
           3666.0
          ],
          [
           16161.0
          ],
          [
           2379.0
          ],
          [
           13495.0
          ],
          [
           12109.0
          ],
          [
           1052.0
          ],
          [
           551.0
          ],
          [
           441.0
          ],
          [
           3257.0
          ],
          [
           18105.0
          ],
          [
           19506.0
          ],
          [
           19556.0
          ],
          [
           31489.0
          ],
          [
           7769.0
          ],
          [
           1432.0
          ],
          [
           10282.0
          ],
          [
           3681.0
          ],
          [
           2760.0
          ],
          [
           6228.0
          ],
          [
           11972.0
          ],
          [
           331.0
          ],
          [
           2928.0
          ],
          [
           1647.0
          ],
          [
           30626.0
          ],
          [
           21240.0
          ],
          [
           250.0
          ],
          [
           12235.0
          ],
          [
           13614.0
          ],
          [
           2652.0
          ],
          [
           614.0
          ],
          [
           2378.0
          ],
          [
           2019.0
          ],
          [
           4664.0
          ],
          [
           1671.0
          ],
          [
           1076.0
          ],
          [
           5455.0
          ],
          [
           7507.0
          ],
          [
           1810.0
          ],
          [
           16274.0
          ],
          [
           5280.0
          ],
          [
           12756.0
          ],
          [
           2151.0
          ],
          [
           1468.0
          ],
          [
           5274.0
          ],
          [
           23281.0
          ],
          [
           545.0
          ],
          [
           3129.0
          ],
          [
           34909.0
          ],
          [
           11902.0
          ],
          [
           776.0
          ],
          [
           659.0
          ],
          [
           900.0
          ],
          [
           12658.0
          ],
          [
           43158.0
          ],
          [
           983.0
          ],
          [
           4401.0
          ],
          [
           2031.0
          ],
          [
           763.0
          ],
          [
           389.0
          ],
          [
           3702.0
          ],
          [
           2343.0
          ],
          [
           6942.0
          ],
          [
           1961.0
          ],
          [
           156.0
          ],
          [
           227.0
          ],
          [
           29137.0
          ],
          [
           5667.0
          ],
          [
           15639.0
          ],
          [
           912.0
          ],
          [
           1287.0
          ],
          [
           4819.0
          ],
          [
           5454.0
          ],
          [
           3940.0
          ],
          [
           1115.0
          ],
          [
           11427.0
          ],
          [
           427.0
          ],
          [
           378.0
          ],
          [
           42623.0
          ],
          [
           23678.0
          ],
          [
           2422.0
          ],
          [
           628.0
          ],
          [
           6339.0
          ],
          [
           1820.0
          ],
          [
           979.0
          ],
          [
           1168.0
          ],
          [
           1189.0
          ],
          [
           8583.0
          ],
          [
           7460.0
          ],
          [
           1273.0
          ],
          [
           10914.0
          ],
          [
           2122.0
          ],
          [
           4753.0
          ],
          [
           4072.0
          ],
          [
           2643.0
          ],
          [
           2301.0
          ],
          [
           1516.0
          ],
          [
           6405.0
          ],
          [
           9068.0
          ],
          [
           592.0
          ],
          [
           157.0
          ],
          [
           1045.0
          ],
          [
           5884.0
          ],
          [
           34041.0
          ],
          [
           5561.0
          ],
          [
           357.0
          ],
          [
           2482.0
          ],
          [
           3107.0
          ],
          [
           4964.0
          ],
          [
           3627.0
          ],
          [
           7431.0
          ],
          [
           19294.0
          ],
          [
           3568.0
          ],
          [
           24605.0
          ],
          [
           63793.0
          ],
          [
           11751.0
          ],
          [
           11807.0
          ],
          [
           11758.0
          ],
          [
           1357.0
          ],
          [
           431.0
          ],
          [
           6388.0
          ],
          [
           16665.0
          ],
          [
           9604.0
          ],
          [
           2233.0
          ],
          [
           8180.0
          ],
          [
           17545.0
          ],
          [
           729.0
          ],
          [
           362.0
          ],
          [
           159.0
          ],
          [
           152.0
          ],
          [
           346.0
          ],
          [
           393.0
          ],
          [
           15784.0
          ],
          [
           55.0
          ],
          [
           37.0
          ],
          [
           39609.0
          ],
          [
           5036.0
          ],
          [
           55.0
          ],
          [
           69.0
          ],
          [
           19257.440826831527
          ],
          [
           29669.53018618191
          ],
          [
           8005.0806446439
          ],
          [
           23855.92061977598
          ],
          [
           15543.864783881989
          ],
          [
           18092.166426684264
          ],
          [
           14601.136060417532
          ]
         ],
         "domain": {
          "x": [
           0.0,
           1.0
          ],
          "y": [
           0.0,
           1.0
          ]
         },
         "hovertemplate": "labels=%{label}<br>freq_sum=%{value}<br>parent=%{parent}<br>id=%{id}<br>freq=%{color}<extra></extra>",
         "ids": [
          "MiscTechHaveWorkedWith/.NET (5+) ",
          "MiscTechHaveWorkedWith/.NET Framework (1.0 - 4.8)",
          "MiscTechHaveWorkedWith/.NET MAUI",
          "LanguageHaveWorkedWith/APL",
          "ToolsTechHaveWorkedWith/APT",
          "WebframeHaveWorkedWith/ASP.NET",
          "WebframeHaveWorkedWith/ASP.NET CORE",
          "LanguageHaveWorkedWith/Ada",
          "PlatformHaveWorkedWith/Amazon Web Services (AWS)",
          "NEWCollabToolsHaveWorkedWith/Android Studio",
          "WebframeHaveWorkedWith/Angular",
          "WebframeHaveWorkedWith/AngularJS",
          "ToolsTechHaveWorkedWith/Ansible",
          "ToolsTechHaveWorkedWith/Ant",
          "MiscTechHaveWorkedWith/Apache Kafka",
          "MiscTechHaveWorkedWith/Apache Spark",
          "LanguageHaveWorkedWith/Apex",
          "LanguageHaveWorkedWith/Assembly",
          "NEWCollabToolsHaveWorkedWith/Atom",
          "NEWCollabToolsHaveWorkedWith/BBEdit",
          "LanguageHaveWorkedWith/Bash/Shell (all shells)",
          "DatabaseHaveWorkedWith/BigQuery",
          "WebframeHaveWorkedWith/Blazor",
          "ToolsTechHaveWorkedWith/Boost.Test",
          "ToolsTechHaveWorkedWith/Bun",
          "LanguageHaveWorkedWith/C",
          "LanguageHaveWorkedWith/C#",
          "LanguageHaveWorkedWith/C++",
          "NEWCollabToolsHaveWorkedWith/CLion",
          "ToolsTechHaveWorkedWith/CMake",
          "MiscTechHaveWorkedWith/CUDA",
          "ToolsTechHaveWorkedWith/CUTE",
          "MiscTechHaveWorkedWith/Capacitor",
          "ToolsTechHaveWorkedWith/Cargo",
          "DatabaseHaveWorkedWith/Cassandra",
          "ToolsTechHaveWorkedWith/Catch2",
          "ToolsTechHaveWorkedWith/Chef",
          "ToolsTechHaveWorkedWith/Chocolatey",
          "DatabaseHaveWorkedWith/Clickhouse",
          "LanguageHaveWorkedWith/Clojure",
          "DatabaseHaveWorkedWith/Cloud Firestore",
          "PlatformHaveWorkedWith/Cloudflare",
          "LanguageHaveWorkedWith/Cobol",
          "DatabaseHaveWorkedWith/Cockroachdb",
          "NEWCollabToolsHaveWorkedWith/Code::Blocks",
          "WebframeHaveWorkedWith/CodeIgniter",
          "PlatformHaveWorkedWith/Colocation",
          "ToolsTechHaveWorkedWith/Composer",
          "MiscTechHaveWorkedWith/Cordova",
          "DatabaseHaveWorkedWith/Cosmos DB",
          "DatabaseHaveWorkedWith/Couch DB",
          "DatabaseHaveWorkedWith/Couchbase",
          "LanguageHaveWorkedWith/Crystal",
          "ToolsTechHaveWorkedWith/Dagger",
          "LanguageHaveWorkedWith/Dart",
          "NEWCollabToolsHaveWorkedWith/DataGrip",
          "DatabaseHaveWorkedWith/Datomic",
          "LanguageHaveWorkedWith/Delphi",
          "WebframeHaveWorkedWith/Deno",
          "PlatformHaveWorkedWith/Digital Ocean",
          "WebframeHaveWorkedWith/Django",
          "ToolsTechHaveWorkedWith/Docker",
          "WebframeHaveWorkedWith/Drupal",
          "DatabaseHaveWorkedWith/DuckDB",
          "DatabaseHaveWorkedWith/Dynamodb",
          "ToolsTechHaveWorkedWith/ELFspy",
          "NEWCollabToolsHaveWorkedWith/Eclipse",
          "DatabaseHaveWorkedWith/Elasticsearch",
          "MiscTechHaveWorkedWith/Electron",
          "LanguageHaveWorkedWith/Elixir",
          "WebframeHaveWorkedWith/Elm",
          "NEWCollabToolsHaveWorkedWith/Emacs",
          "LanguageHaveWorkedWith/Erlang",
          "WebframeHaveWorkedWith/Express",
          "LanguageHaveWorkedWith/F#",
          "WebframeHaveWorkedWith/FastAPI",
          "WebframeHaveWorkedWith/Fastify",
          "PlatformHaveWorkedWith/Firebase",
          "DatabaseHaveWorkedWith/Firebase Realtime Database",
          "DatabaseHaveWorkedWith/Firebird",
          "WebframeHaveWorkedWith/Flask",
          "NEWCollabToolsHaveWorkedWith/Fleet",
          "LanguageHaveWorkedWith/Flow",
          "MiscTechHaveWorkedWith/Flutter",
          "PlatformHaveWorkedWith/Fly.io",
          "LanguageHaveWorkedWith/Fortran",
          "LanguageHaveWorkedWith/GDScript",
          "ToolsTechHaveWorkedWith/GNU GCC",
          "MiscTechHaveWorkedWith/GTK",
          "WebframeHaveWorkedWith/Gatsby",
          "NEWCollabToolsHaveWorkedWith/Geany",
          "LanguageHaveWorkedWith/Go",
          "ToolsTechHaveWorkedWith/Godot",
          "NEWCollabToolsHaveWorkedWith/Goland",
          "PlatformHaveWorkedWith/Google Cloud",
          "ToolsTechHaveWorkedWith/Google Test",
          "ToolsTechHaveWorkedWith/Gradle",
          "LanguageHaveWorkedWith/Groovy",
          "DatabaseHaveWorkedWith/H2",
          "LanguageHaveWorkedWith/HTML/CSS",
          "MiscTechHaveWorkedWith/Hadoop",
          "LanguageHaveWorkedWith/Haskell",
          "NEWCollabToolsHaveWorkedWith/Helix",
          "PlatformHaveWorkedWith/Heroku",
          "PlatformHaveWorkedWith/Hetzner",
          "ToolsTechHaveWorkedWith/Homebrew",
          "MiscTechHaveWorkedWith/Hugging Face Transformers",
          "PlatformHaveWorkedWith/IBM Cloud Or Watson",
          "DatabaseHaveWorkedWith/IBM DB2",
          "NEWCollabToolsHaveWorkedWith/IPython",
          "DatabaseHaveWorkedWith/InfluxDB",
          "NEWCollabToolsHaveWorkedWith/IntelliJ IDEA",
          "MiscTechHaveWorkedWith/Ionic",
          "MiscTechHaveWorkedWith/JAX",
          "LanguageHaveWorkedWith/Java",
          "LanguageHaveWorkedWith/JavaScript",
          "LanguageHaveWorkedWith/Julia",
          "NEWCollabToolsHaveWorkedWith/Jupyter Notebook/JupyterLab",
          "NEWCollabToolsHaveWorkedWith/Kate",
          "MiscTechHaveWorkedWith/Keras",
          "LanguageHaveWorkedWith/Kotlin",
          "MiscTechHaveWorkedWith/Ktor",
          "ToolsTechHaveWorkedWith/Kubernetes",
          "ToolsTechHaveWorkedWith/LLVM's Clang",
          "WebframeHaveWorkedWith/Laravel",
          "PlatformHaveWorkedWith/Linode, now Akamai",
          "LanguageHaveWorkedWith/Lisp",
          "WebframeHaveWorkedWith/Lit",
          "LanguageHaveWorkedWith/Lua",
          "LanguageHaveWorkedWith/MATLAB",
          "MiscTechHaveWorkedWith/MFC",
          "ToolsTechHaveWorkedWith/MSBuild",
          "ToolsTechHaveWorkedWith/MSVC",
          "ToolsTechHaveWorkedWith/Make",
          "PlatformHaveWorkedWith/Managed Hosting",
          "DatabaseHaveWorkedWith/MariaDB",
          "ToolsTechHaveWorkedWith/Maven (build tool)",
          "ToolsTechHaveWorkedWith/Meson",
          "NEWCollabToolsHaveWorkedWith/Micro",
          "MiscTechHaveWorkedWith/Micronaut",
          "DatabaseHaveWorkedWith/Microsoft Access",
          "PlatformHaveWorkedWith/Microsoft Azure",
          "DatabaseHaveWorkedWith/Microsoft SQL Server",
          "DatabaseHaveWorkedWith/MongoDB",
          "DatabaseHaveWorkedWith/MySQL",
          "NEWCollabToolsHaveWorkedWith/Nano",
          "DatabaseHaveWorkedWith/Neo4J",
          "NEWCollabToolsHaveWorkedWith/Neovim",
          "WebframeHaveWorkedWith/NestJS",
          "NEWCollabToolsHaveWorkedWith/Netbeans",
          "PlatformHaveWorkedWith/Netlify",
          "WebframeHaveWorkedWith/Next.js",
          "LanguageHaveWorkedWith/Nim",
          "ToolsTechHaveWorkedWith/Ninja",
          "ToolsTechHaveWorkedWith/Nix",
          "WebframeHaveWorkedWith/Node.js",
          "NEWCollabToolsHaveWorkedWith/Notepad++",
          "NEWCollabToolsHaveWorkedWith/Nova",
          "ToolsTechHaveWorkedWith/NuGet",
          "MiscTechHaveWorkedWith/NumPy",
          "WebframeHaveWorkedWith/Nuxt.js",
          "LanguageHaveWorkedWith/OCaml",
          "PlatformHaveWorkedWith/OVH",
          "LanguageHaveWorkedWith/Objective-C",
          "MiscTechHaveWorkedWith/OpenGL",
          "PlatformHaveWorkedWith/OpenShift",
          "PlatformHaveWorkedWith/OpenStack",
          "MiscTechHaveWorkedWith/Opencv",
          "DatabaseHaveWorkedWith/Oracle",
          "PlatformHaveWorkedWith/Oracle Cloud Infrastructure (OCI)",
          "LanguageHaveWorkedWith/PHP",
          "ToolsTechHaveWorkedWith/Pacman",
          "MiscTechHaveWorkedWith/Pandas",
          "LanguageHaveWorkedWith/Perl",
          "WebframeHaveWorkedWith/Phoenix",
          "NEWCollabToolsHaveWorkedWith/PhpStorm",
          "ToolsTechHaveWorkedWith/Pip",
          "WebframeHaveWorkedWith/Play Framework",
          "ToolsTechHaveWorkedWith/Podman",
          "DatabaseHaveWorkedWith/PostgreSQL",
          "LanguageHaveWorkedWith/PowerShell",
          "LanguageHaveWorkedWith/Prolog",
          "ToolsTechHaveWorkedWith/Pulumi",
          "ToolsTechHaveWorkedWith/Puppet",
          "NEWCollabToolsHaveWorkedWith/PyCharm",
          "LanguageHaveWorkedWith/Python",
          "ToolsTechHaveWorkedWith/QMake",
          "MiscTechHaveWorkedWith/Qt",
          "NEWCollabToolsHaveWorkedWith/Qt Creator",
          "MiscTechHaveWorkedWith/Quarkus",
          "WebframeHaveWorkedWith/Qwik",
          "LanguageHaveWorkedWith/R",
          "NEWCollabToolsHaveWorkedWith/RStudio",
          "MiscTechHaveWorkedWith/RabbitMQ",
          "NEWCollabToolsHaveWorkedWith/Rad Studio (Delphi, C++ Builder)",
          "LanguageHaveWorkedWith/Raku",
          "DatabaseHaveWorkedWith/RavenDB",
          "WebframeHaveWorkedWith/React",
          "MiscTechHaveWorkedWith/React Native",
          "DatabaseHaveWorkedWith/Redis",
          "WebframeHaveWorkedWith/Remix",
          "PlatformHaveWorkedWith/Render",
          "NEWCollabToolsHaveWorkedWith/Rider",
          "LanguageHaveWorkedWith/Ruby",
          "WebframeHaveWorkedWith/Ruby on Rails",
          "NEWCollabToolsHaveWorkedWith/RubyMine",
          "LanguageHaveWorkedWith/Rust",
          "LanguageHaveWorkedWith/SAS",
          "ToolsTechHaveWorkedWith/SCons",
          "LanguageHaveWorkedWith/SQL",
          "DatabaseHaveWorkedWith/SQLite",
          "LanguageHaveWorkedWith/Scala",
          "PlatformHaveWorkedWith/Scaleway",
          "MiscTechHaveWorkedWith/Scikit-Learn",
          "DatabaseHaveWorkedWith/Snowflake",
          "WebframeHaveWorkedWith/Solid.js",
          "LanguageHaveWorkedWith/Solidity",
          "DatabaseHaveWorkedWith/Solr",
          "WebframeHaveWorkedWith/Spring Boot",
          "MiscTechHaveWorkedWith/Spring Framework",
          "NEWCollabToolsHaveWorkedWith/Spyder",
          "NEWCollabToolsHaveWorkedWith/Sublime Text",
          "DatabaseHaveWorkedWith/Supabase",
          "WebframeHaveWorkedWith/Svelte",
          "LanguageHaveWorkedWith/Swift",
          "MiscTechHaveWorkedWith/SwiftUI",
          "WebframeHaveWorkedWith/Symfony",
          "MiscTechHaveWorkedWith/Tauri",
          "MiscTechHaveWorkedWith/TensorFlow",
          "ToolsTechHaveWorkedWith/Terraform",
          "NEWCollabToolsHaveWorkedWith/TextMate",
          "DatabaseHaveWorkedWith/TiDB",
          "MiscTechHaveWorkedWith/Tidyverse",
          "MiscTechHaveWorkedWith/Torch/PyTorch",
          "LanguageHaveWorkedWith/TypeScript",
          "ToolsTechHaveWorkedWith/Unity 3D",
          "MiscTechHaveWorkedWith/Uno Platform",
          "ToolsTechHaveWorkedWith/Unreal Engine",
          "LanguageHaveWorkedWith/VBA",
          "PlatformHaveWorkedWith/VMware",
          "NEWCollabToolsHaveWorkedWith/VSCodium",
          "PlatformHaveWorkedWith/Vercel",
          "NEWCollabToolsHaveWorkedWith/Vim",
          "LanguageHaveWorkedWith/Visual Basic (.Net)",
          "NEWCollabToolsHaveWorkedWith/Visual Studio",
          "NEWCollabToolsHaveWorkedWith/Visual Studio Code",
          "ToolsTechHaveWorkedWith/Visual Studio Solution",
          "ToolsTechHaveWorkedWith/Vite",
          "WebframeHaveWorkedWith/Vue.js",
          "PlatformHaveWorkedWith/Vultr",
          "ToolsTechHaveWorkedWith/Wasmer",
          "NEWCollabToolsHaveWorkedWith/WebStorm",
          "ToolsTechHaveWorkedWith/Webpack",
          "WebframeHaveWorkedWith/WordPress",
          "MiscTechHaveWorkedWith/Xamarin",
          "NEWCollabToolsHaveWorkedWith/Xcode",
          "ToolsTechHaveWorkedWith/Yarn",
          "LanguageHaveWorkedWith/Zig",
          "ToolsTechHaveWorkedWith/bandit",
          "ToolsTechHaveWorkedWith/build2",
          "NEWCollabToolsHaveWorkedWith/condo",
          "ToolsTechHaveWorkedWith/cppunit",
          "ToolsTechHaveWorkedWith/doctest",
          "WebframeHaveWorkedWith/jQuery",
          "ToolsTechHaveWorkedWith/lest",
          "ToolsTechHaveWorkedWith/liblittletest",
          "ToolsTechHaveWorkedWith/npm",
          "ToolsTechHaveWorkedWith/pnpm",
          "ToolsTechHaveWorkedWith/snitch",
          "ToolsTechHaveWorkedWith/tunit",
          "DatabaseHaveWorkedWith",
          "LanguageHaveWorkedWith",
          "MiscTechHaveWorkedWith",
          "NEWCollabToolsHaveWorkedWith",
          "PlatformHaveWorkedWith",
          "ToolsTechHaveWorkedWith",
          "WebframeHaveWorkedWith"
         ],
         "labels": [
          ".NET (5+) ",
          ".NET Framework (1.0 - 4.8)",
          ".NET MAUI",
          "APL",
          "APT",
          "ASP.NET",
          "ASP.NET CORE",
          "Ada",
          "Amazon Web Services (AWS)",
          "Android Studio",
          "Angular",
          "AngularJS",
          "Ansible",
          "Ant",
          "Apache Kafka",
          "Apache Spark",
          "Apex",
          "Assembly",
          "Atom",
          "BBEdit",
          "Bash/Shell (all shells)",
          "BigQuery",
          "Blazor",
          "Boost.Test",
          "Bun",
          "C",
          "C#",
          "C++",
          "CLion",
          "CMake",
          "CUDA",
          "CUTE",
          "Capacitor",
          "Cargo",
          "Cassandra",
          "Catch2",
          "Chef",
          "Chocolatey",
          "Clickhouse",
          "Clojure",
          "Cloud Firestore",
          "Cloudflare",
          "Cobol",
          "Cockroachdb",
          "Code::Blocks",
          "CodeIgniter",
          "Colocation",
          "Composer",
          "Cordova",
          "Cosmos DB",
          "Couch DB",
          "Couchbase",
          "Crystal",
          "Dagger",
          "Dart",
          "DataGrip",
          "Datomic",
          "Delphi",
          "Deno",
          "Digital Ocean",
          "Django",
          "Docker",
          "Drupal",
          "DuckDB",
          "Dynamodb",
          "ELFspy",
          "Eclipse",
          "Elasticsearch",
          "Electron",
          "Elixir",
          "Elm",
          "Emacs",
          "Erlang",
          "Express",
          "F#",
          "FastAPI",
          "Fastify",
          "Firebase",
          "Firebase Realtime Database",
          "Firebird",
          "Flask",
          "Fleet",
          "Flow",
          "Flutter",
          "Fly.io",
          "Fortran",
          "GDScript",
          "GNU GCC",
          "GTK",
          "Gatsby",
          "Geany",
          "Go",
          "Godot",
          "Goland",
          "Google Cloud",
          "Google Test",
          "Gradle",
          "Groovy",
          "H2",
          "HTML/CSS",
          "Hadoop",
          "Haskell",
          "Helix",
          "Heroku",
          "Hetzner",
          "Homebrew",
          "Hugging Face Transformers",
          "IBM Cloud Or Watson",
          "IBM DB2",
          "IPython",
          "InfluxDB",
          "IntelliJ IDEA",
          "Ionic",
          "JAX",
          "Java",
          "JavaScript",
          "Julia",
          "Jupyter Notebook/JupyterLab",
          "Kate",
          "Keras",
          "Kotlin",
          "Ktor",
          "Kubernetes",
          "LLVM's Clang",
          "Laravel",
          "Linode, now Akamai",
          "Lisp",
          "Lit",
          "Lua",
          "MATLAB",
          "MFC",
          "MSBuild",
          "MSVC",
          "Make",
          "Managed Hosting",
          "MariaDB",
          "Maven (build tool)",
          "Meson",
          "Micro",
          "Micronaut",
          "Microsoft Access",
          "Microsoft Azure",
          "Microsoft SQL Server",
          "MongoDB",
          "MySQL",
          "Nano",
          "Neo4J",
          "Neovim",
          "NestJS",
          "Netbeans",
          "Netlify",
          "Next.js",
          "Nim",
          "Ninja",
          "Nix",
          "Node.js",
          "Notepad++",
          "Nova",
          "NuGet",
          "NumPy",
          "Nuxt.js",
          "OCaml",
          "OVH",
          "Objective-C",
          "OpenGL",
          "OpenShift",
          "OpenStack",
          "Opencv",
          "Oracle",
          "Oracle Cloud Infrastructure (OCI)",
          "PHP",
          "Pacman",
          "Pandas",
          "Perl",
          "Phoenix",
          "PhpStorm",
          "Pip",
          "Play Framework",
          "Podman",
          "PostgreSQL",
          "PowerShell",
          "Prolog",
          "Pulumi",
          "Puppet",
          "PyCharm",
          "Python",
          "QMake",
          "Qt",
          "Qt Creator",
          "Quarkus",
          "Qwik",
          "R",
          "RStudio",
          "RabbitMQ",
          "Rad Studio (Delphi, C++ Builder)",
          "Raku",
          "RavenDB",
          "React",
          "React Native",
          "Redis",
          "Remix",
          "Render",
          "Rider",
          "Ruby",
          "Ruby on Rails",
          "RubyMine",
          "Rust",
          "SAS",
          "SCons",
          "SQL",
          "SQLite",
          "Scala",
          "Scaleway",
          "Scikit-Learn",
          "Snowflake",
          "Solid.js",
          "Solidity",
          "Solr",
          "Spring Boot",
          "Spring Framework",
          "Spyder",
          "Sublime Text",
          "Supabase",
          "Svelte",
          "Swift",
          "SwiftUI",
          "Symfony",
          "Tauri",
          "TensorFlow",
          "Terraform",
          "TextMate",
          "TiDB",
          "Tidyverse",
          "Torch/PyTorch",
          "TypeScript",
          "Unity 3D",
          "Uno Platform",
          "Unreal Engine",
          "VBA",
          "VMware",
          "VSCodium",
          "Vercel",
          "Vim",
          "Visual Basic (.Net)",
          "Visual Studio",
          "Visual Studio Code",
          "Visual Studio Solution",
          "Vite",
          "Vue.js",
          "Vultr",
          "Wasmer",
          "WebStorm",
          "Webpack",
          "WordPress",
          "Xamarin",
          "Xcode",
          "Yarn",
          "Zig",
          "bandit",
          "build2",
          "condo",
          "cppunit",
          "doctest",
          "jQuery",
          "lest",
          "liblittletest",
          "npm",
          "pnpm",
          "snitch",
          "tunit",
          "DatabaseHaveWorkedWith",
          "LanguageHaveWorkedWith",
          "MiscTechHaveWorkedWith",
          "NEWCollabToolsHaveWorkedWith",
          "PlatformHaveWorkedWith",
          "ToolsTechHaveWorkedWith",
          "WebframeHaveWorkedWith"
         ],
         "marker": {
          "coloraxis": "coloraxis",
          "colors": [
           17005.0,
           11452.0,
           1573.0,
           225.0,
           5780.0,
           9185.0,
           11896.0,
           677.0,
           33818.0,
           14553.0,
           12537.0,
           5176.0,
           6921.0,
           2371.0,
           5984.0,
           2748.0,
           579.0,
           4753.0,
           4874.0,
           722.0,
           28351.0,
           3456.0,
           3501.0,
           342.0,
           620.0,
           16940.0,
           24193.0,
           19634.0,
           4240.0,
           11506.0,
           3042.0,
           54.0,
           1127.0,
           10409.0,
           1927.0,
           663.0,
           758.0,
           6509.0,
           849.0,
           1105.0,
           4901.0,
           10599.0,
           576.0,
           795.0,
           2077.0,
           1238.0,
           497.0,
           6266.0,
           1616.0,
           2672.0,
           887.0,
           598.0,
           389.0,
           866.0,
           5273.0,
           4396.0,
           244.0,
           2831.0,
           1697.0,
           9299.0,
           8238.0,
           41369.0,
           1343.0,
           469.0,
           6798.0,
           51.0,
           8565.0,
           10263.0,
           4685.0,
           2028.0,
           580.0,
           4058.0,
           868.0,
           13843.0,
           849.0,
           5325.0,
           1474.0,
           10761.0,
           4939.0,
           1152.0,
           8734.0,
           1642.0,
           214.0,
           6132.0,
           1649.0,
           833.0,
           1495.0,
           10038.0,
           1690.0,
           1675.0,
           841.0,
           11592.0,
           2478.0,
           2795.0,
           16592.0,
           2146.0,
           11961.0,
           2976.0,
           2808.0,
           46396.0,
           1539.0,
           1829.0,
           1391.0,
           8358.0,
           3069.0,
           17647.0,
           1852.0,
           801.0,
           1414.0,
           4226.0,
           2091.0,
           23209.0,
           1948.0,
           641.0,
           26757.0,
           55711.0,
           1010.0,
           11024.0,
           1367.0,
           2839.0,
           7935.0,
           740.0,
           15260.0,
           5959.0,
           5440.0,
           2755.0,
           1342.0,
           490.0,
           5336.0,
           3339.0,
           671.0,
           8520.0,
           3666.0,
           16161.0,
           2379.0,
           13495.0,
           12109.0,
           1052.0,
           551.0,
           441.0,
           3257.0,
           18105.0,
           19506.0,
           19556.0,
           31489.0,
           7769.0,
           1432.0,
           10282.0,
           3681.0,
           2760.0,
           6228.0,
           11972.0,
           331.0,
           2928.0,
           1647.0,
           30626.0,
           21240.0,
           250.0,
           12235.0,
           13614.0,
           2652.0,
           614.0,
           2378.0,
           2019.0,
           4664.0,
           1671.0,
           1076.0,
           5455.0,
           7507.0,
           1810.0,
           16274.0,
           5280.0,
           12756.0,
           2151.0,
           1468.0,
           5274.0,
           23281.0,
           545.0,
           3129.0,
           34909.0,
           11902.0,
           776.0,
           659.0,
           900.0,
           12658.0,
           43158.0,
           983.0,
           4401.0,
           2031.0,
           763.0,
           389.0,
           3702.0,
           2343.0,
           6942.0,
           1961.0,
           156.0,
           227.0,
           29137.0,
           5667.0,
           15639.0,
           912.0,
           1287.0,
           4819.0,
           5454.0,
           3940.0,
           1115.0,
           11427.0,
           427.0,
           378.0,
           42623.0,
           23678.0,
           2422.0,
           628.0,
           6339.0,
           1820.0,
           979.0,
           1168.0,
           1189.0,
           8583.0,
           7460.0,
           1273.0,
           10914.0,
           2122.0,
           4753.0,
           4072.0,
           2643.0,
           2301.0,
           1516.0,
           6405.0,
           9068.0,
           592.0,
           157.0,
           1045.0,
           5884.0,
           34041.0,
           5561.0,
           357.0,
           2482.0,
           3107.0,
           4964.0,
           3627.0,
           7431.0,
           19294.0,
           3568.0,
           24605.0,
           63793.0,
           11751.0,
           11807.0,
           11758.0,
           1357.0,
           431.0,
           6388.0,
           16665.0,
           9604.0,
           2233.0,
           8180.0,
           17545.0,
           729.0,
           362.0,
           159.0,
           152.0,
           346.0,
           393.0,
           15784.0,
           55.0,
           37.0,
           39609.0,
           5036.0,
           55.0,
           69.0,
           19257.440826831527,
           29669.53018618191,
           8005.0806446439,
           23855.92061977598,
           15543.864783881989,
           18092.166426684264,
           14601.136060417532
          ]
         },
         "name": "",
         "parents": [
          "MiscTechHaveWorkedWith",
          "MiscTechHaveWorkedWith",
          "MiscTechHaveWorkedWith",
          "LanguageHaveWorkedWith",
          "ToolsTechHaveWorkedWith",
          "WebframeHaveWorkedWith",
          "WebframeHaveWorkedWith",
          "LanguageHaveWorkedWith",
          "PlatformHaveWorkedWith",
          "NEWCollabToolsHaveWorkedWith",
          "WebframeHaveWorkedWith",
          "WebframeHaveWorkedWith",
          "ToolsTechHaveWorkedWith",
          "ToolsTechHaveWorkedWith",
          "MiscTechHaveWorkedWith",
          "MiscTechHaveWorkedWith",
          "LanguageHaveWorkedWith",
          "LanguageHaveWorkedWith",
          "NEWCollabToolsHaveWorkedWith",
          "NEWCollabToolsHaveWorkedWith",
          "LanguageHaveWorkedWith",
          "DatabaseHaveWorkedWith",
          "WebframeHaveWorkedWith",
          "ToolsTechHaveWorkedWith",
          "ToolsTechHaveWorkedWith",
          "LanguageHaveWorkedWith",
          "LanguageHaveWorkedWith",
          "LanguageHaveWorkedWith",
          "NEWCollabToolsHaveWorkedWith",
          "ToolsTechHaveWorkedWith",
          "MiscTechHaveWorkedWith",
          "ToolsTechHaveWorkedWith",
          "MiscTechHaveWorkedWith",
          "ToolsTechHaveWorkedWith",
          "DatabaseHaveWorkedWith",
          "ToolsTechHaveWorkedWith",
          "ToolsTechHaveWorkedWith",
          "ToolsTechHaveWorkedWith",
          "DatabaseHaveWorkedWith",
          "LanguageHaveWorkedWith",
          "DatabaseHaveWorkedWith",
          "PlatformHaveWorkedWith",
          "LanguageHaveWorkedWith",
          "DatabaseHaveWorkedWith",
          "NEWCollabToolsHaveWorkedWith",
          "WebframeHaveWorkedWith",
          "PlatformHaveWorkedWith",
          "ToolsTechHaveWorkedWith",
          "MiscTechHaveWorkedWith",
          "DatabaseHaveWorkedWith",
          "DatabaseHaveWorkedWith",
          "DatabaseHaveWorkedWith",
          "LanguageHaveWorkedWith",
          "ToolsTechHaveWorkedWith",
          "LanguageHaveWorkedWith",
          "NEWCollabToolsHaveWorkedWith",
          "DatabaseHaveWorkedWith",
          "LanguageHaveWorkedWith",
          "WebframeHaveWorkedWith",
          "PlatformHaveWorkedWith",
          "WebframeHaveWorkedWith",
          "ToolsTechHaveWorkedWith",
          "WebframeHaveWorkedWith",
          "DatabaseHaveWorkedWith",
          "DatabaseHaveWorkedWith",
          "ToolsTechHaveWorkedWith",
          "NEWCollabToolsHaveWorkedWith",
          "DatabaseHaveWorkedWith",
          "MiscTechHaveWorkedWith",
          "LanguageHaveWorkedWith",
          "WebframeHaveWorkedWith",
          "NEWCollabToolsHaveWorkedWith",
          "LanguageHaveWorkedWith",
          "WebframeHaveWorkedWith",
          "LanguageHaveWorkedWith",
          "WebframeHaveWorkedWith",
          "WebframeHaveWorkedWith",
          "PlatformHaveWorkedWith",
          "DatabaseHaveWorkedWith",
          "DatabaseHaveWorkedWith",
          "WebframeHaveWorkedWith",
          "NEWCollabToolsHaveWorkedWith",
          "LanguageHaveWorkedWith",
          "MiscTechHaveWorkedWith",
          "PlatformHaveWorkedWith",
          "LanguageHaveWorkedWith",
          "LanguageHaveWorkedWith",
          "ToolsTechHaveWorkedWith",
          "MiscTechHaveWorkedWith",
          "WebframeHaveWorkedWith",
          "NEWCollabToolsHaveWorkedWith",
          "LanguageHaveWorkedWith",
          "ToolsTechHaveWorkedWith",
          "NEWCollabToolsHaveWorkedWith",
          "PlatformHaveWorkedWith",
          "ToolsTechHaveWorkedWith",
          "ToolsTechHaveWorkedWith",
          "LanguageHaveWorkedWith",
          "DatabaseHaveWorkedWith",
          "LanguageHaveWorkedWith",
          "MiscTechHaveWorkedWith",
          "LanguageHaveWorkedWith",
          "NEWCollabToolsHaveWorkedWith",
          "PlatformHaveWorkedWith",
          "PlatformHaveWorkedWith",
          "ToolsTechHaveWorkedWith",
          "MiscTechHaveWorkedWith",
          "PlatformHaveWorkedWith",
          "DatabaseHaveWorkedWith",
          "NEWCollabToolsHaveWorkedWith",
          "DatabaseHaveWorkedWith",
          "NEWCollabToolsHaveWorkedWith",
          "MiscTechHaveWorkedWith",
          "MiscTechHaveWorkedWith",
          "LanguageHaveWorkedWith",
          "LanguageHaveWorkedWith",
          "LanguageHaveWorkedWith",
          "NEWCollabToolsHaveWorkedWith",
          "NEWCollabToolsHaveWorkedWith",
          "MiscTechHaveWorkedWith",
          "LanguageHaveWorkedWith",
          "MiscTechHaveWorkedWith",
          "ToolsTechHaveWorkedWith",
          "ToolsTechHaveWorkedWith",
          "WebframeHaveWorkedWith",
          "PlatformHaveWorkedWith",
          "LanguageHaveWorkedWith",
          "WebframeHaveWorkedWith",
          "LanguageHaveWorkedWith",
          "LanguageHaveWorkedWith",
          "MiscTechHaveWorkedWith",
          "ToolsTechHaveWorkedWith",
          "ToolsTechHaveWorkedWith",
          "ToolsTechHaveWorkedWith",
          "PlatformHaveWorkedWith",
          "DatabaseHaveWorkedWith",
          "ToolsTechHaveWorkedWith",
          "ToolsTechHaveWorkedWith",
          "NEWCollabToolsHaveWorkedWith",
          "MiscTechHaveWorkedWith",
          "DatabaseHaveWorkedWith",
          "PlatformHaveWorkedWith",
          "DatabaseHaveWorkedWith",
          "DatabaseHaveWorkedWith",
          "DatabaseHaveWorkedWith",
          "NEWCollabToolsHaveWorkedWith",
          "DatabaseHaveWorkedWith",
          "NEWCollabToolsHaveWorkedWith",
          "WebframeHaveWorkedWith",
          "NEWCollabToolsHaveWorkedWith",
          "PlatformHaveWorkedWith",
          "WebframeHaveWorkedWith",
          "LanguageHaveWorkedWith",
          "ToolsTechHaveWorkedWith",
          "ToolsTechHaveWorkedWith",
          "WebframeHaveWorkedWith",
          "NEWCollabToolsHaveWorkedWith",
          "NEWCollabToolsHaveWorkedWith",
          "ToolsTechHaveWorkedWith",
          "MiscTechHaveWorkedWith",
          "WebframeHaveWorkedWith",
          "LanguageHaveWorkedWith",
          "PlatformHaveWorkedWith",
          "LanguageHaveWorkedWith",
          "MiscTechHaveWorkedWith",
          "PlatformHaveWorkedWith",
          "PlatformHaveWorkedWith",
          "MiscTechHaveWorkedWith",
          "DatabaseHaveWorkedWith",
          "PlatformHaveWorkedWith",
          "LanguageHaveWorkedWith",
          "ToolsTechHaveWorkedWith",
          "MiscTechHaveWorkedWith",
          "LanguageHaveWorkedWith",
          "WebframeHaveWorkedWith",
          "NEWCollabToolsHaveWorkedWith",
          "ToolsTechHaveWorkedWith",
          "WebframeHaveWorkedWith",
          "ToolsTechHaveWorkedWith",
          "DatabaseHaveWorkedWith",
          "LanguageHaveWorkedWith",
          "LanguageHaveWorkedWith",
          "ToolsTechHaveWorkedWith",
          "ToolsTechHaveWorkedWith",
          "NEWCollabToolsHaveWorkedWith",
          "LanguageHaveWorkedWith",
          "ToolsTechHaveWorkedWith",
          "MiscTechHaveWorkedWith",
          "NEWCollabToolsHaveWorkedWith",
          "MiscTechHaveWorkedWith",
          "WebframeHaveWorkedWith",
          "LanguageHaveWorkedWith",
          "NEWCollabToolsHaveWorkedWith",
          "MiscTechHaveWorkedWith",
          "NEWCollabToolsHaveWorkedWith",
          "LanguageHaveWorkedWith",
          "DatabaseHaveWorkedWith",
          "WebframeHaveWorkedWith",
          "MiscTechHaveWorkedWith",
          "DatabaseHaveWorkedWith",
          "WebframeHaveWorkedWith",
          "PlatformHaveWorkedWith",
          "NEWCollabToolsHaveWorkedWith",
          "LanguageHaveWorkedWith",
          "WebframeHaveWorkedWith",
          "NEWCollabToolsHaveWorkedWith",
          "LanguageHaveWorkedWith",
          "LanguageHaveWorkedWith",
          "ToolsTechHaveWorkedWith",
          "LanguageHaveWorkedWith",
          "DatabaseHaveWorkedWith",
          "LanguageHaveWorkedWith",
          "PlatformHaveWorkedWith",
          "MiscTechHaveWorkedWith",
          "DatabaseHaveWorkedWith",
          "WebframeHaveWorkedWith",
          "LanguageHaveWorkedWith",
          "DatabaseHaveWorkedWith",
          "WebframeHaveWorkedWith",
          "MiscTechHaveWorkedWith",
          "NEWCollabToolsHaveWorkedWith",
          "NEWCollabToolsHaveWorkedWith",
          "DatabaseHaveWorkedWith",
          "WebframeHaveWorkedWith",
          "LanguageHaveWorkedWith",
          "MiscTechHaveWorkedWith",
          "WebframeHaveWorkedWith",
          "MiscTechHaveWorkedWith",
          "MiscTechHaveWorkedWith",
          "ToolsTechHaveWorkedWith",
          "NEWCollabToolsHaveWorkedWith",
          "DatabaseHaveWorkedWith",
          "MiscTechHaveWorkedWith",
          "MiscTechHaveWorkedWith",
          "LanguageHaveWorkedWith",
          "ToolsTechHaveWorkedWith",
          "MiscTechHaveWorkedWith",
          "ToolsTechHaveWorkedWith",
          "LanguageHaveWorkedWith",
          "PlatformHaveWorkedWith",
          "NEWCollabToolsHaveWorkedWith",
          "PlatformHaveWorkedWith",
          "NEWCollabToolsHaveWorkedWith",
          "LanguageHaveWorkedWith",
          "NEWCollabToolsHaveWorkedWith",
          "NEWCollabToolsHaveWorkedWith",
          "ToolsTechHaveWorkedWith",
          "ToolsTechHaveWorkedWith",
          "WebframeHaveWorkedWith",
          "PlatformHaveWorkedWith",
          "ToolsTechHaveWorkedWith",
          "NEWCollabToolsHaveWorkedWith",
          "ToolsTechHaveWorkedWith",
          "WebframeHaveWorkedWith",
          "MiscTechHaveWorkedWith",
          "NEWCollabToolsHaveWorkedWith",
          "ToolsTechHaveWorkedWith",
          "LanguageHaveWorkedWith",
          "ToolsTechHaveWorkedWith",
          "ToolsTechHaveWorkedWith",
          "NEWCollabToolsHaveWorkedWith",
          "ToolsTechHaveWorkedWith",
          "ToolsTechHaveWorkedWith",
          "WebframeHaveWorkedWith",
          "ToolsTechHaveWorkedWith",
          "ToolsTechHaveWorkedWith",
          "ToolsTechHaveWorkedWith",
          "ToolsTechHaveWorkedWith",
          "ToolsTechHaveWorkedWith",
          "ToolsTechHaveWorkedWith",
          "",
          "",
          "",
          "",
          "",
          "",
          ""
         ],
         "values": [
          17005,
          11452,
          1573,
          225,
          5780,
          9185,
          11896,
          677,
          33818,
          14553,
          12537,
          5176,
          6921,
          2371,
          5984,
          2748,
          579,
          4753,
          4874,
          722,
          28351,
          3456,
          3501,
          342,
          620,
          16940,
          24193,
          19634,
          4240,
          11506,
          3042,
          54,
          1127,
          10409,
          1927,
          663,
          758,
          6509,
          849,
          1105,
          4901,
          10599,
          576,
          795,
          2077,
          1238,
          497,
          6266,
          1616,
          2672,
          887,
          598,
          389,
          866,
          5273,
          4396,
          244,
          2831,
          1697,
          9299,
          8238,
          41369,
          1343,
          469,
          6798,
          51,
          8565,
          10263,
          4685,
          2028,
          580,
          4058,
          868,
          13843,
          849,
          5325,
          1474,
          10761,
          4939,
          1152,
          8734,
          1642,
          214,
          6132,
          1649,
          833,
          1495,
          10038,
          1690,
          1675,
          841,
          11592,
          2478,
          2795,
          16592,
          2146,
          11961,
          2976,
          2808,
          46396,
          1539,
          1829,
          1391,
          8358,
          3069,
          17647,
          1852,
          801,
          1414,
          4226,
          2091,
          23209,
          1948,
          641,
          26757,
          55711,
          1010,
          11024,
          1367,
          2839,
          7935,
          740,
          15260,
          5959,
          5440,
          2755,
          1342,
          490,
          5336,
          3339,
          671,
          8520,
          3666,
          16161,
          2379,
          13495,
          12109,
          1052,
          551,
          441,
          3257,
          18105,
          19506,
          19556,
          31489,
          7769,
          1432,
          10282,
          3681,
          2760,
          6228,
          11972,
          331,
          2928,
          1647,
          30626,
          21240,
          250,
          12235,
          13614,
          2652,
          614,
          2378,
          2019,
          4664,
          1671,
          1076,
          5455,
          7507,
          1810,
          16274,
          5280,
          12756,
          2151,
          1468,
          5274,
          23281,
          545,
          3129,
          34909,
          11902,
          776,
          659,
          900,
          12658,
          43158,
          983,
          4401,
          2031,
          763,
          389,
          3702,
          2343,
          6942,
          1961,
          156,
          227,
          29137,
          5667,
          15639,
          912,
          1287,
          4819,
          5454,
          3940,
          1115,
          11427,
          427,
          378,
          42623,
          23678,
          2422,
          628,
          6339,
          1820,
          979,
          1168,
          1189,
          8583,
          7460,
          1273,
          10914,
          2122,
          4753,
          4072,
          2643,
          2301,
          1516,
          6405,
          9068,
          592,
          157,
          1045,
          5884,
          34041,
          5561,
          357,
          2482,
          3107,
          4964,
          3627,
          7431,
          19294,
          3568,
          24605,
          63793,
          11751,
          11807,
          11758,
          1357,
          431,
          6388,
          16665,
          9604,
          2233,
          8180,
          17545,
          729,
          362,
          159,
          152,
          346,
          393,
          15784,
          55,
          37,
          39609,
          5036,
          55,
          69,
          222246,
          466157,
          155869,
          301851,
          147512,
          374333,
          231456
         ],
         "type": "treemap"
        }
       ],
       "layout": {
        "template": {
         "data": {
          "histogram2dcontour": [
           {
            "type": "histogram2dcontour",
            "colorbar": {
             "outlinewidth": 0,
             "ticks": ""
            },
            "colorscale": [
             [
              0.0,
              "#0d0887"
             ],
             [
              0.1111111111111111,
              "#46039f"
             ],
             [
              0.2222222222222222,
              "#7201a8"
             ],
             [
              0.3333333333333333,
              "#9c179e"
             ],
             [
              0.4444444444444444,
              "#bd3786"
             ],
             [
              0.5555555555555556,
              "#d8576b"
             ],
             [
              0.6666666666666666,
              "#ed7953"
             ],
             [
              0.7777777777777778,
              "#fb9f3a"
             ],
             [
              0.8888888888888888,
              "#fdca26"
             ],
             [
              1.0,
              "#f0f921"
             ]
            ]
           }
          ],
          "choropleth": [
           {
            "type": "choropleth",
            "colorbar": {
             "outlinewidth": 0,
             "ticks": ""
            }
           }
          ],
          "histogram2d": [
           {
            "type": "histogram2d",
            "colorbar": {
             "outlinewidth": 0,
             "ticks": ""
            },
            "colorscale": [
             [
              0.0,
              "#0d0887"
             ],
             [
              0.1111111111111111,
              "#46039f"
             ],
             [
              0.2222222222222222,
              "#7201a8"
             ],
             [
              0.3333333333333333,
              "#9c179e"
             ],
             [
              0.4444444444444444,
              "#bd3786"
             ],
             [
              0.5555555555555556,
              "#d8576b"
             ],
             [
              0.6666666666666666,
              "#ed7953"
             ],
             [
              0.7777777777777778,
              "#fb9f3a"
             ],
             [
              0.8888888888888888,
              "#fdca26"
             ],
             [
              1.0,
              "#f0f921"
             ]
            ]
           }
          ],
          "heatmap": [
           {
            "type": "heatmap",
            "colorbar": {
             "outlinewidth": 0,
             "ticks": ""
            },
            "colorscale": [
             [
              0.0,
              "#0d0887"
             ],
             [
              0.1111111111111111,
              "#46039f"
             ],
             [
              0.2222222222222222,
              "#7201a8"
             ],
             [
              0.3333333333333333,
              "#9c179e"
             ],
             [
              0.4444444444444444,
              "#bd3786"
             ],
             [
              0.5555555555555556,
              "#d8576b"
             ],
             [
              0.6666666666666666,
              "#ed7953"
             ],
             [
              0.7777777777777778,
              "#fb9f3a"
             ],
             [
              0.8888888888888888,
              "#fdca26"
             ],
             [
              1.0,
              "#f0f921"
             ]
            ]
           }
          ],
          "heatmapgl": [
           {
            "type": "heatmapgl",
            "colorbar": {
             "outlinewidth": 0,
             "ticks": ""
            },
            "colorscale": [
             [
              0.0,
              "#0d0887"
             ],
             [
              0.1111111111111111,
              "#46039f"
             ],
             [
              0.2222222222222222,
              "#7201a8"
             ],
             [
              0.3333333333333333,
              "#9c179e"
             ],
             [
              0.4444444444444444,
              "#bd3786"
             ],
             [
              0.5555555555555556,
              "#d8576b"
             ],
             [
              0.6666666666666666,
              "#ed7953"
             ],
             [
              0.7777777777777778,
              "#fb9f3a"
             ],
             [
              0.8888888888888888,
              "#fdca26"
             ],
             [
              1.0,
              "#f0f921"
             ]
            ]
           }
          ],
          "contourcarpet": [
           {
            "type": "contourcarpet",
            "colorbar": {
             "outlinewidth": 0,
             "ticks": ""
            }
           }
          ],
          "contour": [
           {
            "type": "contour",
            "colorbar": {
             "outlinewidth": 0,
             "ticks": ""
            },
            "colorscale": [
             [
              0.0,
              "#0d0887"
             ],
             [
              0.1111111111111111,
              "#46039f"
             ],
             [
              0.2222222222222222,
              "#7201a8"
             ],
             [
              0.3333333333333333,
              "#9c179e"
             ],
             [
              0.4444444444444444,
              "#bd3786"
             ],
             [
              0.5555555555555556,
              "#d8576b"
             ],
             [
              0.6666666666666666,
              "#ed7953"
             ],
             [
              0.7777777777777778,
              "#fb9f3a"
             ],
             [
              0.8888888888888888,
              "#fdca26"
             ],
             [
              1.0,
              "#f0f921"
             ]
            ]
           }
          ],
          "surface": [
           {
            "type": "surface",
            "colorbar": {
             "outlinewidth": 0,
             "ticks": ""
            },
            "colorscale": [
             [
              0.0,
              "#0d0887"
             ],
             [
              0.1111111111111111,
              "#46039f"
             ],
             [
              0.2222222222222222,
              "#7201a8"
             ],
             [
              0.3333333333333333,
              "#9c179e"
             ],
             [
              0.4444444444444444,
              "#bd3786"
             ],
             [
              0.5555555555555556,
              "#d8576b"
             ],
             [
              0.6666666666666666,
              "#ed7953"
             ],
             [
              0.7777777777777778,
              "#fb9f3a"
             ],
             [
              0.8888888888888888,
              "#fdca26"
             ],
             [
              1.0,
              "#f0f921"
             ]
            ]
           }
          ],
          "mesh3d": [
           {
            "type": "mesh3d",
            "colorbar": {
             "outlinewidth": 0,
             "ticks": ""
            }
           }
          ],
          "scatter": [
           {
            "marker": {
             "line": {
              "color": "#283442"
             }
            },
            "type": "scatter"
           }
          ],
          "parcoords": [
           {
            "type": "parcoords",
            "line": {
             "colorbar": {
              "outlinewidth": 0,
              "ticks": ""
             }
            }
           }
          ],
          "scatterpolargl": [
           {
            "type": "scatterpolargl",
            "marker": {
             "colorbar": {
              "outlinewidth": 0,
              "ticks": ""
             }
            }
           }
          ],
          "bar": [
           {
            "error_x": {
             "color": "#f2f5fa"
            },
            "error_y": {
             "color": "#f2f5fa"
            },
            "marker": {
             "line": {
              "color": "rgb(17,17,17)",
              "width": 0.5
             },
             "pattern": {
              "fillmode": "overlay",
              "size": 10,
              "solidity": 0.2
             }
            },
            "type": "bar"
           }
          ],
          "scattergeo": [
           {
            "type": "scattergeo",
            "marker": {
             "colorbar": {
              "outlinewidth": 0,
              "ticks": ""
             }
            }
           }
          ],
          "scatterpolar": [
           {
            "type": "scatterpolar",
            "marker": {
             "colorbar": {
              "outlinewidth": 0,
              "ticks": ""
             }
            }
           }
          ],
          "histogram": [
           {
            "marker": {
             "pattern": {
              "fillmode": "overlay",
              "size": 10,
              "solidity": 0.2
             }
            },
            "type": "histogram"
           }
          ],
          "scattergl": [
           {
            "marker": {
             "line": {
              "color": "#283442"
             }
            },
            "type": "scattergl"
           }
          ],
          "scatter3d": [
           {
            "type": "scatter3d",
            "line": {
             "colorbar": {
              "outlinewidth": 0,
              "ticks": ""
             }
            },
            "marker": {
             "colorbar": {
              "outlinewidth": 0,
              "ticks": ""
             }
            }
           }
          ],
          "scattermapbox": [
           {
            "type": "scattermapbox",
            "marker": {
             "colorbar": {
              "outlinewidth": 0,
              "ticks": ""
             }
            }
           }
          ],
          "scatterternary": [
           {
            "type": "scatterternary",
            "marker": {
             "colorbar": {
              "outlinewidth": 0,
              "ticks": ""
             }
            }
           }
          ],
          "scattercarpet": [
           {
            "type": "scattercarpet",
            "marker": {
             "colorbar": {
              "outlinewidth": 0,
              "ticks": ""
             }
            }
           }
          ],
          "carpet": [
           {
            "aaxis": {
             "endlinecolor": "#A2B1C6",
             "gridcolor": "#506784",
             "linecolor": "#506784",
             "minorgridcolor": "#506784",
             "startlinecolor": "#A2B1C6"
            },
            "baxis": {
             "endlinecolor": "#A2B1C6",
             "gridcolor": "#506784",
             "linecolor": "#506784",
             "minorgridcolor": "#506784",
             "startlinecolor": "#A2B1C6"
            },
            "type": "carpet"
           }
          ],
          "table": [
           {
            "cells": {
             "fill": {
              "color": "#506784"
             },
             "line": {
              "color": "rgb(17,17,17)"
             }
            },
            "header": {
             "fill": {
              "color": "#2a3f5f"
             },
             "line": {
              "color": "rgb(17,17,17)"
             }
            },
            "type": "table"
           }
          ],
          "barpolar": [
           {
            "marker": {
             "line": {
              "color": "rgb(17,17,17)",
              "width": 0.5
             },
             "pattern": {
              "fillmode": "overlay",
              "size": 10,
              "solidity": 0.2
             }
            },
            "type": "barpolar"
           }
          ],
          "pie": [
           {
            "automargin": true,
            "type": "pie"
           }
          ]
         },
         "layout": {
          "autotypenumbers": "strict",
          "colorway": [
           "#636efa",
           "#EF553B",
           "#00cc96",
           "#ab63fa",
           "#FFA15A",
           "#19d3f3",
           "#FF6692",
           "#B6E880",
           "#FF97FF",
           "#FECB52"
          ],
          "font": {
           "color": "#f2f5fa"
          },
          "hovermode": "closest",
          "hoverlabel": {
           "align": "left"
          },
          "paper_bgcolor": "rgb(17,17,17)",
          "plot_bgcolor": "rgb(17,17,17)",
          "polar": {
           "bgcolor": "rgb(17,17,17)",
           "angularaxis": {
            "gridcolor": "#506784",
            "linecolor": "#506784",
            "ticks": ""
           },
           "radialaxis": {
            "gridcolor": "#506784",
            "linecolor": "#506784",
            "ticks": ""
           }
          },
          "ternary": {
           "bgcolor": "rgb(17,17,17)",
           "aaxis": {
            "gridcolor": "#506784",
            "linecolor": "#506784",
            "ticks": ""
           },
           "baxis": {
            "gridcolor": "#506784",
            "linecolor": "#506784",
            "ticks": ""
           },
           "caxis": {
            "gridcolor": "#506784",
            "linecolor": "#506784",
            "ticks": ""
           }
          },
          "coloraxis": {
           "colorbar": {
            "outlinewidth": 0,
            "ticks": ""
           }
          },
          "colorscale": {
           "sequential": [
            [
             0.0,
             "#0d0887"
            ],
            [
             0.1111111111111111,
             "#46039f"
            ],
            [
             0.2222222222222222,
             "#7201a8"
            ],
            [
             0.3333333333333333,
             "#9c179e"
            ],
            [
             0.4444444444444444,
             "#bd3786"
            ],
            [
             0.5555555555555556,
             "#d8576b"
            ],
            [
             0.6666666666666666,
             "#ed7953"
            ],
            [
             0.7777777777777778,
             "#fb9f3a"
            ],
            [
             0.8888888888888888,
             "#fdca26"
            ],
            [
             1.0,
             "#f0f921"
            ]
           ],
           "sequentialminus": [
            [
             0.0,
             "#0d0887"
            ],
            [
             0.1111111111111111,
             "#46039f"
            ],
            [
             0.2222222222222222,
             "#7201a8"
            ],
            [
             0.3333333333333333,
             "#9c179e"
            ],
            [
             0.4444444444444444,
             "#bd3786"
            ],
            [
             0.5555555555555556,
             "#d8576b"
            ],
            [
             0.6666666666666666,
             "#ed7953"
            ],
            [
             0.7777777777777778,
             "#fb9f3a"
            ],
            [
             0.8888888888888888,
             "#fdca26"
            ],
            [
             1.0,
             "#f0f921"
            ]
           ],
           "diverging": [
            [
             0,
             "#8e0152"
            ],
            [
             0.1,
             "#c51b7d"
            ],
            [
             0.2,
             "#de77ae"
            ],
            [
             0.3,
             "#f1b6da"
            ],
            [
             0.4,
             "#fde0ef"
            ],
            [
             0.5,
             "#f7f7f7"
            ],
            [
             0.6,
             "#e6f5d0"
            ],
            [
             0.7,
             "#b8e186"
            ],
            [
             0.8,
             "#7fbc41"
            ],
            [
             0.9,
             "#4d9221"
            ],
            [
             1,
             "#276419"
            ]
           ]
          },
          "xaxis": {
           "gridcolor": "#283442",
           "linecolor": "#506784",
           "ticks": "",
           "title": {
            "standoff": 15
           },
           "zerolinecolor": "#283442",
           "automargin": true,
           "zerolinewidth": 2
          },
          "yaxis": {
           "gridcolor": "#283442",
           "linecolor": "#506784",
           "ticks": "",
           "title": {
            "standoff": 15
           },
           "zerolinecolor": "#283442",
           "automargin": true,
           "zerolinewidth": 2
          },
          "scene": {
           "xaxis": {
            "backgroundcolor": "rgb(17,17,17)",
            "gridcolor": "#506784",
            "linecolor": "#506784",
            "showbackground": true,
            "ticks": "",
            "zerolinecolor": "#C8D4E3",
            "gridwidth": 2
           },
           "yaxis": {
            "backgroundcolor": "rgb(17,17,17)",
            "gridcolor": "#506784",
            "linecolor": "#506784",
            "showbackground": true,
            "ticks": "",
            "zerolinecolor": "#C8D4E3",
            "gridwidth": 2
           },
           "zaxis": {
            "backgroundcolor": "rgb(17,17,17)",
            "gridcolor": "#506784",
            "linecolor": "#506784",
            "showbackground": true,
            "ticks": "",
            "zerolinecolor": "#C8D4E3",
            "gridwidth": 2
           }
          },
          "shapedefaults": {
           "line": {
            "color": "#f2f5fa"
           }
          },
          "annotationdefaults": {
           "arrowcolor": "#f2f5fa",
           "arrowhead": 0,
           "arrowwidth": 1
          },
          "geo": {
           "bgcolor": "rgb(17,17,17)",
           "landcolor": "rgb(17,17,17)",
           "subunitcolor": "#506784",
           "showland": true,
           "showlakes": true,
           "lakecolor": "rgb(17,17,17)"
          },
          "title": {
           "x": 0.05
          },
          "updatemenudefaults": {
           "bgcolor": "#506784",
           "borderwidth": 0
          },
          "sliderdefaults": {
           "bgcolor": "#C8D4E3",
           "borderwidth": 1,
           "bordercolor": "rgb(17,17,17)",
           "tickwidth": 0
          },
          "mapbox": {
           "style": "dark"
          }
         }
        },
        "coloraxis": {
         "colorbar": {
          "title": {
           "text": "freq"
          }
         },
         "colorscale": [
          [
           0.0,
           "rgb(253, 253, 204)"
          ],
          [
           0.09090909090909091,
           "rgb(206, 236, 179)"
          ],
          [
           0.18181818181818182,
           "rgb(156, 219, 165)"
          ],
          [
           0.2727272727272727,
           "rgb(111, 201, 163)"
          ],
          [
           0.36363636363636365,
           "rgb(86, 177, 163)"
          ],
          [
           0.45454545454545453,
           "rgb(76, 153, 160)"
          ],
          [
           0.5454545454545454,
           "rgb(68, 130, 155)"
          ],
          [
           0.6363636363636364,
           "rgb(62, 108, 150)"
          ],
          [
           0.7272727272727273,
           "rgb(62, 82, 143)"
          ],
          [
           0.8181818181818182,
           "rgb(64, 60, 115)"
          ],
          [
           0.9090909090909091,
           "rgb(54, 43, 77)"
          ],
          [
           1.0,
           "rgb(39, 26, 44)"
          ]
         ]
        },
        "legend": {
         "tracegroupgap": 0
        },
        "margin": {
         "t": 60
        },
        "width": 1500,
        "height": 700
       },
       "config": {
        "plotlyServerURL": "https://plot.ly"
       }
      },
      "text/html": "<div>                            <div id=\"ede6da5f-7d55-44b7-b114-8fa50152f05b\" class=\"plotly-graph-div\" style=\"height:700px; width:1500px;\"></div>            <script type=\"text/javascript\">                require([\"plotly\"], function(Plotly) {                    window.PLOTLYENV=window.PLOTLYENV || {};                                    if (document.getElementById(\"ede6da5f-7d55-44b7-b114-8fa50152f05b\")) {                    Plotly.newPlot(                        \"ede6da5f-7d55-44b7-b114-8fa50152f05b\",                        [{\"branchvalues\":\"total\",\"customdata\":[[17005.0],[11452.0],[1573.0],[225.0],[5780.0],[9185.0],[11896.0],[677.0],[33818.0],[14553.0],[12537.0],[5176.0],[6921.0],[2371.0],[5984.0],[2748.0],[579.0],[4753.0],[4874.0],[722.0],[28351.0],[3456.0],[3501.0],[342.0],[620.0],[16940.0],[24193.0],[19634.0],[4240.0],[11506.0],[3042.0],[54.0],[1127.0],[10409.0],[1927.0],[663.0],[758.0],[6509.0],[849.0],[1105.0],[4901.0],[10599.0],[576.0],[795.0],[2077.0],[1238.0],[497.0],[6266.0],[1616.0],[2672.0],[887.0],[598.0],[389.0],[866.0],[5273.0],[4396.0],[244.0],[2831.0],[1697.0],[9299.0],[8238.0],[41369.0],[1343.0],[469.0],[6798.0],[51.0],[8565.0],[10263.0],[4685.0],[2028.0],[580.0],[4058.0],[868.0],[13843.0],[849.0],[5325.0],[1474.0],[10761.0],[4939.0],[1152.0],[8734.0],[1642.0],[214.0],[6132.0],[1649.0],[833.0],[1495.0],[10038.0],[1690.0],[1675.0],[841.0],[11592.0],[2478.0],[2795.0],[16592.0],[2146.0],[11961.0],[2976.0],[2808.0],[46396.0],[1539.0],[1829.0],[1391.0],[8358.0],[3069.0],[17647.0],[1852.0],[801.0],[1414.0],[4226.0],[2091.0],[23209.0],[1948.0],[641.0],[26757.0],[55711.0],[1010.0],[11024.0],[1367.0],[2839.0],[7935.0],[740.0],[15260.0],[5959.0],[5440.0],[2755.0],[1342.0],[490.0],[5336.0],[3339.0],[671.0],[8520.0],[3666.0],[16161.0],[2379.0],[13495.0],[12109.0],[1052.0],[551.0],[441.0],[3257.0],[18105.0],[19506.0],[19556.0],[31489.0],[7769.0],[1432.0],[10282.0],[3681.0],[2760.0],[6228.0],[11972.0],[331.0],[2928.0],[1647.0],[30626.0],[21240.0],[250.0],[12235.0],[13614.0],[2652.0],[614.0],[2378.0],[2019.0],[4664.0],[1671.0],[1076.0],[5455.0],[7507.0],[1810.0],[16274.0],[5280.0],[12756.0],[2151.0],[1468.0],[5274.0],[23281.0],[545.0],[3129.0],[34909.0],[11902.0],[776.0],[659.0],[900.0],[12658.0],[43158.0],[983.0],[4401.0],[2031.0],[763.0],[389.0],[3702.0],[2343.0],[6942.0],[1961.0],[156.0],[227.0],[29137.0],[5667.0],[15639.0],[912.0],[1287.0],[4819.0],[5454.0],[3940.0],[1115.0],[11427.0],[427.0],[378.0],[42623.0],[23678.0],[2422.0],[628.0],[6339.0],[1820.0],[979.0],[1168.0],[1189.0],[8583.0],[7460.0],[1273.0],[10914.0],[2122.0],[4753.0],[4072.0],[2643.0],[2301.0],[1516.0],[6405.0],[9068.0],[592.0],[157.0],[1045.0],[5884.0],[34041.0],[5561.0],[357.0],[2482.0],[3107.0],[4964.0],[3627.0],[7431.0],[19294.0],[3568.0],[24605.0],[63793.0],[11751.0],[11807.0],[11758.0],[1357.0],[431.0],[6388.0],[16665.0],[9604.0],[2233.0],[8180.0],[17545.0],[729.0],[362.0],[159.0],[152.0],[346.0],[393.0],[15784.0],[55.0],[37.0],[39609.0],[5036.0],[55.0],[69.0],[19257.440826831527],[29669.53018618191],[8005.0806446439],[23855.92061977598],[15543.864783881989],[18092.166426684264],[14601.136060417532]],\"domain\":{\"x\":[0.0,1.0],\"y\":[0.0,1.0]},\"hovertemplate\":\"labels=%{label}\\u003cbr\\u003efreq_sum=%{value}\\u003cbr\\u003eparent=%{parent}\\u003cbr\\u003eid=%{id}\\u003cbr\\u003efreq=%{color}\\u003cextra\\u003e\\u003c\\u002fextra\\u003e\",\"ids\":[\"MiscTechHaveWorkedWith\\u002f.NET (5+) \",\"MiscTechHaveWorkedWith\\u002f.NET Framework (1.0 - 4.8)\",\"MiscTechHaveWorkedWith\\u002f.NET MAUI\",\"LanguageHaveWorkedWith\\u002fAPL\",\"ToolsTechHaveWorkedWith\\u002fAPT\",\"WebframeHaveWorkedWith\\u002fASP.NET\",\"WebframeHaveWorkedWith\\u002fASP.NET CORE\",\"LanguageHaveWorkedWith\\u002fAda\",\"PlatformHaveWorkedWith\\u002fAmazon Web Services (AWS)\",\"NEWCollabToolsHaveWorkedWith\\u002fAndroid Studio\",\"WebframeHaveWorkedWith\\u002fAngular\",\"WebframeHaveWorkedWith\\u002fAngularJS\",\"ToolsTechHaveWorkedWith\\u002fAnsible\",\"ToolsTechHaveWorkedWith\\u002fAnt\",\"MiscTechHaveWorkedWith\\u002fApache Kafka\",\"MiscTechHaveWorkedWith\\u002fApache Spark\",\"LanguageHaveWorkedWith\\u002fApex\",\"LanguageHaveWorkedWith\\u002fAssembly\",\"NEWCollabToolsHaveWorkedWith\\u002fAtom\",\"NEWCollabToolsHaveWorkedWith\\u002fBBEdit\",\"LanguageHaveWorkedWith\\u002fBash\\u002fShell (all shells)\",\"DatabaseHaveWorkedWith\\u002fBigQuery\",\"WebframeHaveWorkedWith\\u002fBlazor\",\"ToolsTechHaveWorkedWith\\u002fBoost.Test\",\"ToolsTechHaveWorkedWith\\u002fBun\",\"LanguageHaveWorkedWith\\u002fC\",\"LanguageHaveWorkedWith\\u002fC#\",\"LanguageHaveWorkedWith\\u002fC++\",\"NEWCollabToolsHaveWorkedWith\\u002fCLion\",\"ToolsTechHaveWorkedWith\\u002fCMake\",\"MiscTechHaveWorkedWith\\u002fCUDA\",\"ToolsTechHaveWorkedWith\\u002fCUTE\",\"MiscTechHaveWorkedWith\\u002fCapacitor\",\"ToolsTechHaveWorkedWith\\u002fCargo\",\"DatabaseHaveWorkedWith\\u002fCassandra\",\"ToolsTechHaveWorkedWith\\u002fCatch2\",\"ToolsTechHaveWorkedWith\\u002fChef\",\"ToolsTechHaveWorkedWith\\u002fChocolatey\",\"DatabaseHaveWorkedWith\\u002fClickhouse\",\"LanguageHaveWorkedWith\\u002fClojure\",\"DatabaseHaveWorkedWith\\u002fCloud Firestore\",\"PlatformHaveWorkedWith\\u002fCloudflare\",\"LanguageHaveWorkedWith\\u002fCobol\",\"DatabaseHaveWorkedWith\\u002fCockroachdb\",\"NEWCollabToolsHaveWorkedWith\\u002fCode::Blocks\",\"WebframeHaveWorkedWith\\u002fCodeIgniter\",\"PlatformHaveWorkedWith\\u002fColocation\",\"ToolsTechHaveWorkedWith\\u002fComposer\",\"MiscTechHaveWorkedWith\\u002fCordova\",\"DatabaseHaveWorkedWith\\u002fCosmos DB\",\"DatabaseHaveWorkedWith\\u002fCouch DB\",\"DatabaseHaveWorkedWith\\u002fCouchbase\",\"LanguageHaveWorkedWith\\u002fCrystal\",\"ToolsTechHaveWorkedWith\\u002fDagger\",\"LanguageHaveWorkedWith\\u002fDart\",\"NEWCollabToolsHaveWorkedWith\\u002fDataGrip\",\"DatabaseHaveWorkedWith\\u002fDatomic\",\"LanguageHaveWorkedWith\\u002fDelphi\",\"WebframeHaveWorkedWith\\u002fDeno\",\"PlatformHaveWorkedWith\\u002fDigital Ocean\",\"WebframeHaveWorkedWith\\u002fDjango\",\"ToolsTechHaveWorkedWith\\u002fDocker\",\"WebframeHaveWorkedWith\\u002fDrupal\",\"DatabaseHaveWorkedWith\\u002fDuckDB\",\"DatabaseHaveWorkedWith\\u002fDynamodb\",\"ToolsTechHaveWorkedWith\\u002fELFspy\",\"NEWCollabToolsHaveWorkedWith\\u002fEclipse\",\"DatabaseHaveWorkedWith\\u002fElasticsearch\",\"MiscTechHaveWorkedWith\\u002fElectron\",\"LanguageHaveWorkedWith\\u002fElixir\",\"WebframeHaveWorkedWith\\u002fElm\",\"NEWCollabToolsHaveWorkedWith\\u002fEmacs\",\"LanguageHaveWorkedWith\\u002fErlang\",\"WebframeHaveWorkedWith\\u002fExpress\",\"LanguageHaveWorkedWith\\u002fF#\",\"WebframeHaveWorkedWith\\u002fFastAPI\",\"WebframeHaveWorkedWith\\u002fFastify\",\"PlatformHaveWorkedWith\\u002fFirebase\",\"DatabaseHaveWorkedWith\\u002fFirebase Realtime Database\",\"DatabaseHaveWorkedWith\\u002fFirebird\",\"WebframeHaveWorkedWith\\u002fFlask\",\"NEWCollabToolsHaveWorkedWith\\u002fFleet\",\"LanguageHaveWorkedWith\\u002fFlow\",\"MiscTechHaveWorkedWith\\u002fFlutter\",\"PlatformHaveWorkedWith\\u002fFly.io\",\"LanguageHaveWorkedWith\\u002fFortran\",\"LanguageHaveWorkedWith\\u002fGDScript\",\"ToolsTechHaveWorkedWith\\u002fGNU GCC\",\"MiscTechHaveWorkedWith\\u002fGTK\",\"WebframeHaveWorkedWith\\u002fGatsby\",\"NEWCollabToolsHaveWorkedWith\\u002fGeany\",\"LanguageHaveWorkedWith\\u002fGo\",\"ToolsTechHaveWorkedWith\\u002fGodot\",\"NEWCollabToolsHaveWorkedWith\\u002fGoland\",\"PlatformHaveWorkedWith\\u002fGoogle Cloud\",\"ToolsTechHaveWorkedWith\\u002fGoogle Test\",\"ToolsTechHaveWorkedWith\\u002fGradle\",\"LanguageHaveWorkedWith\\u002fGroovy\",\"DatabaseHaveWorkedWith\\u002fH2\",\"LanguageHaveWorkedWith\\u002fHTML\\u002fCSS\",\"MiscTechHaveWorkedWith\\u002fHadoop\",\"LanguageHaveWorkedWith\\u002fHaskell\",\"NEWCollabToolsHaveWorkedWith\\u002fHelix\",\"PlatformHaveWorkedWith\\u002fHeroku\",\"PlatformHaveWorkedWith\\u002fHetzner\",\"ToolsTechHaveWorkedWith\\u002fHomebrew\",\"MiscTechHaveWorkedWith\\u002fHugging Face Transformers\",\"PlatformHaveWorkedWith\\u002fIBM Cloud Or Watson\",\"DatabaseHaveWorkedWith\\u002fIBM DB2\",\"NEWCollabToolsHaveWorkedWith\\u002fIPython\",\"DatabaseHaveWorkedWith\\u002fInfluxDB\",\"NEWCollabToolsHaveWorkedWith\\u002fIntelliJ IDEA\",\"MiscTechHaveWorkedWith\\u002fIonic\",\"MiscTechHaveWorkedWith\\u002fJAX\",\"LanguageHaveWorkedWith\\u002fJava\",\"LanguageHaveWorkedWith\\u002fJavaScript\",\"LanguageHaveWorkedWith\\u002fJulia\",\"NEWCollabToolsHaveWorkedWith\\u002fJupyter Notebook\\u002fJupyterLab\",\"NEWCollabToolsHaveWorkedWith\\u002fKate\",\"MiscTechHaveWorkedWith\\u002fKeras\",\"LanguageHaveWorkedWith\\u002fKotlin\",\"MiscTechHaveWorkedWith\\u002fKtor\",\"ToolsTechHaveWorkedWith\\u002fKubernetes\",\"ToolsTechHaveWorkedWith\\u002fLLVM's Clang\",\"WebframeHaveWorkedWith\\u002fLaravel\",\"PlatformHaveWorkedWith\\u002fLinode, now Akamai\",\"LanguageHaveWorkedWith\\u002fLisp\",\"WebframeHaveWorkedWith\\u002fLit\",\"LanguageHaveWorkedWith\\u002fLua\",\"LanguageHaveWorkedWith\\u002fMATLAB\",\"MiscTechHaveWorkedWith\\u002fMFC\",\"ToolsTechHaveWorkedWith\\u002fMSBuild\",\"ToolsTechHaveWorkedWith\\u002fMSVC\",\"ToolsTechHaveWorkedWith\\u002fMake\",\"PlatformHaveWorkedWith\\u002fManaged Hosting\",\"DatabaseHaveWorkedWith\\u002fMariaDB\",\"ToolsTechHaveWorkedWith\\u002fMaven (build tool)\",\"ToolsTechHaveWorkedWith\\u002fMeson\",\"NEWCollabToolsHaveWorkedWith\\u002fMicro\",\"MiscTechHaveWorkedWith\\u002fMicronaut\",\"DatabaseHaveWorkedWith\\u002fMicrosoft Access\",\"PlatformHaveWorkedWith\\u002fMicrosoft Azure\",\"DatabaseHaveWorkedWith\\u002fMicrosoft SQL Server\",\"DatabaseHaveWorkedWith\\u002fMongoDB\",\"DatabaseHaveWorkedWith\\u002fMySQL\",\"NEWCollabToolsHaveWorkedWith\\u002fNano\",\"DatabaseHaveWorkedWith\\u002fNeo4J\",\"NEWCollabToolsHaveWorkedWith\\u002fNeovim\",\"WebframeHaveWorkedWith\\u002fNestJS\",\"NEWCollabToolsHaveWorkedWith\\u002fNetbeans\",\"PlatformHaveWorkedWith\\u002fNetlify\",\"WebframeHaveWorkedWith\\u002fNext.js\",\"LanguageHaveWorkedWith\\u002fNim\",\"ToolsTechHaveWorkedWith\\u002fNinja\",\"ToolsTechHaveWorkedWith\\u002fNix\",\"WebframeHaveWorkedWith\\u002fNode.js\",\"NEWCollabToolsHaveWorkedWith\\u002fNotepad++\",\"NEWCollabToolsHaveWorkedWith\\u002fNova\",\"ToolsTechHaveWorkedWith\\u002fNuGet\",\"MiscTechHaveWorkedWith\\u002fNumPy\",\"WebframeHaveWorkedWith\\u002fNuxt.js\",\"LanguageHaveWorkedWith\\u002fOCaml\",\"PlatformHaveWorkedWith\\u002fOVH\",\"LanguageHaveWorkedWith\\u002fObjective-C\",\"MiscTechHaveWorkedWith\\u002fOpenGL\",\"PlatformHaveWorkedWith\\u002fOpenShift\",\"PlatformHaveWorkedWith\\u002fOpenStack\",\"MiscTechHaveWorkedWith\\u002fOpencv\",\"DatabaseHaveWorkedWith\\u002fOracle\",\"PlatformHaveWorkedWith\\u002fOracle Cloud Infrastructure (OCI)\",\"LanguageHaveWorkedWith\\u002fPHP\",\"ToolsTechHaveWorkedWith\\u002fPacman\",\"MiscTechHaveWorkedWith\\u002fPandas\",\"LanguageHaveWorkedWith\\u002fPerl\",\"WebframeHaveWorkedWith\\u002fPhoenix\",\"NEWCollabToolsHaveWorkedWith\\u002fPhpStorm\",\"ToolsTechHaveWorkedWith\\u002fPip\",\"WebframeHaveWorkedWith\\u002fPlay Framework\",\"ToolsTechHaveWorkedWith\\u002fPodman\",\"DatabaseHaveWorkedWith\\u002fPostgreSQL\",\"LanguageHaveWorkedWith\\u002fPowerShell\",\"LanguageHaveWorkedWith\\u002fProlog\",\"ToolsTechHaveWorkedWith\\u002fPulumi\",\"ToolsTechHaveWorkedWith\\u002fPuppet\",\"NEWCollabToolsHaveWorkedWith\\u002fPyCharm\",\"LanguageHaveWorkedWith\\u002fPython\",\"ToolsTechHaveWorkedWith\\u002fQMake\",\"MiscTechHaveWorkedWith\\u002fQt\",\"NEWCollabToolsHaveWorkedWith\\u002fQt Creator\",\"MiscTechHaveWorkedWith\\u002fQuarkus\",\"WebframeHaveWorkedWith\\u002fQwik\",\"LanguageHaveWorkedWith\\u002fR\",\"NEWCollabToolsHaveWorkedWith\\u002fRStudio\",\"MiscTechHaveWorkedWith\\u002fRabbitMQ\",\"NEWCollabToolsHaveWorkedWith\\u002fRad Studio (Delphi, C++ Builder)\",\"LanguageHaveWorkedWith\\u002fRaku\",\"DatabaseHaveWorkedWith\\u002fRavenDB\",\"WebframeHaveWorkedWith\\u002fReact\",\"MiscTechHaveWorkedWith\\u002fReact Native\",\"DatabaseHaveWorkedWith\\u002fRedis\",\"WebframeHaveWorkedWith\\u002fRemix\",\"PlatformHaveWorkedWith\\u002fRender\",\"NEWCollabToolsHaveWorkedWith\\u002fRider\",\"LanguageHaveWorkedWith\\u002fRuby\",\"WebframeHaveWorkedWith\\u002fRuby on Rails\",\"NEWCollabToolsHaveWorkedWith\\u002fRubyMine\",\"LanguageHaveWorkedWith\\u002fRust\",\"LanguageHaveWorkedWith\\u002fSAS\",\"ToolsTechHaveWorkedWith\\u002fSCons\",\"LanguageHaveWorkedWith\\u002fSQL\",\"DatabaseHaveWorkedWith\\u002fSQLite\",\"LanguageHaveWorkedWith\\u002fScala\",\"PlatformHaveWorkedWith\\u002fScaleway\",\"MiscTechHaveWorkedWith\\u002fScikit-Learn\",\"DatabaseHaveWorkedWith\\u002fSnowflake\",\"WebframeHaveWorkedWith\\u002fSolid.js\",\"LanguageHaveWorkedWith\\u002fSolidity\",\"DatabaseHaveWorkedWith\\u002fSolr\",\"WebframeHaveWorkedWith\\u002fSpring Boot\",\"MiscTechHaveWorkedWith\\u002fSpring Framework\",\"NEWCollabToolsHaveWorkedWith\\u002fSpyder\",\"NEWCollabToolsHaveWorkedWith\\u002fSublime Text\",\"DatabaseHaveWorkedWith\\u002fSupabase\",\"WebframeHaveWorkedWith\\u002fSvelte\",\"LanguageHaveWorkedWith\\u002fSwift\",\"MiscTechHaveWorkedWith\\u002fSwiftUI\",\"WebframeHaveWorkedWith\\u002fSymfony\",\"MiscTechHaveWorkedWith\\u002fTauri\",\"MiscTechHaveWorkedWith\\u002fTensorFlow\",\"ToolsTechHaveWorkedWith\\u002fTerraform\",\"NEWCollabToolsHaveWorkedWith\\u002fTextMate\",\"DatabaseHaveWorkedWith\\u002fTiDB\",\"MiscTechHaveWorkedWith\\u002fTidyverse\",\"MiscTechHaveWorkedWith\\u002fTorch\\u002fPyTorch\",\"LanguageHaveWorkedWith\\u002fTypeScript\",\"ToolsTechHaveWorkedWith\\u002fUnity 3D\",\"MiscTechHaveWorkedWith\\u002fUno Platform\",\"ToolsTechHaveWorkedWith\\u002fUnreal Engine\",\"LanguageHaveWorkedWith\\u002fVBA\",\"PlatformHaveWorkedWith\\u002fVMware\",\"NEWCollabToolsHaveWorkedWith\\u002fVSCodium\",\"PlatformHaveWorkedWith\\u002fVercel\",\"NEWCollabToolsHaveWorkedWith\\u002fVim\",\"LanguageHaveWorkedWith\\u002fVisual Basic (.Net)\",\"NEWCollabToolsHaveWorkedWith\\u002fVisual Studio\",\"NEWCollabToolsHaveWorkedWith\\u002fVisual Studio Code\",\"ToolsTechHaveWorkedWith\\u002fVisual Studio Solution\",\"ToolsTechHaveWorkedWith\\u002fVite\",\"WebframeHaveWorkedWith\\u002fVue.js\",\"PlatformHaveWorkedWith\\u002fVultr\",\"ToolsTechHaveWorkedWith\\u002fWasmer\",\"NEWCollabToolsHaveWorkedWith\\u002fWebStorm\",\"ToolsTechHaveWorkedWith\\u002fWebpack\",\"WebframeHaveWorkedWith\\u002fWordPress\",\"MiscTechHaveWorkedWith\\u002fXamarin\",\"NEWCollabToolsHaveWorkedWith\\u002fXcode\",\"ToolsTechHaveWorkedWith\\u002fYarn\",\"LanguageHaveWorkedWith\\u002fZig\",\"ToolsTechHaveWorkedWith\\u002fbandit\",\"ToolsTechHaveWorkedWith\\u002fbuild2\",\"NEWCollabToolsHaveWorkedWith\\u002fcondo\",\"ToolsTechHaveWorkedWith\\u002fcppunit\",\"ToolsTechHaveWorkedWith\\u002fdoctest\",\"WebframeHaveWorkedWith\\u002fjQuery\",\"ToolsTechHaveWorkedWith\\u002flest\",\"ToolsTechHaveWorkedWith\\u002fliblittletest\",\"ToolsTechHaveWorkedWith\\u002fnpm\",\"ToolsTechHaveWorkedWith\\u002fpnpm\",\"ToolsTechHaveWorkedWith\\u002fsnitch\",\"ToolsTechHaveWorkedWith\\u002ftunit\",\"DatabaseHaveWorkedWith\",\"LanguageHaveWorkedWith\",\"MiscTechHaveWorkedWith\",\"NEWCollabToolsHaveWorkedWith\",\"PlatformHaveWorkedWith\",\"ToolsTechHaveWorkedWith\",\"WebframeHaveWorkedWith\"],\"labels\":[\".NET (5+) \",\".NET Framework (1.0 - 4.8)\",\".NET MAUI\",\"APL\",\"APT\",\"ASP.NET\",\"ASP.NET CORE\",\"Ada\",\"Amazon Web Services (AWS)\",\"Android Studio\",\"Angular\",\"AngularJS\",\"Ansible\",\"Ant\",\"Apache Kafka\",\"Apache Spark\",\"Apex\",\"Assembly\",\"Atom\",\"BBEdit\",\"Bash\\u002fShell (all shells)\",\"BigQuery\",\"Blazor\",\"Boost.Test\",\"Bun\",\"C\",\"C#\",\"C++\",\"CLion\",\"CMake\",\"CUDA\",\"CUTE\",\"Capacitor\",\"Cargo\",\"Cassandra\",\"Catch2\",\"Chef\",\"Chocolatey\",\"Clickhouse\",\"Clojure\",\"Cloud Firestore\",\"Cloudflare\",\"Cobol\",\"Cockroachdb\",\"Code::Blocks\",\"CodeIgniter\",\"Colocation\",\"Composer\",\"Cordova\",\"Cosmos DB\",\"Couch DB\",\"Couchbase\",\"Crystal\",\"Dagger\",\"Dart\",\"DataGrip\",\"Datomic\",\"Delphi\",\"Deno\",\"Digital Ocean\",\"Django\",\"Docker\",\"Drupal\",\"DuckDB\",\"Dynamodb\",\"ELFspy\",\"Eclipse\",\"Elasticsearch\",\"Electron\",\"Elixir\",\"Elm\",\"Emacs\",\"Erlang\",\"Express\",\"F#\",\"FastAPI\",\"Fastify\",\"Firebase\",\"Firebase Realtime Database\",\"Firebird\",\"Flask\",\"Fleet\",\"Flow\",\"Flutter\",\"Fly.io\",\"Fortran\",\"GDScript\",\"GNU GCC\",\"GTK\",\"Gatsby\",\"Geany\",\"Go\",\"Godot\",\"Goland\",\"Google Cloud\",\"Google Test\",\"Gradle\",\"Groovy\",\"H2\",\"HTML\\u002fCSS\",\"Hadoop\",\"Haskell\",\"Helix\",\"Heroku\",\"Hetzner\",\"Homebrew\",\"Hugging Face Transformers\",\"IBM Cloud Or Watson\",\"IBM DB2\",\"IPython\",\"InfluxDB\",\"IntelliJ IDEA\",\"Ionic\",\"JAX\",\"Java\",\"JavaScript\",\"Julia\",\"Jupyter Notebook\\u002fJupyterLab\",\"Kate\",\"Keras\",\"Kotlin\",\"Ktor\",\"Kubernetes\",\"LLVM's Clang\",\"Laravel\",\"Linode, now Akamai\",\"Lisp\",\"Lit\",\"Lua\",\"MATLAB\",\"MFC\",\"MSBuild\",\"MSVC\",\"Make\",\"Managed Hosting\",\"MariaDB\",\"Maven (build tool)\",\"Meson\",\"Micro\",\"Micronaut\",\"Microsoft Access\",\"Microsoft Azure\",\"Microsoft SQL Server\",\"MongoDB\",\"MySQL\",\"Nano\",\"Neo4J\",\"Neovim\",\"NestJS\",\"Netbeans\",\"Netlify\",\"Next.js\",\"Nim\",\"Ninja\",\"Nix\",\"Node.js\",\"Notepad++\",\"Nova\",\"NuGet\",\"NumPy\",\"Nuxt.js\",\"OCaml\",\"OVH\",\"Objective-C\",\"OpenGL\",\"OpenShift\",\"OpenStack\",\"Opencv\",\"Oracle\",\"Oracle Cloud Infrastructure (OCI)\",\"PHP\",\"Pacman\",\"Pandas\",\"Perl\",\"Phoenix\",\"PhpStorm\",\"Pip\",\"Play Framework\",\"Podman\",\"PostgreSQL\",\"PowerShell\",\"Prolog\",\"Pulumi\",\"Puppet\",\"PyCharm\",\"Python\",\"QMake\",\"Qt\",\"Qt Creator\",\"Quarkus\",\"Qwik\",\"R\",\"RStudio\",\"RabbitMQ\",\"Rad Studio (Delphi, C++ Builder)\",\"Raku\",\"RavenDB\",\"React\",\"React Native\",\"Redis\",\"Remix\",\"Render\",\"Rider\",\"Ruby\",\"Ruby on Rails\",\"RubyMine\",\"Rust\",\"SAS\",\"SCons\",\"SQL\",\"SQLite\",\"Scala\",\"Scaleway\",\"Scikit-Learn\",\"Snowflake\",\"Solid.js\",\"Solidity\",\"Solr\",\"Spring Boot\",\"Spring Framework\",\"Spyder\",\"Sublime Text\",\"Supabase\",\"Svelte\",\"Swift\",\"SwiftUI\",\"Symfony\",\"Tauri\",\"TensorFlow\",\"Terraform\",\"TextMate\",\"TiDB\",\"Tidyverse\",\"Torch\\u002fPyTorch\",\"TypeScript\",\"Unity 3D\",\"Uno Platform\",\"Unreal Engine\",\"VBA\",\"VMware\",\"VSCodium\",\"Vercel\",\"Vim\",\"Visual Basic (.Net)\",\"Visual Studio\",\"Visual Studio Code\",\"Visual Studio Solution\",\"Vite\",\"Vue.js\",\"Vultr\",\"Wasmer\",\"WebStorm\",\"Webpack\",\"WordPress\",\"Xamarin\",\"Xcode\",\"Yarn\",\"Zig\",\"bandit\",\"build2\",\"condo\",\"cppunit\",\"doctest\",\"jQuery\",\"lest\",\"liblittletest\",\"npm\",\"pnpm\",\"snitch\",\"tunit\",\"DatabaseHaveWorkedWith\",\"LanguageHaveWorkedWith\",\"MiscTechHaveWorkedWith\",\"NEWCollabToolsHaveWorkedWith\",\"PlatformHaveWorkedWith\",\"ToolsTechHaveWorkedWith\",\"WebframeHaveWorkedWith\"],\"marker\":{\"coloraxis\":\"coloraxis\",\"colors\":[17005.0,11452.0,1573.0,225.0,5780.0,9185.0,11896.0,677.0,33818.0,14553.0,12537.0,5176.0,6921.0,2371.0,5984.0,2748.0,579.0,4753.0,4874.0,722.0,28351.0,3456.0,3501.0,342.0,620.0,16940.0,24193.0,19634.0,4240.0,11506.0,3042.0,54.0,1127.0,10409.0,1927.0,663.0,758.0,6509.0,849.0,1105.0,4901.0,10599.0,576.0,795.0,2077.0,1238.0,497.0,6266.0,1616.0,2672.0,887.0,598.0,389.0,866.0,5273.0,4396.0,244.0,2831.0,1697.0,9299.0,8238.0,41369.0,1343.0,469.0,6798.0,51.0,8565.0,10263.0,4685.0,2028.0,580.0,4058.0,868.0,13843.0,849.0,5325.0,1474.0,10761.0,4939.0,1152.0,8734.0,1642.0,214.0,6132.0,1649.0,833.0,1495.0,10038.0,1690.0,1675.0,841.0,11592.0,2478.0,2795.0,16592.0,2146.0,11961.0,2976.0,2808.0,46396.0,1539.0,1829.0,1391.0,8358.0,3069.0,17647.0,1852.0,801.0,1414.0,4226.0,2091.0,23209.0,1948.0,641.0,26757.0,55711.0,1010.0,11024.0,1367.0,2839.0,7935.0,740.0,15260.0,5959.0,5440.0,2755.0,1342.0,490.0,5336.0,3339.0,671.0,8520.0,3666.0,16161.0,2379.0,13495.0,12109.0,1052.0,551.0,441.0,3257.0,18105.0,19506.0,19556.0,31489.0,7769.0,1432.0,10282.0,3681.0,2760.0,6228.0,11972.0,331.0,2928.0,1647.0,30626.0,21240.0,250.0,12235.0,13614.0,2652.0,614.0,2378.0,2019.0,4664.0,1671.0,1076.0,5455.0,7507.0,1810.0,16274.0,5280.0,12756.0,2151.0,1468.0,5274.0,23281.0,545.0,3129.0,34909.0,11902.0,776.0,659.0,900.0,12658.0,43158.0,983.0,4401.0,2031.0,763.0,389.0,3702.0,2343.0,6942.0,1961.0,156.0,227.0,29137.0,5667.0,15639.0,912.0,1287.0,4819.0,5454.0,3940.0,1115.0,11427.0,427.0,378.0,42623.0,23678.0,2422.0,628.0,6339.0,1820.0,979.0,1168.0,1189.0,8583.0,7460.0,1273.0,10914.0,2122.0,4753.0,4072.0,2643.0,2301.0,1516.0,6405.0,9068.0,592.0,157.0,1045.0,5884.0,34041.0,5561.0,357.0,2482.0,3107.0,4964.0,3627.0,7431.0,19294.0,3568.0,24605.0,63793.0,11751.0,11807.0,11758.0,1357.0,431.0,6388.0,16665.0,9604.0,2233.0,8180.0,17545.0,729.0,362.0,159.0,152.0,346.0,393.0,15784.0,55.0,37.0,39609.0,5036.0,55.0,69.0,19257.440826831527,29669.53018618191,8005.0806446439,23855.92061977598,15543.864783881989,18092.166426684264,14601.136060417532]},\"name\":\"\",\"parents\":[\"MiscTechHaveWorkedWith\",\"MiscTechHaveWorkedWith\",\"MiscTechHaveWorkedWith\",\"LanguageHaveWorkedWith\",\"ToolsTechHaveWorkedWith\",\"WebframeHaveWorkedWith\",\"WebframeHaveWorkedWith\",\"LanguageHaveWorkedWith\",\"PlatformHaveWorkedWith\",\"NEWCollabToolsHaveWorkedWith\",\"WebframeHaveWorkedWith\",\"WebframeHaveWorkedWith\",\"ToolsTechHaveWorkedWith\",\"ToolsTechHaveWorkedWith\",\"MiscTechHaveWorkedWith\",\"MiscTechHaveWorkedWith\",\"LanguageHaveWorkedWith\",\"LanguageHaveWorkedWith\",\"NEWCollabToolsHaveWorkedWith\",\"NEWCollabToolsHaveWorkedWith\",\"LanguageHaveWorkedWith\",\"DatabaseHaveWorkedWith\",\"WebframeHaveWorkedWith\",\"ToolsTechHaveWorkedWith\",\"ToolsTechHaveWorkedWith\",\"LanguageHaveWorkedWith\",\"LanguageHaveWorkedWith\",\"LanguageHaveWorkedWith\",\"NEWCollabToolsHaveWorkedWith\",\"ToolsTechHaveWorkedWith\",\"MiscTechHaveWorkedWith\",\"ToolsTechHaveWorkedWith\",\"MiscTechHaveWorkedWith\",\"ToolsTechHaveWorkedWith\",\"DatabaseHaveWorkedWith\",\"ToolsTechHaveWorkedWith\",\"ToolsTechHaveWorkedWith\",\"ToolsTechHaveWorkedWith\",\"DatabaseHaveWorkedWith\",\"LanguageHaveWorkedWith\",\"DatabaseHaveWorkedWith\",\"PlatformHaveWorkedWith\",\"LanguageHaveWorkedWith\",\"DatabaseHaveWorkedWith\",\"NEWCollabToolsHaveWorkedWith\",\"WebframeHaveWorkedWith\",\"PlatformHaveWorkedWith\",\"ToolsTechHaveWorkedWith\",\"MiscTechHaveWorkedWith\",\"DatabaseHaveWorkedWith\",\"DatabaseHaveWorkedWith\",\"DatabaseHaveWorkedWith\",\"LanguageHaveWorkedWith\",\"ToolsTechHaveWorkedWith\",\"LanguageHaveWorkedWith\",\"NEWCollabToolsHaveWorkedWith\",\"DatabaseHaveWorkedWith\",\"LanguageHaveWorkedWith\",\"WebframeHaveWorkedWith\",\"PlatformHaveWorkedWith\",\"WebframeHaveWorkedWith\",\"ToolsTechHaveWorkedWith\",\"WebframeHaveWorkedWith\",\"DatabaseHaveWorkedWith\",\"DatabaseHaveWorkedWith\",\"ToolsTechHaveWorkedWith\",\"NEWCollabToolsHaveWorkedWith\",\"DatabaseHaveWorkedWith\",\"MiscTechHaveWorkedWith\",\"LanguageHaveWorkedWith\",\"WebframeHaveWorkedWith\",\"NEWCollabToolsHaveWorkedWith\",\"LanguageHaveWorkedWith\",\"WebframeHaveWorkedWith\",\"LanguageHaveWorkedWith\",\"WebframeHaveWorkedWith\",\"WebframeHaveWorkedWith\",\"PlatformHaveWorkedWith\",\"DatabaseHaveWorkedWith\",\"DatabaseHaveWorkedWith\",\"WebframeHaveWorkedWith\",\"NEWCollabToolsHaveWorkedWith\",\"LanguageHaveWorkedWith\",\"MiscTechHaveWorkedWith\",\"PlatformHaveWorkedWith\",\"LanguageHaveWorkedWith\",\"LanguageHaveWorkedWith\",\"ToolsTechHaveWorkedWith\",\"MiscTechHaveWorkedWith\",\"WebframeHaveWorkedWith\",\"NEWCollabToolsHaveWorkedWith\",\"LanguageHaveWorkedWith\",\"ToolsTechHaveWorkedWith\",\"NEWCollabToolsHaveWorkedWith\",\"PlatformHaveWorkedWith\",\"ToolsTechHaveWorkedWith\",\"ToolsTechHaveWorkedWith\",\"LanguageHaveWorkedWith\",\"DatabaseHaveWorkedWith\",\"LanguageHaveWorkedWith\",\"MiscTechHaveWorkedWith\",\"LanguageHaveWorkedWith\",\"NEWCollabToolsHaveWorkedWith\",\"PlatformHaveWorkedWith\",\"PlatformHaveWorkedWith\",\"ToolsTechHaveWorkedWith\",\"MiscTechHaveWorkedWith\",\"PlatformHaveWorkedWith\",\"DatabaseHaveWorkedWith\",\"NEWCollabToolsHaveWorkedWith\",\"DatabaseHaveWorkedWith\",\"NEWCollabToolsHaveWorkedWith\",\"MiscTechHaveWorkedWith\",\"MiscTechHaveWorkedWith\",\"LanguageHaveWorkedWith\",\"LanguageHaveWorkedWith\",\"LanguageHaveWorkedWith\",\"NEWCollabToolsHaveWorkedWith\",\"NEWCollabToolsHaveWorkedWith\",\"MiscTechHaveWorkedWith\",\"LanguageHaveWorkedWith\",\"MiscTechHaveWorkedWith\",\"ToolsTechHaveWorkedWith\",\"ToolsTechHaveWorkedWith\",\"WebframeHaveWorkedWith\",\"PlatformHaveWorkedWith\",\"LanguageHaveWorkedWith\",\"WebframeHaveWorkedWith\",\"LanguageHaveWorkedWith\",\"LanguageHaveWorkedWith\",\"MiscTechHaveWorkedWith\",\"ToolsTechHaveWorkedWith\",\"ToolsTechHaveWorkedWith\",\"ToolsTechHaveWorkedWith\",\"PlatformHaveWorkedWith\",\"DatabaseHaveWorkedWith\",\"ToolsTechHaveWorkedWith\",\"ToolsTechHaveWorkedWith\",\"NEWCollabToolsHaveWorkedWith\",\"MiscTechHaveWorkedWith\",\"DatabaseHaveWorkedWith\",\"PlatformHaveWorkedWith\",\"DatabaseHaveWorkedWith\",\"DatabaseHaveWorkedWith\",\"DatabaseHaveWorkedWith\",\"NEWCollabToolsHaveWorkedWith\",\"DatabaseHaveWorkedWith\",\"NEWCollabToolsHaveWorkedWith\",\"WebframeHaveWorkedWith\",\"NEWCollabToolsHaveWorkedWith\",\"PlatformHaveWorkedWith\",\"WebframeHaveWorkedWith\",\"LanguageHaveWorkedWith\",\"ToolsTechHaveWorkedWith\",\"ToolsTechHaveWorkedWith\",\"WebframeHaveWorkedWith\",\"NEWCollabToolsHaveWorkedWith\",\"NEWCollabToolsHaveWorkedWith\",\"ToolsTechHaveWorkedWith\",\"MiscTechHaveWorkedWith\",\"WebframeHaveWorkedWith\",\"LanguageHaveWorkedWith\",\"PlatformHaveWorkedWith\",\"LanguageHaveWorkedWith\",\"MiscTechHaveWorkedWith\",\"PlatformHaveWorkedWith\",\"PlatformHaveWorkedWith\",\"MiscTechHaveWorkedWith\",\"DatabaseHaveWorkedWith\",\"PlatformHaveWorkedWith\",\"LanguageHaveWorkedWith\",\"ToolsTechHaveWorkedWith\",\"MiscTechHaveWorkedWith\",\"LanguageHaveWorkedWith\",\"WebframeHaveWorkedWith\",\"NEWCollabToolsHaveWorkedWith\",\"ToolsTechHaveWorkedWith\",\"WebframeHaveWorkedWith\",\"ToolsTechHaveWorkedWith\",\"DatabaseHaveWorkedWith\",\"LanguageHaveWorkedWith\",\"LanguageHaveWorkedWith\",\"ToolsTechHaveWorkedWith\",\"ToolsTechHaveWorkedWith\",\"NEWCollabToolsHaveWorkedWith\",\"LanguageHaveWorkedWith\",\"ToolsTechHaveWorkedWith\",\"MiscTechHaveWorkedWith\",\"NEWCollabToolsHaveWorkedWith\",\"MiscTechHaveWorkedWith\",\"WebframeHaveWorkedWith\",\"LanguageHaveWorkedWith\",\"NEWCollabToolsHaveWorkedWith\",\"MiscTechHaveWorkedWith\",\"NEWCollabToolsHaveWorkedWith\",\"LanguageHaveWorkedWith\",\"DatabaseHaveWorkedWith\",\"WebframeHaveWorkedWith\",\"MiscTechHaveWorkedWith\",\"DatabaseHaveWorkedWith\",\"WebframeHaveWorkedWith\",\"PlatformHaveWorkedWith\",\"NEWCollabToolsHaveWorkedWith\",\"LanguageHaveWorkedWith\",\"WebframeHaveWorkedWith\",\"NEWCollabToolsHaveWorkedWith\",\"LanguageHaveWorkedWith\",\"LanguageHaveWorkedWith\",\"ToolsTechHaveWorkedWith\",\"LanguageHaveWorkedWith\",\"DatabaseHaveWorkedWith\",\"LanguageHaveWorkedWith\",\"PlatformHaveWorkedWith\",\"MiscTechHaveWorkedWith\",\"DatabaseHaveWorkedWith\",\"WebframeHaveWorkedWith\",\"LanguageHaveWorkedWith\",\"DatabaseHaveWorkedWith\",\"WebframeHaveWorkedWith\",\"MiscTechHaveWorkedWith\",\"NEWCollabToolsHaveWorkedWith\",\"NEWCollabToolsHaveWorkedWith\",\"DatabaseHaveWorkedWith\",\"WebframeHaveWorkedWith\",\"LanguageHaveWorkedWith\",\"MiscTechHaveWorkedWith\",\"WebframeHaveWorkedWith\",\"MiscTechHaveWorkedWith\",\"MiscTechHaveWorkedWith\",\"ToolsTechHaveWorkedWith\",\"NEWCollabToolsHaveWorkedWith\",\"DatabaseHaveWorkedWith\",\"MiscTechHaveWorkedWith\",\"MiscTechHaveWorkedWith\",\"LanguageHaveWorkedWith\",\"ToolsTechHaveWorkedWith\",\"MiscTechHaveWorkedWith\",\"ToolsTechHaveWorkedWith\",\"LanguageHaveWorkedWith\",\"PlatformHaveWorkedWith\",\"NEWCollabToolsHaveWorkedWith\",\"PlatformHaveWorkedWith\",\"NEWCollabToolsHaveWorkedWith\",\"LanguageHaveWorkedWith\",\"NEWCollabToolsHaveWorkedWith\",\"NEWCollabToolsHaveWorkedWith\",\"ToolsTechHaveWorkedWith\",\"ToolsTechHaveWorkedWith\",\"WebframeHaveWorkedWith\",\"PlatformHaveWorkedWith\",\"ToolsTechHaveWorkedWith\",\"NEWCollabToolsHaveWorkedWith\",\"ToolsTechHaveWorkedWith\",\"WebframeHaveWorkedWith\",\"MiscTechHaveWorkedWith\",\"NEWCollabToolsHaveWorkedWith\",\"ToolsTechHaveWorkedWith\",\"LanguageHaveWorkedWith\",\"ToolsTechHaveWorkedWith\",\"ToolsTechHaveWorkedWith\",\"NEWCollabToolsHaveWorkedWith\",\"ToolsTechHaveWorkedWith\",\"ToolsTechHaveWorkedWith\",\"WebframeHaveWorkedWith\",\"ToolsTechHaveWorkedWith\",\"ToolsTechHaveWorkedWith\",\"ToolsTechHaveWorkedWith\",\"ToolsTechHaveWorkedWith\",\"ToolsTechHaveWorkedWith\",\"ToolsTechHaveWorkedWith\",\"\",\"\",\"\",\"\",\"\",\"\",\"\"],\"values\":[17005,11452,1573,225,5780,9185,11896,677,33818,14553,12537,5176,6921,2371,5984,2748,579,4753,4874,722,28351,3456,3501,342,620,16940,24193,19634,4240,11506,3042,54,1127,10409,1927,663,758,6509,849,1105,4901,10599,576,795,2077,1238,497,6266,1616,2672,887,598,389,866,5273,4396,244,2831,1697,9299,8238,41369,1343,469,6798,51,8565,10263,4685,2028,580,4058,868,13843,849,5325,1474,10761,4939,1152,8734,1642,214,6132,1649,833,1495,10038,1690,1675,841,11592,2478,2795,16592,2146,11961,2976,2808,46396,1539,1829,1391,8358,3069,17647,1852,801,1414,4226,2091,23209,1948,641,26757,55711,1010,11024,1367,2839,7935,740,15260,5959,5440,2755,1342,490,5336,3339,671,8520,3666,16161,2379,13495,12109,1052,551,441,3257,18105,19506,19556,31489,7769,1432,10282,3681,2760,6228,11972,331,2928,1647,30626,21240,250,12235,13614,2652,614,2378,2019,4664,1671,1076,5455,7507,1810,16274,5280,12756,2151,1468,5274,23281,545,3129,34909,11902,776,659,900,12658,43158,983,4401,2031,763,389,3702,2343,6942,1961,156,227,29137,5667,15639,912,1287,4819,5454,3940,1115,11427,427,378,42623,23678,2422,628,6339,1820,979,1168,1189,8583,7460,1273,10914,2122,4753,4072,2643,2301,1516,6405,9068,592,157,1045,5884,34041,5561,357,2482,3107,4964,3627,7431,19294,3568,24605,63793,11751,11807,11758,1357,431,6388,16665,9604,2233,8180,17545,729,362,159,152,346,393,15784,55,37,39609,5036,55,69,222246,466157,155869,301851,147512,374333,231456],\"type\":\"treemap\"}],                        {\"template\":{\"data\":{\"histogram2dcontour\":[{\"type\":\"histogram2dcontour\",\"colorbar\":{\"outlinewidth\":0,\"ticks\":\"\"},\"colorscale\":[[0.0,\"#0d0887\"],[0.1111111111111111,\"#46039f\"],[0.2222222222222222,\"#7201a8\"],[0.3333333333333333,\"#9c179e\"],[0.4444444444444444,\"#bd3786\"],[0.5555555555555556,\"#d8576b\"],[0.6666666666666666,\"#ed7953\"],[0.7777777777777778,\"#fb9f3a\"],[0.8888888888888888,\"#fdca26\"],[1.0,\"#f0f921\"]]}],\"choropleth\":[{\"type\":\"choropleth\",\"colorbar\":{\"outlinewidth\":0,\"ticks\":\"\"}}],\"histogram2d\":[{\"type\":\"histogram2d\",\"colorbar\":{\"outlinewidth\":0,\"ticks\":\"\"},\"colorscale\":[[0.0,\"#0d0887\"],[0.1111111111111111,\"#46039f\"],[0.2222222222222222,\"#7201a8\"],[0.3333333333333333,\"#9c179e\"],[0.4444444444444444,\"#bd3786\"],[0.5555555555555556,\"#d8576b\"],[0.6666666666666666,\"#ed7953\"],[0.7777777777777778,\"#fb9f3a\"],[0.8888888888888888,\"#fdca26\"],[1.0,\"#f0f921\"]]}],\"heatmap\":[{\"type\":\"heatmap\",\"colorbar\":{\"outlinewidth\":0,\"ticks\":\"\"},\"colorscale\":[[0.0,\"#0d0887\"],[0.1111111111111111,\"#46039f\"],[0.2222222222222222,\"#7201a8\"],[0.3333333333333333,\"#9c179e\"],[0.4444444444444444,\"#bd3786\"],[0.5555555555555556,\"#d8576b\"],[0.6666666666666666,\"#ed7953\"],[0.7777777777777778,\"#fb9f3a\"],[0.8888888888888888,\"#fdca26\"],[1.0,\"#f0f921\"]]}],\"heatmapgl\":[{\"type\":\"heatmapgl\",\"colorbar\":{\"outlinewidth\":0,\"ticks\":\"\"},\"colorscale\":[[0.0,\"#0d0887\"],[0.1111111111111111,\"#46039f\"],[0.2222222222222222,\"#7201a8\"],[0.3333333333333333,\"#9c179e\"],[0.4444444444444444,\"#bd3786\"],[0.5555555555555556,\"#d8576b\"],[0.6666666666666666,\"#ed7953\"],[0.7777777777777778,\"#fb9f3a\"],[0.8888888888888888,\"#fdca26\"],[1.0,\"#f0f921\"]]}],\"contourcarpet\":[{\"type\":\"contourcarpet\",\"colorbar\":{\"outlinewidth\":0,\"ticks\":\"\"}}],\"contour\":[{\"type\":\"contour\",\"colorbar\":{\"outlinewidth\":0,\"ticks\":\"\"},\"colorscale\":[[0.0,\"#0d0887\"],[0.1111111111111111,\"#46039f\"],[0.2222222222222222,\"#7201a8\"],[0.3333333333333333,\"#9c179e\"],[0.4444444444444444,\"#bd3786\"],[0.5555555555555556,\"#d8576b\"],[0.6666666666666666,\"#ed7953\"],[0.7777777777777778,\"#fb9f3a\"],[0.8888888888888888,\"#fdca26\"],[1.0,\"#f0f921\"]]}],\"surface\":[{\"type\":\"surface\",\"colorbar\":{\"outlinewidth\":0,\"ticks\":\"\"},\"colorscale\":[[0.0,\"#0d0887\"],[0.1111111111111111,\"#46039f\"],[0.2222222222222222,\"#7201a8\"],[0.3333333333333333,\"#9c179e\"],[0.4444444444444444,\"#bd3786\"],[0.5555555555555556,\"#d8576b\"],[0.6666666666666666,\"#ed7953\"],[0.7777777777777778,\"#fb9f3a\"],[0.8888888888888888,\"#fdca26\"],[1.0,\"#f0f921\"]]}],\"mesh3d\":[{\"type\":\"mesh3d\",\"colorbar\":{\"outlinewidth\":0,\"ticks\":\"\"}}],\"scatter\":[{\"marker\":{\"line\":{\"color\":\"#283442\"}},\"type\":\"scatter\"}],\"parcoords\":[{\"type\":\"parcoords\",\"line\":{\"colorbar\":{\"outlinewidth\":0,\"ticks\":\"\"}}}],\"scatterpolargl\":[{\"type\":\"scatterpolargl\",\"marker\":{\"colorbar\":{\"outlinewidth\":0,\"ticks\":\"\"}}}],\"bar\":[{\"error_x\":{\"color\":\"#f2f5fa\"},\"error_y\":{\"color\":\"#f2f5fa\"},\"marker\":{\"line\":{\"color\":\"rgb(17,17,17)\",\"width\":0.5},\"pattern\":{\"fillmode\":\"overlay\",\"size\":10,\"solidity\":0.2}},\"type\":\"bar\"}],\"scattergeo\":[{\"type\":\"scattergeo\",\"marker\":{\"colorbar\":{\"outlinewidth\":0,\"ticks\":\"\"}}}],\"scatterpolar\":[{\"type\":\"scatterpolar\",\"marker\":{\"colorbar\":{\"outlinewidth\":0,\"ticks\":\"\"}}}],\"histogram\":[{\"marker\":{\"pattern\":{\"fillmode\":\"overlay\",\"size\":10,\"solidity\":0.2}},\"type\":\"histogram\"}],\"scattergl\":[{\"marker\":{\"line\":{\"color\":\"#283442\"}},\"type\":\"scattergl\"}],\"scatter3d\":[{\"type\":\"scatter3d\",\"line\":{\"colorbar\":{\"outlinewidth\":0,\"ticks\":\"\"}},\"marker\":{\"colorbar\":{\"outlinewidth\":0,\"ticks\":\"\"}}}],\"scattermapbox\":[{\"type\":\"scattermapbox\",\"marker\":{\"colorbar\":{\"outlinewidth\":0,\"ticks\":\"\"}}}],\"scatterternary\":[{\"type\":\"scatterternary\",\"marker\":{\"colorbar\":{\"outlinewidth\":0,\"ticks\":\"\"}}}],\"scattercarpet\":[{\"type\":\"scattercarpet\",\"marker\":{\"colorbar\":{\"outlinewidth\":0,\"ticks\":\"\"}}}],\"carpet\":[{\"aaxis\":{\"endlinecolor\":\"#A2B1C6\",\"gridcolor\":\"#506784\",\"linecolor\":\"#506784\",\"minorgridcolor\":\"#506784\",\"startlinecolor\":\"#A2B1C6\"},\"baxis\":{\"endlinecolor\":\"#A2B1C6\",\"gridcolor\":\"#506784\",\"linecolor\":\"#506784\",\"minorgridcolor\":\"#506784\",\"startlinecolor\":\"#A2B1C6\"},\"type\":\"carpet\"}],\"table\":[{\"cells\":{\"fill\":{\"color\":\"#506784\"},\"line\":{\"color\":\"rgb(17,17,17)\"}},\"header\":{\"fill\":{\"color\":\"#2a3f5f\"},\"line\":{\"color\":\"rgb(17,17,17)\"}},\"type\":\"table\"}],\"barpolar\":[{\"marker\":{\"line\":{\"color\":\"rgb(17,17,17)\",\"width\":0.5},\"pattern\":{\"fillmode\":\"overlay\",\"size\":10,\"solidity\":0.2}},\"type\":\"barpolar\"}],\"pie\":[{\"automargin\":true,\"type\":\"pie\"}]},\"layout\":{\"autotypenumbers\":\"strict\",\"colorway\":[\"#636efa\",\"#EF553B\",\"#00cc96\",\"#ab63fa\",\"#FFA15A\",\"#19d3f3\",\"#FF6692\",\"#B6E880\",\"#FF97FF\",\"#FECB52\"],\"font\":{\"color\":\"#f2f5fa\"},\"hovermode\":\"closest\",\"hoverlabel\":{\"align\":\"left\"},\"paper_bgcolor\":\"rgb(17,17,17)\",\"plot_bgcolor\":\"rgb(17,17,17)\",\"polar\":{\"bgcolor\":\"rgb(17,17,17)\",\"angularaxis\":{\"gridcolor\":\"#506784\",\"linecolor\":\"#506784\",\"ticks\":\"\"},\"radialaxis\":{\"gridcolor\":\"#506784\",\"linecolor\":\"#506784\",\"ticks\":\"\"}},\"ternary\":{\"bgcolor\":\"rgb(17,17,17)\",\"aaxis\":{\"gridcolor\":\"#506784\",\"linecolor\":\"#506784\",\"ticks\":\"\"},\"baxis\":{\"gridcolor\":\"#506784\",\"linecolor\":\"#506784\",\"ticks\":\"\"},\"caxis\":{\"gridcolor\":\"#506784\",\"linecolor\":\"#506784\",\"ticks\":\"\"}},\"coloraxis\":{\"colorbar\":{\"outlinewidth\":0,\"ticks\":\"\"}},\"colorscale\":{\"sequential\":[[0.0,\"#0d0887\"],[0.1111111111111111,\"#46039f\"],[0.2222222222222222,\"#7201a8\"],[0.3333333333333333,\"#9c179e\"],[0.4444444444444444,\"#bd3786\"],[0.5555555555555556,\"#d8576b\"],[0.6666666666666666,\"#ed7953\"],[0.7777777777777778,\"#fb9f3a\"],[0.8888888888888888,\"#fdca26\"],[1.0,\"#f0f921\"]],\"sequentialminus\":[[0.0,\"#0d0887\"],[0.1111111111111111,\"#46039f\"],[0.2222222222222222,\"#7201a8\"],[0.3333333333333333,\"#9c179e\"],[0.4444444444444444,\"#bd3786\"],[0.5555555555555556,\"#d8576b\"],[0.6666666666666666,\"#ed7953\"],[0.7777777777777778,\"#fb9f3a\"],[0.8888888888888888,\"#fdca26\"],[1.0,\"#f0f921\"]],\"diverging\":[[0,\"#8e0152\"],[0.1,\"#c51b7d\"],[0.2,\"#de77ae\"],[0.3,\"#f1b6da\"],[0.4,\"#fde0ef\"],[0.5,\"#f7f7f7\"],[0.6,\"#e6f5d0\"],[0.7,\"#b8e186\"],[0.8,\"#7fbc41\"],[0.9,\"#4d9221\"],[1,\"#276419\"]]},\"xaxis\":{\"gridcolor\":\"#283442\",\"linecolor\":\"#506784\",\"ticks\":\"\",\"title\":{\"standoff\":15},\"zerolinecolor\":\"#283442\",\"automargin\":true,\"zerolinewidth\":2},\"yaxis\":{\"gridcolor\":\"#283442\",\"linecolor\":\"#506784\",\"ticks\":\"\",\"title\":{\"standoff\":15},\"zerolinecolor\":\"#283442\",\"automargin\":true,\"zerolinewidth\":2},\"scene\":{\"xaxis\":{\"backgroundcolor\":\"rgb(17,17,17)\",\"gridcolor\":\"#506784\",\"linecolor\":\"#506784\",\"showbackground\":true,\"ticks\":\"\",\"zerolinecolor\":\"#C8D4E3\",\"gridwidth\":2},\"yaxis\":{\"backgroundcolor\":\"rgb(17,17,17)\",\"gridcolor\":\"#506784\",\"linecolor\":\"#506784\",\"showbackground\":true,\"ticks\":\"\",\"zerolinecolor\":\"#C8D4E3\",\"gridwidth\":2},\"zaxis\":{\"backgroundcolor\":\"rgb(17,17,17)\",\"gridcolor\":\"#506784\",\"linecolor\":\"#506784\",\"showbackground\":true,\"ticks\":\"\",\"zerolinecolor\":\"#C8D4E3\",\"gridwidth\":2}},\"shapedefaults\":{\"line\":{\"color\":\"#f2f5fa\"}},\"annotationdefaults\":{\"arrowcolor\":\"#f2f5fa\",\"arrowhead\":0,\"arrowwidth\":1},\"geo\":{\"bgcolor\":\"rgb(17,17,17)\",\"landcolor\":\"rgb(17,17,17)\",\"subunitcolor\":\"#506784\",\"showland\":true,\"showlakes\":true,\"lakecolor\":\"rgb(17,17,17)\"},\"title\":{\"x\":0.05},\"updatemenudefaults\":{\"bgcolor\":\"#506784\",\"borderwidth\":0},\"sliderdefaults\":{\"bgcolor\":\"#C8D4E3\",\"borderwidth\":1,\"bordercolor\":\"rgb(17,17,17)\",\"tickwidth\":0},\"mapbox\":{\"style\":\"dark\"}}},\"coloraxis\":{\"colorbar\":{\"title\":{\"text\":\"freq\"}},\"colorscale\":[[0.0,\"rgb(253, 253, 204)\"],[0.09090909090909091,\"rgb(206, 236, 179)\"],[0.18181818181818182,\"rgb(156, 219, 165)\"],[0.2727272727272727,\"rgb(111, 201, 163)\"],[0.36363636363636365,\"rgb(86, 177, 163)\"],[0.45454545454545453,\"rgb(76, 153, 160)\"],[0.5454545454545454,\"rgb(68, 130, 155)\"],[0.6363636363636364,\"rgb(62, 108, 150)\"],[0.7272727272727273,\"rgb(62, 82, 143)\"],[0.8181818181818182,\"rgb(64, 60, 115)\"],[0.9090909090909091,\"rgb(54, 43, 77)\"],[1.0,\"rgb(39, 26, 44)\"]]},\"legend\":{\"tracegroupgap\":0},\"margin\":{\"t\":60},\"width\":1500,\"height\":700},                        {\"responsive\": true}                    ).then(function(){\n                            \nvar gd = document.getElementById('ede6da5f-7d55-44b7-b114-8fa50152f05b');\nvar x = new MutationObserver(function (mutations, observer) {{\n        var display = window.getComputedStyle(gd).display;\n        if (!display || display === 'none') {{\n            console.log([gd, 'removed!']);\n            Plotly.purge(gd);\n            observer.disconnect();\n        }}\n}});\n\n// Listen for the removal of the full notebook cells\nvar notebookContainer = gd.closest('#notebook-container');\nif (notebookContainer) {{\n    x.observe(notebookContainer, {childList: true});\n}}\n\n// Listen for the clearing of the current output cell\nvar outputEl = gd.closest('.output');\nif (outputEl) {{\n    x.observe(outputEl, {childList: true});\n}}\n\n                        })                };                });            </script>        </div>"
     },
     "metadata": {},
     "output_type": "display_data"
    }
   ],
   "source": [
    "skills_freq = df.copy().drop(columns=['DevType'] , axis=1).sum().sort_values(ascending=False).reset_index()\n",
    "columns_name = ['Group' , 'Skill' , 'freq']\n",
    "skills_freq.columns = columns_name\n",
    "\n",
    "\n",
    "fig2 = px.treemap(\n",
    "    data_frame=skills_freq , \n",
    "    path= ['Group' , 'Skill'] , \n",
    "    values='freq' , color='freq' ,\n",
    "    color_continuous_scale='deep')\n",
    "\n",
    "fig2.update_layout(width =1500 , height = 700)\n",
    "fig2.show()\n"
   ],
   "metadata": {
    "collapsed": false,
    "ExecuteTime": {
     "end_time": "2023-09-14T14:13:32.999066900Z",
     "start_time": "2023-09-14T14:13:32.292213900Z"
    }
   },
   "id": "21ddecd5b79b320a"
  },
  {
   "cell_type": "code",
   "execution_count": null,
   "outputs": [],
   "source": [],
   "metadata": {
    "collapsed": false
   },
   "id": "26def4a2b1a73a5c"
  }
 ],
 "metadata": {
  "kernelspec": {
   "display_name": "Python 3 (ipykernel)",
   "language": "python",
   "name": "python3"
  },
  "language_info": {
   "codemirror_mode": {
    "name": "ipython",
    "version": 3
   },
   "file_extension": ".py",
   "mimetype": "text/x-python",
   "name": "python",
   "nbconvert_exporter": "python",
   "pygments_lexer": "ipython3",
   "version": "3.11.1"
  }
 },
 "nbformat": 4,
 "nbformat_minor": 5
}
