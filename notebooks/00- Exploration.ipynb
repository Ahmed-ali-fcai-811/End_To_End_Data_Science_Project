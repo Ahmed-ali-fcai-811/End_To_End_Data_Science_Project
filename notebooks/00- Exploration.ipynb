{
 "cells": [
  {
   "cell_type": "code",
   "execution_count": 1,
   "id": "0b2b39ff-129c-4b19-85c6-c54ac4934cf6",
   "metadata": {
    "ExecuteTime": {
     "end_time": "2023-09-11T12:45:26.583501900Z",
     "start_time": "2023-09-11T12:45:26.458504800Z"
    }
   },
   "outputs": [],
   "source": [
    "Data_Path = f'..\\\\data\\\\raw\\\\survey_results_public.csv'"
   ]
  },
  {
   "cell_type": "code",
   "execution_count": 3,
   "id": "2aad99ca-0882-412a-b382-4592455403ad",
   "metadata": {
    "ExecuteTime": {
     "end_time": "2023-09-11T12:54:53.794504900Z",
     "start_time": "2023-09-11T12:54:49.051298900Z"
    }
   },
   "outputs": [],
   "source": [
    "import numpy as np\n",
    "import pandas as pd\n",
    "pd.options.display.max_rows = 5000\n",
    "pd.options.display.max_columns = None"
   ]
  },
  {
   "cell_type": "code",
   "execution_count": 4,
   "id": "c5cc72d6-40ac-415f-b0c1-eb298915f900",
   "metadata": {
    "ExecuteTime": {
     "end_time": "2023-09-11T12:54:59.618030500Z",
     "start_time": "2023-09-11T12:54:57.086580Z"
    }
   },
   "outputs": [
    {
     "data": {
      "text/plain": "(89184, 84)"
     },
     "execution_count": 4,
     "metadata": {},
     "output_type": "execute_result"
    }
   ],
   "source": [
    "raw_ds = pd.read_csv(Data_Path)\n",
    "raw_ds.shape\n"
   ]
  },
  {
   "cell_type": "code",
   "execution_count": 6,
   "id": "b9f875bd-208f-49e4-aab8-76f537bce985",
   "metadata": {
    "scrolled": true,
    "ExecuteTime": {
     "end_time": "2023-09-11T12:56:19.636360700Z",
     "start_time": "2023-09-11T12:56:19.508319300Z"
    }
   },
   "outputs": [
    {
     "data": {
      "text/plain": "ResponseId                                                                         50812\nQ120                                                                             I agree\nMainBranch                                                I am a developer by profession\nAge                                                                      55-64 years old\nEmployment                                                           Employed, full-time\nRemoteWork                                                                        Remote\nCodingActivities                                                                   Hobby\nEdLevel                                  Master’s degree (M.A., M.S., M.Eng., MBA, etc.)\nLearnCode                              Books / Physical media;Colleague;Online Course...\nLearnCodeOnline                        Formal documentation provided by the owner of ...\nLearnCodeCoursesCert                                                                 NaN\nYearsCode                                                                             42\nYearsCodePro                                                                          31\nDevType                                                            Developer, full-stack\nOrgSize                                                         10,000 or more employees\nPurchaseInfluence                                                  I have some influence\nTechList                                                                     Investigate\nBuyNewTool                             Start a free trial;Ask developers I know/work ...\nCountry                                                         United States of America\nCurrency                                                       USD\\tUnited States dollar\nCompTotal                                                                            NaN\nLanguageHaveWorkedWith                      Groovy;Java;JavaScript;Python;SQL;TypeScript\nLanguageWantToWorkWith                                        Groovy;Java;JavaScript;SQL\nDatabaseHaveWorkedWith                                                         H2;Oracle\nDatabaseWantToWorkWith                                                         H2;Oracle\nPlatformHaveWorkedWith                 Amazon Web Services (AWS);Oracle Cloud Infrast...\nPlatformWantToWorkWith                                         Amazon Web Services (AWS)\nWebframeHaveWorkedWith                       AngularJS;Django;jQuery;Node.js;Spring Boot\nWebframeWantToWorkWith                                                Spring Boot;Vue.js\nMiscTechHaveWorkedWith                                        Micronaut;Spring Framework\nMiscTechWantToWorkWith                                        Micronaut;Spring Framework\nToolsTechHaveWorkedWith                                           Docker;Gradle;Pip;Yarn\nToolsTechWantToWorkWith                                                    Docker;Gradle\nNEWCollabToolsHaveWorkedWith                                         Emacs;IntelliJ IDEA\nNEWCollabToolsWantToWorkWith                                         Emacs;IntelliJ IDEA\nOpSysPersonal use                       Cygwin;Windows;Windows Subsystem for Linux (WSL)\nOpSysProfessional use                   Cygwin;Windows;Windows Subsystem for Linux (WSL)\nOfficeStackAsyncHaveWorkedWith                                           Confluence;Jira\nOfficeStackAsyncWantToWorkWith                                           Confluence;Jira\nOfficeStackSyncHaveWorkedWith                                                 Slack;Zoom\nOfficeStackSyncWantToWorkWith                                                 Slack;Zoom\nAISearchHaveWorkedWith                                                           ChatGPT\nAISearchWantToWorkWith                                    Bing AI;ChatGPT;Google Bard AI\nAIDevHaveWorkedWith                                                                  NaN\nAIDevWantToWorkWith                                                                  NaN\nNEWSOSites                                                                Stack Overflow\nSOVisitFreq                                              A few times per month or weekly\nSOAccount                                                                            Yes\nSOPartFreq                                           Less than once per month or monthly\nSOComm                                                                           Neutral\nSOAI                                                                                 NaN\nAISelect                                                          No, but I plan to soon\nAISent                                                                         Favorable\nAIAcc                                                                                NaN\nAIBen                                                                  Somewhat distrust\nAIToolInterested in Using                                                            NaN\nAIToolCurrently Using                                                                NaN\nAIToolNot interested in Using                                                        NaN\nAINextVery different                                                                 NaN\nAINextNeither different nor similar                                                  NaN\nAINextSomewhat similar                                                               NaN\nAINextVery similar                                                                   NaN\nAINextSomewhat different                                                             NaN\nTBranch                                                                              Yes\nICorPM                                                            Individual contributor\nWorkExp                                                                             31.0\nKnowledge_1                                                               Strongly agree\nKnowledge_2                                                                        Agree\nKnowledge_3                                                   Neither agree nor disagree\nKnowledge_4                                                   Neither agree nor disagree\nKnowledge_5                                                   Neither agree nor disagree\nKnowledge_6                                                                        Agree\nKnowledge_7                                                                        Agree\nKnowledge_8                                                                     Disagree\nFrequency_1                                                             1-2 times a week\nFrequency_2                                                             1-2 times a week\nFrequency_3                                                             1-2 times a week\nTimeSearching                                                        15-30 minutes a day\nTimeAnswering                                                        15-30 minutes a day\nProfessionalTech                       DevOps function;Continuous integration (CI) an...\nIndustry                                                                Higher Education\nSurveyLength                                                       Appropriate in length\nSurveyEase                                                                          Easy\nConvertedCompYearly                                                                  NaN\nName: 50811, dtype: object"
     },
     "execution_count": 6,
     "metadata": {},
     "output_type": "execute_result"
    }
   ],
   "source": [
    "raw_ds.sample(1).iloc[0]"
   ]
  },
  {
   "cell_type": "code",
   "execution_count": 7,
   "id": "9d8846b3",
   "metadata": {
    "editable": true,
    "slideshow": {
     "slide_type": ""
    },
    "tags": [],
    "ExecuteTime": {
     "end_time": "2023-09-11T12:56:37.851935400Z",
     "start_time": "2023-09-11T12:56:37.606030400Z"
    }
   },
   "outputs": [
    {
     "name": "stdout",
     "output_type": "stream",
     "text": [
      "<class 'pandas.core.frame.DataFrame'>\n",
      "RangeIndex: 89184 entries, 0 to 89183\n",
      "Data columns (total 84 columns):\n",
      " #   Column                               Non-Null Count  Dtype  \n",
      "---  ------                               --------------  -----  \n",
      " 0   ResponseId                           89184 non-null  int64  \n",
      " 1   Q120                                 89184 non-null  object \n",
      " 2   MainBranch                           89184 non-null  object \n",
      " 3   Age                                  89184 non-null  object \n",
      " 4   Employment                           87898 non-null  object \n",
      " 5   RemoteWork                           73810 non-null  object \n",
      " 6   CodingActivities                     73764 non-null  object \n",
      " 7   EdLevel                              87973 non-null  object \n",
      " 8   LearnCode                            87663 non-null  object \n",
      " 9   LearnCodeOnline                      70084 non-null  object \n",
      " 10  LearnCodeCoursesCert                 37076 non-null  object \n",
      " 11  YearsCode                            87435 non-null  object \n",
      " 12  YearsCodePro                         66136 non-null  object \n",
      " 13  DevType                              76872 non-null  object \n",
      " 14  OrgSize                              65043 non-null  object \n",
      " 15  PurchaseInfluence                    64964 non-null  object \n",
      " 16  TechList                             60851 non-null  object \n",
      " 17  BuyNewTool                           83009 non-null  object \n",
      " 18  Country                              87973 non-null  object \n",
      " 19  Currency                             65334 non-null  object \n",
      " 20  CompTotal                            48225 non-null  float64\n",
      " 21  LanguageHaveWorkedWith               87140 non-null  object \n",
      " 22  LanguageWantToWorkWith               80709 non-null  object \n",
      " 23  DatabaseHaveWorkedWith               73435 non-null  object \n",
      " 24  DatabaseWantToWorkWith               60911 non-null  object \n",
      " 25  PlatformHaveWorkedWith               63628 non-null  object \n",
      " 26  PlatformWantToWorkWith               51308 non-null  object \n",
      " 27  WebframeHaveWorkedWith               66938 non-null  object \n",
      " 28  WebframeWantToWorkWith               56741 non-null  object \n",
      " 29  MiscTechHaveWorkedWith               57019 non-null  object \n",
      " 30  MiscTechWantToWorkWith               46848 non-null  object \n",
      " 31  ToolsTechHaveWorkedWith              77884 non-null  object \n",
      " 32  ToolsTechWantToWorkWith              68315 non-null  object \n",
      " 33  NEWCollabToolsHaveWorkedWith         85864 non-null  object \n",
      " 34  NEWCollabToolsWantToWorkWith         76649 non-null  object \n",
      " 35  OpSysPersonal use                    86557 non-null  object \n",
      " 36  OpSysProfessional use                78587 non-null  object \n",
      " 37  OfficeStackAsyncHaveWorkedWith       69090 non-null  object \n",
      " 38  OfficeStackAsyncWantToWorkWith       53743 non-null  object \n",
      " 39  OfficeStackSyncHaveWorkedWith        83439 non-null  object \n",
      " 40  OfficeStackSyncWantToWorkWith        69776 non-null  object \n",
      " 41  AISearchHaveWorkedWith               56328 non-null  object \n",
      " 42  AISearchWantToWorkWith               46150 non-null  object \n",
      " 43  AIDevHaveWorkedWith                  25904 non-null  object \n",
      " 44  AIDevWantToWorkWith                  19587 non-null  object \n",
      " 45  NEWSOSites                           87973 non-null  object \n",
      " 46  SOVisitFreq                          87140 non-null  object \n",
      " 47  SOAccount                            87852 non-null  object \n",
      " 48  SOPartFreq                           66061 non-null  object \n",
      " 49  SOComm                               87692 non-null  object \n",
      " 50  SOAI                                 47858 non-null  object \n",
      " 51  AISelect                             87973 non-null  object \n",
      " 52  AISent                               61501 non-null  object \n",
      " 53  AIAcc                                38594 non-null  object \n",
      " 54  AIBen                                61396 non-null  object \n",
      " 55  AIToolInterested in Using            32783 non-null  object \n",
      " 56  AIToolCurrently Using                36137 non-null  object \n",
      " 57  AIToolNot interested in Using        21069 non-null  object \n",
      " 58  AINextVery different                 12661 non-null  object \n",
      " 59  AINextNeither different nor similar  6599 non-null   object \n",
      " 60  AINextSomewhat similar               6238 non-null   object \n",
      " 61  AINextVery similar                   2621 non-null   object \n",
      " 62  AINextSomewhat different             23303 non-null  object \n",
      " 63  TBranch                              65768 non-null  object \n",
      " 64  ICorPM                               43668 non-null  object \n",
      " 65  WorkExp                              43579 non-null  float64\n",
      " 66  Knowledge_1                          42535 non-null  object \n",
      " 67  Knowledge_2                          41670 non-null  object \n",
      " 68  Knowledge_3                          41798 non-null  object \n",
      " 69  Knowledge_4                          41684 non-null  object \n",
      " 70  Knowledge_5                          41527 non-null  object \n",
      " 71  Knowledge_6                          41520 non-null  object \n",
      " 72  Knowledge_7                          41467 non-null  object \n",
      " 73  Knowledge_8                          41404 non-null  object \n",
      " 74  Frequency_1                          41916 non-null  object \n",
      " 75  Frequency_2                          41925 non-null  object \n",
      " 76  Frequency_3                          41054 non-null  object \n",
      " 77  TimeSearching                        42778 non-null  object \n",
      " 78  TimeAnswering                        42629 non-null  object \n",
      " 79  ProfessionalTech                     41783 non-null  object \n",
      " 80  Industry                             36774 non-null  object \n",
      " 81  SurveyLength                         86485 non-null  object \n",
      " 82  SurveyEase                           86554 non-null  object \n",
      " 83  ConvertedCompYearly                  48019 non-null  float64\n",
      "dtypes: float64(3), int64(1), object(80)\n",
      "memory usage: 57.2+ MB\n"
     ]
    }
   ],
   "source": [
    "raw_ds.info()"
   ]
  },
  {
   "cell_type": "code",
   "execution_count": 9,
   "id": "c75cdbf6",
   "metadata": {
    "ExecuteTime": {
     "end_time": "2023-09-11T12:57:01.373598600Z",
     "start_time": "2023-09-11T12:57:01.107943700Z"
    }
   },
   "outputs": [
    {
     "data": {
      "text/plain": "                       count          mean           std  min       25%  \\\nResponseId           89184.0  4.459250e+04  2.574535e+04  1.0  22296.75   \nCompTotal            48225.0  1.036807e+42  2.276847e+44  0.0  63000.00   \nWorkExp              43579.0  1.140513e+01  9.051989e+00  0.0      5.00   \nConvertedCompYearly  48019.0  1.031101e+05  6.814188e+05  1.0  43907.00   \n\n                          50%        75%           max  \nResponseId            44592.5   66888.25  8.918400e+04  \nCompTotal            115000.0  230000.00  5.000000e+46  \nWorkExp                   9.0      16.00  5.000000e+01  \nConvertedCompYearly   74963.0  121641.00  7.435143e+07  ",
      "text/html": "<div>\n<style scoped>\n    .dataframe tbody tr th:only-of-type {\n        vertical-align: middle;\n    }\n\n    .dataframe tbody tr th {\n        vertical-align: top;\n    }\n\n    .dataframe thead th {\n        text-align: right;\n    }\n</style>\n<table border=\"1\" class=\"dataframe\">\n  <thead>\n    <tr style=\"text-align: right;\">\n      <th></th>\n      <th>count</th>\n      <th>mean</th>\n      <th>std</th>\n      <th>min</th>\n      <th>25%</th>\n      <th>50%</th>\n      <th>75%</th>\n      <th>max</th>\n    </tr>\n  </thead>\n  <tbody>\n    <tr>\n      <th>ResponseId</th>\n      <td>89184.0</td>\n      <td>4.459250e+04</td>\n      <td>2.574535e+04</td>\n      <td>1.0</td>\n      <td>22296.75</td>\n      <td>44592.5</td>\n      <td>66888.25</td>\n      <td>8.918400e+04</td>\n    </tr>\n    <tr>\n      <th>CompTotal</th>\n      <td>48225.0</td>\n      <td>1.036807e+42</td>\n      <td>2.276847e+44</td>\n      <td>0.0</td>\n      <td>63000.00</td>\n      <td>115000.0</td>\n      <td>230000.00</td>\n      <td>5.000000e+46</td>\n    </tr>\n    <tr>\n      <th>WorkExp</th>\n      <td>43579.0</td>\n      <td>1.140513e+01</td>\n      <td>9.051989e+00</td>\n      <td>0.0</td>\n      <td>5.00</td>\n      <td>9.0</td>\n      <td>16.00</td>\n      <td>5.000000e+01</td>\n    </tr>\n    <tr>\n      <th>ConvertedCompYearly</th>\n      <td>48019.0</td>\n      <td>1.031101e+05</td>\n      <td>6.814188e+05</td>\n      <td>1.0</td>\n      <td>43907.00</td>\n      <td>74963.0</td>\n      <td>121641.00</td>\n      <td>7.435143e+07</td>\n    </tr>\n  </tbody>\n</table>\n</div>"
     },
     "execution_count": 9,
     "metadata": {},
     "output_type": "execute_result"
    }
   ],
   "source": [
    "raw_ds.describe().T"
   ]
  },
  {
   "cell_type": "code",
   "execution_count": null,
   "id": "f2c1ca3e-fadb-4692-b238-c6833434fdae",
   "metadata": {},
   "outputs": [],
   "source": []
  },
  {
   "cell_type": "code",
   "execution_count": 10,
   "id": "477d9069-20dc-4e1c-887a-c18812a38640",
   "metadata": {
    "ExecuteTime": {
     "end_time": "2023-09-11T12:57:28.380282300Z",
     "start_time": "2023-09-11T12:57:28.365676800Z"
    }
   },
   "outputs": [
    {
     "name": "stdout",
     "output_type": "stream",
     "text": [
      "YearsCode\n",
      "[nan '18' '27' '12' '6' '21' '4' '5' '20' '14' '10' '15' '11' '3' '24' '8'\n",
      " '13' 'Less than 1 year' '16' '33' '22' '30' '32' '7' '35' '28' '40' '17'\n",
      " '29' '19' 'More than 50 years' '9' '38' '26' '34' '25' '2' '45' '23' '31'\n",
      " '43' '1' '48' '41' '50' '39' '42' '37' '36' '44' '46' '49' '47']\n",
      "-----------------------------------------\n",
      "YearsCodePro\n",
      "[nan '9' '23' '7' '4' '21' '3' '15' 'Less than 1 year' '10' '2' '6' '14'\n",
      " '5' '19' '13' '16' '28' '1' '30' '11' '8' '25' '32' '24' '40' '17' '45'\n",
      " '29' '12' '31' '20' '18' '50' '27' '43' '22' '26' '38' '33' '44' '35'\n",
      " '34' '37' '42' '41' 'More than 50 years' '47' '36' '39' '48' '46' '49']\n",
      "-----------------------------------------\n"
     ]
    }
   ],
   "source": [
    "stranger_cols = ['YearsCode' , 'YearsCodePro']\n",
    "\n",
    "for col in stranger_cols :\n",
    "    print(col)\n",
    "    print(raw_ds[col].unique())\n",
    "    print('-----------------------------------------')"
   ]
  },
  {
   "cell_type": "code",
   "execution_count": null,
   "id": "f40050d5-fd93-47b1-9122-c05b862215e7",
   "metadata": {},
   "outputs": [],
   "source": []
  },
  {
   "cell_type": "code",
   "execution_count": 11,
   "id": "0de2bfee-757d-4476-a997-934bfc0fb024",
   "metadata": {
    "ExecuteTime": {
     "end_time": "2023-09-11T12:57:32.769258800Z",
     "start_time": "2023-09-11T12:57:32.753621700Z"
    }
   },
   "outputs": [
    {
     "data": {
      "text/plain": "['ResponseId',\n 'Q120',\n 'MainBranch',\n 'Age',\n 'Employment',\n 'RemoteWork',\n 'CodingActivities',\n 'EdLevel',\n 'LearnCode',\n 'LearnCodeOnline',\n 'LearnCodeCoursesCert',\n 'YearsCode',\n 'YearsCodePro',\n 'DevType',\n 'OrgSize',\n 'PurchaseInfluence',\n 'TechList',\n 'BuyNewTool',\n 'Country',\n 'Currency',\n 'CompTotal',\n 'LanguageHaveWorkedWith',\n 'LanguageWantToWorkWith',\n 'DatabaseHaveWorkedWith',\n 'DatabaseWantToWorkWith',\n 'PlatformHaveWorkedWith',\n 'PlatformWantToWorkWith',\n 'WebframeHaveWorkedWith',\n 'WebframeWantToWorkWith',\n 'MiscTechHaveWorkedWith',\n 'MiscTechWantToWorkWith',\n 'ToolsTechHaveWorkedWith',\n 'ToolsTechWantToWorkWith',\n 'NEWCollabToolsHaveWorkedWith',\n 'NEWCollabToolsWantToWorkWith',\n 'OpSysPersonal use',\n 'OpSysProfessional use',\n 'OfficeStackAsyncHaveWorkedWith',\n 'OfficeStackAsyncWantToWorkWith',\n 'OfficeStackSyncHaveWorkedWith',\n 'OfficeStackSyncWantToWorkWith',\n 'AISearchHaveWorkedWith',\n 'AISearchWantToWorkWith',\n 'AIDevHaveWorkedWith',\n 'AIDevWantToWorkWith',\n 'NEWSOSites',\n 'SOVisitFreq',\n 'SOAccount',\n 'SOPartFreq',\n 'SOComm',\n 'SOAI',\n 'AISelect',\n 'AISent',\n 'AIAcc',\n 'AIBen',\n 'AIToolInterested in Using',\n 'AIToolCurrently Using',\n 'AIToolNot interested in Using',\n 'AINextVery different',\n 'AINextNeither different nor similar',\n 'AINextSomewhat similar',\n 'AINextVery similar',\n 'AINextSomewhat different',\n 'TBranch',\n 'ICorPM',\n 'WorkExp',\n 'Knowledge_1',\n 'Knowledge_2',\n 'Knowledge_3',\n 'Knowledge_4',\n 'Knowledge_5',\n 'Knowledge_6',\n 'Knowledge_7',\n 'Knowledge_8',\n 'Frequency_1',\n 'Frequency_2',\n 'Frequency_3',\n 'TimeSearching',\n 'TimeAnswering',\n 'ProfessionalTech',\n 'Industry',\n 'SurveyLength',\n 'SurveyEase',\n 'ConvertedCompYearly']"
     },
     "execution_count": 11,
     "metadata": {},
     "output_type": "execute_result"
    }
   ],
   "source": [
    "raw_ds.columns.to_list()\n"
   ]
  },
  {
   "cell_type": "code",
   "execution_count": null,
   "id": "a3f1f4ae-4114-4f28-8259-5e6322859da2",
   "metadata": {},
   "outputs": [],
   "source": []
  }
 ],
 "metadata": {
  "kernelspec": {
   "display_name": "Python 3 (ipykernel)",
   "language": "python",
   "name": "python3"
  },
  "language_info": {
   "codemirror_mode": {
    "name": "ipython",
    "version": 3
   },
   "file_extension": ".py",
   "mimetype": "text/x-python",
   "name": "python",
   "nbconvert_exporter": "python",
   "pygments_lexer": "ipython3",
   "version": "3.11.1"
  }
 },
 "nbformat": 4,
 "nbformat_minor": 5
}
